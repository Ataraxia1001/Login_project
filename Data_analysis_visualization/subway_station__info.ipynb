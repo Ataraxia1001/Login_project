{
 "cells": [
  {
   "cell_type": "markdown",
   "metadata": {
    "id": "d33NEibDJ0vD"
   },
   "source": [
    "# ⭐️ 목표 : 지하철 역을 기준으로 월별 평균 승하차합계 및 지하철 위치에 대한 정보를 담고있는 데이터 생성\n",
    "- 날짜, 지하철역별, 시간대별 승하차 인원 통계 데이터와 지하철 위치 데이터를 병합하기\n",
    "- 월평균승하차합계가 높은 역을 확인하기"
   ]
  },
  {
   "cell_type": "code",
   "execution_count": 31,
   "metadata": {
    "executionInfo": {
     "elapsed": 1999,
     "status": "ok",
     "timestamp": 1683874521945,
     "user": {
      "displayName": "타조랑말",
      "userId": "10222896579941315833"
     },
     "user_tz": -540
    },
    "id": "Ak75iIwABLNF"
   },
   "outputs": [],
   "source": [
    "import pandas as pd\n",
    "import numpy as np\n",
    "from sklearn.cluster import MeanShift, estimate_bandwidth\n",
    "from glob import glob\n",
    "from tqdm import tqdm\n",
    "from haversine import haversine\n",
    "import geopy.distance\n",
    "import numpy as np\n",
    "import random\n",
    "import folium\n",
    "from folium.features import CustomIcon\n",
    "import seaborn as sns\n",
    "import matplotlib.pyplot as plt\n",
    "import matplotlib\n",
    "from matplotlib import font_manager, rc\n",
    "import platform\n",
    "try:\n",
    "\n",
    "    if platform.system() == 'Windows':\n",
    "\n",
    "        #윈도우인 경우\n",
    "\n",
    "        font_name = font_manager.FontProperties(fname=\"c:/Windows/fonts/malgun.ttf\").get_name()\n",
    "\n",
    "        rc('font', family=font_name)\n",
    "\n",
    "    else:\n",
    "\n",
    "        #Mac인 경우\n",
    "\n",
    "        rc('font', family='AppleGothic')\n",
    "\n",
    "except:\n",
    "\n",
    "    pass\n",
    "\n",
    "matplotlib.rcParams['axes.unicode_minus'] = False"
   ]
  },
  {
   "cell_type": "code",
   "execution_count": 2,
   "metadata": {},
   "outputs": [],
   "source": [
    "# %matplotlib inline\n",
    "\n",
    "# #맥에서 한글 안깨지게\n",
    "# rc('font', family='NanumGothic')\n",
    "\n",
    "# plt.rcParams['axes.unicode_minus'] = False"
   ]
  },
  {
   "cell_type": "code",
   "execution_count": 3,
   "metadata": {
    "colab": {
     "base_uri": "https://localhost:8080/"
    },
    "executionInfo": {
     "elapsed": 4,
     "status": "ok",
     "timestamp": 1683874521945,
     "user": {
      "displayName": "타조랑말",
      "userId": "10222896579941315833"
     },
     "user_tz": -540
    },
    "id": "iKq9uASwBPfh",
    "outputId": "29d4ba46-004e-43ec-901e-755be929f81f"
   },
   "outputs": [
    {
     "name": "stderr",
     "output_type": "stream",
     "text": [
      "/var/folders/5z/x3njjl9j3tb_1llqpqvxxqhm0000gn/T/ipykernel_1492/2221574305.py:1: DtypeWarning: Columns (3) have mixed types. Specify dtype option on import or set low_memory=False.\n",
      "  station = pd.read_csv('/Users/nabong/Desktop/project_login/data/subway/staion_population_daily20221231.csv', encoding='cp949')\n"
     ]
    }
   ],
   "source": [
    "station = pd.read_csv('/Users/nabong/Desktop/project_login/data/subway/staion_population_daily20221231.csv', encoding='cp949')\n",
    "station_loc = pd.read_csv('/Users/nabong/Desktop/project_login/data/subway/seoul_subway_location_2021.csv', encoding='cp949')"
   ]
  },
  {
   "cell_type": "code",
   "execution_count": 4,
   "metadata": {},
   "outputs": [],
   "source": [
    "import matplotlib.font_manager as fm\n",
    "\n",
    "font_list = fm.findSystemFonts(fontpaths = None, fontext = 'ttf')\n",
    "font_list[:]\n",
    "\n",
    "font_path = '/Library/Fonts/AppleSDGothicNeoUL.ttf'\n",
    "font = fm.FontProperties(fname=font_path).get_name()\n",
    "rc('font', family=font)\n"
   ]
  },
  {
   "cell_type": "markdown",
   "metadata": {
    "id": "4gJ5gn5ZJxwT"
   },
   "source": [
    "## ✅ 데이터 전처리"
   ]
  },
  {
   "cell_type": "code",
   "execution_count": 5,
   "metadata": {
    "colab": {
     "base_uri": "https://localhost:8080/",
     "height": 827
    },
    "executionInfo": {
     "elapsed": 264,
     "status": "ok",
     "timestamp": 1683874522206,
     "user": {
      "displayName": "타조랑말",
      "userId": "10222896579941315833"
     },
     "user_tz": -540
    },
    "id": "XlSt9mdAfisW",
    "outputId": "f8e96134-d749-4e08-c97e-99010f12fa92"
   },
   "outputs": [
    {
     "name": "stdout",
     "output_type": "stream",
     "text": [
      "<class 'pandas.core.frame.DataFrame'>\n",
      "RangeIndex: 199080 entries, 0 to 199079\n",
      "Data columns (total 26 columns):\n",
      " #   Column        Non-Null Count   Dtype  \n",
      "---  ------        --------------   -----  \n",
      " 0   연번            199080 non-null  int64  \n",
      " 1   수송일자          199080 non-null  object \n",
      " 2   호선            199080 non-null  int64  \n",
      " 3   고유역번호(외부역코드)  199080 non-null  object \n",
      " 4   역명            199080 non-null  object \n",
      " 5   승하차구분         199080 non-null  object \n",
      " 6   06시이전         199080 non-null  int64  \n",
      " 7   06-07시간대      199080 non-null  int64  \n",
      " 8   07-08시간대      199080 non-null  int64  \n",
      " 9   08-09시간대      199080 non-null  int64  \n",
      " 10  09-10시간대      199080 non-null  int64  \n",
      " 11  10-11시간대      199080 non-null  int64  \n",
      " 12  11-12시간대      199080 non-null  int64  \n",
      " 13  12-13시간대      199080 non-null  int64  \n",
      " 14  13-14시간대      199080 non-null  int64  \n",
      " 15  14-15시간대      199080 non-null  int64  \n",
      " 16  15-16시간대      199080 non-null  int64  \n",
      " 17  16-17시간대      199080 non-null  int64  \n",
      " 18  17-18시간대      199080 non-null  int64  \n",
      " 19  18-19시간대      199080 non-null  int64  \n",
      " 20  19-20시간대      199080 non-null  int64  \n",
      " 21  20-21시간대      199080 non-null  int64  \n",
      " 22  21-22시간대      199080 non-null  int64  \n",
      " 23  22-23시간대      199080 non-null  int64  \n",
      " 24  23-24시간대      199080 non-null  int64  \n",
      " 25  24시이후         116734 non-null  float64\n",
      "dtypes: float64(1), int64(21), object(4)\n",
      "memory usage: 39.5+ MB\n"
     ]
    },
    {
     "data": {
      "text/html": [
       "<div>\n",
       "<style scoped>\n",
       "    .dataframe tbody tr th:only-of-type {\n",
       "        vertical-align: middle;\n",
       "    }\n",
       "\n",
       "    .dataframe tbody tr th {\n",
       "        vertical-align: top;\n",
       "    }\n",
       "\n",
       "    .dataframe thead th {\n",
       "        text-align: right;\n",
       "    }\n",
       "</style>\n",
       "<table border=\"1\" class=\"dataframe\">\n",
       "  <thead>\n",
       "    <tr style=\"text-align: right;\">\n",
       "      <th></th>\n",
       "      <th>연번</th>\n",
       "      <th>수송일자</th>\n",
       "      <th>호선</th>\n",
       "      <th>고유역번호(외부역코드)</th>\n",
       "      <th>역명</th>\n",
       "      <th>승하차구분</th>\n",
       "      <th>06시이전</th>\n",
       "      <th>06-07시간대</th>\n",
       "      <th>07-08시간대</th>\n",
       "      <th>08-09시간대</th>\n",
       "      <th>...</th>\n",
       "      <th>15-16시간대</th>\n",
       "      <th>16-17시간대</th>\n",
       "      <th>17-18시간대</th>\n",
       "      <th>18-19시간대</th>\n",
       "      <th>19-20시간대</th>\n",
       "      <th>20-21시간대</th>\n",
       "      <th>21-22시간대</th>\n",
       "      <th>22-23시간대</th>\n",
       "      <th>23-24시간대</th>\n",
       "      <th>24시이후</th>\n",
       "    </tr>\n",
       "  </thead>\n",
       "  <tbody>\n",
       "    <tr>\n",
       "      <th>0</th>\n",
       "      <td>1</td>\n",
       "      <td>2022-01-01</td>\n",
       "      <td>1</td>\n",
       "      <td>150</td>\n",
       "      <td>서울역</td>\n",
       "      <td>승차</td>\n",
       "      <td>120</td>\n",
       "      <td>137</td>\n",
       "      <td>211</td>\n",
       "      <td>439</td>\n",
       "      <td>...</td>\n",
       "      <td>1566</td>\n",
       "      <td>1686</td>\n",
       "      <td>1591</td>\n",
       "      <td>1358</td>\n",
       "      <td>1062</td>\n",
       "      <td>899</td>\n",
       "      <td>1327</td>\n",
       "      <td>814</td>\n",
       "      <td>234</td>\n",
       "      <td>NaN</td>\n",
       "    </tr>\n",
       "    <tr>\n",
       "      <th>1</th>\n",
       "      <td>2</td>\n",
       "      <td>2022-01-01</td>\n",
       "      <td>1</td>\n",
       "      <td>150</td>\n",
       "      <td>서울역</td>\n",
       "      <td>하차</td>\n",
       "      <td>113</td>\n",
       "      <td>560</td>\n",
       "      <td>617</td>\n",
       "      <td>910</td>\n",
       "      <td>...</td>\n",
       "      <td>1329</td>\n",
       "      <td>1251</td>\n",
       "      <td>1126</td>\n",
       "      <td>884</td>\n",
       "      <td>764</td>\n",
       "      <td>654</td>\n",
       "      <td>728</td>\n",
       "      <td>416</td>\n",
       "      <td>131</td>\n",
       "      <td>NaN</td>\n",
       "    </tr>\n",
       "  </tbody>\n",
       "</table>\n",
       "<p>2 rows × 26 columns</p>\n",
       "</div>"
      ],
      "text/plain": [
       "   연번        수송일자  호선 고유역번호(외부역코드)   역명 승하차구분  06시이전  06-07시간대  07-08시간대  \\\n",
       "0   1  2022-01-01   1          150  서울역    승차    120       137       211   \n",
       "1   2  2022-01-01   1          150  서울역    하차    113       560       617   \n",
       "\n",
       "   08-09시간대  ...  15-16시간대  16-17시간대  17-18시간대  18-19시간대  19-20시간대  20-21시간대  \\\n",
       "0       439  ...      1566      1686      1591      1358      1062       899   \n",
       "1       910  ...      1329      1251      1126       884       764       654   \n",
       "\n",
       "   21-22시간대  22-23시간대  23-24시간대  24시이후  \n",
       "0      1327       814       234    NaN  \n",
       "1       728       416       131    NaN  \n",
       "\n",
       "[2 rows x 26 columns]"
      ]
     },
     "execution_count": 5,
     "metadata": {},
     "output_type": "execute_result"
    }
   ],
   "source": [
    "# 역별 승하차 데이터 구조 확인\n",
    "station.info()\n",
    "station.head(2)"
   ]
  },
  {
   "cell_type": "code",
   "execution_count": 6,
   "metadata": {
    "colab": {
     "base_uri": "https://localhost:8080/",
     "height": 362
    },
    "executionInfo": {
     "elapsed": 9,
     "status": "ok",
     "timestamp": 1683874522207,
     "user": {
      "displayName": "타조랑말",
      "userId": "10222896579941315833"
     },
     "user_tz": -540
    },
    "id": "8Zc-CpThkQxZ",
    "outputId": "5b2c9524-3aec-4107-f692-2e5035eeeed4"
   },
   "outputs": [
    {
     "name": "stdout",
     "output_type": "stream",
     "text": [
      "<class 'pandas.core.frame.DataFrame'>\n",
      "RangeIndex: 276 entries, 0 to 275\n",
      "Data columns (total 7 columns):\n",
      " #   Column        Non-Null Count  Dtype  \n",
      "---  ------        --------------  -----  \n",
      " 0   연번            276 non-null    int64  \n",
      " 1   호선            276 non-null    int64  \n",
      " 2   고유역번호(외부역코드)  276 non-null    int64  \n",
      " 3   역명            276 non-null    object \n",
      " 4   위도            276 non-null    float64\n",
      " 5   경도            276 non-null    float64\n",
      " 6   작성일자          276 non-null    object \n",
      "dtypes: float64(2), int64(3), object(2)\n",
      "memory usage: 15.2+ KB\n"
     ]
    },
    {
     "data": {
      "text/html": [
       "<div>\n",
       "<style scoped>\n",
       "    .dataframe tbody tr th:only-of-type {\n",
       "        vertical-align: middle;\n",
       "    }\n",
       "\n",
       "    .dataframe tbody tr th {\n",
       "        vertical-align: top;\n",
       "    }\n",
       "\n",
       "    .dataframe thead th {\n",
       "        text-align: right;\n",
       "    }\n",
       "</style>\n",
       "<table border=\"1\" class=\"dataframe\">\n",
       "  <thead>\n",
       "    <tr style=\"text-align: right;\">\n",
       "      <th></th>\n",
       "      <th>연번</th>\n",
       "      <th>호선</th>\n",
       "      <th>고유역번호(외부역코드)</th>\n",
       "      <th>역명</th>\n",
       "      <th>위도</th>\n",
       "      <th>경도</th>\n",
       "      <th>작성일자</th>\n",
       "    </tr>\n",
       "  </thead>\n",
       "  <tbody>\n",
       "    <tr>\n",
       "      <th>0</th>\n",
       "      <td>1</td>\n",
       "      <td>1</td>\n",
       "      <td>150</td>\n",
       "      <td>서울</td>\n",
       "      <td>37.55315</td>\n",
       "      <td>126.972533</td>\n",
       "      <td>1974-02-28</td>\n",
       "    </tr>\n",
       "    <tr>\n",
       "      <th>1</th>\n",
       "      <td>2</td>\n",
       "      <td>1</td>\n",
       "      <td>151</td>\n",
       "      <td>시청</td>\n",
       "      <td>37.56359</td>\n",
       "      <td>126.975407</td>\n",
       "      <td>1974-08-15</td>\n",
       "    </tr>\n",
       "  </tbody>\n",
       "</table>\n",
       "</div>"
      ],
      "text/plain": [
       "   연번  호선  고유역번호(외부역코드)  역명        위도          경도        작성일자\n",
       "0   1   1           150  서울  37.55315  126.972533  1974-02-28\n",
       "1   2   1           151  시청  37.56359  126.975407  1974-08-15"
      ]
     },
     "execution_count": 6,
     "metadata": {},
     "output_type": "execute_result"
    }
   ],
   "source": [
    "# 역 위치 데이터 구조 확인\n",
    "station_loc.info()\n",
    "station_loc.head(2)"
   ]
  },
  {
   "cell_type": "code",
   "execution_count": 7,
   "metadata": {
    "executionInfo": {
     "elapsed": 7,
     "status": "ok",
     "timestamp": 1683874522207,
     "user": {
      "displayName": "타조랑말",
      "userId": "10222896579941315833"
     },
     "user_tz": -540
    },
    "id": "_oTAugBz1SGC"
   },
   "outputs": [],
   "source": [
    "# 필요없는 컬럼 삭제 - 연번, 작성일자\n",
    "station.drop('연번', axis=1, inplace=True)\n",
    "station_loc.drop(['연번', '작성일자'], axis=1, inplace=True)"
   ]
  },
  {
   "cell_type": "code",
   "execution_count": 8,
   "metadata": {
    "colab": {
     "base_uri": "https://localhost:8080/"
    },
    "executionInfo": {
     "elapsed": 283,
     "status": "ok",
     "timestamp": 1683874522484,
     "user": {
      "displayName": "타조랑말",
      "userId": "10222896579941315833"
     },
     "user_tz": -540
    },
    "id": "OsygAajAfyMB",
    "outputId": "f5f41872-88fc-426b-cd18-ed378d1ddac5"
   },
   "outputs": [
    {
     "name": "stdout",
     "output_type": "stream",
     "text": [
      "[150 151 152 153 154 155 156 157 158 159 201 202 203 204 205 206 207 208\n",
      " 209 210 211 212 213 214 215 216 217 218 219 220 221 222 223 224 225 226\n",
      " 227 228 229 230 231 232 233 234 235 236 237 238 239 240 241 242 243 244\n",
      " 245 246 247 248 249 250 309 310 311 312 313 314 315 316 317 318 319 320\n",
      " 322 323 324 325 326 327 328 329 330 331 332 333 334 335 336 337 338 339\n",
      " 340 341 342 409 410 411 412 413 414 415 416 417 418 419 420 421 422 423\n",
      " 424 425 426 427 428 429 430 431 432 433 434 2511 2512 2513 2514 2515 2516\n",
      " 2517 2518 2519 2520 2521 2522 2523 2524 2525 2526 2527 2528 2529 2530\n",
      " 2531 2532 2533 2534 2535 2536 2537 2538 2539 2540 2541 2542 2543 2544\n",
      " 2545 2546 2547 2548 2549 2550 2551 2552 2553 2554 2555 2556 2557 2558\n",
      " 2559 2560 2561 2562 2563 2564 2565 2566 2611 2612 2613 2614 2616 2617\n",
      " 2618 2619 2620 2621 2622 2623 2624 2625 2626 2627 2628 2629 2630 2631\n",
      " 2632 2633 2634 2635 2636 2637 2638 2639 2640 2641 2642 2643 2644 2645\n",
      " 2646 2647 2648 2711 2712 2713 2714 2715 2716 2717 2718 2719 2720 2721\n",
      " 2722 2723 2724 2725 2726 2727 2728 2729 2730 2731 2732 2733 2734 2735\n",
      " 2736 2737 2738 2739 2740 2741 2742 2743 2744 2745 2746 2747 2748 2749\n",
      " 2750 2751 2752 2811 2812 2813 2814 2815 2816 2817 2818 2819 2820 2821\n",
      " 2822 2823 2824 2825 2826 2827 2828 321 2615 2649 2758 2761 '411' '412'\n",
      " '413' '414' '415' '416' '417' '418' '419' '420' '421' '422' '423' '424'\n",
      " '425' '426' '427' '428' '429' '430' '431' '432' '433' '434' '2511' '2512'\n",
      " '2513' '2514' '2515' '2516' '2517' '2518' '2519' '2520' '2521' '2522'\n",
      " '2523' '2524' '2525' '2526' '2527' '2528' '2529' '2530' '2531' '2532'\n",
      " '2533' '2534' '2535' '2536' '2537' '2538' '2539' '2540' '2541' '2542'\n",
      " '2543' '2544' '2545' '2546' '2547' '2548' '2549' '2550' '2551' '2552'\n",
      " '2553' '2554' '2555' '2556' '2557' '2558' '2559' '2560' '2561' '2562'\n",
      " '2563' '2564' '2565' '2566' '2611' '2612' '2613' '2614' '2616' '2617'\n",
      " '2618' '2619' '2620' '2621' '2622' '2623' '2624' '2625' '2626' '2627'\n",
      " '2628' '2629' '2630' '2631' '2632' '2633' '2634' '2635' '2636' '2637'\n",
      " '2638' '2639' '2640' '2641' '2642' '2643' '2644' '2645' '2646' '2647'\n",
      " '2648' '2711' '2712' '2713' '2714' '2715' '2716' '2717' '2718' '2719'\n",
      " '2720' '2721' '2722' '2723' '2724' '2725' '2726' '2727' '2728' '2729'\n",
      " '2730' '2731' '2732' '2733' '2734' '2735' '2736' '2737' '2738' '2739'\n",
      " '2740' '2741' '2742' '2743' '2744' '2745' '2746' '2747' '2748' '2749'\n",
      " '2750' '2751' '2752' '2753' '2758' '2761' '2811' '2812' '2813' '2814'\n",
      " '2815' '2816' '2817' '2818' '2819' '2820' '2821' '2822' '2823' '2824'\n",
      " '2825' '2826' '2827' '2828' '150' '151' '152' '153' '154' '155' '156'\n",
      " '157' '158' '159' '201' '202' '203' '204' '205' '206' '207' '208' '209'\n",
      " '210' '211' '212' '213' '214' '215' '216' '217' '218' '219' '220' '221'\n",
      " '222' '223' '224' '225' '226' '227' '228' '229' '230' '231' '232' '233'\n",
      " '234' '235' '236' '237' '238' '239' '240' '241' '242' '243' '244' '245'\n",
      " '246' '247' '248' '249' '250' '309' '310' '311' '312' '313' '314' '315'\n",
      " '316' '317' '318' '319' '320' '322' '323' '324' '325' '326' '327' '328'\n",
      " '329' '330' '331' '332' '333' '334' '335' '336' '337' '338' '339' '340'\n",
      " '341' '342' '409' '410' '2615' ' ' '321' '2649' 2753 2757]\n",
      "558\n"
     ]
    }
   ],
   "source": [
    "# 데이터 타입이 object인 컬럼 중 고유역번호 데이터 확인 - 확인결과 int타입과 string 타입이 섞여있고 공백문자가 들어간 컬럼도 있음\n",
    "print(station['고유역번호(외부역코드)'].unique())\n",
    "print(station['고유역번호(외부역코드)'].unique().shape[0])"
   ]
  },
  {
   "cell_type": "code",
   "execution_count": 9,
   "metadata": {
    "colab": {
     "base_uri": "https://localhost:8080/",
     "height": 224
    },
    "executionInfo": {
     "elapsed": 11,
     "status": "ok",
     "timestamp": 1683874522484,
     "user": {
      "displayName": "타조랑말",
      "userId": "10222896579941315833"
     },
     "user_tz": -540
    },
    "id": "CkLLFKsAhEmn",
    "outputId": "b18d9601-4f5b-46b5-f3e7-6a88a30a78f3"
   },
   "outputs": [
    {
     "data": {
      "text/html": [
       "<div>\n",
       "<style scoped>\n",
       "    .dataframe tbody tr th:only-of-type {\n",
       "        vertical-align: middle;\n",
       "    }\n",
       "\n",
       "    .dataframe tbody tr th {\n",
       "        vertical-align: top;\n",
       "    }\n",
       "\n",
       "    .dataframe thead th {\n",
       "        text-align: right;\n",
       "    }\n",
       "</style>\n",
       "<table border=\"1\" class=\"dataframe\">\n",
       "  <thead>\n",
       "    <tr style=\"text-align: right;\">\n",
       "      <th></th>\n",
       "      <th>수송일자</th>\n",
       "      <th>호선</th>\n",
       "      <th>고유역번호(외부역코드)</th>\n",
       "      <th>역명</th>\n",
       "      <th>승하차구분</th>\n",
       "      <th>06시이전</th>\n",
       "      <th>06-07시간대</th>\n",
       "      <th>07-08시간대</th>\n",
       "      <th>08-09시간대</th>\n",
       "      <th>09-10시간대</th>\n",
       "      <th>...</th>\n",
       "      <th>15-16시간대</th>\n",
       "      <th>16-17시간대</th>\n",
       "      <th>17-18시간대</th>\n",
       "      <th>18-19시간대</th>\n",
       "      <th>19-20시간대</th>\n",
       "      <th>20-21시간대</th>\n",
       "      <th>21-22시간대</th>\n",
       "      <th>22-23시간대</th>\n",
       "      <th>23-24시간대</th>\n",
       "      <th>24시이후</th>\n",
       "    </tr>\n",
       "  </thead>\n",
       "  <tbody>\n",
       "    <tr>\n",
       "      <th>132480</th>\n",
       "      <td>2022-08-31</td>\n",
       "      <td>7</td>\n",
       "      <td></td>\n",
       "      <td>광명사거리</td>\n",
       "      <td>승차</td>\n",
       "      <td>801</td>\n",
       "      <td>1299</td>\n",
       "      <td>3405</td>\n",
       "      <td>3901</td>\n",
       "      <td>1843</td>\n",
       "      <td>...</td>\n",
       "      <td>965</td>\n",
       "      <td>1181</td>\n",
       "      <td>1376</td>\n",
       "      <td>1283</td>\n",
       "      <td>779</td>\n",
       "      <td>521</td>\n",
       "      <td>448</td>\n",
       "      <td>346</td>\n",
       "      <td>124</td>\n",
       "      <td>15.0</td>\n",
       "    </tr>\n",
       "  </tbody>\n",
       "</table>\n",
       "<p>1 rows × 25 columns</p>\n",
       "</div>"
      ],
      "text/plain": [
       "              수송일자  호선 고유역번호(외부역코드)     역명 승하차구분  06시이전  06-07시간대  07-08시간대  \\\n",
       "132480  2022-08-31   7               광명사거리    승차    801      1299      3405   \n",
       "\n",
       "        08-09시간대  09-10시간대  ...  15-16시간대  16-17시간대  17-18시간대  18-19시간대  \\\n",
       "132480      3901      1843  ...       965      1181      1376      1283   \n",
       "\n",
       "        19-20시간대  20-21시간대  21-22시간대  22-23시간대  23-24시간대  24시이후  \n",
       "132480       779       521       448       346       124   15.0  \n",
       "\n",
       "[1 rows x 25 columns]"
      ]
     },
     "execution_count": 9,
     "metadata": {},
     "output_type": "execute_result"
    }
   ],
   "source": [
    "# 고유역코드가 비어있는 컬럼은 1개이고 광명사거리역\n",
    "station[station['고유역번호(외부역코드)'] == ' ']"
   ]
  },
  {
   "cell_type": "code",
   "execution_count": 10,
   "metadata": {
    "colab": {
     "base_uri": "https://localhost:8080/",
     "height": 290
    },
    "executionInfo": {
     "elapsed": 10,
     "status": "ok",
     "timestamp": 1683874522485,
     "user": {
      "displayName": "타조랑말",
      "userId": "10222896579941315833"
     },
     "user_tz": -540
    },
    "id": "7mULZJXVicmQ",
    "outputId": "a4741836-086c-49a8-d371-a4b605fecf2d"
   },
   "outputs": [
    {
     "data": {
      "text/html": [
       "<div>\n",
       "<style scoped>\n",
       "    .dataframe tbody tr th:only-of-type {\n",
       "        vertical-align: middle;\n",
       "    }\n",
       "\n",
       "    .dataframe tbody tr th {\n",
       "        vertical-align: top;\n",
       "    }\n",
       "\n",
       "    .dataframe thead th {\n",
       "        text-align: right;\n",
       "    }\n",
       "</style>\n",
       "<table border=\"1\" class=\"dataframe\">\n",
       "  <thead>\n",
       "    <tr style=\"text-align: right;\">\n",
       "      <th></th>\n",
       "      <th>수송일자</th>\n",
       "      <th>호선</th>\n",
       "      <th>고유역번호(외부역코드)</th>\n",
       "      <th>역명</th>\n",
       "      <th>승하차구분</th>\n",
       "      <th>06시이전</th>\n",
       "      <th>06-07시간대</th>\n",
       "      <th>07-08시간대</th>\n",
       "      <th>08-09시간대</th>\n",
       "      <th>09-10시간대</th>\n",
       "      <th>...</th>\n",
       "      <th>15-16시간대</th>\n",
       "      <th>16-17시간대</th>\n",
       "      <th>17-18시간대</th>\n",
       "      <th>18-19시간대</th>\n",
       "      <th>19-20시간대</th>\n",
       "      <th>20-21시간대</th>\n",
       "      <th>21-22시간대</th>\n",
       "      <th>22-23시간대</th>\n",
       "      <th>23-24시간대</th>\n",
       "      <th>24시이후</th>\n",
       "    </tr>\n",
       "  </thead>\n",
       "  <tbody>\n",
       "    <tr>\n",
       "      <th>502</th>\n",
       "      <td>2022-01-01</td>\n",
       "      <td>7</td>\n",
       "      <td>2750</td>\n",
       "      <td>광명사거리</td>\n",
       "      <td>승차</td>\n",
       "      <td>208</td>\n",
       "      <td>208</td>\n",
       "      <td>315</td>\n",
       "      <td>417</td>\n",
       "      <td>508</td>\n",
       "      <td>...</td>\n",
       "      <td>852</td>\n",
       "      <td>866</td>\n",
       "      <td>710</td>\n",
       "      <td>589</td>\n",
       "      <td>359</td>\n",
       "      <td>408</td>\n",
       "      <td>415</td>\n",
       "      <td>176</td>\n",
       "      <td>58</td>\n",
       "      <td>NaN</td>\n",
       "    </tr>\n",
       "    <tr>\n",
       "      <th>503</th>\n",
       "      <td>2022-01-01</td>\n",
       "      <td>7</td>\n",
       "      <td>2750</td>\n",
       "      <td>광명사거리</td>\n",
       "      <td>하차</td>\n",
       "      <td>50</td>\n",
       "      <td>122</td>\n",
       "      <td>179</td>\n",
       "      <td>258</td>\n",
       "      <td>371</td>\n",
       "      <td>...</td>\n",
       "      <td>822</td>\n",
       "      <td>771</td>\n",
       "      <td>771</td>\n",
       "      <td>742</td>\n",
       "      <td>509</td>\n",
       "      <td>456</td>\n",
       "      <td>678</td>\n",
       "      <td>556</td>\n",
       "      <td>235</td>\n",
       "      <td>NaN</td>\n",
       "    </tr>\n",
       "  </tbody>\n",
       "</table>\n",
       "<p>2 rows × 25 columns</p>\n",
       "</div>"
      ],
      "text/plain": [
       "           수송일자  호선 고유역번호(외부역코드)     역명 승하차구분  06시이전  06-07시간대  07-08시간대  \\\n",
       "502  2022-01-01   7         2750  광명사거리    승차    208       208       315   \n",
       "503  2022-01-01   7         2750  광명사거리    하차     50       122       179   \n",
       "\n",
       "     08-09시간대  09-10시간대  ...  15-16시간대  16-17시간대  17-18시간대  18-19시간대  \\\n",
       "502       417       508  ...       852       866       710       589   \n",
       "503       258       371  ...       822       771       771       742   \n",
       "\n",
       "     19-20시간대  20-21시간대  21-22시간대  22-23시간대  23-24시간대  24시이후  \n",
       "502       359       408       415       176        58    NaN  \n",
       "503       509       456       678       556       235    NaN  \n",
       "\n",
       "[2 rows x 25 columns]"
      ]
     },
     "execution_count": 10,
     "metadata": {},
     "output_type": "execute_result"
    }
   ],
   "source": [
    "# 광명사거리의 고유역번호를 확인\n",
    "station[station['역명'] == '광명사거리'].head(2)"
   ]
  },
  {
   "cell_type": "code",
   "execution_count": 11,
   "metadata": {
    "colab": {
     "base_uri": "https://localhost:8080/"
    },
    "executionInfo": {
     "elapsed": 9,
     "status": "ok",
     "timestamp": 1683874522485,
     "user": {
      "displayName": "타조랑말",
      "userId": "10222896579941315833"
     },
     "user_tz": -540
    },
    "id": "MqK8ZxvGi7Fm",
    "outputId": "49adfada-75f1-4aea-8fb8-f5b6db529504"
   },
   "outputs": [
    {
     "data": {
      "text/plain": [
       "0"
      ]
     },
     "execution_count": 11,
     "metadata": {},
     "output_type": "execute_result"
    }
   ],
   "source": [
    "# 같은 7호선이며 고유역코드가 2750임이 확인되어 2750으로 대치\n",
    "station['고유역번호(외부역코드)'].replace(' ', '2750', inplace=True)\n",
    "station[station['고유역번호(외부역코드)'] == ' '].shape[0] # 대치가 완료되어 해당 데이터 없음"
   ]
  },
  {
   "cell_type": "code",
   "execution_count": 12,
   "metadata": {
    "colab": {
     "base_uri": "https://localhost:8080/"
    },
    "executionInfo": {
     "elapsed": 397,
     "status": "ok",
     "timestamp": 1683874522875,
     "user": {
      "displayName": "타조랑말",
      "userId": "10222896579941315833"
     },
     "user_tz": -540
    },
    "id": "8xU4aex6j7TN",
    "outputId": "58c0b37c-c19f-46c0-b9a9-acef5517671c"
   },
   "outputs": [
    {
     "name": "stdout",
     "output_type": "stream",
     "text": [
      "<class 'pandas.core.frame.DataFrame'>\n",
      "RangeIndex: 199080 entries, 0 to 199079\n",
      "Data columns (total 25 columns):\n",
      " #   Column    Non-Null Count   Dtype         \n",
      "---  ------    --------------   -----         \n",
      " 0   수송일자      199080 non-null  datetime64[ns]\n",
      " 1   호선        199080 non-null  string        \n",
      " 2   node_id   199080 non-null  string        \n",
      " 3   정류소명(역명)  199080 non-null  object        \n",
      " 4   승하차구분     199080 non-null  object        \n",
      " 5   06시이전     199080 non-null  int64         \n",
      " 6   06-07시간대  199080 non-null  int64         \n",
      " 7   07-08시간대  199080 non-null  int64         \n",
      " 8   08-09시간대  199080 non-null  int64         \n",
      " 9   09-10시간대  199080 non-null  int64         \n",
      " 10  10-11시간대  199080 non-null  int64         \n",
      " 11  11-12시간대  199080 non-null  int64         \n",
      " 12  12-13시간대  199080 non-null  int64         \n",
      " 13  13-14시간대  199080 non-null  int64         \n",
      " 14  14-15시간대  199080 non-null  int64         \n",
      " 15  15-16시간대  199080 non-null  int64         \n",
      " 16  16-17시간대  199080 non-null  int64         \n",
      " 17  17-18시간대  199080 non-null  int64         \n",
      " 18  18-19시간대  199080 non-null  int64         \n",
      " 19  19-20시간대  199080 non-null  int64         \n",
      " 20  20-21시간대  199080 non-null  int64         \n",
      " 21  21-22시간대  199080 non-null  int64         \n",
      " 22  22-23시간대  199080 non-null  int64         \n",
      " 23  23-24시간대  199080 non-null  int64         \n",
      " 24  24시이후     116734 non-null  float64       \n",
      "dtypes: datetime64[ns](1), float64(1), int64(19), object(2), string(2)\n",
      "memory usage: 38.0+ MB\n",
      "<class 'pandas.core.frame.DataFrame'>\n",
      "RangeIndex: 276 entries, 0 to 275\n",
      "Data columns (total 5 columns):\n",
      " #   Column    Non-Null Count  Dtype  \n",
      "---  ------    --------------  -----  \n",
      " 0   호선        276 non-null    string \n",
      " 1   node_id   276 non-null    string \n",
      " 2   정류소명(역명)  276 non-null    object \n",
      " 3   위도        276 non-null    float64\n",
      " 4   경도        276 non-null    float64\n",
      "dtypes: float64(2), object(1), string(2)\n",
      "memory usage: 10.9+ KB\n"
     ]
    }
   ],
   "source": [
    "# 공통 컬럼인 고유역번호(외부역코드)의 데이터 타입이 다르므로 object를 통일하고 이름도 node_id 변경(버스정보와 합치기위해 통일)\n",
    "station.rename(columns={'고유역번호(외부역코드)':'node_id', '역명':'정류소명(역명)'}, inplace=True)\n",
    "station_loc.rename(columns={'고유역번호(외부역코드)':'node_id', '역명':'정류소명(역명)'}, inplace=True)\n",
    "\n",
    "# 수송일자 컬럼의 데이터타입을 날짜로 변경하고 호선의 데이터타입을 string으로 변경)\n",
    "station = station.astype({'node_id':'string', '수송일자':'datetime64', '호선':'string'})\n",
    "station_loc = station_loc.astype({'node_id':'string', '호선':'string'})\n",
    "\n",
    "# 바뀐 내용 확인\n",
    "station.info()\n",
    "station_loc.info()"
   ]
  },
  {
   "cell_type": "code",
   "execution_count": 13,
   "metadata": {
    "colab": {
     "base_uri": "https://localhost:8080/"
    },
    "executionInfo": {
     "elapsed": 8,
     "status": "ok",
     "timestamp": 1683874522875,
     "user": {
      "displayName": "타조랑말",
      "userId": "10222896579941315833"
     },
     "user_tz": -540
    },
    "id": "lVHH9fzMmFLE",
    "outputId": "1799b31d-dd21-4a7c-d7e0-f199e126973b"
   },
   "outputs": [
    {
     "name": "stdout",
     "output_type": "stream",
     "text": [
      "False\n"
     ]
    }
   ],
   "source": [
    "# 역별 승하차 테이블이 갖고 있는 역이 위치정보를 갖고 있는지 확인\n",
    "print(len(set(station['node_id'])) == len(set(station_loc['node_id']))) # 다름"
   ]
  },
  {
   "cell_type": "code",
   "execution_count": 14,
   "metadata": {
    "colab": {
     "base_uri": "https://localhost:8080/"
    },
    "executionInfo": {
     "elapsed": 450,
     "status": "ok",
     "timestamp": 1683874523322,
     "user": {
      "displayName": "타조랑말",
      "userId": "10222896579941315833"
     },
     "user_tz": -540
    },
    "id": "3sLLjjH3oKyJ",
    "outputId": "a6a67a72-177f-4172-f737-1f5bee7f108f"
   },
   "outputs": [
    {
     "name": "stdout",
     "output_type": "stream",
     "text": [
      "위치 정보가 없는 역의 번호:  {'2758', '2761', '2753', '2757'}\n",
      "위치 정보가 없는 역의 이름:  {'부천시청', '까치울', '부평구청', '상동'}\n"
     ]
    }
   ],
   "source": [
    "# 차집합 확인\n",
    "print('위치 정보가 없는 역의 번호: ', set(station['node_id']) - set(station_loc['node_id']))\n",
    "no_id = station[(station['node_id'] == '2753') | (station['node_id'] == '2757') | (station['node_id'] == '2758') | (station['node_id'] == '2761')]['정류소명(역명)']\n",
    "print('위치 정보가 없는 역의 이름: ', set(no_id.values))"
   ]
  },
  {
   "cell_type": "code",
   "execution_count": 15,
   "metadata": {
    "executionInfo": {
     "elapsed": 14,
     "status": "ok",
     "timestamp": 1683874523322,
     "user": {
      "displayName": "타조랑말",
      "userId": "10222896579941315833"
     },
     "user_tz": -540
    },
    "id": "oTUQVTIcrHRt",
    "scrolled": false
   },
   "outputs": [],
   "source": [
    "# 해당 역들은 모두 인천, 부천 소속이므로 드랍\n",
    "station = station.drop(no_id.index, axis=0)"
   ]
  },
  {
   "cell_type": "code",
   "execution_count": 16,
   "metadata": {
    "colab": {
     "base_uri": "https://localhost:8080/"
    },
    "executionInfo": {
     "elapsed": 13,
     "status": "ok",
     "timestamp": 1683874523322,
     "user": {
      "displayName": "타조랑말",
      "userId": "10222896579941315833"
     },
     "user_tz": -540
    },
    "id": "hcfV3Lznwq4I",
    "outputId": "d09442b2-bb10-45c2-f7f6-fda0e3af48ec"
   },
   "outputs": [
    {
     "name": "stdout",
     "output_type": "stream",
     "text": [
      "위치 정보가 없는 역의 번호:  set()\n"
     ]
    }
   ],
   "source": [
    "print('위치 정보가 없는 역의 번호: ', set(station['node_id']) - set(station_loc['node_id']))"
   ]
  },
  {
   "cell_type": "code",
   "execution_count": 17,
   "metadata": {
    "executionInfo": {
     "elapsed": 10,
     "status": "ok",
     "timestamp": 1683874523322,
     "user": {
      "displayName": "타조랑말",
      "userId": "10222896579941315833"
     },
     "user_tz": -540
    },
    "id": "3qWK6o2Y5V2U"
   },
   "outputs": [],
   "source": [
    "# 결측치를 갖고있는 24시이후 컬럼의 경우 결측치를 0으로 채워줌\n",
    "station['24시이후'].fillna(0, inplace=True)\n",
    "station['24시이후'] = station['24시이후'].astype('int')"
   ]
  },
  {
   "cell_type": "code",
   "execution_count": 18,
   "metadata": {
    "executionInfo": {
     "elapsed": 10,
     "status": "ok",
     "timestamp": 1683874523323,
     "user": {
      "displayName": "타조랑말",
      "userId": "10222896579941315833"
     },
     "user_tz": -540
    },
    "id": "TiNkdp8Gx29I"
   },
   "outputs": [],
   "source": [
    "# 승하차 데이터 나누기\n",
    "station_in = station[station['승하차구분'] == '승차'].drop('승하차구분', axis=1)\n",
    "station_out = station[station['승하차구분'] == '하차'].drop('승하차구분', axis=1)"
   ]
  },
  {
   "cell_type": "code",
   "execution_count": 19,
   "metadata": {
    "colab": {
     "base_uri": "https://localhost:8080/",
     "height": 238
    },
    "executionInfo": {
     "elapsed": 10,
     "status": "ok",
     "timestamp": 1683874523323,
     "user": {
      "displayName": "타조랑말",
      "userId": "10222896579941315833"
     },
     "user_tz": -540
    },
    "id": "DQ6s0y39090B",
    "outputId": "e642867a-77cf-47d8-92a3-42f1bf8ec4d2"
   },
   "outputs": [
    {
     "data": {
      "text/html": [
       "<div>\n",
       "<style scoped>\n",
       "    .dataframe tbody tr th:only-of-type {\n",
       "        vertical-align: middle;\n",
       "    }\n",
       "\n",
       "    .dataframe tbody tr th {\n",
       "        vertical-align: top;\n",
       "    }\n",
       "\n",
       "    .dataframe thead th {\n",
       "        text-align: right;\n",
       "    }\n",
       "</style>\n",
       "<table border=\"1\" class=\"dataframe\">\n",
       "  <thead>\n",
       "    <tr style=\"text-align: right;\">\n",
       "      <th></th>\n",
       "      <th>수송일자</th>\n",
       "      <th>호선</th>\n",
       "      <th>node_id</th>\n",
       "      <th>정류소명(역명)</th>\n",
       "      <th>06시이전</th>\n",
       "      <th>06-07시간대</th>\n",
       "      <th>07-08시간대</th>\n",
       "      <th>08-09시간대</th>\n",
       "      <th>09-10시간대</th>\n",
       "      <th>10-11시간대</th>\n",
       "      <th>...</th>\n",
       "      <th>15-16시간대</th>\n",
       "      <th>16-17시간대</th>\n",
       "      <th>17-18시간대</th>\n",
       "      <th>18-19시간대</th>\n",
       "      <th>19-20시간대</th>\n",
       "      <th>20-21시간대</th>\n",
       "      <th>21-22시간대</th>\n",
       "      <th>22-23시간대</th>\n",
       "      <th>23-24시간대</th>\n",
       "      <th>24시이후</th>\n",
       "    </tr>\n",
       "  </thead>\n",
       "  <tbody>\n",
       "    <tr>\n",
       "      <th>0</th>\n",
       "      <td>2022-01-01</td>\n",
       "      <td>1</td>\n",
       "      <td>150</td>\n",
       "      <td>서울역</td>\n",
       "      <td>120</td>\n",
       "      <td>137</td>\n",
       "      <td>211</td>\n",
       "      <td>439</td>\n",
       "      <td>592</td>\n",
       "      <td>878</td>\n",
       "      <td>...</td>\n",
       "      <td>1566</td>\n",
       "      <td>1686</td>\n",
       "      <td>1591</td>\n",
       "      <td>1358</td>\n",
       "      <td>1062</td>\n",
       "      <td>899</td>\n",
       "      <td>1327</td>\n",
       "      <td>814</td>\n",
       "      <td>234</td>\n",
       "      <td>0</td>\n",
       "    </tr>\n",
       "    <tr>\n",
       "      <th>2</th>\n",
       "      <td>2022-01-01</td>\n",
       "      <td>1</td>\n",
       "      <td>151</td>\n",
       "      <td>시청</td>\n",
       "      <td>38</td>\n",
       "      <td>66</td>\n",
       "      <td>101</td>\n",
       "      <td>139</td>\n",
       "      <td>121</td>\n",
       "      <td>137</td>\n",
       "      <td>...</td>\n",
       "      <td>474</td>\n",
       "      <td>550</td>\n",
       "      <td>672</td>\n",
       "      <td>528</td>\n",
       "      <td>420</td>\n",
       "      <td>434</td>\n",
       "      <td>491</td>\n",
       "      <td>232</td>\n",
       "      <td>38</td>\n",
       "      <td>0</td>\n",
       "    </tr>\n",
       "  </tbody>\n",
       "</table>\n",
       "<p>2 rows × 24 columns</p>\n",
       "</div>"
      ],
      "text/plain": [
       "        수송일자 호선 node_id 정류소명(역명)  06시이전  06-07시간대  07-08시간대  08-09시간대  \\\n",
       "0 2022-01-01  1     150      서울역    120       137       211       439   \n",
       "2 2022-01-01  1     151       시청     38        66       101       139   \n",
       "\n",
       "   09-10시간대  10-11시간대  ...  15-16시간대  16-17시간대  17-18시간대  18-19시간대  19-20시간대  \\\n",
       "0       592       878  ...      1566      1686      1591      1358      1062   \n",
       "2       121       137  ...       474       550       672       528       420   \n",
       "\n",
       "   20-21시간대  21-22시간대  22-23시간대  23-24시간대  24시이후  \n",
       "0       899      1327       814       234      0  \n",
       "2       434       491       232        38      0  \n",
       "\n",
       "[2 rows x 24 columns]"
      ]
     },
     "execution_count": 19,
     "metadata": {},
     "output_type": "execute_result"
    }
   ],
   "source": [
    "station_in.head(2)"
   ]
  },
  {
   "cell_type": "code",
   "execution_count": 20,
   "metadata": {
    "executionInfo": {
     "elapsed": 9,
     "status": "ok",
     "timestamp": 1683874523323,
     "user": {
      "displayName": "타조랑말",
      "userId": "10222896579941315833"
     },
     "user_tz": -540
    },
    "id": "AQjNNt5j1APX"
   },
   "outputs": [],
   "source": [
    "# 승하차 테이블에 일일 합계를 위한 '합계' 컬럼 추가\n",
    "station_in['합계'] = station_in.iloc[:, 4:].sum(axis=1)\n",
    "station_out['합계'] = station_out.iloc[:, 4:].sum(axis=1)"
   ]
  },
  {
   "cell_type": "code",
   "execution_count": 21,
   "metadata": {
    "colab": {
     "base_uri": "https://localhost:8080/",
     "height": 238
    },
    "executionInfo": {
     "elapsed": 9,
     "status": "ok",
     "timestamp": 1683874523323,
     "user": {
      "displayName": "타조랑말",
      "userId": "10222896579941315833"
     },
     "user_tz": -540
    },
    "id": "eyItPPJP9FtU",
    "outputId": "578e09a0-5175-4543-d8a9-384684c93834"
   },
   "outputs": [
    {
     "data": {
      "text/html": [
       "<div>\n",
       "<style scoped>\n",
       "    .dataframe tbody tr th:only-of-type {\n",
       "        vertical-align: middle;\n",
       "    }\n",
       "\n",
       "    .dataframe tbody tr th {\n",
       "        vertical-align: top;\n",
       "    }\n",
       "\n",
       "    .dataframe thead th {\n",
       "        text-align: right;\n",
       "    }\n",
       "</style>\n",
       "<table border=\"1\" class=\"dataframe\">\n",
       "  <thead>\n",
       "    <tr style=\"text-align: right;\">\n",
       "      <th></th>\n",
       "      <th>수송일자</th>\n",
       "      <th>호선</th>\n",
       "      <th>node_id</th>\n",
       "      <th>정류소명(역명)</th>\n",
       "      <th>06시이전</th>\n",
       "      <th>06-07시간대</th>\n",
       "      <th>07-08시간대</th>\n",
       "      <th>08-09시간대</th>\n",
       "      <th>09-10시간대</th>\n",
       "      <th>10-11시간대</th>\n",
       "      <th>...</th>\n",
       "      <th>16-17시간대</th>\n",
       "      <th>17-18시간대</th>\n",
       "      <th>18-19시간대</th>\n",
       "      <th>19-20시간대</th>\n",
       "      <th>20-21시간대</th>\n",
       "      <th>21-22시간대</th>\n",
       "      <th>22-23시간대</th>\n",
       "      <th>23-24시간대</th>\n",
       "      <th>24시이후</th>\n",
       "      <th>합계</th>\n",
       "    </tr>\n",
       "  </thead>\n",
       "  <tbody>\n",
       "    <tr>\n",
       "      <th>1</th>\n",
       "      <td>2022-01-01</td>\n",
       "      <td>1</td>\n",
       "      <td>150</td>\n",
       "      <td>서울역</td>\n",
       "      <td>113</td>\n",
       "      <td>560</td>\n",
       "      <td>617</td>\n",
       "      <td>910</td>\n",
       "      <td>1232</td>\n",
       "      <td>1260</td>\n",
       "      <td>...</td>\n",
       "      <td>1251</td>\n",
       "      <td>1126</td>\n",
       "      <td>884</td>\n",
       "      <td>764</td>\n",
       "      <td>654</td>\n",
       "      <td>728</td>\n",
       "      <td>416</td>\n",
       "      <td>131</td>\n",
       "      <td>0</td>\n",
       "      <td>17087</td>\n",
       "    </tr>\n",
       "    <tr>\n",
       "      <th>3</th>\n",
       "      <td>2022-01-01</td>\n",
       "      <td>1</td>\n",
       "      <td>151</td>\n",
       "      <td>시청</td>\n",
       "      <td>31</td>\n",
       "      <td>195</td>\n",
       "      <td>224</td>\n",
       "      <td>380</td>\n",
       "      <td>283</td>\n",
       "      <td>309</td>\n",
       "      <td>...</td>\n",
       "      <td>377</td>\n",
       "      <td>354</td>\n",
       "      <td>213</td>\n",
       "      <td>131</td>\n",
       "      <td>98</td>\n",
       "      <td>137</td>\n",
       "      <td>61</td>\n",
       "      <td>24</td>\n",
       "      <td>0</td>\n",
       "      <td>5063</td>\n",
       "    </tr>\n",
       "  </tbody>\n",
       "</table>\n",
       "<p>2 rows × 25 columns</p>\n",
       "</div>"
      ],
      "text/plain": [
       "        수송일자 호선 node_id 정류소명(역명)  06시이전  06-07시간대  07-08시간대  08-09시간대  \\\n",
       "1 2022-01-01  1     150      서울역    113       560       617       910   \n",
       "3 2022-01-01  1     151       시청     31       195       224       380   \n",
       "\n",
       "   09-10시간대  10-11시간대  ...  16-17시간대  17-18시간대  18-19시간대  19-20시간대  20-21시간대  \\\n",
       "1      1232      1260  ...      1251      1126       884       764       654   \n",
       "3       283       309  ...       377       354       213       131        98   \n",
       "\n",
       "   21-22시간대  22-23시간대  23-24시간대  24시이후     합계  \n",
       "1       728       416       131      0  17087  \n",
       "3       137        61        24      0   5063  \n",
       "\n",
       "[2 rows x 25 columns]"
      ]
     },
     "execution_count": 21,
     "metadata": {},
     "output_type": "execute_result"
    }
   ],
   "source": [
    "station_out.head(2)"
   ]
  },
  {
   "cell_type": "code",
   "execution_count": 22,
   "metadata": {
    "colab": {
     "base_uri": "https://localhost:8080/",
     "height": 424
    },
    "executionInfo": {
     "elapsed": 996,
     "status": "ok",
     "timestamp": 1683874524311,
     "user": {
      "displayName": "타조랑말",
      "userId": "10222896579941315833"
     },
     "user_tz": -540
    },
    "id": "tztI5fUY-a8a",
    "outputId": "f210252b-df5b-4a1a-9b53-992a92f4afc8"
   },
   "outputs": [
    {
     "data": {
      "text/html": [
       "<div>\n",
       "<style scoped>\n",
       "    .dataframe tbody tr th:only-of-type {\n",
       "        vertical-align: middle;\n",
       "    }\n",
       "\n",
       "    .dataframe tbody tr th {\n",
       "        vertical-align: top;\n",
       "    }\n",
       "\n",
       "    .dataframe thead th {\n",
       "        text-align: right;\n",
       "    }\n",
       "</style>\n",
       "<table border=\"1\" class=\"dataframe\">\n",
       "  <thead>\n",
       "    <tr style=\"text-align: right;\">\n",
       "      <th></th>\n",
       "      <th>node_id</th>\n",
       "      <th>정류소명(역명)</th>\n",
       "      <th>월평균승차수</th>\n",
       "      <th>월평균하차수</th>\n",
       "      <th>월평균승하차총계</th>\n",
       "    </tr>\n",
       "  </thead>\n",
       "  <tbody>\n",
       "    <tr>\n",
       "      <th>0</th>\n",
       "      <td>150</td>\n",
       "      <td>서울역</td>\n",
       "      <td>1301736.50</td>\n",
       "      <td>1264329.75</td>\n",
       "      <td>2566066.25</td>\n",
       "    </tr>\n",
       "    <tr>\n",
       "      <th>1</th>\n",
       "      <td>151</td>\n",
       "      <td>시청</td>\n",
       "      <td>625330.50</td>\n",
       "      <td>632575.33</td>\n",
       "      <td>1257905.83</td>\n",
       "    </tr>\n",
       "    <tr>\n",
       "      <th>2</th>\n",
       "      <td>152</td>\n",
       "      <td>종각</td>\n",
       "      <td>945011.25</td>\n",
       "      <td>914613.92</td>\n",
       "      <td>1859625.17</td>\n",
       "    </tr>\n",
       "    <tr>\n",
       "      <th>3</th>\n",
       "      <td>153</td>\n",
       "      <td>종로3가</td>\n",
       "      <td>727878.00</td>\n",
       "      <td>665596.33</td>\n",
       "      <td>1393474.33</td>\n",
       "    </tr>\n",
       "    <tr>\n",
       "      <th>4</th>\n",
       "      <td>154</td>\n",
       "      <td>종로5가</td>\n",
       "      <td>628529.42</td>\n",
       "      <td>624630.50</td>\n",
       "      <td>1253159.92</td>\n",
       "    </tr>\n",
       "    <tr>\n",
       "      <th>...</th>\n",
       "      <td>...</td>\n",
       "      <td>...</td>\n",
       "      <td>...</td>\n",
       "      <td>...</td>\n",
       "      <td>...</td>\n",
       "    </tr>\n",
       "    <tr>\n",
       "      <th>270</th>\n",
       "      <td>430</td>\n",
       "      <td>이촌(국립중앙박물관)</td>\n",
       "      <td>246369.92</td>\n",
       "      <td>270050.33</td>\n",
       "      <td>516420.25</td>\n",
       "    </tr>\n",
       "    <tr>\n",
       "      <th>271</th>\n",
       "      <td>431</td>\n",
       "      <td>동작(현충원)</td>\n",
       "      <td>55985.33</td>\n",
       "      <td>65523.33</td>\n",
       "      <td>121508.66</td>\n",
       "    </tr>\n",
       "    <tr>\n",
       "      <th>272</th>\n",
       "      <td>432</td>\n",
       "      <td>총신대입구(이수)</td>\n",
       "      <td>520579.33</td>\n",
       "      <td>566208.00</td>\n",
       "      <td>1086787.33</td>\n",
       "    </tr>\n",
       "    <tr>\n",
       "      <th>273</th>\n",
       "      <td>433</td>\n",
       "      <td>사당</td>\n",
       "      <td>730378.25</td>\n",
       "      <td>628545.25</td>\n",
       "      <td>1358923.50</td>\n",
       "    </tr>\n",
       "    <tr>\n",
       "      <th>274</th>\n",
       "      <td>434</td>\n",
       "      <td>남태령</td>\n",
       "      <td>37265.67</td>\n",
       "      <td>30892.17</td>\n",
       "      <td>68157.84</td>\n",
       "    </tr>\n",
       "  </tbody>\n",
       "</table>\n",
       "<p>275 rows × 5 columns</p>\n",
       "</div>"
      ],
      "text/plain": [
       "    node_id     정류소명(역명)      월평균승차수      월평균하차수    월평균승하차총계\n",
       "0       150          서울역  1301736.50  1264329.75  2566066.25\n",
       "1       151           시청   625330.50   632575.33  1257905.83\n",
       "2       152           종각   945011.25   914613.92  1859625.17\n",
       "3       153         종로3가   727878.00   665596.33  1393474.33\n",
       "4       154         종로5가   628529.42   624630.50  1253159.92\n",
       "..      ...          ...         ...         ...         ...\n",
       "270     430  이촌(국립중앙박물관)   246369.92   270050.33   516420.25\n",
       "271     431      동작(현충원)    55985.33    65523.33   121508.66\n",
       "272     432    총신대입구(이수)   520579.33   566208.00  1086787.33\n",
       "273     433           사당   730378.25   628545.25  1358923.50\n",
       "274     434          남태령    37265.67    30892.17    68157.84\n",
       "\n",
       "[275 rows x 5 columns]"
      ]
     },
     "execution_count": 22,
     "metadata": {},
     "output_type": "execute_result"
    }
   ],
   "source": [
    "# 승하차 1년 총 합계\n",
    "sum_in = pd.DataFrame(station_in.groupby(['node_id', '정류소명(역명)'])['합계'].sum()).reset_index()\n",
    "sum_out = pd.DataFrame(station_out.groupby(['node_id', '정류소명(역명)'])['합계'].sum()).reset_index()\n",
    "\n",
    "# 합계를 12로 나누고 월평균승차합계로 컬럼명을 바꾸기\n",
    "sum_in['월평균승차수'] = round(sum_in['합계']/12, 2)\n",
    "sum_in.drop('합계', axis=1, inplace=True)\n",
    "sum_out['월평균하차수'] = round(sum_out['합계']/12, 2)\n",
    "sum_out.drop('합계', axis=1, inplace=True)\n",
    "\n",
    "# 승하차 정보를 모두 담은 하나의 테이블로 병합\n",
    "sum_total = pd.merge(sum_in, sum_out, on=['node_id', '정류소명(역명)'])\n",
    "# 월평균승하차총합계 컬럼생성\n",
    "sum_total['월평균승하차총계'] = sum_total['월평균승차수'] + sum_total['월평균하차수']\n",
    "sum_total"
   ]
  },
  {
   "cell_type": "code",
   "execution_count": 23,
   "metadata": {
    "colab": {
     "base_uri": "https://localhost:8080/",
     "height": 49
    },
    "executionInfo": {
     "elapsed": 13,
     "status": "ok",
     "timestamp": 1683874524312,
     "user": {
      "displayName": "타조랑말",
      "userId": "10222896579941315833"
     },
     "user_tz": -540
    },
    "id": "vJocD5i-Gl-j",
    "outputId": "68cc17e3-560d-46f4-d922-3311e88678f9"
   },
   "outputs": [
    {
     "data": {
      "text/html": [
       "<div>\n",
       "<style scoped>\n",
       "    .dataframe tbody tr th:only-of-type {\n",
       "        vertical-align: middle;\n",
       "    }\n",
       "\n",
       "    .dataframe tbody tr th {\n",
       "        vertical-align: top;\n",
       "    }\n",
       "\n",
       "    .dataframe thead th {\n",
       "        text-align: right;\n",
       "    }\n",
       "</style>\n",
       "<table border=\"1\" class=\"dataframe\">\n",
       "  <thead>\n",
       "    <tr style=\"text-align: right;\">\n",
       "      <th></th>\n",
       "      <th>node_id</th>\n",
       "      <th>정류소명(역명)</th>\n",
       "      <th>월평균승차수</th>\n",
       "      <th>월평균하차수</th>\n",
       "      <th>월평균승하차총계</th>\n",
       "      <th>위도</th>\n",
       "      <th>경도</th>\n",
       "    </tr>\n",
       "  </thead>\n",
       "  <tbody>\n",
       "  </tbody>\n",
       "</table>\n",
       "</div>"
      ],
      "text/plain": [
       "Empty DataFrame\n",
       "Columns: [node_id, 정류소명(역명), 월평균승차수, 월평균하차수, 월평균승하차총계, 위도, 경도]\n",
       "Index: []"
      ]
     },
     "execution_count": 23,
     "metadata": {},
     "output_type": "execute_result"
    }
   ],
   "source": [
    "# 승하차 집계 테이블 + 위치 테이블 병합\n",
    "result = pd.merge(sum_total, station_loc[['node_id', '위도', '경도']], on='node_id')\n",
    "\n",
    "# 서울이 아닌 지역의 데이터가 있는지 확인\n",
    "# 서울의 범위 : 위도 (37.413294 ~ 37.715133) / 경도(126.734086 ~ 127.269311)\n",
    "result[(result['위도'] < 37.413294) | (result['위도'] > 37.715133) | (result['경도'] < 126.734086) | (result['경도'] > 127.269311)] # 없음"
   ]
  },
  {
   "cell_type": "code",
   "execution_count": 24,
   "metadata": {
    "colab": {
     "base_uri": "https://localhost:8080/",
     "height": 206
    },
    "executionInfo": {
     "elapsed": 12,
     "status": "ok",
     "timestamp": 1683874524312,
     "user": {
      "displayName": "타조랑말",
      "userId": "10222896579941315833"
     },
     "user_tz": -540
    },
    "id": "TcMFCo6pgIOV",
    "outputId": "089afdaa-a6e3-4452-c77a-86c64ccef1f1"
   },
   "outputs": [],
   "source": [
    "result['node_id'] = 'S' + result['node_id']"
   ]
  },
  {
   "cell_type": "code",
   "execution_count": 25,
   "metadata": {},
   "outputs": [
    {
     "name": "stdout",
     "output_type": "stream",
     "text": [
      "<class 'pandas.core.frame.DataFrame'>\n",
      "Int64Index: 275 entries, 0 to 274\n",
      "Data columns (total 7 columns):\n",
      " #   Column    Non-Null Count  Dtype  \n",
      "---  ------    --------------  -----  \n",
      " 0   node_id   275 non-null    string \n",
      " 1   정류소명(역명)  275 non-null    object \n",
      " 2   월평균승차수    275 non-null    float64\n",
      " 3   월평균하차수    275 non-null    float64\n",
      " 4   월평균승하차총계  275 non-null    float64\n",
      " 5   위도        275 non-null    float64\n",
      " 6   경도        275 non-null    float64\n",
      "dtypes: float64(5), object(1), string(1)\n",
      "memory usage: 17.2+ KB\n"
     ]
    }
   ],
   "source": [
    "result.info()\n",
    "result.head()\n",
    "result.to_excel('subway_info.xlsx', index=False)"
   ]
  },
  {
   "cell_type": "markdown",
   "metadata": {
    "id": "SmtH1n8-IyZ6"
   },
   "source": [
    "## ✅ 시각화"
   ]
  },
  {
   "cell_type": "code",
   "execution_count": 32,
   "metadata": {
    "colab": {
     "base_uri": "https://localhost:8080/",
     "height": 1000
    },
    "executionInfo": {
     "elapsed": 11,
     "status": "ok",
     "timestamp": 1683874524312,
     "user": {
      "displayName": "타조랑말",
      "userId": "10222896579941315833"
     },
     "user_tz": -540
    },
    "id": "Tg9H_ZVzJs1o",
    "outputId": "95940177-ec92-41f8-d809-0948996a738f"
   },
   "outputs": [
    {
     "name": "stderr",
     "output_type": "stream",
     "text": [
      "/Users/nabong/opt/anaconda3/lib/python3.9/site-packages/IPython/core/pylabtools.py:151: UserWarning: Glyph 50900 (\\N{HANGUL SYLLABLE WEOL}) missing from current font.\n",
      "  fig.canvas.print_figure(bytes_io, **kw)\n",
      "/Users/nabong/opt/anaconda3/lib/python3.9/site-packages/IPython/core/pylabtools.py:151: UserWarning: Glyph 54217 (\\N{HANGUL SYLLABLE PYEONG}) missing from current font.\n",
      "  fig.canvas.print_figure(bytes_io, **kw)\n",
      "/Users/nabong/opt/anaconda3/lib/python3.9/site-packages/IPython/core/pylabtools.py:151: UserWarning: Glyph 44512 (\\N{HANGUL SYLLABLE GYUN}) missing from current font.\n",
      "  fig.canvas.print_figure(bytes_io, **kw)\n",
      "/Users/nabong/opt/anaconda3/lib/python3.9/site-packages/IPython/core/pylabtools.py:151: UserWarning: Glyph 49849 (\\N{HANGUL SYLLABLE SEUNG}) missing from current font.\n",
      "  fig.canvas.print_figure(bytes_io, **kw)\n",
      "/Users/nabong/opt/anaconda3/lib/python3.9/site-packages/IPython/core/pylabtools.py:151: UserWarning: Glyph 52264 (\\N{HANGUL SYLLABLE CA}) missing from current font.\n",
      "  fig.canvas.print_figure(bytes_io, **kw)\n",
      "/Users/nabong/opt/anaconda3/lib/python3.9/site-packages/IPython/core/pylabtools.py:151: UserWarning: Glyph 49688 (\\N{HANGUL SYLLABLE SU}) missing from current font.\n",
      "  fig.canvas.print_figure(bytes_io, **kw)\n",
      "/Users/nabong/opt/anaconda3/lib/python3.9/site-packages/IPython/core/pylabtools.py:151: UserWarning: Glyph 44053 (\\N{HANGUL SYLLABLE GANG}) missing from current font.\n",
      "  fig.canvas.print_figure(bytes_io, **kw)\n",
      "/Users/nabong/opt/anaconda3/lib/python3.9/site-packages/IPython/core/pylabtools.py:151: UserWarning: Glyph 45224 (\\N{HANGUL SYLLABLE NAM}) missing from current font.\n",
      "  fig.canvas.print_figure(bytes_io, **kw)\n",
      "/Users/nabong/opt/anaconda3/lib/python3.9/site-packages/IPython/core/pylabtools.py:151: UserWarning: Glyph 51104 (\\N{HANGUL SYLLABLE JAM}) missing from current font.\n",
      "  fig.canvas.print_figure(bytes_io, **kw)\n",
      "/Users/nabong/opt/anaconda3/lib/python3.9/site-packages/IPython/core/pylabtools.py:151: UserWarning: Glyph 49892 (\\N{HANGUL SYLLABLE SIL}) missing from current font.\n",
      "  fig.canvas.print_figure(bytes_io, **kw)\n",
      "/Users/nabong/opt/anaconda3/lib/python3.9/site-packages/IPython/core/pylabtools.py:151: UserWarning: Glyph 49569 (\\N{HANGUL SYLLABLE SONG}) missing from current font.\n",
      "  fig.canvas.print_figure(bytes_io, **kw)\n",
      "/Users/nabong/opt/anaconda3/lib/python3.9/site-packages/IPython/core/pylabtools.py:151: UserWarning: Glyph 54028 (\\N{HANGUL SYLLABLE PA}) missing from current font.\n",
      "  fig.canvas.print_figure(bytes_io, **kw)\n",
      "/Users/nabong/opt/anaconda3/lib/python3.9/site-packages/IPython/core/pylabtools.py:151: UserWarning: Glyph 44396 (\\N{HANGUL SYLLABLE GU}) missing from current font.\n",
      "  fig.canvas.print_figure(bytes_io, **kw)\n",
      "/Users/nabong/opt/anaconda3/lib/python3.9/site-packages/IPython/core/pylabtools.py:151: UserWarning: Glyph 52397 (\\N{HANGUL SYLLABLE CEONG}) missing from current font.\n",
      "  fig.canvas.print_figure(bytes_io, **kw)\n",
      "/Users/nabong/opt/anaconda3/lib/python3.9/site-packages/IPython/core/pylabtools.py:151: UserWarning: Glyph 54861 (\\N{HANGUL SYLLABLE HONG}) missing from current font.\n",
      "  fig.canvas.print_figure(bytes_io, **kw)\n",
      "/Users/nabong/opt/anaconda3/lib/python3.9/site-packages/IPython/core/pylabtools.py:151: UserWarning: Glyph 45824 (\\N{HANGUL SYLLABLE DAE}) missing from current font.\n",
      "  fig.canvas.print_figure(bytes_io, **kw)\n",
      "/Users/nabong/opt/anaconda3/lib/python3.9/site-packages/IPython/core/pylabtools.py:151: UserWarning: Glyph 51077 (\\N{HANGUL SYLLABLE IB}) missing from current font.\n",
      "  fig.canvas.print_figure(bytes_io, **kw)\n",
      "/Users/nabong/opt/anaconda3/lib/python3.9/site-packages/IPython/core/pylabtools.py:151: UserWarning: Glyph 49888 (\\N{HANGUL SYLLABLE SIN}) missing from current font.\n",
      "  fig.canvas.print_figure(bytes_io, **kw)\n",
      "/Users/nabong/opt/anaconda3/lib/python3.9/site-packages/IPython/core/pylabtools.py:151: UserWarning: Glyph 47548 (\\N{HANGUL SYLLABLE RIM}) missing from current font.\n",
      "  fig.canvas.print_figure(bytes_io, **kw)\n",
      "/Users/nabong/opt/anaconda3/lib/python3.9/site-packages/IPython/core/pylabtools.py:151: UserWarning: Glyph 47196 (\\N{HANGUL SYLLABLE RO}) missing from current font.\n",
      "  fig.canvas.print_figure(bytes_io, **kw)\n",
      "/Users/nabong/opt/anaconda3/lib/python3.9/site-packages/IPython/core/pylabtools.py:151: UserWarning: Glyph 46356 (\\N{HANGUL SYLLABLE DI}) missing from current font.\n",
      "  fig.canvas.print_figure(bytes_io, **kw)\n",
      "/Users/nabong/opt/anaconda3/lib/python3.9/site-packages/IPython/core/pylabtools.py:151: UserWarning: Glyph 51648 (\\N{HANGUL SYLLABLE JI}) missing from current font.\n",
      "  fig.canvas.print_figure(bytes_io, **kw)\n",
      "/Users/nabong/opt/anaconda3/lib/python3.9/site-packages/IPython/core/pylabtools.py:151: UserWarning: Glyph 53560 (\\N{HANGUL SYLLABLE TEOL}) missing from current font.\n",
      "  fig.canvas.print_figure(bytes_io, **kw)\n",
      "/Users/nabong/opt/anaconda3/lib/python3.9/site-packages/IPython/core/pylabtools.py:151: UserWarning: Glyph 45800 (\\N{HANGUL SYLLABLE DAN}) missing from current font.\n",
      "  fig.canvas.print_figure(bytes_io, **kw)\n",
      "/Users/nabong/opt/anaconda3/lib/python3.9/site-packages/IPython/core/pylabtools.py:151: UserWarning: Glyph 49440 (\\N{HANGUL SYLLABLE SEON}) missing from current font.\n",
      "  fig.canvas.print_figure(bytes_io, **kw)\n",
      "/Users/nabong/opt/anaconda3/lib/python3.9/site-packages/IPython/core/pylabtools.py:151: UserWarning: Glyph 47497 (\\N{HANGUL SYLLABLE REUNG}) missing from current font.\n",
      "  fig.canvas.print_figure(bytes_io, **kw)\n",
      "/Users/nabong/opt/anaconda3/lib/python3.9/site-packages/IPython/core/pylabtools.py:151: UserWarning: Glyph 49340 (\\N{HANGUL SYLLABLE SAM}) missing from current font.\n",
      "  fig.canvas.print_figure(bytes_io, **kw)\n",
      "/Users/nabong/opt/anaconda3/lib/python3.9/site-packages/IPython/core/pylabtools.py:151: UserWarning: Glyph 49457 (\\N{HANGUL SYLLABLE SEONG}) missing from current font.\n",
      "  fig.canvas.print_figure(bytes_io, **kw)\n",
      "/Users/nabong/opt/anaconda3/lib/python3.9/site-packages/IPython/core/pylabtools.py:151: UserWarning: Glyph 47924 (\\N{HANGUL SYLLABLE MU}) missing from current font.\n",
      "  fig.canvas.print_figure(bytes_io, **kw)\n",
      "/Users/nabong/opt/anaconda3/lib/python3.9/site-packages/IPython/core/pylabtools.py:151: UserWarning: Glyph 50669 (\\N{HANGUL SYLLABLE YEOG}) missing from current font.\n",
      "  fig.canvas.print_figure(bytes_io, **kw)\n",
      "/Users/nabong/opt/anaconda3/lib/python3.9/site-packages/IPython/core/pylabtools.py:151: UserWarning: Glyph 49468 (\\N{HANGUL SYLLABLE SEN}) missing from current font.\n",
      "  fig.canvas.print_figure(bytes_io, **kw)\n",
      "/Users/nabong/opt/anaconda3/lib/python3.9/site-packages/IPython/core/pylabtools.py:151: UserWarning: Glyph 53552 (\\N{HANGUL SYLLABLE TEO}) missing from current font.\n",
      "  fig.canvas.print_figure(bytes_io, **kw)\n",
      "/Users/nabong/opt/anaconda3/lib/python3.9/site-packages/IPython/core/pylabtools.py:151: UserWarning: Glyph 46020 (\\N{HANGUL SYLLABLE DO}) missing from current font.\n",
      "  fig.canvas.print_figure(bytes_io, **kw)\n",
      "/Users/nabong/opt/anaconda3/lib/python3.9/site-packages/IPython/core/pylabtools.py:151: UserWarning: Glyph 44256 (\\N{HANGUL SYLLABLE GO}) missing from current font.\n",
      "  fig.canvas.print_figure(bytes_io, **kw)\n",
      "/Users/nabong/opt/anaconda3/lib/python3.9/site-packages/IPython/core/pylabtools.py:151: UserWarning: Glyph 49549 (\\N{HANGUL SYLLABLE SOG}) missing from current font.\n",
      "  fig.canvas.print_figure(bytes_io, **kw)\n",
      "/Users/nabong/opt/anaconda3/lib/python3.9/site-packages/IPython/core/pylabtools.py:151: UserWarning: Glyph 48120 (\\N{HANGUL SYLLABLE MI}) missing from current font.\n",
      "  fig.canvas.print_figure(bytes_io, **kw)\n",
      "/Users/nabong/opt/anaconda3/lib/python3.9/site-packages/IPython/core/pylabtools.py:151: UserWarning: Glyph 45328 (\\N{HANGUL SYLLABLE NEOL}) missing from current font.\n",
      "  fig.canvas.print_figure(bytes_io, **kw)\n",
      "/Users/nabong/opt/anaconda3/lib/python3.9/site-packages/IPython/core/pylabtools.py:151: UserWarning: Glyph 49436 (\\N{HANGUL SYLLABLE SEO}) missing from current font.\n",
      "  fig.canvas.print_figure(bytes_io, **kw)\n",
      "/Users/nabong/opt/anaconda3/lib/python3.9/site-packages/IPython/core/pylabtools.py:151: UserWarning: Glyph 50872 (\\N{HANGUL SYLLABLE UL}) missing from current font.\n",
      "  fig.canvas.print_figure(bytes_io, **kw)\n",
      "/Users/nabong/opt/anaconda3/lib/python3.9/site-packages/IPython/core/pylabtools.py:151: UserWarning: Glyph 44288 (\\N{HANGUL SYLLABLE GWAN}) missing from current font.\n",
      "  fig.canvas.print_figure(bytes_io, **kw)\n",
      "/Users/nabong/opt/anaconda3/lib/python3.9/site-packages/IPython/core/pylabtools.py:151: UserWarning: Glyph 50501 (\\N{HANGUL SYLLABLE AG}) missing from current font.\n",
      "  fig.canvas.print_figure(bytes_io, **kw)\n",
      "/Users/nabong/opt/anaconda3/lib/python3.9/site-packages/IPython/core/pylabtools.py:151: UserWarning: Glyph 51221 (\\N{HANGUL SYLLABLE JEONG}) missing from current font.\n",
      "  fig.canvas.print_figure(bytes_io, **kw)\n",
      "/Users/nabong/opt/anaconda3/lib/python3.9/site-packages/IPython/core/pylabtools.py:151: UserWarning: Glyph 47448 (\\N{HANGUL SYLLABLE RYU}) missing from current font.\n",
      "  fig.canvas.print_figure(bytes_io, **kw)\n",
      "/Users/nabong/opt/anaconda3/lib/python3.9/site-packages/IPython/core/pylabtools.py:151: UserWarning: Glyph 49548 (\\N{HANGUL SYLLABLE SO}) missing from current font.\n",
      "  fig.canvas.print_figure(bytes_io, **kw)\n",
      "/Users/nabong/opt/anaconda3/lib/python3.9/site-packages/IPython/core/pylabtools.py:151: UserWarning: Glyph 47749 (\\N{HANGUL SYLLABLE MYEONG}) missing from current font.\n",
      "  fig.canvas.print_figure(bytes_io, **kw)\n"
     ]
    },
    {
     "data": {
      "image/png": "[encoded data removed]",
      "text/plain": [
       "<Figure size 640x480 with 1 Axes>"
      ]
     },
     "metadata": {},
     "output_type": "display_data"
    },
    {
     "name": "stderr",
     "output_type": "stream",
     "text": [
      "/Users/nabong/opt/anaconda3/lib/python3.9/site-packages/IPython/core/pylabtools.py:151: UserWarning: Glyph 50900 (\\N{HANGUL SYLLABLE WEOL}) missing from current font.\n",
      "  fig.canvas.print_figure(bytes_io, **kw)\n",
      "/Users/nabong/opt/anaconda3/lib/python3.9/site-packages/IPython/core/pylabtools.py:151: UserWarning: Glyph 54217 (\\N{HANGUL SYLLABLE PYEONG}) missing from current font.\n",
      "  fig.canvas.print_figure(bytes_io, **kw)\n",
      "/Users/nabong/opt/anaconda3/lib/python3.9/site-packages/IPython/core/pylabtools.py:151: UserWarning: Glyph 44512 (\\N{HANGUL SYLLABLE GYUN}) missing from current font.\n",
      "  fig.canvas.print_figure(bytes_io, **kw)\n",
      "/Users/nabong/opt/anaconda3/lib/python3.9/site-packages/IPython/core/pylabtools.py:151: UserWarning: Glyph 54616 (\\N{HANGUL SYLLABLE HA}) missing from current font.\n",
      "  fig.canvas.print_figure(bytes_io, **kw)\n",
      "/Users/nabong/opt/anaconda3/lib/python3.9/site-packages/IPython/core/pylabtools.py:151: UserWarning: Glyph 52264 (\\N{HANGUL SYLLABLE CA}) missing from current font.\n",
      "  fig.canvas.print_figure(bytes_io, **kw)\n",
      "/Users/nabong/opt/anaconda3/lib/python3.9/site-packages/IPython/core/pylabtools.py:151: UserWarning: Glyph 49688 (\\N{HANGUL SYLLABLE SU}) missing from current font.\n",
      "  fig.canvas.print_figure(bytes_io, **kw)\n",
      "/Users/nabong/opt/anaconda3/lib/python3.9/site-packages/IPython/core/pylabtools.py:151: UserWarning: Glyph 44053 (\\N{HANGUL SYLLABLE GANG}) missing from current font.\n",
      "  fig.canvas.print_figure(bytes_io, **kw)\n",
      "/Users/nabong/opt/anaconda3/lib/python3.9/site-packages/IPython/core/pylabtools.py:151: UserWarning: Glyph 45224 (\\N{HANGUL SYLLABLE NAM}) missing from current font.\n",
      "  fig.canvas.print_figure(bytes_io, **kw)\n",
      "/Users/nabong/opt/anaconda3/lib/python3.9/site-packages/IPython/core/pylabtools.py:151: UserWarning: Glyph 51104 (\\N{HANGUL SYLLABLE JAM}) missing from current font.\n",
      "  fig.canvas.print_figure(bytes_io, **kw)\n",
      "/Users/nabong/opt/anaconda3/lib/python3.9/site-packages/IPython/core/pylabtools.py:151: UserWarning: Glyph 49892 (\\N{HANGUL SYLLABLE SIL}) missing from current font.\n",
      "  fig.canvas.print_figure(bytes_io, **kw)\n",
      "/Users/nabong/opt/anaconda3/lib/python3.9/site-packages/IPython/core/pylabtools.py:151: UserWarning: Glyph 49569 (\\N{HANGUL SYLLABLE SONG}) missing from current font.\n",
      "  fig.canvas.print_figure(bytes_io, **kw)\n",
      "/Users/nabong/opt/anaconda3/lib/python3.9/site-packages/IPython/core/pylabtools.py:151: UserWarning: Glyph 54028 (\\N{HANGUL SYLLABLE PA}) missing from current font.\n",
      "  fig.canvas.print_figure(bytes_io, **kw)\n",
      "/Users/nabong/opt/anaconda3/lib/python3.9/site-packages/IPython/core/pylabtools.py:151: UserWarning: Glyph 44396 (\\N{HANGUL SYLLABLE GU}) missing from current font.\n",
      "  fig.canvas.print_figure(bytes_io, **kw)\n",
      "/Users/nabong/opt/anaconda3/lib/python3.9/site-packages/IPython/core/pylabtools.py:151: UserWarning: Glyph 52397 (\\N{HANGUL SYLLABLE CEONG}) missing from current font.\n",
      "  fig.canvas.print_figure(bytes_io, **kw)\n",
      "/Users/nabong/opt/anaconda3/lib/python3.9/site-packages/IPython/core/pylabtools.py:151: UserWarning: Glyph 54861 (\\N{HANGUL SYLLABLE HONG}) missing from current font.\n",
      "  fig.canvas.print_figure(bytes_io, **kw)\n",
      "/Users/nabong/opt/anaconda3/lib/python3.9/site-packages/IPython/core/pylabtools.py:151: UserWarning: Glyph 45824 (\\N{HANGUL SYLLABLE DAE}) missing from current font.\n",
      "  fig.canvas.print_figure(bytes_io, **kw)\n",
      "/Users/nabong/opt/anaconda3/lib/python3.9/site-packages/IPython/core/pylabtools.py:151: UserWarning: Glyph 51077 (\\N{HANGUL SYLLABLE IB}) missing from current font.\n",
      "  fig.canvas.print_figure(bytes_io, **kw)\n",
      "/Users/nabong/opt/anaconda3/lib/python3.9/site-packages/IPython/core/pylabtools.py:151: UserWarning: Glyph 49888 (\\N{HANGUL SYLLABLE SIN}) missing from current font.\n",
      "  fig.canvas.print_figure(bytes_io, **kw)\n",
      "/Users/nabong/opt/anaconda3/lib/python3.9/site-packages/IPython/core/pylabtools.py:151: UserWarning: Glyph 47548 (\\N{HANGUL SYLLABLE RIM}) missing from current font.\n",
      "  fig.canvas.print_figure(bytes_io, **kw)\n",
      "/Users/nabong/opt/anaconda3/lib/python3.9/site-packages/IPython/core/pylabtools.py:151: UserWarning: Glyph 47196 (\\N{HANGUL SYLLABLE RO}) missing from current font.\n",
      "  fig.canvas.print_figure(bytes_io, **kw)\n",
      "/Users/nabong/opt/anaconda3/lib/python3.9/site-packages/IPython/core/pylabtools.py:151: UserWarning: Glyph 46356 (\\N{HANGUL SYLLABLE DI}) missing from current font.\n",
      "  fig.canvas.print_figure(bytes_io, **kw)\n",
      "/Users/nabong/opt/anaconda3/lib/python3.9/site-packages/IPython/core/pylabtools.py:151: UserWarning: Glyph 51648 (\\N{HANGUL SYLLABLE JI}) missing from current font.\n",
      "  fig.canvas.print_figure(bytes_io, **kw)\n",
      "/Users/nabong/opt/anaconda3/lib/python3.9/site-packages/IPython/core/pylabtools.py:151: UserWarning: Glyph 53560 (\\N{HANGUL SYLLABLE TEOL}) missing from current font.\n",
      "  fig.canvas.print_figure(bytes_io, **kw)\n",
      "/Users/nabong/opt/anaconda3/lib/python3.9/site-packages/IPython/core/pylabtools.py:151: UserWarning: Glyph 45800 (\\N{HANGUL SYLLABLE DAN}) missing from current font.\n",
      "  fig.canvas.print_figure(bytes_io, **kw)\n",
      "/Users/nabong/opt/anaconda3/lib/python3.9/site-packages/IPython/core/pylabtools.py:151: UserWarning: Glyph 50669 (\\N{HANGUL SYLLABLE YEOG}) missing from current font.\n",
      "  fig.canvas.print_figure(bytes_io, **kw)\n",
      "/Users/nabong/opt/anaconda3/lib/python3.9/site-packages/IPython/core/pylabtools.py:151: UserWarning: Glyph 49340 (\\N{HANGUL SYLLABLE SAM}) missing from current font.\n",
      "  fig.canvas.print_figure(bytes_io, **kw)\n",
      "/Users/nabong/opt/anaconda3/lib/python3.9/site-packages/IPython/core/pylabtools.py:151: UserWarning: Glyph 49457 (\\N{HANGUL SYLLABLE SEONG}) missing from current font.\n",
      "  fig.canvas.print_figure(bytes_io, **kw)\n",
      "/Users/nabong/opt/anaconda3/lib/python3.9/site-packages/IPython/core/pylabtools.py:151: UserWarning: Glyph 47924 (\\N{HANGUL SYLLABLE MU}) missing from current font.\n",
      "  fig.canvas.print_figure(bytes_io, **kw)\n",
      "/Users/nabong/opt/anaconda3/lib/python3.9/site-packages/IPython/core/pylabtools.py:151: UserWarning: Glyph 49468 (\\N{HANGUL SYLLABLE SEN}) missing from current font.\n",
      "  fig.canvas.print_figure(bytes_io, **kw)\n",
      "/Users/nabong/opt/anaconda3/lib/python3.9/site-packages/IPython/core/pylabtools.py:151: UserWarning: Glyph 53552 (\\N{HANGUL SYLLABLE TEO}) missing from current font.\n",
      "  fig.canvas.print_figure(bytes_io, **kw)\n",
      "/Users/nabong/opt/anaconda3/lib/python3.9/site-packages/IPython/core/pylabtools.py:151: UserWarning: Glyph 46020 (\\N{HANGUL SYLLABLE DO}) missing from current font.\n",
      "  fig.canvas.print_figure(bytes_io, **kw)\n",
      "/Users/nabong/opt/anaconda3/lib/python3.9/site-packages/IPython/core/pylabtools.py:151: UserWarning: Glyph 44256 (\\N{HANGUL SYLLABLE GO}) missing from current font.\n",
      "  fig.canvas.print_figure(bytes_io, **kw)\n",
      "/Users/nabong/opt/anaconda3/lib/python3.9/site-packages/IPython/core/pylabtools.py:151: UserWarning: Glyph 49549 (\\N{HANGUL SYLLABLE SOG}) missing from current font.\n",
      "  fig.canvas.print_figure(bytes_io, **kw)\n",
      "/Users/nabong/opt/anaconda3/lib/python3.9/site-packages/IPython/core/pylabtools.py:151: UserWarning: Glyph 48120 (\\N{HANGUL SYLLABLE MI}) missing from current font.\n",
      "  fig.canvas.print_figure(bytes_io, **kw)\n",
      "/Users/nabong/opt/anaconda3/lib/python3.9/site-packages/IPython/core/pylabtools.py:151: UserWarning: Glyph 45328 (\\N{HANGUL SYLLABLE NEOL}) missing from current font.\n",
      "  fig.canvas.print_figure(bytes_io, **kw)\n",
      "/Users/nabong/opt/anaconda3/lib/python3.9/site-packages/IPython/core/pylabtools.py:151: UserWarning: Glyph 49436 (\\N{HANGUL SYLLABLE SEO}) missing from current font.\n",
      "  fig.canvas.print_figure(bytes_io, **kw)\n",
      "/Users/nabong/opt/anaconda3/lib/python3.9/site-packages/IPython/core/pylabtools.py:151: UserWarning: Glyph 50872 (\\N{HANGUL SYLLABLE UL}) missing from current font.\n",
      "  fig.canvas.print_figure(bytes_io, **kw)\n",
      "/Users/nabong/opt/anaconda3/lib/python3.9/site-packages/IPython/core/pylabtools.py:151: UserWarning: Glyph 44288 (\\N{HANGUL SYLLABLE GWAN}) missing from current font.\n",
      "  fig.canvas.print_figure(bytes_io, **kw)\n",
      "/Users/nabong/opt/anaconda3/lib/python3.9/site-packages/IPython/core/pylabtools.py:151: UserWarning: Glyph 50501 (\\N{HANGUL SYLLABLE AG}) missing from current font.\n",
      "  fig.canvas.print_figure(bytes_io, **kw)\n",
      "/Users/nabong/opt/anaconda3/lib/python3.9/site-packages/IPython/core/pylabtools.py:151: UserWarning: Glyph 51221 (\\N{HANGUL SYLLABLE JEONG}) missing from current font.\n",
      "  fig.canvas.print_figure(bytes_io, **kw)\n",
      "/Users/nabong/opt/anaconda3/lib/python3.9/site-packages/IPython/core/pylabtools.py:151: UserWarning: Glyph 47448 (\\N{HANGUL SYLLABLE RYU}) missing from current font.\n",
      "  fig.canvas.print_figure(bytes_io, **kw)\n",
      "/Users/nabong/opt/anaconda3/lib/python3.9/site-packages/IPython/core/pylabtools.py:151: UserWarning: Glyph 49548 (\\N{HANGUL SYLLABLE SO}) missing from current font.\n",
      "  fig.canvas.print_figure(bytes_io, **kw)\n",
      "/Users/nabong/opt/anaconda3/lib/python3.9/site-packages/IPython/core/pylabtools.py:151: UserWarning: Glyph 47749 (\\N{HANGUL SYLLABLE MYEONG}) missing from current font.\n",
      "  fig.canvas.print_figure(bytes_io, **kw)\n"
     ]
    },
    {
     "data": {
      "image/png": "[encoded data removed]",
      "text/plain": [
       "<Figure size 640x480 with 1 Axes>"
      ]
     },
     "metadata": {},
     "output_type": "display_data"
    },
    {
     "name": "stderr",
     "output_type": "stream",
     "text": [
      "/Users/nabong/opt/anaconda3/lib/python3.9/site-packages/IPython/core/pylabtools.py:151: UserWarning: Glyph 50900 (\\N{HANGUL SYLLABLE WEOL}) missing from current font.\n",
      "  fig.canvas.print_figure(bytes_io, **kw)\n",
      "/Users/nabong/opt/anaconda3/lib/python3.9/site-packages/IPython/core/pylabtools.py:151: UserWarning: Glyph 54217 (\\N{HANGUL SYLLABLE PYEONG}) missing from current font.\n",
      "  fig.canvas.print_figure(bytes_io, **kw)\n",
      "/Users/nabong/opt/anaconda3/lib/python3.9/site-packages/IPython/core/pylabtools.py:151: UserWarning: Glyph 44512 (\\N{HANGUL SYLLABLE GYUN}) missing from current font.\n",
      "  fig.canvas.print_figure(bytes_io, **kw)\n",
      "/Users/nabong/opt/anaconda3/lib/python3.9/site-packages/IPython/core/pylabtools.py:151: UserWarning: Glyph 49849 (\\N{HANGUL SYLLABLE SEUNG}) missing from current font.\n",
      "  fig.canvas.print_figure(bytes_io, **kw)\n",
      "/Users/nabong/opt/anaconda3/lib/python3.9/site-packages/IPython/core/pylabtools.py:151: UserWarning: Glyph 54616 (\\N{HANGUL SYLLABLE HA}) missing from current font.\n",
      "  fig.canvas.print_figure(bytes_io, **kw)\n",
      "/Users/nabong/opt/anaconda3/lib/python3.9/site-packages/IPython/core/pylabtools.py:151: UserWarning: Glyph 52264 (\\N{HANGUL SYLLABLE CA}) missing from current font.\n",
      "  fig.canvas.print_figure(bytes_io, **kw)\n",
      "/Users/nabong/opt/anaconda3/lib/python3.9/site-packages/IPython/core/pylabtools.py:151: UserWarning: Glyph 52509 (\\N{HANGUL SYLLABLE CONG}) missing from current font.\n",
      "  fig.canvas.print_figure(bytes_io, **kw)\n",
      "/Users/nabong/opt/anaconda3/lib/python3.9/site-packages/IPython/core/pylabtools.py:151: UserWarning: Glyph 44228 (\\N{HANGUL SYLLABLE GYE}) missing from current font.\n",
      "  fig.canvas.print_figure(bytes_io, **kw)\n",
      "/Users/nabong/opt/anaconda3/lib/python3.9/site-packages/IPython/core/pylabtools.py:151: UserWarning: Glyph 44053 (\\N{HANGUL SYLLABLE GANG}) missing from current font.\n",
      "  fig.canvas.print_figure(bytes_io, **kw)\n",
      "/Users/nabong/opt/anaconda3/lib/python3.9/site-packages/IPython/core/pylabtools.py:151: UserWarning: Glyph 45224 (\\N{HANGUL SYLLABLE NAM}) missing from current font.\n",
      "  fig.canvas.print_figure(bytes_io, **kw)\n",
      "/Users/nabong/opt/anaconda3/lib/python3.9/site-packages/IPython/core/pylabtools.py:151: UserWarning: Glyph 51104 (\\N{HANGUL SYLLABLE JAM}) missing from current font.\n",
      "  fig.canvas.print_figure(bytes_io, **kw)\n",
      "/Users/nabong/opt/anaconda3/lib/python3.9/site-packages/IPython/core/pylabtools.py:151: UserWarning: Glyph 49892 (\\N{HANGUL SYLLABLE SIL}) missing from current font.\n",
      "  fig.canvas.print_figure(bytes_io, **kw)\n",
      "/Users/nabong/opt/anaconda3/lib/python3.9/site-packages/IPython/core/pylabtools.py:151: UserWarning: Glyph 49569 (\\N{HANGUL SYLLABLE SONG}) missing from current font.\n",
      "  fig.canvas.print_figure(bytes_io, **kw)\n",
      "/Users/nabong/opt/anaconda3/lib/python3.9/site-packages/IPython/core/pylabtools.py:151: UserWarning: Glyph 54028 (\\N{HANGUL SYLLABLE PA}) missing from current font.\n",
      "  fig.canvas.print_figure(bytes_io, **kw)\n",
      "/Users/nabong/opt/anaconda3/lib/python3.9/site-packages/IPython/core/pylabtools.py:151: UserWarning: Glyph 44396 (\\N{HANGUL SYLLABLE GU}) missing from current font.\n",
      "  fig.canvas.print_figure(bytes_io, **kw)\n",
      "/Users/nabong/opt/anaconda3/lib/python3.9/site-packages/IPython/core/pylabtools.py:151: UserWarning: Glyph 52397 (\\N{HANGUL SYLLABLE CEONG}) missing from current font.\n",
      "  fig.canvas.print_figure(bytes_io, **kw)\n",
      "/Users/nabong/opt/anaconda3/lib/python3.9/site-packages/IPython/core/pylabtools.py:151: UserWarning: Glyph 54861 (\\N{HANGUL SYLLABLE HONG}) missing from current font.\n",
      "  fig.canvas.print_figure(bytes_io, **kw)\n",
      "/Users/nabong/opt/anaconda3/lib/python3.9/site-packages/IPython/core/pylabtools.py:151: UserWarning: Glyph 45824 (\\N{HANGUL SYLLABLE DAE}) missing from current font.\n",
      "  fig.canvas.print_figure(bytes_io, **kw)\n",
      "/Users/nabong/opt/anaconda3/lib/python3.9/site-packages/IPython/core/pylabtools.py:151: UserWarning: Glyph 51077 (\\N{HANGUL SYLLABLE IB}) missing from current font.\n",
      "  fig.canvas.print_figure(bytes_io, **kw)\n",
      "/Users/nabong/opt/anaconda3/lib/python3.9/site-packages/IPython/core/pylabtools.py:151: UserWarning: Glyph 49888 (\\N{HANGUL SYLLABLE SIN}) missing from current font.\n",
      "  fig.canvas.print_figure(bytes_io, **kw)\n",
      "/Users/nabong/opt/anaconda3/lib/python3.9/site-packages/IPython/core/pylabtools.py:151: UserWarning: Glyph 47548 (\\N{HANGUL SYLLABLE RIM}) missing from current font.\n",
      "  fig.canvas.print_figure(bytes_io, **kw)\n",
      "/Users/nabong/opt/anaconda3/lib/python3.9/site-packages/IPython/core/pylabtools.py:151: UserWarning: Glyph 47196 (\\N{HANGUL SYLLABLE RO}) missing from current font.\n",
      "  fig.canvas.print_figure(bytes_io, **kw)\n",
      "/Users/nabong/opt/anaconda3/lib/python3.9/site-packages/IPython/core/pylabtools.py:151: UserWarning: Glyph 46356 (\\N{HANGUL SYLLABLE DI}) missing from current font.\n",
      "  fig.canvas.print_figure(bytes_io, **kw)\n",
      "/Users/nabong/opt/anaconda3/lib/python3.9/site-packages/IPython/core/pylabtools.py:151: UserWarning: Glyph 51648 (\\N{HANGUL SYLLABLE JI}) missing from current font.\n",
      "  fig.canvas.print_figure(bytes_io, **kw)\n",
      "/Users/nabong/opt/anaconda3/lib/python3.9/site-packages/IPython/core/pylabtools.py:151: UserWarning: Glyph 53560 (\\N{HANGUL SYLLABLE TEOL}) missing from current font.\n",
      "  fig.canvas.print_figure(bytes_io, **kw)\n",
      "/Users/nabong/opt/anaconda3/lib/python3.9/site-packages/IPython/core/pylabtools.py:151: UserWarning: Glyph 45800 (\\N{HANGUL SYLLABLE DAN}) missing from current font.\n",
      "  fig.canvas.print_figure(bytes_io, **kw)\n",
      "/Users/nabong/opt/anaconda3/lib/python3.9/site-packages/IPython/core/pylabtools.py:151: UserWarning: Glyph 49340 (\\N{HANGUL SYLLABLE SAM}) missing from current font.\n",
      "  fig.canvas.print_figure(bytes_io, **kw)\n",
      "/Users/nabong/opt/anaconda3/lib/python3.9/site-packages/IPython/core/pylabtools.py:151: UserWarning: Glyph 49457 (\\N{HANGUL SYLLABLE SEONG}) missing from current font.\n",
      "  fig.canvas.print_figure(bytes_io, **kw)\n",
      "/Users/nabong/opt/anaconda3/lib/python3.9/site-packages/IPython/core/pylabtools.py:151: UserWarning: Glyph 47924 (\\N{HANGUL SYLLABLE MU}) missing from current font.\n",
      "  fig.canvas.print_figure(bytes_io, **kw)\n",
      "/Users/nabong/opt/anaconda3/lib/python3.9/site-packages/IPython/core/pylabtools.py:151: UserWarning: Glyph 50669 (\\N{HANGUL SYLLABLE YEOG}) missing from current font.\n",
      "  fig.canvas.print_figure(bytes_io, **kw)\n",
      "/Users/nabong/opt/anaconda3/lib/python3.9/site-packages/IPython/core/pylabtools.py:151: UserWarning: Glyph 49468 (\\N{HANGUL SYLLABLE SEN}) missing from current font.\n",
      "  fig.canvas.print_figure(bytes_io, **kw)\n",
      "/Users/nabong/opt/anaconda3/lib/python3.9/site-packages/IPython/core/pylabtools.py:151: UserWarning: Glyph 53552 (\\N{HANGUL SYLLABLE TEO}) missing from current font.\n",
      "  fig.canvas.print_figure(bytes_io, **kw)\n",
      "/Users/nabong/opt/anaconda3/lib/python3.9/site-packages/IPython/core/pylabtools.py:151: UserWarning: Glyph 46020 (\\N{HANGUL SYLLABLE DO}) missing from current font.\n",
      "  fig.canvas.print_figure(bytes_io, **kw)\n",
      "/Users/nabong/opt/anaconda3/lib/python3.9/site-packages/IPython/core/pylabtools.py:151: UserWarning: Glyph 49440 (\\N{HANGUL SYLLABLE SEON}) missing from current font.\n",
      "  fig.canvas.print_figure(bytes_io, **kw)\n",
      "/Users/nabong/opt/anaconda3/lib/python3.9/site-packages/IPython/core/pylabtools.py:151: UserWarning: Glyph 47497 (\\N{HANGUL SYLLABLE REUNG}) missing from current font.\n",
      "  fig.canvas.print_figure(bytes_io, **kw)\n",
      "/Users/nabong/opt/anaconda3/lib/python3.9/site-packages/IPython/core/pylabtools.py:151: UserWarning: Glyph 44256 (\\N{HANGUL SYLLABLE GO}) missing from current font.\n",
      "  fig.canvas.print_figure(bytes_io, **kw)\n",
      "/Users/nabong/opt/anaconda3/lib/python3.9/site-packages/IPython/core/pylabtools.py:151: UserWarning: Glyph 49549 (\\N{HANGUL SYLLABLE SOG}) missing from current font.\n",
      "  fig.canvas.print_figure(bytes_io, **kw)\n",
      "/Users/nabong/opt/anaconda3/lib/python3.9/site-packages/IPython/core/pylabtools.py:151: UserWarning: Glyph 48120 (\\N{HANGUL SYLLABLE MI}) missing from current font.\n",
      "  fig.canvas.print_figure(bytes_io, **kw)\n",
      "/Users/nabong/opt/anaconda3/lib/python3.9/site-packages/IPython/core/pylabtools.py:151: UserWarning: Glyph 45328 (\\N{HANGUL SYLLABLE NEOL}) missing from current font.\n",
      "  fig.canvas.print_figure(bytes_io, **kw)\n",
      "/Users/nabong/opt/anaconda3/lib/python3.9/site-packages/IPython/core/pylabtools.py:151: UserWarning: Glyph 51221 (\\N{HANGUL SYLLABLE JEONG}) missing from current font.\n",
      "  fig.canvas.print_figure(bytes_io, **kw)\n",
      "/Users/nabong/opt/anaconda3/lib/python3.9/site-packages/IPython/core/pylabtools.py:151: UserWarning: Glyph 47448 (\\N{HANGUL SYLLABLE RYU}) missing from current font.\n",
      "  fig.canvas.print_figure(bytes_io, **kw)\n",
      "/Users/nabong/opt/anaconda3/lib/python3.9/site-packages/IPython/core/pylabtools.py:151: UserWarning: Glyph 49548 (\\N{HANGUL SYLLABLE SO}) missing from current font.\n",
      "  fig.canvas.print_figure(bytes_io, **kw)\n",
      "/Users/nabong/opt/anaconda3/lib/python3.9/site-packages/IPython/core/pylabtools.py:151: UserWarning: Glyph 47749 (\\N{HANGUL SYLLABLE MYEONG}) missing from current font.\n",
      "  fig.canvas.print_figure(bytes_io, **kw)\n"
     ]
    },
    {
     "data": {
      "image/png": "[encoded data removed]",
      "text/plain": [
       "<Figure size 640x480 with 1 Axes>"
      ]
     },
     "metadata": {},
     "output_type": "display_data"
    }
   ],
   "source": [
    "# 승차 인원 수가 많은 역 TOP10\n",
    "sns.set_style('white')\n",
    "sns.color_palette(\"rocket\", as_cmap=True)\n",
    "in_top10 = result.sort_values(by='월평균승차수', ascending=False).head(10)\n",
    "sns.barplot(x='월평균승차수', y='정류소명(역명)', data=in_top10)\n",
    "plt.show()\n",
    "\n",
    "# 하차 인원 수가 많은 역 TOP10\n",
    "out_top10 = result.sort_values(by='월평균하차수', ascending=False).head(10)\n",
    "sns.barplot(x='월평균하차수', y='정류소명(역명)', data=out_top10)\n",
    "plt.show()\n",
    "\n",
    "# 승하차 총계가 많은 역 TOP10\n",
    "total_top10 = result.sort_values(by='월평균승하차총계', ascending=False).head(10)\n",
    "sns.barplot(x='월평균승하차총계', y='정류소명(역명)', data=total_top10)\n",
    "plt.show()"
   ]
  }
 ],
 "metadata": {
  "colab": {
   "authorship_tag": "ABX9TyP2qWRoW8aMV6XI2yxoxu8v",
   "provenance": []
  },
  "kernelspec": {
   "display_name": "Python 3 (ipykernel)",
   "language": "python",
   "name": "python3"
  },
  "language_info": {
   "codemirror_mode": {
    "name": "ipython",
    "version": 3
   },
   "file_extension": ".py",
   "mimetype": "text/x-python",
   "name": "python",
   "nbconvert_exporter": "python",
   "pygments_lexer": "ipython3",
   "version": "3.9.13"
  }
 },
 "nbformat": 4,
 "nbformat_minor": 1
}
