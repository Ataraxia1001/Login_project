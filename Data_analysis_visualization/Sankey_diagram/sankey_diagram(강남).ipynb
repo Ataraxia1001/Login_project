{
 "cells": [
  {
   "cell_type": "code",
   "execution_count": 102,
   "id": "06bc9ad9",
   "metadata": {},
   "outputs": [],
   "source": [
    "import glob\n",
    "\n",
    "import numpy as np\n",
    "import pandas as pd\n",
    "import seaborn as sns\n",
    "import matplotlib as mpl\n",
    "import matplotlib.pyplot as plt\n",
    "from matplotlib import font_manager, rc\n",
    "\n",
    "import json\n",
    "import folium"
   ]
  },
  {
   "cell_type": "code",
   "execution_count": 103,
   "id": "afc8035c",
   "metadata": {},
   "outputs": [],
   "source": [
    "import plotly.graph_objects as go\n",
    "# !pip install --upgrade plotly\n",
    "# !pip show plotly"
   ]
  },
  {
   "cell_type": "code",
   "execution_count": 104,
   "id": "b2982110",
   "metadata": {},
   "outputs": [],
   "source": [
    "# fig = go.Figure(data=[go.Sankey(\n",
    "#     node = dict(\n",
    "#       pad = 15,\n",
    "#       thickness = 20,\n",
    "#       line = dict(color = \"black\", width = 0.5),\n",
    "#       label = [\"A1\", \"A2\", \"B1\",\"B2\", \"C1\", \"C2\"],\n",
    "#       color = \"blue\"\n",
    "#     ),\n",
    "#     link = dict(\n",
    "#       source = [0, 1, 0, 2, 3, 3], # indices correspond to labels, eg A1, A2, A1, B1, ...\n",
    "#       target = [2, 3, 3, 4, 4, 5],\n",
    "#       value = [8, 4, 2, 8, 4, 2]\n",
    "#   ))])\n",
    "\n",
    "# fig.update_layout(title_text=\"Basic Sankey Diagram\", font_size=10)\n",
    "# fig.show()"
   ]
  },
  {
   "cell_type": "code",
   "execution_count": 105,
   "id": "c2986489",
   "metadata": {},
   "outputs": [],
   "source": [
    "# fig = go.Figure(go.Sankey(\n",
    "#     arrangement = \"snap\",\n",
    "#     node = {\n",
    "#         \"label\": [\"A\", \"B\", \"C\", \"D\", \"E\", \"F\"],\n",
    "# #         \"x\": [0.2, 0.1, 0.5, 0.7, 0.3, 0.5],\n",
    "# #         \"y\": [0.7, 0.5, 0.2, 0.4, 0.2, 0.3],\n",
    "#         'pad':10},  # 10 Pixels\n",
    "#     link = {\n",
    "#         \"source\": [0, 0, 1, 2, 5, 4, 3, 5],\n",
    "#         \"target\": [5, 3, 4, 3, 0, 2, 2, 3],\n",
    "#         \"value\": [1, 2, 1, 1, 1, 1, 1, 2]}))\n",
    "# fig.show()"
   ]
  },
  {
   "cell_type": "code",
   "execution_count": 106,
   "id": "cad46f19",
   "metadata": {},
   "outputs": [],
   "source": [
    "mpl.rcParams['axes.unicode_minus'] = False\n",
    "plt.rc('font', family='Malgun Gothic')"
   ]
  },
  {
   "cell_type": "code",
   "execution_count": 107,
   "id": "23faab60",
   "metadata": {},
   "outputs": [
    {
     "data": {
      "text/html": [
       "<div>\n",
       "<style scoped>\n",
       "    .dataframe tbody tr th:only-of-type {\n",
       "        vertical-align: middle;\n",
       "    }\n",
       "\n",
       "    .dataframe tbody tr th {\n",
       "        vertical-align: top;\n",
       "    }\n",
       "\n",
       "    .dataframe thead th {\n",
       "        text-align: right;\n",
       "    }\n",
       "</style>\n",
       "<table border=\"1\" class=\"dataframe\">\n",
       "  <thead>\n",
       "    <tr style=\"text-align: right;\">\n",
       "      <th></th>\n",
       "      <th>유입지역명</th>\n",
       "      <th>유출지역명</th>\n",
       "      <th>유입유출 비율</th>\n",
       "      <th>유입/유출 구분 코드 (1:유입 / 2:유출)</th>\n",
       "    </tr>\n",
       "  </thead>\n",
       "  <tbody>\n",
       "    <tr>\n",
       "      <th>0</th>\n",
       "      <td>서울특별시 서초구</td>\n",
       "      <td>서울특별시 강남구</td>\n",
       "      <td>22.6</td>\n",
       "      <td>1</td>\n",
       "    </tr>\n",
       "    <tr>\n",
       "      <th>1</th>\n",
       "      <td>서울특별시 송파구</td>\n",
       "      <td>서울특별시 강남구</td>\n",
       "      <td>10.3</td>\n",
       "      <td>1</td>\n",
       "    </tr>\n",
       "    <tr>\n",
       "      <th>2</th>\n",
       "      <td>서울특별시 성동구</td>\n",
       "      <td>서울특별시 강남구</td>\n",
       "      <td>5.5</td>\n",
       "      <td>1</td>\n",
       "    </tr>\n",
       "    <tr>\n",
       "      <th>3</th>\n",
       "      <td>서울특별시 용산구</td>\n",
       "      <td>서울특별시 강남구</td>\n",
       "      <td>4.4</td>\n",
       "      <td>1</td>\n",
       "    </tr>\n",
       "    <tr>\n",
       "      <th>4</th>\n",
       "      <td>경기도 성남시 분당구</td>\n",
       "      <td>서울특별시 강남구</td>\n",
       "      <td>3.7</td>\n",
       "      <td>1</td>\n",
       "    </tr>\n",
       "    <tr>\n",
       "      <th>5</th>\n",
       "      <td>서울특별시 중구</td>\n",
       "      <td>서울특별시 강남구</td>\n",
       "      <td>3.3</td>\n",
       "      <td>1</td>\n",
       "    </tr>\n",
       "    <tr>\n",
       "      <th>6</th>\n",
       "      <td>서울특별시 광진구</td>\n",
       "      <td>서울특별시 강남구</td>\n",
       "      <td>3.0</td>\n",
       "      <td>1</td>\n",
       "    </tr>\n",
       "    <tr>\n",
       "      <th>7</th>\n",
       "      <td>서울특별시 영등포구</td>\n",
       "      <td>서울특별시 강남구</td>\n",
       "      <td>2.8</td>\n",
       "      <td>1</td>\n",
       "    </tr>\n",
       "    <tr>\n",
       "      <th>8</th>\n",
       "      <td>서울특별시 강동구</td>\n",
       "      <td>서울특별시 강남구</td>\n",
       "      <td>2.3</td>\n",
       "      <td>1</td>\n",
       "    </tr>\n",
       "    <tr>\n",
       "      <th>9</th>\n",
       "      <td>서울특별시 마포구</td>\n",
       "      <td>서울특별시 강남구</td>\n",
       "      <td>2.0</td>\n",
       "      <td>1</td>\n",
       "    </tr>\n",
       "    <tr>\n",
       "      <th>10</th>\n",
       "      <td>서울특별시 동작구</td>\n",
       "      <td>서울특별시 강남구</td>\n",
       "      <td>1.9</td>\n",
       "      <td>1</td>\n",
       "    </tr>\n",
       "    <tr>\n",
       "      <th>11</th>\n",
       "      <td>경기도 남양주시</td>\n",
       "      <td>서울특별시 강남구</td>\n",
       "      <td>1.9</td>\n",
       "      <td>1</td>\n",
       "    </tr>\n",
       "    <tr>\n",
       "      <th>12</th>\n",
       "      <td>경기도 하남시</td>\n",
       "      <td>서울특별시 강남구</td>\n",
       "      <td>1.8</td>\n",
       "      <td>1</td>\n",
       "    </tr>\n",
       "    <tr>\n",
       "      <th>13</th>\n",
       "      <td>서울특별시 종로구</td>\n",
       "      <td>서울특별시 강남구</td>\n",
       "      <td>1.7</td>\n",
       "      <td>1</td>\n",
       "    </tr>\n",
       "    <tr>\n",
       "      <th>14</th>\n",
       "      <td>경기도 성남시 수정구</td>\n",
       "      <td>서울특별시 강남구</td>\n",
       "      <td>1.6</td>\n",
       "      <td>1</td>\n",
       "    </tr>\n",
       "    <tr>\n",
       "      <th>15</th>\n",
       "      <td>서울특별시 관악구</td>\n",
       "      <td>서울특별시 강남구</td>\n",
       "      <td>1.4</td>\n",
       "      <td>1</td>\n",
       "    </tr>\n",
       "    <tr>\n",
       "      <th>16</th>\n",
       "      <td>서울특별시 동대문구</td>\n",
       "      <td>서울특별시 강남구</td>\n",
       "      <td>1.4</td>\n",
       "      <td>1</td>\n",
       "    </tr>\n",
       "    <tr>\n",
       "      <th>17</th>\n",
       "      <td>서울특별시 강서구</td>\n",
       "      <td>서울특별시 강남구</td>\n",
       "      <td>1.3</td>\n",
       "      <td>1</td>\n",
       "    </tr>\n",
       "    <tr>\n",
       "      <th>18</th>\n",
       "      <td>서울특별시 성북구</td>\n",
       "      <td>서울특별시 강남구</td>\n",
       "      <td>1.2</td>\n",
       "      <td>1</td>\n",
       "    </tr>\n",
       "    <tr>\n",
       "      <th>19</th>\n",
       "      <td>경기도 용인시 수지구</td>\n",
       "      <td>서울특별시 강남구</td>\n",
       "      <td>1.2</td>\n",
       "      <td>1</td>\n",
       "    </tr>\n",
       "    <tr>\n",
       "      <th>20</th>\n",
       "      <td>서울특별시 강남구</td>\n",
       "      <td>서울특별시 서초구</td>\n",
       "      <td>19.4</td>\n",
       "      <td>2</td>\n",
       "    </tr>\n",
       "    <tr>\n",
       "      <th>21</th>\n",
       "      <td>서울특별시 강남구</td>\n",
       "      <td>서울특별시 송파구</td>\n",
       "      <td>15.2</td>\n",
       "      <td>2</td>\n",
       "    </tr>\n",
       "    <tr>\n",
       "      <th>22</th>\n",
       "      <td>서울특별시 강남구</td>\n",
       "      <td>서울특별시 중구</td>\n",
       "      <td>5.3</td>\n",
       "      <td>2</td>\n",
       "    </tr>\n",
       "    <tr>\n",
       "      <th>23</th>\n",
       "      <td>서울특별시 강남구</td>\n",
       "      <td>서울특별시 용산구</td>\n",
       "      <td>4.9</td>\n",
       "      <td>2</td>\n",
       "    </tr>\n",
       "    <tr>\n",
       "      <th>24</th>\n",
       "      <td>서울특별시 강남구</td>\n",
       "      <td>경기도 성남시 분당구</td>\n",
       "      <td>3.8</td>\n",
       "      <td>2</td>\n",
       "    </tr>\n",
       "    <tr>\n",
       "      <th>25</th>\n",
       "      <td>서울특별시 강남구</td>\n",
       "      <td>경기도 하남시</td>\n",
       "      <td>3.2</td>\n",
       "      <td>2</td>\n",
       "    </tr>\n",
       "    <tr>\n",
       "      <th>26</th>\n",
       "      <td>서울특별시 강남구</td>\n",
       "      <td>서울특별시 광진구</td>\n",
       "      <td>3.0</td>\n",
       "      <td>2</td>\n",
       "    </tr>\n",
       "    <tr>\n",
       "      <th>27</th>\n",
       "      <td>서울특별시 강남구</td>\n",
       "      <td>서울특별시 성동구</td>\n",
       "      <td>2.8</td>\n",
       "      <td>2</td>\n",
       "    </tr>\n",
       "    <tr>\n",
       "      <th>28</th>\n",
       "      <td>서울특별시 강남구</td>\n",
       "      <td>경기도 남양주시</td>\n",
       "      <td>2.5</td>\n",
       "      <td>2</td>\n",
       "    </tr>\n",
       "    <tr>\n",
       "      <th>29</th>\n",
       "      <td>서울특별시 강남구</td>\n",
       "      <td>서울특별시 영등포구</td>\n",
       "      <td>2.5</td>\n",
       "      <td>2</td>\n",
       "    </tr>\n",
       "    <tr>\n",
       "      <th>30</th>\n",
       "      <td>서울특별시 강남구</td>\n",
       "      <td>경기도 성남시 수정구</td>\n",
       "      <td>2.4</td>\n",
       "      <td>2</td>\n",
       "    </tr>\n",
       "    <tr>\n",
       "      <th>31</th>\n",
       "      <td>서울특별시 강남구</td>\n",
       "      <td>서울특별시 종로구</td>\n",
       "      <td>2.3</td>\n",
       "      <td>2</td>\n",
       "    </tr>\n",
       "    <tr>\n",
       "      <th>32</th>\n",
       "      <td>서울특별시 강남구</td>\n",
       "      <td>서울특별시 마포구</td>\n",
       "      <td>1.8</td>\n",
       "      <td>2</td>\n",
       "    </tr>\n",
       "    <tr>\n",
       "      <th>33</th>\n",
       "      <td>서울특별시 강남구</td>\n",
       "      <td>서울특별시 강동구</td>\n",
       "      <td>1.7</td>\n",
       "      <td>2</td>\n",
       "    </tr>\n",
       "    <tr>\n",
       "      <th>34</th>\n",
       "      <td>서울특별시 강남구</td>\n",
       "      <td>경기도 광주시</td>\n",
       "      <td>1.4</td>\n",
       "      <td>2</td>\n",
       "    </tr>\n",
       "    <tr>\n",
       "      <th>35</th>\n",
       "      <td>서울특별시 강남구</td>\n",
       "      <td>경기도 용인시 기흥구</td>\n",
       "      <td>1.2</td>\n",
       "      <td>2</td>\n",
       "    </tr>\n",
       "    <tr>\n",
       "      <th>36</th>\n",
       "      <td>서울특별시 강남구</td>\n",
       "      <td>서울특별시 동대문구</td>\n",
       "      <td>1.0</td>\n",
       "      <td>2</td>\n",
       "    </tr>\n",
       "    <tr>\n",
       "      <th>37</th>\n",
       "      <td>서울특별시 강남구</td>\n",
       "      <td>경기도 용인시 처인구</td>\n",
       "      <td>0.9</td>\n",
       "      <td>2</td>\n",
       "    </tr>\n",
       "    <tr>\n",
       "      <th>38</th>\n",
       "      <td>서울특별시 강남구</td>\n",
       "      <td>서울특별시 강서구</td>\n",
       "      <td>0.9</td>\n",
       "      <td>2</td>\n",
       "    </tr>\n",
       "    <tr>\n",
       "      <th>39</th>\n",
       "      <td>서울특별시 강남구</td>\n",
       "      <td>경기도 여주시</td>\n",
       "      <td>0.9</td>\n",
       "      <td>2</td>\n",
       "    </tr>\n",
       "  </tbody>\n",
       "</table>\n",
       "</div>"
      ],
      "text/plain": [
       "           유입지역명        유출지역명  유입유출 비율  유입/유출 구분 코드 (1:유입 / 2:유출)\n",
       "0     서울특별시 서초구     서울특별시 강남구     22.6                          1\n",
       "1     서울특별시 송파구     서울특별시 강남구     10.3                          1\n",
       "2     서울특별시 성동구     서울특별시 강남구      5.5                          1\n",
       "3     서울특별시 용산구     서울특별시 강남구      4.4                          1\n",
       "4   경기도 성남시 분당구     서울특별시 강남구      3.7                          1\n",
       "5      서울특별시 중구     서울특별시 강남구      3.3                          1\n",
       "6     서울특별시 광진구     서울특별시 강남구      3.0                          1\n",
       "7    서울특별시 영등포구     서울특별시 강남구      2.8                          1\n",
       "8     서울특별시 강동구     서울특별시 강남구      2.3                          1\n",
       "9     서울특별시 마포구     서울특별시 강남구      2.0                          1\n",
       "10    서울특별시 동작구     서울특별시 강남구      1.9                          1\n",
       "11     경기도 남양주시     서울특별시 강남구      1.9                          1\n",
       "12      경기도 하남시     서울특별시 강남구      1.8                          1\n",
       "13    서울특별시 종로구     서울특별시 강남구      1.7                          1\n",
       "14  경기도 성남시 수정구     서울특별시 강남구      1.6                          1\n",
       "15    서울특별시 관악구     서울특별시 강남구      1.4                          1\n",
       "16   서울특별시 동대문구     서울특별시 강남구      1.4                          1\n",
       "17    서울특별시 강서구     서울특별시 강남구      1.3                          1\n",
       "18    서울특별시 성북구     서울특별시 강남구      1.2                          1\n",
       "19  경기도 용인시 수지구     서울특별시 강남구      1.2                          1\n",
       "20     서울특별시 강남구    서울특별시 서초구     19.4                          2\n",
       "21     서울특별시 강남구    서울특별시 송파구     15.2                          2\n",
       "22     서울특별시 강남구     서울특별시 중구      5.3                          2\n",
       "23     서울특별시 강남구    서울특별시 용산구      4.9                          2\n",
       "24     서울특별시 강남구  경기도 성남시 분당구      3.8                          2\n",
       "25     서울특별시 강남구      경기도 하남시      3.2                          2\n",
       "26     서울특별시 강남구    서울특별시 광진구      3.0                          2\n",
       "27     서울특별시 강남구    서울특별시 성동구      2.8                          2\n",
       "28     서울특별시 강남구     경기도 남양주시      2.5                          2\n",
       "29     서울특별시 강남구   서울특별시 영등포구      2.5                          2\n",
       "30     서울특별시 강남구  경기도 성남시 수정구      2.4                          2\n",
       "31     서울특별시 강남구    서울특별시 종로구      2.3                          2\n",
       "32     서울특별시 강남구    서울특별시 마포구      1.8                          2\n",
       "33     서울특별시 강남구    서울특별시 강동구      1.7                          2\n",
       "34     서울특별시 강남구      경기도 광주시      1.4                          2\n",
       "35     서울특별시 강남구  경기도 용인시 기흥구      1.2                          2\n",
       "36     서울특별시 강남구   서울특별시 동대문구      1.0                          2\n",
       "37     서울특별시 강남구  경기도 용인시 처인구      0.9                          2\n",
       "38     서울특별시 강남구    서울특별시 강서구      0.9                          2\n",
       "39     서울특별시 강남구      경기도 여주시      0.9                          2"
      ]
     },
     "execution_count": 107,
     "metadata": {},
     "output_type": "execute_result"
    }
   ],
   "source": [
    "df_gangnam = pd.read_csv('서울유입유출/2018-2022 강남_유입 유출.csv', encoding='cp949')\n",
    "df_gangnam"
   ]
  },
  {
   "cell_type": "code",
   "execution_count": 108,
   "id": "2162ee96",
   "metadata": {},
   "outputs": [
    {
     "name": "stdout",
     "output_type": "stream",
     "text": [
      "['서울특별시 서초구 ', '서울특별시 송파구 ', '서울특별시 성동구 ', '서울특별시 용산구 ', '경기도 성남시 분당구 ', '서울특별시 중구 ', '서울특별시 광진구 ', '서울특별시 영등포구 ', '서울특별시 강동구 ', '서울특별시 마포구 '] 10\n",
      "['서울특별시 서초구', '서울특별시 송파구', '서울특별시 중구', '서울특별시 용산구', '경기도 성남시 분당구', '경기도 하남시', '서울특별시 광진구', '서울특별시 성동구', '경기도 남양주시', '서울특별시 영등포구'] 10\n"
     ]
    }
   ],
   "source": [
    "region_start = df_gangnam['유입지역명'].tolist()[0:10]\n",
    "region_end = df_gangnam['유출지역명'].tolist()[20:30]\n",
    "# regions.append(regions)\n",
    "# regions\n",
    "\n",
    "print(region_start, len(region_start))\n",
    "print(region_end, len(region_end))"
   ]
  },
  {
   "cell_type": "code",
   "execution_count": 109,
   "id": "ce5084ba",
   "metadata": {},
   "outputs": [
    {
     "data": {
      "text/plain": [
       "['서울특별시 서초구 ',\n",
       " '서울특별시 송파구 ',\n",
       " '서울특별시 성동구 ',\n",
       " '서울특별시 용산구 ',\n",
       " '경기도 성남시 분당구 ',\n",
       " '서울특별시 중구 ',\n",
       " '서울특별시 광진구 ',\n",
       " '서울특별시 영등포구 ',\n",
       " '서울특별시 강동구 ',\n",
       " '서울특별시 마포구 ',\n",
       " '서울특별시 서초구',\n",
       " '서울특별시 송파구',\n",
       " '서울특별시 중구',\n",
       " '서울특별시 용산구',\n",
       " '경기도 성남시 분당구',\n",
       " '경기도 하남시',\n",
       " '서울특별시 광진구',\n",
       " '서울특별시 성동구',\n",
       " '경기도 남양주시',\n",
       " '서울특별시 영등포구']"
      ]
     },
     "execution_count": 109,
     "metadata": {},
     "output_type": "execute_result"
    }
   ],
   "source": [
    "for lis in region_end:\n",
    "  region_start.append(lis)\n",
    "region_start"
   ]
  },
  {
   "cell_type": "code",
   "execution_count": 110,
   "id": "c53b43be",
   "metadata": {},
   "outputs": [],
   "source": [
    "# for lis in region_start:\n",
    "#   region_start.append(lis)\n",
    "# region_start"
   ]
  },
  {
   "cell_type": "code",
   "execution_count": null,
   "id": "e8d02721",
   "metadata": {},
   "outputs": [],
   "source": []
  },
  {
   "cell_type": "code",
   "execution_count": 111,
   "id": "7a7d5c13",
   "metadata": {},
   "outputs": [
    {
     "data": {
      "text/plain": [
       "['서울특별시 서초구 ',\n",
       " '서울특별시 송파구 ',\n",
       " '서울특별시 성동구 ',\n",
       " '서울특별시 용산구 ',\n",
       " '경기도 성남시 분당구 ',\n",
       " '서울특별시 중구 ',\n",
       " '서울특별시 광진구 ',\n",
       " '서울특별시 영등포구 ',\n",
       " '서울특별시 강동구 ',\n",
       " '서울특별시 마포구 ',\n",
       " '서울특별시 서초구',\n",
       " '서울특별시 송파구',\n",
       " '서울특별시 중구',\n",
       " '서울특별시 용산구',\n",
       " '경기도 성남시 분당구',\n",
       " '경기도 하남시',\n",
       " '서울특별시 광진구',\n",
       " '서울특별시 성동구',\n",
       " '경기도 남양주시',\n",
       " '서울특별시 영등포구',\n",
       " '서울특별시 강남구']"
      ]
     },
     "execution_count": 111,
     "metadata": {},
     "output_type": "execute_result"
    }
   ],
   "source": [
    "region_start.append('서울특별시 강남구')\n",
    "region_start"
   ]
  },
  {
   "cell_type": "code",
   "execution_count": 112,
   "id": "c1252397",
   "metadata": {},
   "outputs": [
    {
     "name": "stdout",
     "output_type": "stream",
     "text": [
      "['서울특별시 서초구 (유입)', '서울특별시 송파구 (유입)', '서울특별시 성동구 (유입)', '서울특별시 용산구 (유입)', '경기도 성남시 분당구 (유입)', '서울특별시 중구 (유입)', '서울특별시 광진구 (유입)', '서울특별시 영등포구 (유입)', '서울특별시 강동구 (유입)', '서울특별시 마포구 (유입)', '서울특별시 서초구', '서울특별시 송파구', '서울특별시 중구', '서울특별시 용산구', '경기도 성남시 분당구', '경기도 하남시', '서울특별시 광진구', '서울특별시 성동구', '경기도 남양주시', '서울특별시 영등포구', '서울특별시 강남구']\n"
     ]
    }
   ],
   "source": [
    "string_to_add_1 = \"(유입)\"\n",
    "\n",
    "for i in range(int(int(len(region_start)/2))):\n",
    "    region_start[i] += string_to_add_1\n",
    "\n",
    "print(region_start)"
   ]
  },
  {
   "cell_type": "code",
   "execution_count": 113,
   "id": "a79a0767",
   "metadata": {},
   "outputs": [
    {
     "name": "stdout",
     "output_type": "stream",
     "text": [
      "['서울특별시 서초구 (유입)', '서울특별시 송파구 (유입)', '서울특별시 성동구 (유입)', '서울특별시 용산구 (유입)', '경기도 성남시 분당구 (유입)', '서울특별시 중구 (유입)', '서울특별시 광진구 (유입)', '서울특별시 영등포구 (유입)', '서울특별시 강동구 (유입)', '서울특별시 마포구 (유입)', '서울특별시 서초구 (유출)', '서울특별시 송파구 (유출)', '서울특별시 중구 (유출)', '서울특별시 용산구 (유출)', '경기도 성남시 분당구 (유출)', '경기도 하남시 (유출)', '서울특별시 광진구 (유출)', '서울특별시 성동구 (유출)', '경기도 남양주시 (유출)', '서울특별시 영등포구 (유출)', '서울특별시 강남구']\n"
     ]
    }
   ],
   "source": [
    "string_to_add = \" (유출)\"\n",
    "\n",
    "for i in range(int(len(region_start) - int(len(region_start)/2)) - 1):\n",
    "    region_start[i+int(len(region_start)/2)] += string_to_add\n",
    "\n",
    "print(region_start)"
   ]
  },
  {
   "cell_type": "code",
   "execution_count": 114,
   "id": "82bc0660",
   "metadata": {},
   "outputs": [
    {
     "data": {
      "text/plain": [
       "21"
      ]
     },
     "execution_count": 114,
     "metadata": {},
     "output_type": "execute_result"
    }
   ],
   "source": [
    "len(region_start)"
   ]
  },
  {
   "cell_type": "code",
   "execution_count": 115,
   "id": "104dcd9b",
   "metadata": {},
   "outputs": [
    {
     "data": {
      "text/plain": [
       "'서울특별시 영등포구 (유출)'"
      ]
     },
     "execution_count": 115,
     "metadata": {},
     "output_type": "execute_result"
    }
   ],
   "source": [
    "region_start[19]"
   ]
  },
  {
   "cell_type": "code",
   "execution_count": 116,
   "id": "40cdd016",
   "metadata": {},
   "outputs": [
    {
     "data": {
      "text/plain": [
       "[0, 1, 2, 3, 4, 5, 6, 7, 8, 9, 10, 11, 12, 13, 14, 15, 16, 17, 18, 19, 20]"
      ]
     },
     "execution_count": 116,
     "metadata": {},
     "output_type": "execute_result"
    }
   ],
   "source": [
    "num_regions = list(range(len(region_start)))\n",
    "num_regions"
   ]
  },
  {
   "cell_type": "code",
   "execution_count": 117,
   "id": "766fb58c",
   "metadata": {},
   "outputs": [
    {
     "data": {
      "text/plain": [
       "10"
      ]
     },
     "execution_count": 117,
     "metadata": {},
     "output_type": "execute_result"
    }
   ],
   "source": [
    "values = df_gangnam['유입유출 비율'][0:10].tolist()\n",
    "values_end = df_gangnam['유입유출 비율'][20:30].tolist()\n",
    "len(values)"
   ]
  },
  {
   "cell_type": "code",
   "execution_count": 118,
   "id": "c09da774",
   "metadata": {},
   "outputs": [
    {
     "data": {
      "text/plain": [
       "[22.6, 10.3, 5.5, 4.4, 3.7, 3.3, 3.0, 2.8, 2.3, 2.0]"
      ]
     },
     "execution_count": 118,
     "metadata": {},
     "output_type": "execute_result"
    }
   ],
   "source": [
    "values"
   ]
  },
  {
   "cell_type": "code",
   "execution_count": 119,
   "id": "24327f47",
   "metadata": {},
   "outputs": [
    {
     "data": {
      "text/plain": [
       "[19.4, 15.2, 5.3, 4.9, 3.8, 3.2, 3.0, 2.8, 2.5, 2.5]"
      ]
     },
     "execution_count": 119,
     "metadata": {},
     "output_type": "execute_result"
    }
   ],
   "source": [
    "values_end"
   ]
  },
  {
   "cell_type": "code",
   "execution_count": 120,
   "id": "a294f402",
   "metadata": {},
   "outputs": [
    {
     "data": {
      "text/plain": [
       "10"
      ]
     },
     "execution_count": 120,
     "metadata": {},
     "output_type": "execute_result"
    }
   ],
   "source": [
    "len(values_end)"
   ]
  },
  {
   "cell_type": "code",
   "execution_count": 121,
   "id": "6ab57da6",
   "metadata": {},
   "outputs": [
    {
     "name": "stdout",
     "output_type": "stream",
     "text": [
      "[22.6, 10.3, 5.5, 4.4, 3.7, 3.3, 3.0, 2.8, 2.3, 2.0, 19.4, 15.2, 5.3, 4.9, 3.8, 3.2, 3.0, 2.8, 2.5, 2.5]\n"
     ]
    }
   ],
   "source": [
    "for i in values_end:\n",
    "    values.append(i)\n",
    "print(values)"
   ]
  },
  {
   "cell_type": "code",
   "execution_count": 122,
   "id": "39a780b4",
   "metadata": {},
   "outputs": [
    {
     "data": {
      "text/plain": [
       "20"
      ]
     },
     "execution_count": 122,
     "metadata": {},
     "output_type": "execute_result"
    }
   ],
   "source": [
    "len(values)"
   ]
  },
  {
   "cell_type": "code",
   "execution_count": 123,
   "id": "719efd6a",
   "metadata": {},
   "outputs": [
    {
     "data": {
      "text/plain": [
       "['서울특별시 서초구 (유입)',\n",
       " '서울특별시 송파구 (유입)',\n",
       " '서울특별시 성동구 (유입)',\n",
       " '서울특별시 용산구 (유입)',\n",
       " '경기도 성남시 분당구 (유입)',\n",
       " '서울특별시 중구 (유입)',\n",
       " '서울특별시 광진구 (유입)',\n",
       " '서울특별시 영등포구 (유입)',\n",
       " '서울특별시 강동구 (유입)',\n",
       " '서울특별시 마포구 (유입)',\n",
       " '서울특별시 서초구 (유출)',\n",
       " '서울특별시 송파구 (유출)',\n",
       " '서울특별시 중구 (유출)',\n",
       " '서울특별시 용산구 (유출)',\n",
       " '경기도 성남시 분당구 (유출)',\n",
       " '경기도 하남시 (유출)',\n",
       " '서울특별시 광진구 (유출)',\n",
       " '서울특별시 성동구 (유출)',\n",
       " '경기도 남양주시 (유출)',\n",
       " '서울특별시 영등포구 (유출)',\n",
       " '서울특별시 강남구']"
      ]
     },
     "execution_count": 123,
     "metadata": {},
     "output_type": "execute_result"
    }
   ],
   "source": [
    "region_start"
   ]
  },
  {
   "cell_type": "code",
   "execution_count": 124,
   "id": "e8b2ae2e",
   "metadata": {},
   "outputs": [
    {
     "data": {
      "text/plain": [
       "'서울특별시 강남구'"
      ]
     },
     "execution_count": 124,
     "metadata": {},
     "output_type": "execute_result"
    }
   ],
   "source": [
    "region_start[20]"
   ]
  },
  {
   "cell_type": "code",
   "execution_count": 125,
   "id": "0fb27fbc",
   "metadata": {},
   "outputs": [
    {
     "data": {
      "text/plain": [
       "19.4"
      ]
     },
     "execution_count": 125,
     "metadata": {},
     "output_type": "execute_result"
    }
   ],
   "source": [
    "values[10]"
   ]
  },
  {
   "cell_type": "code",
   "execution_count": 126,
   "id": "75ef5f47",
   "metadata": {},
   "outputs": [
    {
     "data": {
      "application/vnd.plotly.v1+json": {
       "config": {
        "plotlyServerURL": "https://plot.ly"
       },
       "data": [
        {
         "arrangement": "snap",
         "link": {
          "source": [
           0,
           1,
           2,
           3,
           4,
           5,
           6,
           7,
           8,
           9,
           20,
           20,
           20,
           20,
           20,
           20,
           20,
           20,
           20,
           20
          ],
          "target": [
           20,
           20,
           20,
           20,
           20,
           20,
           20,
           20,
           20,
           20,
           10,
           11,
           12,
           13,
           14,
           15,
           16,
           17,
           18,
           19
          ],
          "value": [
           22.6,
           10.3,
           5.5,
           4.4,
           3.7,
           3.3,
           3,
           2.8,
           2.3,
           2,
           19.4,
           15.2,
           5.3,
           4.9,
           3.8,
           3.2,
           3,
           2.8,
           2.5,
           2.5
          ]
         },
         "node": {
          "label": [
           "서울특별시 서초구 (유입)",
           "서울특별시 송파구 (유입)",
           "서울특별시 성동구 (유입)",
           "서울특별시 용산구 (유입)",
           "경기도 성남시 분당구 (유입)",
           "서울특별시 중구 (유입)",
           "서울특별시 광진구 (유입)",
           "서울특별시 영등포구 (유입)",
           "서울특별시 강동구 (유입)",
           "서울특별시 마포구 (유입)",
           "서울특별시 서초구 (유출)",
           "서울특별시 송파구 (유출)",
           "서울특별시 중구 (유출)",
           "서울특별시 용산구 (유출)",
           "경기도 성남시 분당구 (유출)",
           "경기도 하남시 (유출)",
           "서울특별시 광진구 (유출)",
           "서울특별시 성동구 (유출)",
           "경기도 남양주시 (유출)",
           "서울특별시 영등포구 (유출)",
           "서울특별시 강남구"
          ],
          "pad": 10
         },
         "type": "sankey"
        }
       ],
       "layout": {
        "template": {
         "data": {
          "bar": [
           {
            "error_x": {
             "color": "#2a3f5f"
            },
            "error_y": {
             "color": "#2a3f5f"
            },
            "marker": {
             "line": {
              "color": "#E5ECF6",
              "width": 0.5
             },
             "pattern": {
              "fillmode": "overlay",
              "size": 10,
              "solidity": 0.2
             }
            },
            "type": "bar"
           }
          ],
          "barpolar": [
           {
            "marker": {
             "line": {
              "color": "#E5ECF6",
              "width": 0.5
             },
             "pattern": {
              "fillmode": "overlay",
              "size": 10,
              "solidity": 0.2
             }
            },
            "type": "barpolar"
           }
          ],
          "carpet": [
           {
            "aaxis": {
             "endlinecolor": "#2a3f5f",
             "gridcolor": "white",
             "linecolor": "white",
             "minorgridcolor": "white",
             "startlinecolor": "#2a3f5f"
            },
            "baxis": {
             "endlinecolor": "#2a3f5f",
             "gridcolor": "white",
             "linecolor": "white",
             "minorgridcolor": "white",
             "startlinecolor": "#2a3f5f"
            },
            "type": "carpet"
           }
          ],
          "choropleth": [
           {
            "colorbar": {
             "outlinewidth": 0,
             "ticks": ""
            },
            "type": "choropleth"
           }
          ],
          "contour": [
           {
            "colorbar": {
             "outlinewidth": 0,
             "ticks": ""
            },
            "colorscale": [
             [
              0,
              "#0d0887"
             ],
             [
              0.1111111111111111,
              "#46039f"
             ],
             [
              0.2222222222222222,
              "#7201a8"
             ],
             [
              0.3333333333333333,
              "#9c179e"
             ],
             [
              0.4444444444444444,
              "#bd3786"
             ],
             [
              0.5555555555555556,
              "#d8576b"
             ],
             [
              0.6666666666666666,
              "#ed7953"
             ],
             [
              0.7777777777777778,
              "#fb9f3a"
             ],
             [
              0.8888888888888888,
              "#fdca26"
             ],
             [
              1,
              "#f0f921"
             ]
            ],
            "type": "contour"
           }
          ],
          "contourcarpet": [
           {
            "colorbar": {
             "outlinewidth": 0,
             "ticks": ""
            },
            "type": "contourcarpet"
           }
          ],
          "heatmap": [
           {
            "colorbar": {
             "outlinewidth": 0,
             "ticks": ""
            },
            "colorscale": [
             [
              0,
              "#0d0887"
             ],
             [
              0.1111111111111111,
              "#46039f"
             ],
             [
              0.2222222222222222,
              "#7201a8"
             ],
             [
              0.3333333333333333,
              "#9c179e"
             ],
             [
              0.4444444444444444,
              "#bd3786"
             ],
             [
              0.5555555555555556,
              "#d8576b"
             ],
             [
              0.6666666666666666,
              "#ed7953"
             ],
             [
              0.7777777777777778,
              "#fb9f3a"
             ],
             [
              0.8888888888888888,
              "#fdca26"
             ],
             [
              1,
              "#f0f921"
             ]
            ],
            "type": "heatmap"
           }
          ],
          "heatmapgl": [
           {
            "colorbar": {
             "outlinewidth": 0,
             "ticks": ""
            },
            "colorscale": [
             [
              0,
              "#0d0887"
             ],
             [
              0.1111111111111111,
              "#46039f"
             ],
             [
              0.2222222222222222,
              "#7201a8"
             ],
             [
              0.3333333333333333,
              "#9c179e"
             ],
             [
              0.4444444444444444,
              "#bd3786"
             ],
             [
              0.5555555555555556,
              "#d8576b"
             ],
             [
              0.6666666666666666,
              "#ed7953"
             ],
             [
              0.7777777777777778,
              "#fb9f3a"
             ],
             [
              0.8888888888888888,
              "#fdca26"
             ],
             [
              1,
              "#f0f921"
             ]
            ],
            "type": "heatmapgl"
           }
          ],
          "histogram": [
           {
            "marker": {
             "pattern": {
              "fillmode": "overlay",
              "size": 10,
              "solidity": 0.2
             }
            },
            "type": "histogram"
           }
          ],
          "histogram2d": [
           {
            "colorbar": {
             "outlinewidth": 0,
             "ticks": ""
            },
            "colorscale": [
             [
              0,
              "#0d0887"
             ],
             [
              0.1111111111111111,
              "#46039f"
             ],
             [
              0.2222222222222222,
              "#7201a8"
             ],
             [
              0.3333333333333333,
              "#9c179e"
             ],
             [
              0.4444444444444444,
              "#bd3786"
             ],
             [
              0.5555555555555556,
              "#d8576b"
             ],
             [
              0.6666666666666666,
              "#ed7953"
             ],
             [
              0.7777777777777778,
              "#fb9f3a"
             ],
             [
              0.8888888888888888,
              "#fdca26"
             ],
             [
              1,
              "#f0f921"
             ]
            ],
            "type": "histogram2d"
           }
          ],
          "histogram2dcontour": [
           {
            "colorbar": {
             "outlinewidth": 0,
             "ticks": ""
            },
            "colorscale": [
             [
              0,
              "#0d0887"
             ],
             [
              0.1111111111111111,
              "#46039f"
             ],
             [
              0.2222222222222222,
              "#7201a8"
             ],
             [
              0.3333333333333333,
              "#9c179e"
             ],
             [
              0.4444444444444444,
              "#bd3786"
             ],
             [
              0.5555555555555556,
              "#d8576b"
             ],
             [
              0.6666666666666666,
              "#ed7953"
             ],
             [
              0.7777777777777778,
              "#fb9f3a"
             ],
             [
              0.8888888888888888,
              "#fdca26"
             ],
             [
              1,
              "#f0f921"
             ]
            ],
            "type": "histogram2dcontour"
           }
          ],
          "mesh3d": [
           {
            "colorbar": {
             "outlinewidth": 0,
             "ticks": ""
            },
            "type": "mesh3d"
           }
          ],
          "parcoords": [
           {
            "line": {
             "colorbar": {
              "outlinewidth": 0,
              "ticks": ""
             }
            },
            "type": "parcoords"
           }
          ],
          "pie": [
           {
            "automargin": true,
            "type": "pie"
           }
          ],
          "scatter": [
           {
            "fillpattern": {
             "fillmode": "overlay",
             "size": 10,
             "solidity": 0.2
            },
            "type": "scatter"
           }
          ],
          "scatter3d": [
           {
            "line": {
             "colorbar": {
              "outlinewidth": 0,
              "ticks": ""
             }
            },
            "marker": {
             "colorbar": {
              "outlinewidth": 0,
              "ticks": ""
             }
            },
            "type": "scatter3d"
           }
          ],
          "scattercarpet": [
           {
            "marker": {
             "colorbar": {
              "outlinewidth": 0,
              "ticks": ""
             }
            },
            "type": "scattercarpet"
           }
          ],
          "scattergeo": [
           {
            "marker": {
             "colorbar": {
              "outlinewidth": 0,
              "ticks": ""
             }
            },
            "type": "scattergeo"
           }
          ],
          "scattergl": [
           {
            "marker": {
             "colorbar": {
              "outlinewidth": 0,
              "ticks": ""
             }
            },
            "type": "scattergl"
           }
          ],
          "scattermapbox": [
           {
            "marker": {
             "colorbar": {
              "outlinewidth": 0,
              "ticks": ""
             }
            },
            "type": "scattermapbox"
           }
          ],
          "scatterpolar": [
           {
            "marker": {
             "colorbar": {
              "outlinewidth": 0,
              "ticks": ""
             }
            },
            "type": "scatterpolar"
           }
          ],
          "scatterpolargl": [
           {
            "marker": {
             "colorbar": {
              "outlinewidth": 0,
              "ticks": ""
             }
            },
            "type": "scatterpolargl"
           }
          ],
          "scatterternary": [
           {
            "marker": {
             "colorbar": {
              "outlinewidth": 0,
              "ticks": ""
             }
            },
            "type": "scatterternary"
           }
          ],
          "surface": [
           {
            "colorbar": {
             "outlinewidth": 0,
             "ticks": ""
            },
            "colorscale": [
             [
              0,
              "#0d0887"
             ],
             [
              0.1111111111111111,
              "#46039f"
             ],
             [
              0.2222222222222222,
              "#7201a8"
             ],
             [
              0.3333333333333333,
              "#9c179e"
             ],
             [
              0.4444444444444444,
              "#bd3786"
             ],
             [
              0.5555555555555556,
              "#d8576b"
             ],
             [
              0.6666666666666666,
              "#ed7953"
             ],
             [
              0.7777777777777778,
              "#fb9f3a"
             ],
             [
              0.8888888888888888,
              "#fdca26"
             ],
             [
              1,
              "#f0f921"
             ]
            ],
            "type": "surface"
           }
          ],
          "table": [
           {
            "cells": {
             "fill": {
              "color": "#EBF0F8"
             },
             "line": {
              "color": "white"
             }
            },
            "header": {
             "fill": {
              "color": "#C8D4E3"
             },
             "line": {
              "color": "white"
             }
            },
            "type": "table"
           }
          ]
         },
         "layout": {
          "annotationdefaults": {
           "arrowcolor": "#2a3f5f",
           "arrowhead": 0,
           "arrowwidth": 1
          },
          "autotypenumbers": "strict",
          "coloraxis": {
           "colorbar": {
            "outlinewidth": 0,
            "ticks": ""
           }
          },
          "colorscale": {
           "diverging": [
            [
             0,
             "#8e0152"
            ],
            [
             0.1,
             "#c51b7d"
            ],
            [
             0.2,
             "#de77ae"
            ],
            [
             0.3,
             "#f1b6da"
            ],
            [
             0.4,
             "#fde0ef"
            ],
            [
             0.5,
             "#f7f7f7"
            ],
            [
             0.6,
             "#e6f5d0"
            ],
            [
             0.7,
             "#b8e186"
            ],
            [
             0.8,
             "#7fbc41"
            ],
            [
             0.9,
             "#4d9221"
            ],
            [
             1,
             "#276419"
            ]
           ],
           "sequential": [
            [
             0,
             "#0d0887"
            ],
            [
             0.1111111111111111,
             "#46039f"
            ],
            [
             0.2222222222222222,
             "#7201a8"
            ],
            [
             0.3333333333333333,
             "#9c179e"
            ],
            [
             0.4444444444444444,
             "#bd3786"
            ],
            [
             0.5555555555555556,
             "#d8576b"
            ],
            [
             0.6666666666666666,
             "#ed7953"
            ],
            [
             0.7777777777777778,
             "#fb9f3a"
            ],
            [
             0.8888888888888888,
             "#fdca26"
            ],
            [
             1,
             "#f0f921"
            ]
           ],
           "sequentialminus": [
            [
             0,
             "#0d0887"
            ],
            [
             0.1111111111111111,
             "#46039f"
            ],
            [
             0.2222222222222222,
             "#7201a8"
            ],
            [
             0.3333333333333333,
             "#9c179e"
            ],
            [
             0.4444444444444444,
             "#bd3786"
            ],
            [
             0.5555555555555556,
             "#d8576b"
            ],
            [
             0.6666666666666666,
             "#ed7953"
            ],
            [
             0.7777777777777778,
             "#fb9f3a"
            ],
            [
             0.8888888888888888,
             "#fdca26"
            ],
            [
             1,
             "#f0f921"
            ]
           ]
          },
          "colorway": [
           "#636efa",
           "#EF553B",
           "#00cc96",
           "#ab63fa",
           "#FFA15A",
           "#19d3f3",
           "#FF6692",
           "#B6E880",
           "#FF97FF",
           "#FECB52"
          ],
          "font": {
           "color": "#2a3f5f"
          },
          "geo": {
           "bgcolor": "white",
           "lakecolor": "white",
           "landcolor": "#E5ECF6",
           "showlakes": true,
           "showland": true,
           "subunitcolor": "white"
          },
          "hoverlabel": {
           "align": "left"
          },
          "hovermode": "closest",
          "mapbox": {
           "style": "light"
          },
          "paper_bgcolor": "white",
          "plot_bgcolor": "#E5ECF6",
          "polar": {
           "angularaxis": {
            "gridcolor": "white",
            "linecolor": "white",
            "ticks": ""
           },
           "bgcolor": "#E5ECF6",
           "radialaxis": {
            "gridcolor": "white",
            "linecolor": "white",
            "ticks": ""
           }
          },
          "scene": {
           "xaxis": {
            "backgroundcolor": "#E5ECF6",
            "gridcolor": "white",
            "gridwidth": 2,
            "linecolor": "white",
            "showbackground": true,
            "ticks": "",
            "zerolinecolor": "white"
           },
           "yaxis": {
            "backgroundcolor": "#E5ECF6",
            "gridcolor": "white",
            "gridwidth": 2,
            "linecolor": "white",
            "showbackground": true,
            "ticks": "",
            "zerolinecolor": "white"
           },
           "zaxis": {
            "backgroundcolor": "#E5ECF6",
            "gridcolor": "white",
            "gridwidth": 2,
            "linecolor": "white",
            "showbackground": true,
            "ticks": "",
            "zerolinecolor": "white"
           }
          },
          "shapedefaults": {
           "line": {
            "color": "#2a3f5f"
           }
          },
          "ternary": {
           "aaxis": {
            "gridcolor": "white",
            "linecolor": "white",
            "ticks": ""
           },
           "baxis": {
            "gridcolor": "white",
            "linecolor": "white",
            "ticks": ""
           },
           "bgcolor": "#E5ECF6",
           "caxis": {
            "gridcolor": "white",
            "linecolor": "white",
            "ticks": ""
           }
          },
          "title": {
           "x": 0.05
          },
          "xaxis": {
           "automargin": true,
           "gridcolor": "white",
           "linecolor": "white",
           "ticks": "",
           "title": {
            "standoff": 15
           },
           "zerolinecolor": "white",
           "zerolinewidth": 2
          },
          "yaxis": {
           "automargin": true,
           "gridcolor": "white",
           "linecolor": "white",
           "ticks": "",
           "title": {
            "standoff": 15
           },
           "zerolinecolor": "white",
           "zerolinewidth": 2
          }
         }
        }
       }
      },
      "text/html": [
       "<div>                            <div id=\"0496a05d-c9e6-4e7e-8bd0-fa310b0e2e88\" class=\"plotly-graph-div\" style=\"height:525px; width:100%;\"></div>            <script type=\"text/javascript\">                require([\"plotly\"], function(Plotly) {                    window.PLOTLYENV=window.PLOTLYENV || {};                                    if (document.getElementById(\"0496a05d-c9e6-4e7e-8bd0-fa310b0e2e88\")) {                    Plotly.newPlot(                        \"0496a05d-c9e6-4e7e-8bd0-fa310b0e2e88\",                        [{\"arrangement\":\"snap\",\"link\":{\"source\":[0,1,2,3,4,5,6,7,8,9,20,20,20,20,20,20,20,20,20,20],\"target\":[20,20,20,20,20,20,20,20,20,20,10,11,12,13,14,15,16,17,18,19],\"value\":[22.6,10.3,5.5,4.4,3.7,3.3,3.0,2.8,2.3,2.0,19.4,15.2,5.3,4.9,3.8,3.2,3.0,2.8,2.5,2.5]},\"node\":{\"label\":[\"\\uc11c\\uc6b8\\ud2b9\\ubcc4\\uc2dc \\uc11c\\ucd08\\uad6c (\\uc720\\uc785)\",\"\\uc11c\\uc6b8\\ud2b9\\ubcc4\\uc2dc \\uc1a1\\ud30c\\uad6c (\\uc720\\uc785)\",\"\\uc11c\\uc6b8\\ud2b9\\ubcc4\\uc2dc \\uc131\\ub3d9\\uad6c (\\uc720\\uc785)\",\"\\uc11c\\uc6b8\\ud2b9\\ubcc4\\uc2dc \\uc6a9\\uc0b0\\uad6c (\\uc720\\uc785)\",\"\\uacbd\\uae30\\ub3c4 \\uc131\\ub0a8\\uc2dc \\ubd84\\ub2f9\\uad6c (\\uc720\\uc785)\",\"\\uc11c\\uc6b8\\ud2b9\\ubcc4\\uc2dc \\uc911\\uad6c (\\uc720\\uc785)\",\"\\uc11c\\uc6b8\\ud2b9\\ubcc4\\uc2dc \\uad11\\uc9c4\\uad6c (\\uc720\\uc785)\",\"\\uc11c\\uc6b8\\ud2b9\\ubcc4\\uc2dc \\uc601\\ub4f1\\ud3ec\\uad6c (\\uc720\\uc785)\",\"\\uc11c\\uc6b8\\ud2b9\\ubcc4\\uc2dc \\uac15\\ub3d9\\uad6c (\\uc720\\uc785)\",\"\\uc11c\\uc6b8\\ud2b9\\ubcc4\\uc2dc \\ub9c8\\ud3ec\\uad6c (\\uc720\\uc785)\",\"\\uc11c\\uc6b8\\ud2b9\\ubcc4\\uc2dc \\uc11c\\ucd08\\uad6c (\\uc720\\ucd9c)\",\"\\uc11c\\uc6b8\\ud2b9\\ubcc4\\uc2dc \\uc1a1\\ud30c\\uad6c (\\uc720\\ucd9c)\",\"\\uc11c\\uc6b8\\ud2b9\\ubcc4\\uc2dc \\uc911\\uad6c (\\uc720\\ucd9c)\",\"\\uc11c\\uc6b8\\ud2b9\\ubcc4\\uc2dc \\uc6a9\\uc0b0\\uad6c (\\uc720\\ucd9c)\",\"\\uacbd\\uae30\\ub3c4 \\uc131\\ub0a8\\uc2dc \\ubd84\\ub2f9\\uad6c (\\uc720\\ucd9c)\",\"\\uacbd\\uae30\\ub3c4 \\ud558\\ub0a8\\uc2dc (\\uc720\\ucd9c)\",\"\\uc11c\\uc6b8\\ud2b9\\ubcc4\\uc2dc \\uad11\\uc9c4\\uad6c (\\uc720\\ucd9c)\",\"\\uc11c\\uc6b8\\ud2b9\\ubcc4\\uc2dc \\uc131\\ub3d9\\uad6c (\\uc720\\ucd9c)\",\"\\uacbd\\uae30\\ub3c4 \\ub0a8\\uc591\\uc8fc\\uc2dc (\\uc720\\ucd9c)\",\"\\uc11c\\uc6b8\\ud2b9\\ubcc4\\uc2dc \\uc601\\ub4f1\\ud3ec\\uad6c (\\uc720\\ucd9c)\",\"\\uc11c\\uc6b8\\ud2b9\\ubcc4\\uc2dc \\uac15\\ub0a8\\uad6c\"],\"pad\":10},\"type\":\"sankey\"}],                        {\"template\":{\"data\":{\"histogram2dcontour\":[{\"type\":\"histogram2dcontour\",\"colorbar\":{\"outlinewidth\":0,\"ticks\":\"\"},\"colorscale\":[[0.0,\"#0d0887\"],[0.1111111111111111,\"#46039f\"],[0.2222222222222222,\"#7201a8\"],[0.3333333333333333,\"#9c179e\"],[0.4444444444444444,\"#bd3786\"],[0.5555555555555556,\"#d8576b\"],[0.6666666666666666,\"#ed7953\"],[0.7777777777777778,\"#fb9f3a\"],[0.8888888888888888,\"#fdca26\"],[1.0,\"#f0f921\"]]}],\"choropleth\":[{\"type\":\"choropleth\",\"colorbar\":{\"outlinewidth\":0,\"ticks\":\"\"}}],\"histogram2d\":[{\"type\":\"histogram2d\",\"colorbar\":{\"outlinewidth\":0,\"ticks\":\"\"},\"colorscale\":[[0.0,\"#0d0887\"],[0.1111111111111111,\"#46039f\"],[0.2222222222222222,\"#7201a8\"],[0.3333333333333333,\"#9c179e\"],[0.4444444444444444,\"#bd3786\"],[0.5555555555555556,\"#d8576b\"],[0.6666666666666666,\"#ed7953\"],[0.7777777777777778,\"#fb9f3a\"],[0.8888888888888888,\"#fdca26\"],[1.0,\"#f0f921\"]]}],\"heatmap\":[{\"type\":\"heatmap\",\"colorbar\":{\"outlinewidth\":0,\"ticks\":\"\"},\"colorscale\":[[0.0,\"#0d0887\"],[0.1111111111111111,\"#46039f\"],[0.2222222222222222,\"#7201a8\"],[0.3333333333333333,\"#9c179e\"],[0.4444444444444444,\"#bd3786\"],[0.5555555555555556,\"#d8576b\"],[0.6666666666666666,\"#ed7953\"],[0.7777777777777778,\"#fb9f3a\"],[0.8888888888888888,\"#fdca26\"],[1.0,\"#f0f921\"]]}],\"heatmapgl\":[{\"type\":\"heatmapgl\",\"colorbar\":{\"outlinewidth\":0,\"ticks\":\"\"},\"colorscale\":[[0.0,\"#0d0887\"],[0.1111111111111111,\"#46039f\"],[0.2222222222222222,\"#7201a8\"],[0.3333333333333333,\"#9c179e\"],[0.4444444444444444,\"#bd3786\"],[0.5555555555555556,\"#d8576b\"],[0.6666666666666666,\"#ed7953\"],[0.7777777777777778,\"#fb9f3a\"],[0.8888888888888888,\"#fdca26\"],[1.0,\"#f0f921\"]]}],\"contourcarpet\":[{\"type\":\"contourcarpet\",\"colorbar\":{\"outlinewidth\":0,\"ticks\":\"\"}}],\"contour\":[{\"type\":\"contour\",\"colorbar\":{\"outlinewidth\":0,\"ticks\":\"\"},\"colorscale\":[[0.0,\"#0d0887\"],[0.1111111111111111,\"#46039f\"],[0.2222222222222222,\"#7201a8\"],[0.3333333333333333,\"#9c179e\"],[0.4444444444444444,\"#bd3786\"],[0.5555555555555556,\"#d8576b\"],[0.6666666666666666,\"#ed7953\"],[0.7777777777777778,\"#fb9f3a\"],[0.8888888888888888,\"#fdca26\"],[1.0,\"#f0f921\"]]}],\"surface\":[{\"type\":\"surface\",\"colorbar\":{\"outlinewidth\":0,\"ticks\":\"\"},\"colorscale\":[[0.0,\"#0d0887\"],[0.1111111111111111,\"#46039f\"],[0.2222222222222222,\"#7201a8\"],[0.3333333333333333,\"#9c179e\"],[0.4444444444444444,\"#bd3786\"],[0.5555555555555556,\"#d8576b\"],[0.6666666666666666,\"#ed7953\"],[0.7777777777777778,\"#fb9f3a\"],[0.8888888888888888,\"#fdca26\"],[1.0,\"#f0f921\"]]}],\"mesh3d\":[{\"type\":\"mesh3d\",\"colorbar\":{\"outlinewidth\":0,\"ticks\":\"\"}}],\"scatter\":[{\"fillpattern\":{\"fillmode\":\"overlay\",\"size\":10,\"solidity\":0.2},\"type\":\"scatter\"}],\"parcoords\":[{\"type\":\"parcoords\",\"line\":{\"colorbar\":{\"outlinewidth\":0,\"ticks\":\"\"}}}],\"scatterpolargl\":[{\"type\":\"scatterpolargl\",\"marker\":{\"colorbar\":{\"outlinewidth\":0,\"ticks\":\"\"}}}],\"bar\":[{\"error_x\":{\"color\":\"#2a3f5f\"},\"error_y\":{\"color\":\"#2a3f5f\"},\"marker\":{\"line\":{\"color\":\"#E5ECF6\",\"width\":0.5},\"pattern\":{\"fillmode\":\"overlay\",\"size\":10,\"solidity\":0.2}},\"type\":\"bar\"}],\"scattergeo\":[{\"type\":\"scattergeo\",\"marker\":{\"colorbar\":{\"outlinewidth\":0,\"ticks\":\"\"}}}],\"scatterpolar\":[{\"type\":\"scatterpolar\",\"marker\":{\"colorbar\":{\"outlinewidth\":0,\"ticks\":\"\"}}}],\"histogram\":[{\"marker\":{\"pattern\":{\"fillmode\":\"overlay\",\"size\":10,\"solidity\":0.2}},\"type\":\"histogram\"}],\"scattergl\":[{\"type\":\"scattergl\",\"marker\":{\"colorbar\":{\"outlinewidth\":0,\"ticks\":\"\"}}}],\"scatter3d\":[{\"type\":\"scatter3d\",\"line\":{\"colorbar\":{\"outlinewidth\":0,\"ticks\":\"\"}},\"marker\":{\"colorbar\":{\"outlinewidth\":0,\"ticks\":\"\"}}}],\"scattermapbox\":[{\"type\":\"scattermapbox\",\"marker\":{\"colorbar\":{\"outlinewidth\":0,\"ticks\":\"\"}}}],\"scatterternary\":[{\"type\":\"scatterternary\",\"marker\":{\"colorbar\":{\"outlinewidth\":0,\"ticks\":\"\"}}}],\"scattercarpet\":[{\"type\":\"scattercarpet\",\"marker\":{\"colorbar\":{\"outlinewidth\":0,\"ticks\":\"\"}}}],\"carpet\":[{\"aaxis\":{\"endlinecolor\":\"#2a3f5f\",\"gridcolor\":\"white\",\"linecolor\":\"white\",\"minorgridcolor\":\"white\",\"startlinecolor\":\"#2a3f5f\"},\"baxis\":{\"endlinecolor\":\"#2a3f5f\",\"gridcolor\":\"white\",\"linecolor\":\"white\",\"minorgridcolor\":\"white\",\"startlinecolor\":\"#2a3f5f\"},\"type\":\"carpet\"}],\"table\":[{\"cells\":{\"fill\":{\"color\":\"#EBF0F8\"},\"line\":{\"color\":\"white\"}},\"header\":{\"fill\":{\"color\":\"#C8D4E3\"},\"line\":{\"color\":\"white\"}},\"type\":\"table\"}],\"barpolar\":[{\"marker\":{\"line\":{\"color\":\"#E5ECF6\",\"width\":0.5},\"pattern\":{\"fillmode\":\"overlay\",\"size\":10,\"solidity\":0.2}},\"type\":\"barpolar\"}],\"pie\":[{\"automargin\":true,\"type\":\"pie\"}]},\"layout\":{\"autotypenumbers\":\"strict\",\"colorway\":[\"#636efa\",\"#EF553B\",\"#00cc96\",\"#ab63fa\",\"#FFA15A\",\"#19d3f3\",\"#FF6692\",\"#B6E880\",\"#FF97FF\",\"#FECB52\"],\"font\":{\"color\":\"#2a3f5f\"},\"hovermode\":\"closest\",\"hoverlabel\":{\"align\":\"left\"},\"paper_bgcolor\":\"white\",\"plot_bgcolor\":\"#E5ECF6\",\"polar\":{\"bgcolor\":\"#E5ECF6\",\"angularaxis\":{\"gridcolor\":\"white\",\"linecolor\":\"white\",\"ticks\":\"\"},\"radialaxis\":{\"gridcolor\":\"white\",\"linecolor\":\"white\",\"ticks\":\"\"}},\"ternary\":{\"bgcolor\":\"#E5ECF6\",\"aaxis\":{\"gridcolor\":\"white\",\"linecolor\":\"white\",\"ticks\":\"\"},\"baxis\":{\"gridcolor\":\"white\",\"linecolor\":\"white\",\"ticks\":\"\"},\"caxis\":{\"gridcolor\":\"white\",\"linecolor\":\"white\",\"ticks\":\"\"}},\"coloraxis\":{\"colorbar\":{\"outlinewidth\":0,\"ticks\":\"\"}},\"colorscale\":{\"sequential\":[[0.0,\"#0d0887\"],[0.1111111111111111,\"#46039f\"],[0.2222222222222222,\"#7201a8\"],[0.3333333333333333,\"#9c179e\"],[0.4444444444444444,\"#bd3786\"],[0.5555555555555556,\"#d8576b\"],[0.6666666666666666,\"#ed7953\"],[0.7777777777777778,\"#fb9f3a\"],[0.8888888888888888,\"#fdca26\"],[1.0,\"#f0f921\"]],\"sequentialminus\":[[0.0,\"#0d0887\"],[0.1111111111111111,\"#46039f\"],[0.2222222222222222,\"#7201a8\"],[0.3333333333333333,\"#9c179e\"],[0.4444444444444444,\"#bd3786\"],[0.5555555555555556,\"#d8576b\"],[0.6666666666666666,\"#ed7953\"],[0.7777777777777778,\"#fb9f3a\"],[0.8888888888888888,\"#fdca26\"],[1.0,\"#f0f921\"]],\"diverging\":[[0,\"#8e0152\"],[0.1,\"#c51b7d\"],[0.2,\"#de77ae\"],[0.3,\"#f1b6da\"],[0.4,\"#fde0ef\"],[0.5,\"#f7f7f7\"],[0.6,\"#e6f5d0\"],[0.7,\"#b8e186\"],[0.8,\"#7fbc41\"],[0.9,\"#4d9221\"],[1,\"#276419\"]]},\"xaxis\":{\"gridcolor\":\"white\",\"linecolor\":\"white\",\"ticks\":\"\",\"title\":{\"standoff\":15},\"zerolinecolor\":\"white\",\"automargin\":true,\"zerolinewidth\":2},\"yaxis\":{\"gridcolor\":\"white\",\"linecolor\":\"white\",\"ticks\":\"\",\"title\":{\"standoff\":15},\"zerolinecolor\":\"white\",\"automargin\":true,\"zerolinewidth\":2},\"scene\":{\"xaxis\":{\"backgroundcolor\":\"#E5ECF6\",\"gridcolor\":\"white\",\"linecolor\":\"white\",\"showbackground\":true,\"ticks\":\"\",\"zerolinecolor\":\"white\",\"gridwidth\":2},\"yaxis\":{\"backgroundcolor\":\"#E5ECF6\",\"gridcolor\":\"white\",\"linecolor\":\"white\",\"showbackground\":true,\"ticks\":\"\",\"zerolinecolor\":\"white\",\"gridwidth\":2},\"zaxis\":{\"backgroundcolor\":\"#E5ECF6\",\"gridcolor\":\"white\",\"linecolor\":\"white\",\"showbackground\":true,\"ticks\":\"\",\"zerolinecolor\":\"white\",\"gridwidth\":2}},\"shapedefaults\":{\"line\":{\"color\":\"#2a3f5f\"}},\"annotationdefaults\":{\"arrowcolor\":\"#2a3f5f\",\"arrowhead\":0,\"arrowwidth\":1},\"geo\":{\"bgcolor\":\"white\",\"landcolor\":\"#E5ECF6\",\"subunitcolor\":\"white\",\"showland\":true,\"showlakes\":true,\"lakecolor\":\"white\"},\"title\":{\"x\":0.05},\"mapbox\":{\"style\":\"light\"}}}},                        {\"responsive\": true}                    ).then(function(){\n",
       "                            \n",
       "var gd = document.getElementById('0496a05d-c9e6-4e7e-8bd0-fa310b0e2e88');\n",
       "var x = new MutationObserver(function (mutations, observer) {{\n",
       "        var display = window.getComputedStyle(gd).display;\n",
       "        if (!display || display === 'none') {{\n",
       "            console.log([gd, 'removed!']);\n",
       "            Plotly.purge(gd);\n",
       "            observer.disconnect();\n",
       "        }}\n",
       "}});\n",
       "\n",
       "// Listen for the removal of the full notebook cells\n",
       "var notebookContainer = gd.closest('#notebook-container');\n",
       "if (notebookContainer) {{\n",
       "    x.observe(notebookContainer, {childList: true});\n",
       "}}\n",
       "\n",
       "// Listen for the clearing of the current output cell\n",
       "var outputEl = gd.closest('.output');\n",
       "if (outputEl) {{\n",
       "    x.observe(outputEl, {childList: true});\n",
       "}}\n",
       "\n",
       "                        })                };                });            </script>        </div>"
      ]
     },
     "metadata": {},
     "output_type": "display_data"
    }
   ],
   "source": [
    "fig = go.Figure(go.Sankey(\n",
    "    arrangement = \"snap\",\n",
    "    node = {\n",
    "        \"label\": region_start,\n",
    "#         \"x\": [0.2, 0.1, 0.5, 0.7, 0.3, 0.5],\n",
    "#         \"y\": [0.7, 0.5, 0.2, 0.4, 0.2, 0.3],\n",
    "        'pad':10},  # 10 Pixels\n",
    "    link = {\n",
    "        \"source\": [0, 1, 2, 3, 4, 5, 6, 7, 8, 9,    20,20,20,20,20,20,20,20,20,20],\n",
    "        \"target\": [20,20,20,20,20,20,20,20,20,20,   10,11,12,13,14,15,16,17,18,19],\n",
    "        \"value\": values[0:]}))\n",
    "fig.show()"
   ]
  },
  {
   "cell_type": "code",
   "execution_count": null,
   "id": "4a313b34",
   "metadata": {},
   "outputs": [],
   "source": []
  },
  {
   "cell_type": "code",
   "execution_count": null,
   "id": "3313f715",
   "metadata": {},
   "outputs": [],
   "source": []
  }
 ],
 "metadata": {
  "kernelspec": {
   "display_name": "Python 3 (ipykernel)",
   "language": "python",
   "name": "python3"
  },
  "language_info": {
   "codemirror_mode": {
    "name": "ipython",
    "version": 3
   },
   "file_extension": ".py",
   "mimetype": "text/x-python",
   "name": "python",
   "nbconvert_exporter": "python",
   "pygments_lexer": "ipython3",
   "version": "3.8.7"
  }
 },
 "nbformat": 4,
 "nbformat_minor": 5
}
