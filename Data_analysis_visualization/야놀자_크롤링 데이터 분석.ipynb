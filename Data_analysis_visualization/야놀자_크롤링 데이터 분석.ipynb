{
 "cells": [
  {
   "cell_type": "code",
   "execution_count": 1,
   "id": "ba7c92bf",
   "metadata": {},
   "outputs": [],
   "source": [
    "import pandas as pd "
   ]
  },
  {
   "cell_type": "code",
   "execution_count": 6,
   "id": "eddefa3e",
   "metadata": {},
   "outputs": [],
   "source": [
    "sf = pd.read_excel('./login/종류별인기태그 카운트.xlsx')"
   ]
  },
  {
   "cell_type": "code",
   "execution_count": 398,
   "id": "d1f245e2",
   "metadata": {
    "scrolled": false
   },
   "outputs": [
    {
     "name": "stderr",
     "output_type": "stream",
     "text": [
      "c:\\python38\\lib\\site-packages\\pandas\\util\\_decorators.py:211: FutureWarning: the 'encoding' keyword is deprecated and will be removed in a future version. Please take steps to stop the use of 'encoding'\n",
      "  return func(*args, **kwargs)\n"
     ]
    }
   ],
   "source": [
    "result1.to_excel('./login/업소별분석.xlsx',index=False, encoding='utf-8-sig')"
   ]
  },
  {
   "cell_type": "code",
   "execution_count": 89,
   "id": "479a2fb3",
   "metadata": {},
   "outputs": [],
   "source": [
    "a = df.groupby('종류')['평점'].agg(['mean']) #평점평균\n",
    "a = a.rename(columns = {'mean':'평균평점'})\n",
    "b = df.groupby('종류')['숙박가격'].agg(['mean']) #가격평균\n",
    "b = b.rename(columns = {'mean':'평균가격'})\n",
    "c = tt['cnt(종류)'] #종류별 카운트 tt=df.groupby('종류').count()\n",
    "result1 = pd.concat([a,b,c],axis=1)\n",
    "result1"
   ]
  },
  {
   "cell_type": "code",
   "execution_count": 396,
   "id": "05431493",
   "metadata": {
    "scrolled": true
   },
   "outputs": [
    {
     "data": {
      "text/html": [
       "<div>\n",
       "<style scoped>\n",
       "    .dataframe tbody tr th:only-of-type {\n",
       "        vertical-align: middle;\n",
       "    }\n",
       "\n",
       "    .dataframe tbody tr th {\n",
       "        vertical-align: top;\n",
       "    }\n",
       "\n",
       "    .dataframe thead th {\n",
       "        text-align: right;\n",
       "    }\n",
       "</style>\n",
       "<table border=\"1\" class=\"dataframe\">\n",
       "  <thead>\n",
       "    <tr style=\"text-align: right;\">\n",
       "      <th></th>\n",
       "      <th>평균평점</th>\n",
       "      <th>평균가격</th>\n",
       "      <th>cnt(종류)</th>\n",
       "    </tr>\n",
       "    <tr>\n",
       "      <th>종류</th>\n",
       "      <th></th>\n",
       "      <th></th>\n",
       "      <th></th>\n",
       "    </tr>\n",
       "  </thead>\n",
       "  <tbody>\n",
       "    <tr>\n",
       "      <th>1성급</th>\n",
       "      <td>4.200000</td>\n",
       "      <td>81830.625000</td>\n",
       "      <td>16</td>\n",
       "    </tr>\n",
       "    <tr>\n",
       "      <th>2성급</th>\n",
       "      <td>4.260000</td>\n",
       "      <td>107795.666667</td>\n",
       "      <td>30</td>\n",
       "    </tr>\n",
       "    <tr>\n",
       "      <th>3성급</th>\n",
       "      <td>4.502083</td>\n",
       "      <td>165394.583333</td>\n",
       "      <td>48</td>\n",
       "    </tr>\n",
       "    <tr>\n",
       "      <th>4성급</th>\n",
       "      <td>4.634286</td>\n",
       "      <td>209979.142857</td>\n",
       "      <td>35</td>\n",
       "    </tr>\n",
       "    <tr>\n",
       "      <th>5성급</th>\n",
       "      <td>4.757576</td>\n",
       "      <td>452173.333333</td>\n",
       "      <td>33</td>\n",
       "    </tr>\n",
       "    <tr>\n",
       "      <th>게스트하우스</th>\n",
       "      <td>4.360000</td>\n",
       "      <td>59800.400000</td>\n",
       "      <td>5</td>\n",
       "    </tr>\n",
       "    <tr>\n",
       "      <th>레지던스</th>\n",
       "      <td>4.277778</td>\n",
       "      <td>121457.500000</td>\n",
       "      <td>18</td>\n",
       "    </tr>\n",
       "    <tr>\n",
       "      <th>모텔</th>\n",
       "      <td>4.402273</td>\n",
       "      <td>75102.136364</td>\n",
       "      <td>836</td>\n",
       "    </tr>\n",
       "    <tr>\n",
       "      <th>일반호텔</th>\n",
       "      <td>4.247590</td>\n",
       "      <td>131977.511628</td>\n",
       "      <td>172</td>\n",
       "    </tr>\n",
       "    <tr>\n",
       "      <th>전통호텔</th>\n",
       "      <td>4.500000</td>\n",
       "      <td>270000.000000</td>\n",
       "      <td>1</td>\n",
       "    </tr>\n",
       "    <tr>\n",
       "      <th>펜션/호스텔</th>\n",
       "      <td>3.807143</td>\n",
       "      <td>103214.285714</td>\n",
       "      <td>14</td>\n",
       "    </tr>\n",
       "    <tr>\n",
       "      <th>프리미엄호텔</th>\n",
       "      <td>4.561538</td>\n",
       "      <td>248665.384615</td>\n",
       "      <td>13</td>\n",
       "    </tr>\n",
       "  </tbody>\n",
       "</table>\n",
       "</div>"
      ],
      "text/plain": [
       "            평균평점           평균가격  cnt(종류)\n",
       "종류                                      \n",
       "1성급     4.200000   81830.625000       16\n",
       "2성급     4.260000  107795.666667       30\n",
       "3성급     4.502083  165394.583333       48\n",
       "4성급     4.634286  209979.142857       35\n",
       "5성급     4.757576  452173.333333       33\n",
       "게스트하우스  4.360000   59800.400000        5\n",
       "레지던스    4.277778  121457.500000       18\n",
       "모텔      4.402273   75102.136364      836\n",
       "일반호텔    4.247590  131977.511628      172\n",
       "전통호텔    4.500000  270000.000000        1\n",
       "펜션/호스텔  3.807143  103214.285714       14\n",
       "프리미엄호텔  4.561538  248665.384615       13"
      ]
     },
     "execution_count": 396,
     "metadata": {},
     "output_type": "execute_result"
    }
   ],
   "source": [
    "result1"
   ]
  },
  {
   "cell_type": "code",
   "execution_count": 289,
   "id": "b812f319",
   "metadata": {},
   "outputs": [
    {
     "data": {
      "text/html": [
       "<div>\n",
       "<style scoped>\n",
       "    .dataframe tbody tr th:only-of-type {\n",
       "        vertical-align: middle;\n",
       "    }\n",
       "\n",
       "    .dataframe tbody tr th {\n",
       "        vertical-align: top;\n",
       "    }\n",
       "\n",
       "    .dataframe thead th {\n",
       "        text-align: right;\n",
       "    }\n",
       "</style>\n",
       "<table border=\"1\" class=\"dataframe\">\n",
       "  <thead>\n",
       "    <tr style=\"text-align: right;\">\n",
       "      <th></th>\n",
       "      <th>인기테그</th>\n",
       "      <th>종류</th>\n",
       "    </tr>\n",
       "  </thead>\n",
       "  <tbody>\n",
       "    <tr>\n",
       "      <th>0</th>\n",
       "      <td>['주차가능', '야외수영장', '수영장', '와이파이', '사우나', '클럽라운지...</td>\n",
       "      <td>프리미엄호텔</td>\n",
       "    </tr>\n",
       "    <tr>\n",
       "      <th>29</th>\n",
       "      <td>['주차가능', '야외수영장', '수영장', '조식운영', '와이파이', '사우나'...</td>\n",
       "      <td>프리미엄호텔</td>\n",
       "    </tr>\n",
       "    <tr>\n",
       "      <th>58</th>\n",
       "      <td>['주차가능', '조식운영', '와이파이', '야외테라스', '사우나', '객실금연...</td>\n",
       "      <td>프리미엄호텔</td>\n",
       "    </tr>\n",
       "    <tr>\n",
       "      <th>67</th>\n",
       "      <td>['주차가능', '조식운영', '객실금연', '레스토랑', '바', '연회장', '...</td>\n",
       "      <td>프리미엄호텔</td>\n",
       "    </tr>\n",
       "    <tr>\n",
       "      <th>92</th>\n",
       "      <td>['조식운영', '와이파이', '객실금연', '레스토랑', '피트니스', '어메니티...</td>\n",
       "      <td>프리미엄호텔</td>\n",
       "    </tr>\n",
       "    <tr>\n",
       "      <th>125</th>\n",
       "      <td>['조식운영', '와이파이', '객실금연', '레스토랑', '연회장', '피트니스'...</td>\n",
       "      <td>프리미엄호텔</td>\n",
       "    </tr>\n",
       "    <tr>\n",
       "      <th>127</th>\n",
       "      <td>['주차가능', '조식운영', '와이파이', '객실금연', '레스토랑', '바', ...</td>\n",
       "      <td>프리미엄호텔</td>\n",
       "    </tr>\n",
       "    <tr>\n",
       "      <th>136</th>\n",
       "      <td>['주차가능', '조식운영', '와이파이', '객실금연', '레스토랑', '바', ...</td>\n",
       "      <td>프리미엄호텔</td>\n",
       "    </tr>\n",
       "    <tr>\n",
       "      <th>139</th>\n",
       "      <td>['주차가능', '조식운영', '와이파이', '객실금연', '피트니스', '어메니티...</td>\n",
       "      <td>프리미엄호텔</td>\n",
       "    </tr>\n",
       "    <tr>\n",
       "      <th>171</th>\n",
       "      <td>['주차가능', '와이파이', '객실금연', '레스토랑', '피트니스', '24시간...</td>\n",
       "      <td>프리미엄호텔</td>\n",
       "    </tr>\n",
       "    <tr>\n",
       "      <th>286</th>\n",
       "      <td>[]</td>\n",
       "      <td>프리미엄호텔</td>\n",
       "    </tr>\n",
       "    <tr>\n",
       "      <th>293</th>\n",
       "      <td>['주차가능', '조식운영', '와이파이', '사우나', '루프탑', '객실금연',...</td>\n",
       "      <td>프리미엄호텔</td>\n",
       "    </tr>\n",
       "    <tr>\n",
       "      <th>324</th>\n",
       "      <td>['주차가능', '조식운영', '와이파이', '객실금연', '레스토랑', '바', ...</td>\n",
       "      <td>프리미엄호텔</td>\n",
       "    </tr>\n",
       "  </tbody>\n",
       "</table>\n",
       "</div>"
      ],
      "text/plain": [
       "                                                  인기테그      종류\n",
       "0    ['주차가능', '야외수영장', '수영장', '와이파이', '사우나', '클럽라운지...  프리미엄호텔\n",
       "29   ['주차가능', '야외수영장', '수영장', '조식운영', '와이파이', '사우나'...  프리미엄호텔\n",
       "58   ['주차가능', '조식운영', '와이파이', '야외테라스', '사우나', '객실금연...  프리미엄호텔\n",
       "67   ['주차가능', '조식운영', '객실금연', '레스토랑', '바', '연회장', '...  프리미엄호텔\n",
       "92   ['조식운영', '와이파이', '객실금연', '레스토랑', '피트니스', '어메니티...  프리미엄호텔\n",
       "125  ['조식운영', '와이파이', '객실금연', '레스토랑', '연회장', '피트니스'...  프리미엄호텔\n",
       "127  ['주차가능', '조식운영', '와이파이', '객실금연', '레스토랑', '바', ...  프리미엄호텔\n",
       "136  ['주차가능', '조식운영', '와이파이', '객실금연', '레스토랑', '바', ...  프리미엄호텔\n",
       "139  ['주차가능', '조식운영', '와이파이', '객실금연', '피트니스', '어메니티...  프리미엄호텔\n",
       "171  ['주차가능', '와이파이', '객실금연', '레스토랑', '피트니스', '24시간...  프리미엄호텔\n",
       "286                                                 []  프리미엄호텔\n",
       "293  ['주차가능', '조식운영', '와이파이', '사우나', '루프탑', '객실금연',...  프리미엄호텔\n",
       "324  ['주차가능', '조식운영', '와이파이', '객실금연', '레스토랑', '바', ...  프리미엄호텔"
      ]
     },
     "execution_count": 289,
     "metadata": {},
     "output_type": "execute_result"
    }
   ],
   "source": [
    "dff"
   ]
  },
  {
   "cell_type": "code",
   "execution_count": 402,
   "id": "763cf150",
   "metadata": {
    "scrolled": true
   },
   "outputs": [],
   "source": [
    "import ast\n",
    "cc['인기태그'] = cc['인기태그'].apply(lambda x : ast.literal_eval(x))"
   ]
  },
  {
   "cell_type": "code",
   "execution_count": 405,
   "id": "d45ff4dd",
   "metadata": {},
   "outputs": [],
   "source": [
    "qwe = cc.explode('인기태그')"
   ]
  },
  {
   "cell_type": "code",
   "execution_count": 335,
   "id": "7a1bcf0f",
   "metadata": {},
   "outputs": [],
   "source": [
    "tag = cc.explode('인기태그').value_counts()"
   ]
  },
  {
   "cell_type": "code",
   "execution_count": 342,
   "id": "f8d6819e",
   "metadata": {},
   "outputs": [
    {
     "data": {
      "text/plain": [
       "RangeIndex(start=0, stop=1, step=1)"
      ]
     },
     "execution_count": 342,
     "metadata": {},
     "output_type": "execute_result"
    }
   ],
   "source": [
    "tag = pd.DataFrame(tag)\n",
    "tag.columns\n",
    "tag.to_csv('./login/종류별인기태그 카운트.csv',encoding='utf-8-sig')"
   ]
  },
  {
   "cell_type": "code",
   "execution_count": 447,
   "id": "bc9e09bf",
   "metadata": {},
   "outputs": [
    {
     "name": "stderr",
     "output_type": "stream",
     "text": [
      "c:\\python38\\lib\\site-packages\\pandas\\util\\_decorators.py:211: FutureWarning: the 'encoding' keyword is deprecated and will be removed in a future version. Please take steps to stop the use of 'encoding'\n",
      "  return func(*args, **kwargs)\n"
     ]
    }
   ],
   "source": [
    "ll.to_excel('./login/업소별분석.xlsx',encoding='utf-8-sig')"
   ]
  },
  {
   "cell_type": "code",
   "execution_count": 407,
   "id": "178d8268",
   "metadata": {},
   "outputs": [],
   "source": [
    "tt = pd.read_excel('./login/종류별인기태그 카운트.xlsx')"
   ]
  },
  {
   "cell_type": "code",
   "execution_count": 434,
   "id": "137bc18d",
   "metadata": {},
   "outputs": [
    {
     "ename": "TypeError",
     "evalue": "'tuple' object is not callable",
     "output_type": "error",
     "traceback": [
      "\u001b[1;31m---------------------------------------------------------------------------\u001b[0m",
      "\u001b[1;31mTypeError\u001b[0m                                 Traceback (most recent call last)",
      "Cell \u001b[1;32mIn[434], line 1\u001b[0m\n\u001b[1;32m----> 1\u001b[0m \u001b[43mtt\u001b[49m\u001b[43m[\u001b[49m\u001b[38;5;124;43m'\u001b[39;49m\u001b[38;5;124;43m종류\u001b[39;49m\u001b[38;5;124;43m'\u001b[39;49m\u001b[43m]\u001b[49m\u001b[38;5;241;43m.\u001b[39;49m\u001b[43mshape\u001b[49m\u001b[43m(\u001b[49m\u001b[43m)\u001b[49m\n",
      "\u001b[1;31mTypeError\u001b[0m: 'tuple' object is not callable"
     ]
    }
   ],
   "source": [
    "tt['종류']"
   ]
  },
  {
   "cell_type": "code",
   "execution_count": 438,
   "id": "145083ab",
   "metadata": {},
   "outputs": [],
   "source": [
    "df_motel = tt[(tt['종류']=='모텔')]\n",
    "df_hotelno = tt[(tt['종류']=='일반호텔')]\n",
    "df_hotelpri = tt[(tt['종류']=='프리미엄호텔')]\n",
    "df_hotel1 = tt[(tt['종류']=='1성급')]\n",
    "df_hotel2 = tt[(tt['종류']=='2성급')]\n",
    "df_hotel3 = tt[(tt['종류']=='3성급')]\n",
    "df_hotel4 = tt[(tt['종류']=='4성급')]\n",
    "df_hotel5 = tt[(tt['종류']=='5성급')]\n",
    "df_hostel = tt[(tt['종류']=='펜션/호스텔')]\n",
    "df_guest = tt[(tt['종류']=='게스트하우스')]\n",
    "df_regi = tt[(tt['종류']=='레지던스')]\n"
   ]
  },
  {
   "cell_type": "code",
   "execution_count": 440,
   "id": "bacbd84d",
   "metadata": {},
   "outputs": [
    {
     "name": "stderr",
     "output_type": "stream",
     "text": [
      "c:\\python38\\lib\\site-packages\\pandas\\util\\_decorators.py:211: FutureWarning: the 'encoding' keyword is deprecated and will be removed in a future version. Please take steps to stop the use of 'encoding'\n",
      "  return func(*args, **kwargs)\n"
     ]
    }
   ],
   "source": [
    "df_motel.to_excel('./login/모텔인기태그.xlsx',encoding='utf-8-sig')\n",
    "df_hotelno.to_excel('./login/일반호텔인기태그.xlsx',encoding='utf-8-sig')\n",
    "df_hotelpri.to_excel('./login/프리미엄호텔인기태그.xlsx',encoding='utf-8-sig')\n",
    "df_hotel1.to_excel('./login/1성급인기태그.xlsx',encoding='utf-8-sig')\n",
    "df_hotel2.to_excel('./login/2성급인기태그.xlsx',encoding='utf-8-sig')\n",
    "df_hotel3.to_excel('./login/3성급인기태그.xlsx',encoding='utf-8-sig')\n",
    "df_hotel4.to_excel('./login/4성급인기태그.xlsx',encoding='utf-8-sig')\n",
    "df_hotel5.to_excel('./login/5성급인기태그.xlsx',encoding='utf-8-sig')\n",
    "df_hostel.to_excel('./login/호스텔인기태그.xlsx',encoding='utf-8-sig')\n",
    "df_guest.to_excel('./login/게스트인기태그.xlsx',encoding='utf-8-sig')\n",
    "df_regi.to_excel('./login/레지던스인기태그.xlsx',encoding='utf-8-sig')\n"
   ]
  },
  {
   "cell_type": "code",
   "execution_count": 400,
   "id": "17794b52",
   "metadata": {},
   "outputs": [],
   "source": [
    "aa = pd.DataFrame(df['인기태그'])\n",
    "bb = pd.DataFrame(df['종류'])\n",
    "cc = pd.concat([aa,bb],axis=1)"
   ]
  },
  {
   "cell_type": "code",
   "execution_count": 139,
   "id": "01183382",
   "metadata": {},
   "outputs": [
    {
     "data": {
      "text/plain": [
       "''"
      ]
     },
     "execution_count": 139,
     "metadata": {},
     "output_type": "execute_result"
    }
   ],
   "source": [
    "j.replace('[','').replace(']','')"
   ]
  },
  {
   "cell_type": "code",
   "execution_count": 224,
   "id": "623af55f",
   "metadata": {},
   "outputs": [
    {
     "data": {
      "text/html": [
       "<div>\n",
       "<style scoped>\n",
       "    .dataframe tbody tr th:only-of-type {\n",
       "        vertical-align: middle;\n",
       "    }\n",
       "\n",
       "    .dataframe tbody tr th {\n",
       "        vertical-align: top;\n",
       "    }\n",
       "\n",
       "    .dataframe thead th {\n",
       "        text-align: right;\n",
       "    }\n",
       "</style>\n",
       "<table border=\"1\" class=\"dataframe\">\n",
       "  <thead>\n",
       "    <tr style=\"text-align: right;\">\n",
       "      <th></th>\n",
       "      <th>index</th>\n",
       "      <th>인기테그</th>\n",
       "      <th>종류</th>\n",
       "    </tr>\n",
       "  </thead>\n",
       "  <tbody>\n",
       "    <tr>\n",
       "      <th>0</th>\n",
       "      <td>0</td>\n",
       "      <td>['주차가능', '야외수영장', '수영장', '와이파이', '사우나', '클럽라운지...</td>\n",
       "      <td>프리미엄호텔</td>\n",
       "    </tr>\n",
       "    <tr>\n",
       "      <th>1</th>\n",
       "      <td>1</td>\n",
       "      <td>['주차가능', '조식운영', '와이파이', '객실금연', '레스토랑', '바', ...</td>\n",
       "      <td>4성급</td>\n",
       "    </tr>\n",
       "    <tr>\n",
       "      <th>2</th>\n",
       "      <td>2</td>\n",
       "      <td>['주차가능', '와이파이', '객실금연', '피트니스', '어메니티', '비즈니스']</td>\n",
       "      <td>4성급</td>\n",
       "    </tr>\n",
       "    <tr>\n",
       "      <th>3</th>\n",
       "      <td>3</td>\n",
       "      <td>['스파/월풀/욕조', '와이파이', '객실금연', '24시간데스크', '비즈니스'...</td>\n",
       "      <td>일반호텔</td>\n",
       "    </tr>\n",
       "    <tr>\n",
       "      <th>4</th>\n",
       "      <td>4</td>\n",
       "      <td>['주차가능', '조식운영', '와이파이', '객실금연', '레스토랑', '연회장'...</td>\n",
       "      <td>일반호텔</td>\n",
       "    </tr>\n",
       "    <tr>\n",
       "      <th>...</th>\n",
       "      <td>...</td>\n",
       "      <td>...</td>\n",
       "      <td>...</td>\n",
       "    </tr>\n",
       "    <tr>\n",
       "      <th>1216</th>\n",
       "      <td>1216</td>\n",
       "      <td>['와이파이']</td>\n",
       "      <td>게스트하우스</td>\n",
       "    </tr>\n",
       "    <tr>\n",
       "      <th>1217</th>\n",
       "      <td>1217</td>\n",
       "      <td>['와이파이']</td>\n",
       "      <td>게스트하우스</td>\n",
       "    </tr>\n",
       "    <tr>\n",
       "      <th>1218</th>\n",
       "      <td>1218</td>\n",
       "      <td>['와이파이', '독채객실']</td>\n",
       "      <td>펜션/호스텔</td>\n",
       "    </tr>\n",
       "    <tr>\n",
       "      <th>1219</th>\n",
       "      <td>1219</td>\n",
       "      <td>['와이파이', '상비약']</td>\n",
       "      <td>펜션/호스텔</td>\n",
       "    </tr>\n",
       "    <tr>\n",
       "      <th>1220</th>\n",
       "      <td>1220</td>\n",
       "      <td>['와이파이', '상비약']</td>\n",
       "      <td>펜션/호스텔</td>\n",
       "    </tr>\n",
       "  </tbody>\n",
       "</table>\n",
       "<p>1221 rows × 3 columns</p>\n",
       "</div>"
      ],
      "text/plain": [
       "      index                                               인기테그      종류\n",
       "0         0  ['주차가능', '야외수영장', '수영장', '와이파이', '사우나', '클럽라운지...  프리미엄호텔\n",
       "1         1  ['주차가능', '조식운영', '와이파이', '객실금연', '레스토랑', '바', ...     4성급\n",
       "2         2   ['주차가능', '와이파이', '객실금연', '피트니스', '어메니티', '비즈니스']     4성급\n",
       "3         3  ['스파/월풀/욕조', '와이파이', '객실금연', '24시간데스크', '비즈니스'...    일반호텔\n",
       "4         4  ['주차가능', '조식운영', '와이파이', '객실금연', '레스토랑', '연회장'...    일반호텔\n",
       "...     ...                                                ...     ...\n",
       "1216   1216                                           ['와이파이']  게스트하우스\n",
       "1217   1217                                           ['와이파이']  게스트하우스\n",
       "1218   1218                                   ['와이파이', '독채객실']  펜션/호스텔\n",
       "1219   1219                                    ['와이파이', '상비약']  펜션/호스텔\n",
       "1220   1220                                    ['와이파이', '상비약']  펜션/호스텔\n",
       "\n",
       "[1221 rows x 3 columns]"
      ]
     },
     "execution_count": 224,
     "metadata": {},
     "output_type": "execute_result"
    }
   ],
   "source": [
    "tr = cc.explode('인기태그').reset_index(drop=True)\n",
    "tr"
   ]
  },
  {
   "cell_type": "code",
   "execution_count": 240,
   "id": "cfd952f3",
   "metadata": {},
   "outputs": [
    {
     "data": {
      "text/html": [
       "<div>\n",
       "<style scoped>\n",
       "    .dataframe tbody tr th:only-of-type {\n",
       "        vertical-align: middle;\n",
       "    }\n",
       "\n",
       "    .dataframe tbody tr th {\n",
       "        vertical-align: top;\n",
       "    }\n",
       "\n",
       "    .dataframe thead th {\n",
       "        text-align: right;\n",
       "    }\n",
       "</style>\n",
       "<table border=\"1\" class=\"dataframe\">\n",
       "  <thead>\n",
       "    <tr style=\"text-align: right;\">\n",
       "      <th></th>\n",
       "      <th>인기테그</th>\n",
       "      <th>종류</th>\n",
       "    </tr>\n",
       "  </thead>\n",
       "  <tbody>\n",
       "    <tr>\n",
       "      <th>0</th>\n",
       "      <td>['주차가능', '야외수영장', '수영장', '와이파이', '사우나', '클럽라운지...</td>\n",
       "      <td>프리미엄호텔</td>\n",
       "    </tr>\n",
       "    <tr>\n",
       "      <th>1</th>\n",
       "      <td>['주차가능', '조식운영', '와이파이', '객실금연', '레스토랑', '바', ...</td>\n",
       "      <td>4성급</td>\n",
       "    </tr>\n",
       "    <tr>\n",
       "      <th>2</th>\n",
       "      <td>['주차가능', '와이파이', '객실금연', '피트니스', '어메니티', '비즈니스']</td>\n",
       "      <td>4성급</td>\n",
       "    </tr>\n",
       "    <tr>\n",
       "      <th>3</th>\n",
       "      <td>['스파/월풀/욕조', '와이파이', '객실금연', '24시간데스크', '비즈니스'...</td>\n",
       "      <td>일반호텔</td>\n",
       "    </tr>\n",
       "    <tr>\n",
       "      <th>4</th>\n",
       "      <td>['주차가능', '조식운영', '와이파이', '객실금연', '레스토랑', '연회장'...</td>\n",
       "      <td>일반호텔</td>\n",
       "    </tr>\n",
       "    <tr>\n",
       "      <th>...</th>\n",
       "      <td>...</td>\n",
       "      <td>...</td>\n",
       "    </tr>\n",
       "    <tr>\n",
       "      <th>1216</th>\n",
       "      <td>['와이파이']</td>\n",
       "      <td>게스트하우스</td>\n",
       "    </tr>\n",
       "    <tr>\n",
       "      <th>1217</th>\n",
       "      <td>['와이파이']</td>\n",
       "      <td>게스트하우스</td>\n",
       "    </tr>\n",
       "    <tr>\n",
       "      <th>1218</th>\n",
       "      <td>['와이파이', '독채객실']</td>\n",
       "      <td>펜션/호스텔</td>\n",
       "    </tr>\n",
       "    <tr>\n",
       "      <th>1219</th>\n",
       "      <td>['와이파이', '상비약']</td>\n",
       "      <td>펜션/호스텔</td>\n",
       "    </tr>\n",
       "    <tr>\n",
       "      <th>1220</th>\n",
       "      <td>['와이파이', '상비약']</td>\n",
       "      <td>펜션/호스텔</td>\n",
       "    </tr>\n",
       "  </tbody>\n",
       "</table>\n",
       "<p>1221 rows × 2 columns</p>\n",
       "</div>"
      ],
      "text/plain": [
       "                                                   인기테그      종류\n",
       "0     ['주차가능', '야외수영장', '수영장', '와이파이', '사우나', '클럽라운지...  프리미엄호텔\n",
       "1     ['주차가능', '조식운영', '와이파이', '객실금연', '레스토랑', '바', ...     4성급\n",
       "2      ['주차가능', '와이파이', '객실금연', '피트니스', '어메니티', '비즈니스']     4성급\n",
       "3     ['스파/월풀/욕조', '와이파이', '객실금연', '24시간데스크', '비즈니스'...    일반호텔\n",
       "4     ['주차가능', '조식운영', '와이파이', '객실금연', '레스토랑', '연회장'...    일반호텔\n",
       "...                                                 ...     ...\n",
       "1216                                           ['와이파이']  게스트하우스\n",
       "1217                                           ['와이파이']  게스트하우스\n",
       "1218                                   ['와이파이', '독채객실']  펜션/호스텔\n",
       "1219                                    ['와이파이', '상비약']  펜션/호스텔\n",
       "1220                                    ['와이파이', '상비약']  펜션/호스텔\n",
       "\n",
       "[1221 rows x 2 columns]"
      ]
     },
     "execution_count": 240,
     "metadata": {},
     "output_type": "execute_result"
    }
   ],
   "source": [
    "cc = cc.reset_index(drop=True)\n",
    "cc.drop(columns='index', axis=1, inplace=True)\n",
    "cc"
   ]
  },
  {
   "cell_type": "code",
   "execution_count": 272,
   "id": "2dd05d62",
   "metadata": {
    "scrolled": true
   },
   "outputs": [
    {
     "data": {
      "text/plain": [
       "[\"['주차가능'\",\n",
       " \" '야외수영장'\",\n",
       " \" '수영장'\",\n",
       " \" '와이파이'\",\n",
       " \" '사우나'\",\n",
       " \" '클럽라운지'\",\n",
       " \" '객실금연'\",\n",
       " \" '레스토랑'\",\n",
       " \" '바'\",\n",
       " \" '연회장'\",\n",
       " \" '피트니스'\",\n",
       " \" '어메니티'\",\n",
       " \" '24시간데스크'\",\n",
       " \" '노트북대여'\",\n",
       " \" '유료세탁'\",\n",
       " \" '커피숍'\",\n",
       " \" '수화물보관']\"]"
      ]
     },
     "execution_count": 272,
     "metadata": {},
     "output_type": "execute_result"
    }
   ],
   "source": [
    "cc.loc[0,'인기테그'].split(',')"
   ]
  },
  {
   "cell_type": "code",
   "execution_count": 276,
   "id": "b0ccfe1d",
   "metadata": {},
   "outputs": [
    {
     "data": {
      "text/html": [
       "<div>\n",
       "<style scoped>\n",
       "    .dataframe tbody tr th:only-of-type {\n",
       "        vertical-align: middle;\n",
       "    }\n",
       "\n",
       "    .dataframe tbody tr th {\n",
       "        vertical-align: top;\n",
       "    }\n",
       "\n",
       "    .dataframe thead th {\n",
       "        text-align: right;\n",
       "    }\n",
       "</style>\n",
       "<table border=\"1\" class=\"dataframe\">\n",
       "  <thead>\n",
       "    <tr style=\"text-align: right;\">\n",
       "      <th></th>\n",
       "      <th>인기테그</th>\n",
       "      <th>종류</th>\n",
       "    </tr>\n",
       "  </thead>\n",
       "  <tbody>\n",
       "    <tr>\n",
       "      <th>0</th>\n",
       "      <td>['주차가능', '야외수영장', '수영장', '와이파이', '사우나', '클럽라운지...</td>\n",
       "      <td>프리미엄호텔</td>\n",
       "    </tr>\n",
       "    <tr>\n",
       "      <th>29</th>\n",
       "      <td>['주차가능', '야외수영장', '수영장', '조식운영', '와이파이', '사우나'...</td>\n",
       "      <td>프리미엄호텔</td>\n",
       "    </tr>\n",
       "    <tr>\n",
       "      <th>58</th>\n",
       "      <td>['주차가능', '조식운영', '와이파이', '야외테라스', '사우나', '객실금연...</td>\n",
       "      <td>프리미엄호텔</td>\n",
       "    </tr>\n",
       "    <tr>\n",
       "      <th>67</th>\n",
       "      <td>['주차가능', '조식운영', '객실금연', '레스토랑', '바', '연회장', '...</td>\n",
       "      <td>프리미엄호텔</td>\n",
       "    </tr>\n",
       "    <tr>\n",
       "      <th>92</th>\n",
       "      <td>['조식운영', '와이파이', '객실금연', '레스토랑', '피트니스', '어메니티...</td>\n",
       "      <td>프리미엄호텔</td>\n",
       "    </tr>\n",
       "    <tr>\n",
       "      <th>125</th>\n",
       "      <td>['조식운영', '와이파이', '객실금연', '레스토랑', '연회장', '피트니스'...</td>\n",
       "      <td>프리미엄호텔</td>\n",
       "    </tr>\n",
       "    <tr>\n",
       "      <th>127</th>\n",
       "      <td>['주차가능', '조식운영', '와이파이', '객실금연', '레스토랑', '바', ...</td>\n",
       "      <td>프리미엄호텔</td>\n",
       "    </tr>\n",
       "    <tr>\n",
       "      <th>136</th>\n",
       "      <td>['주차가능', '조식운영', '와이파이', '객실금연', '레스토랑', '바', ...</td>\n",
       "      <td>프리미엄호텔</td>\n",
       "    </tr>\n",
       "    <tr>\n",
       "      <th>139</th>\n",
       "      <td>['주차가능', '조식운영', '와이파이', '객실금연', '피트니스', '어메니티...</td>\n",
       "      <td>프리미엄호텔</td>\n",
       "    </tr>\n",
       "    <tr>\n",
       "      <th>171</th>\n",
       "      <td>['주차가능', '와이파이', '객실금연', '레스토랑', '피트니스', '24시간...</td>\n",
       "      <td>프리미엄호텔</td>\n",
       "    </tr>\n",
       "    <tr>\n",
       "      <th>286</th>\n",
       "      <td>[]</td>\n",
       "      <td>프리미엄호텔</td>\n",
       "    </tr>\n",
       "    <tr>\n",
       "      <th>293</th>\n",
       "      <td>['주차가능', '조식운영', '와이파이', '사우나', '루프탑', '객실금연',...</td>\n",
       "      <td>프리미엄호텔</td>\n",
       "    </tr>\n",
       "    <tr>\n",
       "      <th>324</th>\n",
       "      <td>['주차가능', '조식운영', '와이파이', '객실금연', '레스토랑', '바', ...</td>\n",
       "      <td>프리미엄호텔</td>\n",
       "    </tr>\n",
       "  </tbody>\n",
       "</table>\n",
       "</div>"
      ],
      "text/plain": [
       "                                                  인기테그      종류\n",
       "0    ['주차가능', '야외수영장', '수영장', '와이파이', '사우나', '클럽라운지...  프리미엄호텔\n",
       "29   ['주차가능', '야외수영장', '수영장', '조식운영', '와이파이', '사우나'...  프리미엄호텔\n",
       "58   ['주차가능', '조식운영', '와이파이', '야외테라스', '사우나', '객실금연...  프리미엄호텔\n",
       "67   ['주차가능', '조식운영', '객실금연', '레스토랑', '바', '연회장', '...  프리미엄호텔\n",
       "92   ['조식운영', '와이파이', '객실금연', '레스토랑', '피트니스', '어메니티...  프리미엄호텔\n",
       "125  ['조식운영', '와이파이', '객실금연', '레스토랑', '연회장', '피트니스'...  프리미엄호텔\n",
       "127  ['주차가능', '조식운영', '와이파이', '객실금연', '레스토랑', '바', ...  프리미엄호텔\n",
       "136  ['주차가능', '조식운영', '와이파이', '객실금연', '레스토랑', '바', ...  프리미엄호텔\n",
       "139  ['주차가능', '조식운영', '와이파이', '객실금연', '피트니스', '어메니티...  프리미엄호텔\n",
       "171  ['주차가능', '와이파이', '객실금연', '레스토랑', '피트니스', '24시간...  프리미엄호텔\n",
       "286                                                 []  프리미엄호텔\n",
       "293  ['주차가능', '조식운영', '와이파이', '사우나', '루프탑', '객실금연',...  프리미엄호텔\n",
       "324  ['주차가능', '조식운영', '와이파이', '객실금연', '레스토랑', '바', ...  프리미엄호텔"
      ]
     },
     "execution_count": 276,
     "metadata": {},
     "output_type": "execute_result"
    }
   ],
   "source": [
    "dff"
   ]
  },
  {
   "cell_type": "code",
   "execution_count": 287,
   "id": "78a41e1f",
   "metadata": {},
   "outputs": [
    {
     "ename": "AttributeError",
     "evalue": "'str' object has no attribute 'loc'",
     "output_type": "error",
     "traceback": [
      "\u001b[1;31m---------------------------------------------------------------------------\u001b[0m",
      "\u001b[1;31mAttributeError\u001b[0m                            Traceback (most recent call last)",
      "Cell \u001b[1;32mIn[287], line 2\u001b[0m\n\u001b[0;32m      1\u001b[0m \u001b[38;5;28;01mfor\u001b[39;00m i \u001b[38;5;129;01min\u001b[39;00m dff:\n\u001b[1;32m----> 2\u001b[0m     \u001b[43mi\u001b[49m\u001b[38;5;241;43m.\u001b[39;49m\u001b[43mloc\u001b[49m[\u001b[38;5;241m0\u001b[39m,\u001b[38;5;124m'\u001b[39m\u001b[38;5;124m인기테그\u001b[39m\u001b[38;5;124m'\u001b[39m]\u001b[38;5;241m.\u001b[39mreplace(\u001b[38;5;124m'\u001b[39m\u001b[38;5;124m[\u001b[39m\u001b[38;5;124m'\u001b[39m,\u001b[38;5;124m'\u001b[39m\u001b[38;5;124m'\u001b[39m)\u001b[38;5;241m.\u001b[39mreplace(\u001b[38;5;124m'\u001b[39m\u001b[38;5;124m]\u001b[39m\u001b[38;5;124m'\u001b[39m,\u001b[38;5;124m'\u001b[39m\u001b[38;5;124m'\u001b[39m)\u001b[38;5;241m.\u001b[39mreplace(\u001b[38;5;124m\"\u001b[39m\u001b[38;5;124m'\u001b[39m\u001b[38;5;124m\"\u001b[39m,\u001b[38;5;124m'\u001b[39m\u001b[38;5;124m'\u001b[39m)\u001b[38;5;241m.\u001b[39mstrip()\u001b[38;5;241m.\u001b[39msplit(\u001b[38;5;124m'\u001b[39m\u001b[38;5;124m, \u001b[39m\u001b[38;5;124m'\u001b[39m)\n",
      "\u001b[1;31mAttributeError\u001b[0m: 'str' object has no attribute 'loc'"
     ]
    }
   ],
   "source": [
    "for i in dff:\n",
    "    i.loc[0,'인기테그'].replace('[','').replace(']','').replace(\"'\",'').strip().split(', ')"
   ]
  },
  {
   "cell_type": "code",
   "execution_count": 284,
   "id": "1a57939d",
   "metadata": {},
   "outputs": [
    {
     "data": {
      "text/plain": [
       "[1, 2, 3, 3, 4, 5]"
      ]
     },
     "execution_count": 284,
     "metadata": {},
     "output_type": "execute_result"
    }
   ],
   "source": [
    "lis = [1,2,3]\n",
    "lis2 = [3,4,5]\n",
    "lis_tot = lis +lis2\n",
    "lis_tot"
   ]
  },
  {
   "cell_type": "code",
   "execution_count": 266,
   "id": "bca2b5c1",
   "metadata": {},
   "outputs": [
    {
     "data": {
      "text/plain": [
       "\"['주차가능', '야외수영장', '수영장', '와이파이', '사우나', '클럽라운지', '객실금연', '레스토랑', '바', '연회장', '피트니스', '어메니티', '24시간데스크', '노트북대여', '유료세탁', '커피숍', '수화물보관']\""
      ]
     },
     "execution_count": 266,
     "metadata": {},
     "output_type": "execute_result"
    }
   ],
   "source": [
    "lis "
   ]
  },
  {
   "cell_type": "code",
   "execution_count": 273,
   "id": "6355efdd",
   "metadata": {},
   "outputs": [],
   "source": [
    "dff = cc[(cc['종류']=='프리미엄호텔')]"
   ]
  },
  {
   "cell_type": "code",
   "execution_count": 241,
   "id": "0f450e71",
   "metadata": {},
   "outputs": [
    {
     "data": {
      "text/html": [
       "<div>\n",
       "<style scoped>\n",
       "    .dataframe tbody tr th:only-of-type {\n",
       "        vertical-align: middle;\n",
       "    }\n",
       "\n",
       "    .dataframe tbody tr th {\n",
       "        vertical-align: top;\n",
       "    }\n",
       "\n",
       "    .dataframe thead th {\n",
       "        text-align: right;\n",
       "    }\n",
       "</style>\n",
       "<table border=\"1\" class=\"dataframe\">\n",
       "  <thead>\n",
       "    <tr style=\"text-align: right;\">\n",
       "      <th></th>\n",
       "      <th>인기테그</th>\n",
       "      <th>종류</th>\n",
       "    </tr>\n",
       "  </thead>\n",
       "  <tbody>\n",
       "    <tr>\n",
       "      <th>0</th>\n",
       "      <td>['주차가능', '야외수영장', '수영장', '와이파이', '사우나', '클럽라운지...</td>\n",
       "      <td>프리미엄호텔</td>\n",
       "    </tr>\n",
       "    <tr>\n",
       "      <th>1</th>\n",
       "      <td>['주차가능', '조식운영', '와이파이', '객실금연', '레스토랑', '바', ...</td>\n",
       "      <td>4성급</td>\n",
       "    </tr>\n",
       "    <tr>\n",
       "      <th>2</th>\n",
       "      <td>['주차가능', '와이파이', '객실금연', '피트니스', '어메니티', '비즈니스']</td>\n",
       "      <td>4성급</td>\n",
       "    </tr>\n",
       "    <tr>\n",
       "      <th>3</th>\n",
       "      <td>['스파/월풀/욕조', '와이파이', '객실금연', '24시간데스크', '비즈니스'...</td>\n",
       "      <td>일반호텔</td>\n",
       "    </tr>\n",
       "    <tr>\n",
       "      <th>4</th>\n",
       "      <td>['주차가능', '조식운영', '와이파이', '객실금연', '레스토랑', '연회장'...</td>\n",
       "      <td>일반호텔</td>\n",
       "    </tr>\n",
       "    <tr>\n",
       "      <th>...</th>\n",
       "      <td>...</td>\n",
       "      <td>...</td>\n",
       "    </tr>\n",
       "    <tr>\n",
       "      <th>1216</th>\n",
       "      <td>['와이파이']</td>\n",
       "      <td>게스트하우스</td>\n",
       "    </tr>\n",
       "    <tr>\n",
       "      <th>1217</th>\n",
       "      <td>['와이파이']</td>\n",
       "      <td>게스트하우스</td>\n",
       "    </tr>\n",
       "    <tr>\n",
       "      <th>1218</th>\n",
       "      <td>['와이파이', '독채객실']</td>\n",
       "      <td>펜션/호스텔</td>\n",
       "    </tr>\n",
       "    <tr>\n",
       "      <th>1219</th>\n",
       "      <td>['와이파이', '상비약']</td>\n",
       "      <td>펜션/호스텔</td>\n",
       "    </tr>\n",
       "    <tr>\n",
       "      <th>1220</th>\n",
       "      <td>['와이파이', '상비약']</td>\n",
       "      <td>펜션/호스텔</td>\n",
       "    </tr>\n",
       "  </tbody>\n",
       "</table>\n",
       "<p>1221 rows × 2 columns</p>\n",
       "</div>"
      ],
      "text/plain": [
       "                                                   인기테그      종류\n",
       "0     ['주차가능', '야외수영장', '수영장', '와이파이', '사우나', '클럽라운지...  프리미엄호텔\n",
       "1     ['주차가능', '조식운영', '와이파이', '객실금연', '레스토랑', '바', ...     4성급\n",
       "2      ['주차가능', '와이파이', '객실금연', '피트니스', '어메니티', '비즈니스']     4성급\n",
       "3     ['스파/월풀/욕조', '와이파이', '객실금연', '24시간데스크', '비즈니스'...    일반호텔\n",
       "4     ['주차가능', '조식운영', '와이파이', '객실금연', '레스토랑', '연회장'...    일반호텔\n",
       "...                                                 ...     ...\n",
       "1216                                           ['와이파이']  게스트하우스\n",
       "1217                                           ['와이파이']  게스트하우스\n",
       "1218                                   ['와이파이', '독채객실']  펜션/호스텔\n",
       "1219                                    ['와이파이', '상비약']  펜션/호스텔\n",
       "1220                                    ['와이파이', '상비약']  펜션/호스텔\n",
       "\n",
       "[1221 rows x 2 columns]"
      ]
     },
     "execution_count": 241,
     "metadata": {},
     "output_type": "execute_result"
    }
   ],
   "source": [
    "# 230516 추가 시작\n",
    "cc.explode(column='인기테그')"
   ]
  },
  {
   "cell_type": "code",
   "execution_count": null,
   "id": "7264ed66",
   "metadata": {},
   "outputs": [],
   "source": [
    "# 230516 추가 끝"
   ]
  },
  {
   "cell_type": "code",
   "execution_count": 445,
   "id": "3553b40c",
   "metadata": {},
   "outputs": [],
   "source": [
    "ll = result1"
   ]
  },
  {
   "cell_type": "code",
   "execution_count": 446,
   "id": "9f192d87",
   "metadata": {
    "scrolled": true
   },
   "outputs": [
    {
     "data": {
      "text/html": [
       "<div>\n",
       "<style scoped>\n",
       "    .dataframe tbody tr th:only-of-type {\n",
       "        vertical-align: middle;\n",
       "    }\n",
       "\n",
       "    .dataframe tbody tr th {\n",
       "        vertical-align: top;\n",
       "    }\n",
       "\n",
       "    .dataframe thead th {\n",
       "        text-align: right;\n",
       "    }\n",
       "</style>\n",
       "<table border=\"1\" class=\"dataframe\">\n",
       "  <thead>\n",
       "    <tr style=\"text-align: right;\">\n",
       "      <th></th>\n",
       "      <th>종류</th>\n",
       "      <th>평균평점</th>\n",
       "      <th>평균가격</th>\n",
       "      <th>cnt(종류)</th>\n",
       "    </tr>\n",
       "  </thead>\n",
       "  <tbody>\n",
       "    <tr>\n",
       "      <th>0</th>\n",
       "      <td>1성급</td>\n",
       "      <td>4.200000</td>\n",
       "      <td>81830.625000</td>\n",
       "      <td>16</td>\n",
       "    </tr>\n",
       "    <tr>\n",
       "      <th>1</th>\n",
       "      <td>2성급</td>\n",
       "      <td>4.260000</td>\n",
       "      <td>107795.666667</td>\n",
       "      <td>30</td>\n",
       "    </tr>\n",
       "    <tr>\n",
       "      <th>2</th>\n",
       "      <td>3성급</td>\n",
       "      <td>4.502083</td>\n",
       "      <td>165394.583333</td>\n",
       "      <td>48</td>\n",
       "    </tr>\n",
       "    <tr>\n",
       "      <th>3</th>\n",
       "      <td>4성급</td>\n",
       "      <td>4.634286</td>\n",
       "      <td>209979.142857</td>\n",
       "      <td>35</td>\n",
       "    </tr>\n",
       "    <tr>\n",
       "      <th>4</th>\n",
       "      <td>5성급</td>\n",
       "      <td>4.757576</td>\n",
       "      <td>452173.333333</td>\n",
       "      <td>33</td>\n",
       "    </tr>\n",
       "    <tr>\n",
       "      <th>5</th>\n",
       "      <td>게스트하우스</td>\n",
       "      <td>4.360000</td>\n",
       "      <td>59800.400000</td>\n",
       "      <td>5</td>\n",
       "    </tr>\n",
       "    <tr>\n",
       "      <th>6</th>\n",
       "      <td>레지던스</td>\n",
       "      <td>4.277778</td>\n",
       "      <td>121457.500000</td>\n",
       "      <td>18</td>\n",
       "    </tr>\n",
       "    <tr>\n",
       "      <th>7</th>\n",
       "      <td>모텔</td>\n",
       "      <td>4.402273</td>\n",
       "      <td>75102.136364</td>\n",
       "      <td>836</td>\n",
       "    </tr>\n",
       "    <tr>\n",
       "      <th>8</th>\n",
       "      <td>일반호텔</td>\n",
       "      <td>4.247590</td>\n",
       "      <td>131977.511628</td>\n",
       "      <td>172</td>\n",
       "    </tr>\n",
       "    <tr>\n",
       "      <th>9</th>\n",
       "      <td>전통호텔</td>\n",
       "      <td>4.500000</td>\n",
       "      <td>270000.000000</td>\n",
       "      <td>1</td>\n",
       "    </tr>\n",
       "    <tr>\n",
       "      <th>10</th>\n",
       "      <td>펜션/호스텔</td>\n",
       "      <td>3.807143</td>\n",
       "      <td>103214.285714</td>\n",
       "      <td>14</td>\n",
       "    </tr>\n",
       "    <tr>\n",
       "      <th>11</th>\n",
       "      <td>프리미엄호텔</td>\n",
       "      <td>4.561538</td>\n",
       "      <td>248665.384615</td>\n",
       "      <td>13</td>\n",
       "    </tr>\n",
       "  </tbody>\n",
       "</table>\n",
       "</div>"
      ],
      "text/plain": [
       "        종류      평균평점           평균가격  cnt(종류)\n",
       "0      1성급  4.200000   81830.625000       16\n",
       "1      2성급  4.260000  107795.666667       30\n",
       "2      3성급  4.502083  165394.583333       48\n",
       "3      4성급  4.634286  209979.142857       35\n",
       "4      5성급  4.757576  452173.333333       33\n",
       "5   게스트하우스  4.360000   59800.400000        5\n",
       "6     레지던스  4.277778  121457.500000       18\n",
       "7       모텔  4.402273   75102.136364      836\n",
       "8     일반호텔  4.247590  131977.511628      172\n",
       "9     전통호텔  4.500000  270000.000000        1\n",
       "10  펜션/호스텔  3.807143  103214.285714       14\n",
       "11  프리미엄호텔  4.561538  248665.384615       13"
      ]
     },
     "execution_count": 446,
     "metadata": {},
     "output_type": "execute_result"
    }
   ],
   "source": [
    "ll.reset_index()"
   ]
  },
  {
   "cell_type": "code",
   "execution_count": null,
   "id": "d351d892",
   "metadata": {},
   "outputs": [],
   "source": []
  }
 ],
 "metadata": {
  "kernelspec": {
   "display_name": "Python 3 (ipykernel)",
   "language": "python",
   "name": "python3"
  },
  "language_info": {
   "codemirror_mode": {
    "name": "ipython",
    "version": 3
   },
   "file_extension": ".py",
   "mimetype": "text/x-python",
   "name": "python",
   "nbconvert_exporter": "python",
   "pygments_lexer": "ipython3",
   "version": "3.8.7"
  }
 },
 "nbformat": 4,
 "nbformat_minor": 5
}
