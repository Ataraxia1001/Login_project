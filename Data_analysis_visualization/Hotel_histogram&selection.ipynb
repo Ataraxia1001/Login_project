{
 "cells": [
  {
   "cell_type": "code",
   "execution_count": 1,
   "id": "59950bb4",
   "metadata": {},
   "outputs": [],
   "source": [
    "import numpy as np\n",
    "import pandas as pd\n",
    "import seaborn as sns\n",
    "import matplotlib as mpl\n",
    "import matplotlib.pyplot as plt\n",
    "from matplotlib import font_manager, rc"
   ]
  },
  {
   "cell_type": "code",
   "execution_count": 14,
   "id": "20ed5767",
   "metadata": {},
   "outputs": [],
   "source": [
    "mpl.rcParams['axes.unicode_minus'] = False\n",
    "plt.rc('font', family='Malgun Gothic')"
   ]
  },
  {
   "cell_type": "code",
   "execution_count": 3,
   "id": "8a87bbd6",
   "metadata": {},
   "outputs": [],
   "source": [
    "df = pd.read_excel('./숙소위치기반_교통_관광_통계정보.xlsx')"
   ]
  },
  {
   "cell_type": "code",
   "execution_count": 4,
   "id": "0bd200fd",
   "metadata": {},
   "outputs": [
    {
     "data": {
      "text/html": [
       "<div>\n",
       "<style scoped>\n",
       "    .dataframe tbody tr th:only-of-type {\n",
       "        vertical-align: middle;\n",
       "    }\n",
       "\n",
       "    .dataframe tbody tr th {\n",
       "        vertical-align: top;\n",
       "    }\n",
       "\n",
       "    .dataframe thead th {\n",
       "        text-align: right;\n",
       "    }\n",
       "</style>\n",
       "<table border=\"1\" class=\"dataframe\">\n",
       "  <thead>\n",
       "    <tr style=\"text-align: right;\">\n",
       "      <th></th>\n",
       "      <th>이름</th>\n",
       "      <th>종류</th>\n",
       "      <th>평점</th>\n",
       "      <th>숙박가격</th>\n",
       "      <th>도보시간</th>\n",
       "      <th>인기테그</th>\n",
       "      <th>별점 높은순 후기</th>\n",
       "      <th>별점 낮은순 후기</th>\n",
       "      <th>주소</th>\n",
       "      <th>객실수</th>\n",
       "      <th>...</th>\n",
       "      <th>지하철역_평균거리(1km내)</th>\n",
       "      <th>교통유동인구_월평균승차수(1km내)</th>\n",
       "      <th>교통유동인구_월평균하차수(1km내)</th>\n",
       "      <th>교통유동인구_월평균승하차총계(1km내)</th>\n",
       "      <th>관광지_수(1km내)</th>\n",
       "      <th>쇼핑몰_수(1km내)</th>\n",
       "      <th>관광지_최단거리(1km내)</th>\n",
       "      <th>관광지_평균거리(1km내)</th>\n",
       "      <th>쇼핑몰_최단거리(1km내)</th>\n",
       "      <th>쇼핑몰_평균거리(1km내)</th>\n",
       "    </tr>\n",
       "  </thead>\n",
       "  <tbody>\n",
       "    <tr>\n",
       "      <th>0</th>\n",
       "      <td>앰배서더 서울 풀만 호텔</td>\n",
       "      <td>프리미엄호텔</td>\n",
       "      <td>4.8</td>\n",
       "      <td>250000</td>\n",
       "      <td>동대입구역 1번출구 250m</td>\n",
       "      <td>['주차가능', '야외수영장', '수영장', '와이파이', '사우나', '클럽라운지...</td>\n",
       "      <td>['시설에 비해 가격도 저렴합니당', '너무너무 깨끗하고 쾌적합니다.', '룸서비스...</td>\n",
       "      <td>[]</td>\n",
       "      <td>서울특별시 중구 동호로 287</td>\n",
       "      <td>269</td>\n",
       "      <td>...</td>\n",
       "      <td>0.72</td>\n",
       "      <td>14639.00</td>\n",
       "      <td>14774.87</td>\n",
       "      <td>29413.87</td>\n",
       "      <td>6</td>\n",
       "      <td>6</td>\n",
       "      <td>0.61</td>\n",
       "      <td>0.82</td>\n",
       "      <td>0.57</td>\n",
       "      <td>0.79</td>\n",
       "    </tr>\n",
       "    <tr>\n",
       "      <th>1</th>\n",
       "      <td>글래드 여의도</td>\n",
       "      <td>4성급</td>\n",
       "      <td>4.7</td>\n",
       "      <td>200640</td>\n",
       "      <td>국회의사당역 4번출구 도보 1분</td>\n",
       "      <td>['주차가능', '조식운영', '와이파이', '객실금연', '레스토랑', '바', ...</td>\n",
       "      <td>['정말 좋아요 말이 필요 없어요!', '컨디션은 항상 너무 좋네요! 최저가로 저렴...</td>\n",
       "      <td>['데이유즈 쪼매난 글씨에 속아 숙박전환 추가 55천원내고 아주 식겁시키네요', '...</td>\n",
       "      <td>서울특별시 영등포구 의사당대로 16</td>\n",
       "      <td>319</td>\n",
       "      <td>...</td>\n",
       "      <td>0.62</td>\n",
       "      <td>10186.50</td>\n",
       "      <td>10872.83</td>\n",
       "      <td>21059.33</td>\n",
       "      <td>9</td>\n",
       "      <td>2</td>\n",
       "      <td>0.19</td>\n",
       "      <td>0.63</td>\n",
       "      <td>0.75</td>\n",
       "      <td>0.87</td>\n",
       "    </tr>\n",
       "    <tr>\n",
       "      <th>2</th>\n",
       "      <td>글래드 마포</td>\n",
       "      <td>4성급</td>\n",
       "      <td>4.8</td>\n",
       "      <td>143000</td>\n",
       "      <td>공덕역 바로 앞</td>\n",
       "      <td>['주차가능', '와이파이', '객실금연', '피트니스', '어메니티', '비즈니스']</td>\n",
       "      <td>['너무 좋았습니다! 다음에 재방문할게요~~!', '자주 놀러가는 곳이에요', '완...</td>\n",
       "      <td>['난방이 안되는 호텔춥다고 했더니 체크인시 얘기했는데 어쩌라는 호텔', '지방에 ...</td>\n",
       "      <td>서울특별시 마포구 마포대로 92</td>\n",
       "      <td>378</td>\n",
       "      <td>...</td>\n",
       "      <td>0.38</td>\n",
       "      <td>8971.09</td>\n",
       "      <td>8879.44</td>\n",
       "      <td>17850.53</td>\n",
       "      <td>3</td>\n",
       "      <td>3</td>\n",
       "      <td>0.70</td>\n",
       "      <td>0.79</td>\n",
       "      <td>0.18</td>\n",
       "      <td>0.23</td>\n",
       "    </tr>\n",
       "    <tr>\n",
       "      <th>3</th>\n",
       "      <td>더 리프 사당</td>\n",
       "      <td>일반호텔</td>\n",
       "      <td>4.3</td>\n",
       "      <td>265000</td>\n",
       "      <td>서울특별시 관악구 남현 1길 66 사당역 5번 출구 도보 1분</td>\n",
       "      <td>['스파/월풀/욕조', '와이파이', '객실금연', '24시간데스크', '비즈니스'...</td>\n",
       "      <td>['너무좋았어용', '너무 친절하시고 시설이 이쁘고 깔끔해서 좋았어요', '기념일 ...</td>\n",
       "      <td>[]</td>\n",
       "      <td>서울특별시 관악구 남현1길 66</td>\n",
       "      <td>한국어</td>\n",
       "      <td>...</td>\n",
       "      <td>0.12</td>\n",
       "      <td>10374.66</td>\n",
       "      <td>10628.03</td>\n",
       "      <td>21002.69</td>\n",
       "      <td>9</td>\n",
       "      <td>3</td>\n",
       "      <td>0.16</td>\n",
       "      <td>0.71</td>\n",
       "      <td>0.49</td>\n",
       "      <td>0.81</td>\n",
       "    </tr>\n",
       "    <tr>\n",
       "      <th>4</th>\n",
       "      <td>나인트리 프리미어 로카우스 호텔 서울 용산</td>\n",
       "      <td>일반호텔</td>\n",
       "      <td>4.7</td>\n",
       "      <td>158000</td>\n",
       "      <td>용산역 1번 출구 도보 3분</td>\n",
       "      <td>['주차가능', '조식운영', '와이파이', '객실금연', '레스토랑', '연회장'...</td>\n",
       "      <td>['호캉스하기 좋아요', '좋아용 이용 추천', '어린 아이들이 놀기 좋은 적당한 ...</td>\n",
       "      <td>[]</td>\n",
       "      <td>서울특별시 용산구 한강대로23길 25</td>\n",
       "      <td>274</td>\n",
       "      <td>...</td>\n",
       "      <td>0.53</td>\n",
       "      <td>5777.21</td>\n",
       "      <td>5826.08</td>\n",
       "      <td>11603.29</td>\n",
       "      <td>15</td>\n",
       "      <td>7</td>\n",
       "      <td>0.13</td>\n",
       "      <td>0.50</td>\n",
       "      <td>0.14</td>\n",
       "      <td>0.43</td>\n",
       "    </tr>\n",
       "    <tr>\n",
       "      <th>...</th>\n",
       "      <td>...</td>\n",
       "      <td>...</td>\n",
       "      <td>...</td>\n",
       "      <td>...</td>\n",
       "      <td>...</td>\n",
       "      <td>...</td>\n",
       "      <td>...</td>\n",
       "      <td>...</td>\n",
       "      <td>...</td>\n",
       "      <td>...</td>\n",
       "      <td>...</td>\n",
       "      <td>...</td>\n",
       "      <td>...</td>\n",
       "      <td>...</td>\n",
       "      <td>...</td>\n",
       "      <td>...</td>\n",
       "      <td>...</td>\n",
       "      <td>...</td>\n",
       "      <td>...</td>\n",
       "      <td>...</td>\n",
       "      <td>...</td>\n",
       "    </tr>\n",
       "    <tr>\n",
       "      <th>1210</th>\n",
       "      <td>서울 인사동알게스트하우스</td>\n",
       "      <td>게스트하우스</td>\n",
       "      <td>4.8</td>\n",
       "      <td>60000</td>\n",
       "      <td>숙소 위치보기</td>\n",
       "      <td>['와이파이']</td>\n",
       "      <td>['사장님너무친절하시고따뜻방이라 너무좋앗습니다', '깨끗하고 자취방 같이 아늑합니다...</td>\n",
       "      <td>[]</td>\n",
       "      <td>서울특별시 종로구 수표로28길 12-3</td>\n",
       "      <td>NaN</td>\n",
       "      <td>...</td>\n",
       "      <td>0.55</td>\n",
       "      <td>15709.98</td>\n",
       "      <td>15577.89</td>\n",
       "      <td>31287.87</td>\n",
       "      <td>14</td>\n",
       "      <td>3</td>\n",
       "      <td>0.22</td>\n",
       "      <td>0.66</td>\n",
       "      <td>0.38</td>\n",
       "      <td>0.62</td>\n",
       "    </tr>\n",
       "    <tr>\n",
       "      <th>1211</th>\n",
       "      <td>서울 룩스게스트하우스</td>\n",
       "      <td>게스트하우스</td>\n",
       "      <td>3.6</td>\n",
       "      <td>57000</td>\n",
       "      <td>숙소 위치보기</td>\n",
       "      <td>['와이파이']</td>\n",
       "      <td>['수건 많음, 화장실은 살짝 냄새남, 잠 자기에는 편했음, 이불이 푹신했음', '...</td>\n",
       "      <td>[]</td>\n",
       "      <td>서울특별시 마포구 와우산로 156 5층</td>\n",
       "      <td>NaN</td>\n",
       "      <td>...</td>\n",
       "      <td>0.56</td>\n",
       "      <td>9200.38</td>\n",
       "      <td>9224.02</td>\n",
       "      <td>18424.39</td>\n",
       "      <td>24</td>\n",
       "      <td>8</td>\n",
       "      <td>0.04</td>\n",
       "      <td>0.58</td>\n",
       "      <td>0.28</td>\n",
       "      <td>0.48</td>\n",
       "    </tr>\n",
       "    <tr>\n",
       "      <th>1212</th>\n",
       "      <td>서울 Bottlehouse펜션</td>\n",
       "      <td>펜션/호스텔</td>\n",
       "      <td>4.0</td>\n",
       "      <td>108000</td>\n",
       "      <td>숙소 위치보기</td>\n",
       "      <td>['와이파이', '독채객실']</td>\n",
       "      <td>['좋았어요!!!', '??숙소는 역근처 건물 3층에 위치하고 있어요. 찾아오기 어...</td>\n",
       "      <td>[]</td>\n",
       "      <td>서울특별시 구로구 경인로25길 16 301호</td>\n",
       "      <td>NaN</td>\n",
       "      <td>...</td>\n",
       "      <td>0.31</td>\n",
       "      <td>3052.86</td>\n",
       "      <td>2879.38</td>\n",
       "      <td>5932.24</td>\n",
       "      <td>2</td>\n",
       "      <td>2</td>\n",
       "      <td>0.26</td>\n",
       "      <td>0.45</td>\n",
       "      <td>0.09</td>\n",
       "      <td>0.43</td>\n",
       "    </tr>\n",
       "    <tr>\n",
       "      <th>1213</th>\n",
       "      <td>서울 종로준오호텔펜션</td>\n",
       "      <td>펜션/호스텔</td>\n",
       "      <td>5.0</td>\n",
       "      <td>90000</td>\n",
       "      <td>숙소 위치보기</td>\n",
       "      <td>['와이파이', '상비약']</td>\n",
       "      <td>['숙소 깔끔하고 인테리어도 분위기 있어요! 특히 화장실 청소 잘되있습니다! 사장님...</td>\n",
       "      <td>[]</td>\n",
       "      <td>서울특별시 종로구 인사동16길 6</td>\n",
       "      <td>NaN</td>\n",
       "      <td>...</td>\n",
       "      <td>0.66</td>\n",
       "      <td>16649.36</td>\n",
       "      <td>16269.74</td>\n",
       "      <td>32919.10</td>\n",
       "      <td>23</td>\n",
       "      <td>4</td>\n",
       "      <td>0.09</td>\n",
       "      <td>0.60</td>\n",
       "      <td>0.09</td>\n",
       "      <td>0.70</td>\n",
       "    </tr>\n",
       "    <tr>\n",
       "      <th>1214</th>\n",
       "      <td>서울 홍대하얀집몽하우스펜션</td>\n",
       "      <td>펜션/호스텔</td>\n",
       "      <td>1.0</td>\n",
       "      <td>119000</td>\n",
       "      <td>숙소 위치보기</td>\n",
       "      <td>['와이파이', '상비약']</td>\n",
       "      <td>['독립된 화장실이 있어서 9만원 정도에 방을 잡았습니다. 늦은 시간에 예약했다지만...</td>\n",
       "      <td>[]</td>\n",
       "      <td>서울특별시 마포구 와우산로 162-8</td>\n",
       "      <td>NaN</td>\n",
       "      <td>...</td>\n",
       "      <td>0.57</td>\n",
       "      <td>9409.11</td>\n",
       "      <td>9404.70</td>\n",
       "      <td>18813.81</td>\n",
       "      <td>24</td>\n",
       "      <td>8</td>\n",
       "      <td>0.08</td>\n",
       "      <td>0.59</td>\n",
       "      <td>0.23</td>\n",
       "      <td>0.47</td>\n",
       "    </tr>\n",
       "  </tbody>\n",
       "</table>\n",
       "<p>1215 rows × 34 columns</p>\n",
       "</div>"
      ],
      "text/plain": [
       "                           이름      종류   평점    숙박가격  \\\n",
       "0               앰배서더 서울 풀만 호텔  프리미엄호텔  4.8  250000   \n",
       "1                     글래드 여의도     4성급  4.7  200640   \n",
       "2                      글래드 마포     4성급  4.8  143000   \n",
       "3                     더 리프 사당    일반호텔  4.3  265000   \n",
       "4     나인트리 프리미어 로카우스 호텔 서울 용산    일반호텔  4.7  158000   \n",
       "...                       ...     ...  ...     ...   \n",
       "1210            서울 인사동알게스트하우스  게스트하우스  4.8   60000   \n",
       "1211              서울 룩스게스트하우스  게스트하우스  3.6   57000   \n",
       "1212         서울 Bottlehouse펜션  펜션/호스텔  4.0  108000   \n",
       "1213              서울 종로준오호텔펜션  펜션/호스텔  5.0   90000   \n",
       "1214           서울 홍대하얀집몽하우스펜션  펜션/호스텔  1.0  119000   \n",
       "\n",
       "                                    도보시간  \\\n",
       "0                        동대입구역 1번출구 250m   \n",
       "1                      국회의사당역 4번출구 도보 1분   \n",
       "2                               공덕역 바로 앞   \n",
       "3     서울특별시 관악구 남현 1길 66 사당역 5번 출구 도보 1분   \n",
       "4                        용산역 1번 출구 도보 3분   \n",
       "...                                  ...   \n",
       "1210                             숙소 위치보기   \n",
       "1211                             숙소 위치보기   \n",
       "1212                             숙소 위치보기   \n",
       "1213                             숙소 위치보기   \n",
       "1214                             숙소 위치보기   \n",
       "\n",
       "                                                   인기테그  \\\n",
       "0     ['주차가능', '야외수영장', '수영장', '와이파이', '사우나', '클럽라운지...   \n",
       "1     ['주차가능', '조식운영', '와이파이', '객실금연', '레스토랑', '바', ...   \n",
       "2      ['주차가능', '와이파이', '객실금연', '피트니스', '어메니티', '비즈니스']   \n",
       "3     ['스파/월풀/욕조', '와이파이', '객실금연', '24시간데스크', '비즈니스'...   \n",
       "4     ['주차가능', '조식운영', '와이파이', '객실금연', '레스토랑', '연회장'...   \n",
       "...                                                 ...   \n",
       "1210                                           ['와이파이']   \n",
       "1211                                           ['와이파이']   \n",
       "1212                                   ['와이파이', '독채객실']   \n",
       "1213                                    ['와이파이', '상비약']   \n",
       "1214                                    ['와이파이', '상비약']   \n",
       "\n",
       "                                              별점 높은순 후기  \\\n",
       "0     ['시설에 비해 가격도 저렴합니당', '너무너무 깨끗하고 쾌적합니다.', '룸서비스...   \n",
       "1     ['정말 좋아요 말이 필요 없어요!', '컨디션은 항상 너무 좋네요! 최저가로 저렴...   \n",
       "2     ['너무 좋았습니다! 다음에 재방문할게요~~!', '자주 놀러가는 곳이에요', '완...   \n",
       "3     ['너무좋았어용', '너무 친절하시고 시설이 이쁘고 깔끔해서 좋았어요', '기념일 ...   \n",
       "4     ['호캉스하기 좋아요', '좋아용 이용 추천', '어린 아이들이 놀기 좋은 적당한 ...   \n",
       "...                                                 ...   \n",
       "1210  ['사장님너무친절하시고따뜻방이라 너무좋앗습니다', '깨끗하고 자취방 같이 아늑합니다...   \n",
       "1211  ['수건 많음, 화장실은 살짝 냄새남, 잠 자기에는 편했음, 이불이 푹신했음', '...   \n",
       "1212  ['좋았어요!!!', '??숙소는 역근처 건물 3층에 위치하고 있어요. 찾아오기 어...   \n",
       "1213  ['숙소 깔끔하고 인테리어도 분위기 있어요! 특히 화장실 청소 잘되있습니다! 사장님...   \n",
       "1214  ['독립된 화장실이 있어서 9만원 정도에 방을 잡았습니다. 늦은 시간에 예약했다지만...   \n",
       "\n",
       "                                              별점 낮은순 후기  \\\n",
       "0                                                    []   \n",
       "1     ['데이유즈 쪼매난 글씨에 속아 숙박전환 추가 55천원내고 아주 식겁시키네요', '...   \n",
       "2     ['난방이 안되는 호텔춥다고 했더니 체크인시 얘기했는데 어쩌라는 호텔', '지방에 ...   \n",
       "3                                                    []   \n",
       "4                                                    []   \n",
       "...                                                 ...   \n",
       "1210                                                 []   \n",
       "1211                                                 []   \n",
       "1212                                                 []   \n",
       "1213                                                 []   \n",
       "1214                                                 []   \n",
       "\n",
       "                            주소  객실수  ...  지하철역_평균거리(1km내) 교통유동인구_월평균승차수(1km내)  \\\n",
       "0             서울특별시 중구 동호로 287  269  ...             0.72            14639.00   \n",
       "1          서울특별시 영등포구 의사당대로 16  319  ...             0.62            10186.50   \n",
       "2            서울특별시 마포구 마포대로 92  378  ...             0.38             8971.09   \n",
       "3            서울특별시 관악구 남현1길 66  한국어  ...             0.12            10374.66   \n",
       "4         서울특별시 용산구 한강대로23길 25  274  ...             0.53             5777.21   \n",
       "...                        ...  ...  ...              ...                 ...   \n",
       "1210     서울특별시 종로구 수표로28길 12-3  NaN  ...             0.55            15709.98   \n",
       "1211     서울특별시 마포구 와우산로 156 5층  NaN  ...             0.56             9200.38   \n",
       "1212  서울특별시 구로구 경인로25길 16 301호  NaN  ...             0.31             3052.86   \n",
       "1213       서울특별시 종로구 인사동16길 6   NaN  ...             0.66            16649.36   \n",
       "1214     서울특별시 마포구 와우산로 162-8   NaN  ...             0.57             9409.11   \n",
       "\n",
       "     교통유동인구_월평균하차수(1km내)  교통유동인구_월평균승하차총계(1km내)  관광지_수(1km내)  쇼핑몰_수(1km내)  \\\n",
       "0               14774.87               29413.87            6            6   \n",
       "1               10872.83               21059.33            9            2   \n",
       "2                8879.44               17850.53            3            3   \n",
       "3               10628.03               21002.69            9            3   \n",
       "4                5826.08               11603.29           15            7   \n",
       "...                  ...                    ...          ...          ...   \n",
       "1210            15577.89               31287.87           14            3   \n",
       "1211             9224.02               18424.39           24            8   \n",
       "1212             2879.38                5932.24            2            2   \n",
       "1213            16269.74               32919.10           23            4   \n",
       "1214             9404.70               18813.81           24            8   \n",
       "\n",
       "      관광지_최단거리(1km내)  관광지_평균거리(1km내)  쇼핑몰_최단거리(1km내)  쇼핑몰_평균거리(1km내)  \n",
       "0               0.61            0.82            0.57            0.79  \n",
       "1               0.19            0.63            0.75            0.87  \n",
       "2               0.70            0.79            0.18            0.23  \n",
       "3               0.16            0.71            0.49            0.81  \n",
       "4               0.13            0.50            0.14            0.43  \n",
       "...              ...             ...             ...             ...  \n",
       "1210            0.22            0.66            0.38            0.62  \n",
       "1211            0.04            0.58            0.28            0.48  \n",
       "1212            0.26            0.45            0.09            0.43  \n",
       "1213            0.09            0.60            0.09            0.70  \n",
       "1214            0.08            0.59            0.23            0.47  \n",
       "\n",
       "[1215 rows x 34 columns]"
      ]
     },
     "execution_count": 4,
     "metadata": {},
     "output_type": "execute_result"
    }
   ],
   "source": [
    "df"
   ]
  },
  {
   "cell_type": "code",
   "execution_count": 5,
   "id": "161bb101",
   "metadata": {},
   "outputs": [
    {
     "data": {
      "text/plain": [
       "Index(['이름', '종류', '평점', '숙박가격', '도보시간', '인기테그', '별점 높은순 후기', '별점 낮은순 후기',\n",
       "       '주소', '객실수', '총후기', '대실가격', '대실시간', '위도', '경도', '경쟁업소_수(1km내)',\n",
       "       '경쟁업소_최단거리(1km내)', '경쟁업소_최장거리(1km내)', '경쟁업소_평균거리(1km내)',\n",
       "       '버스정류장_수(1km내)', '지하철역_수(1km내)', '버스정류장_최단거리(1km내)', '버스정류장_평균거리(1km내)',\n",
       "       '지하철역_최단거리(1km내)', '지하철역_평균거리(1km내)', '교통유동인구_월평균승차수(1km내)',\n",
       "       '교통유동인구_월평균하차수(1km내)', '교통유동인구_월평균승하차총계(1km내)', '관광지_수(1km내)',\n",
       "       '쇼핑몰_수(1km내)', '관광지_최단거리(1km내)', '관광지_평균거리(1km내)', '쇼핑몰_최단거리(1km내)',\n",
       "       '쇼핑몰_평균거리(1km내)'],\n",
       "      dtype='object')"
      ]
     },
     "execution_count": 5,
     "metadata": {},
     "output_type": "execute_result"
    }
   ],
   "source": [
    "df.columns"
   ]
  },
  {
   "cell_type": "code",
   "execution_count": 33,
   "id": "1f815153",
   "metadata": {},
   "outputs": [
    {
     "data": {
      "image/png": "[encoded data removed]",
      "text/plain": [
       "<Figure size 640x480 with 1 Axes>"
      ]
     },
     "metadata": {},
     "output_type": "display_data"
    }
   ],
   "source": [
    "sns.histplot(df['경쟁업소_수(1km내)'], bins=30, kde=False, color='skyblue', edgecolor='none')\n",
    "plt.xlabel('1km내 경쟁업소수')\n",
    "plt.ylabel('빈도수')\n",
    "plt.title('1km내 경쟁업소수')\n",
    "plt.show()"
   ]
  },
  {
   "cell_type": "code",
   "execution_count": 24,
   "id": "79f312dc",
   "metadata": {},
   "outputs": [
    {
     "data": {
      "image/png": "[encoded data removed]",
      "text/plain": [
       "<Figure size 640x480 with 1 Axes>"
      ]
     },
     "metadata": {},
     "output_type": "display_data"
    }
   ],
   "source": [
    "sns.histplot(df['경쟁업소_수(1km내)'], bins=150, kde=False, color='skyblue', edgecolor='none')\n",
    "plt.xlabel('1km내 경쟁업소수')\n",
    "plt.ylabel('빈도수')\n",
    "plt.xlim(0,20)\n",
    "plt.title('1km내 경쟁업소수')\n",
    "plt.show()"
   ]
  },
  {
   "cell_type": "code",
   "execution_count": 40,
   "id": "ea8ea1d2",
   "metadata": {},
   "outputs": [
    {
     "data": {
      "image/png": "[encoded data removed]",
      "text/plain": [
       "<Figure size 640x480 with 1 Axes>"
      ]
     },
     "metadata": {},
     "output_type": "display_data"
    }
   ],
   "source": [
    "sns.histplot(df['버스정류장_수(1km내)'], bins=30, kde=False, color='skyblue', edgecolor='none')\n",
    "plt.xlabel('1km내 버스정류장수')\n",
    "plt.ylabel('빈도수')\n",
    "plt.title('1km내 버스정류장수')\n",
    "plt.show()"
   ]
  },
  {
   "cell_type": "code",
   "execution_count": 28,
   "id": "3d496017",
   "metadata": {},
   "outputs": [
    {
     "data": {
      "image/png": "[encoded data removed]",
      "text/plain": [
       "<Figure size 640x480 with 1 Axes>"
      ]
     },
     "metadata": {},
     "output_type": "display_data"
    }
   ],
   "source": [
    "sns.histplot(df['지하철역_수(1km내)'], bins=15, kde=False, color='skyblue', edgecolor='none')\n",
    "plt.xlabel('1km내 지하철역수')\n",
    "plt.ylabel('빈도수')\n",
    "plt.title('1km내 지하철역수')\n",
    "plt.show()"
   ]
  },
  {
   "cell_type": "code",
   "execution_count": 42,
   "id": "6cd397b5",
   "metadata": {},
   "outputs": [
    {
     "data": {
      "image/png": "[encoded data removed]",
      "text/plain": [
       "<Figure size 640x480 with 1 Axes>"
      ]
     },
     "metadata": {},
     "output_type": "display_data"
    }
   ],
   "source": [
    "sns.histplot(df['교통유동인구_월평균승하차총계(1km내)'], bins=15, kde=False, color='skyblue', edgecolor='none')\n",
    "plt.xlabel('1km내 교통유동인구(월평균 승하차)')\n",
    "plt.ylabel('빈도수')\n",
    "plt.title('1km내 교통유동인구')\n",
    "plt.show()"
   ]
  },
  {
   "cell_type": "code",
   "execution_count": 43,
   "id": "010f5956",
   "metadata": {},
   "outputs": [
    {
     "data": {
      "image/png": "[encoded data removed]",
      "text/plain": [
       "<Figure size 640x480 with 1 Axes>"
      ]
     },
     "metadata": {},
     "output_type": "display_data"
    }
   ],
   "source": [
    "sns.histplot(df['관광지_수(1km내)'], bins=15, kde=False, color='skyblue', edgecolor='none')\n",
    "plt.xlabel('1km내 관광지수')\n",
    "plt.ylabel('빈도수')\n",
    "plt.title('1km내 관광지수')\n",
    "plt.show()"
   ]
  },
  {
   "cell_type": "code",
   "execution_count": 45,
   "id": "4e908c7e",
   "metadata": {},
   "outputs": [
    {
     "data": {
      "image/png": "[encoded data removed]",
      "text/plain": [
       "<Figure size 640x480 with 1 Axes>"
      ]
     },
     "metadata": {},
     "output_type": "display_data"
    }
   ],
   "source": [
    "sns.histplot(df['쇼핑몰_수(1km내)'], bins=15, kde=False, color='skyblue', edgecolor='none')\n",
    "plt.xlabel('1km내 쇼핑몰수')\n",
    "plt.ylabel('빈도수')\n",
    "plt.title('1km내 쇼핑몰수')\n",
    "plt.show()"
   ]
  },
  {
   "cell_type": "code",
   "execution_count": null,
   "id": "0b9a0077",
   "metadata": {},
   "outputs": [],
   "source": [
    "sns.histplot(df['쇼핑몰_수(1km내)'], bins=15, kde=False, color='skyblue', edgecolor='none')\n",
    "plt.xlabel('1km내 쇼핑몰수')\n",
    "plt.ylabel('빈도수')\n",
    "plt.title('1km내 쇼핑몰수')\n",
    "plt.show()"
   ]
  },
  {
   "cell_type": "code",
   "execution_count": 125,
   "id": "76de2373",
   "metadata": {},
   "outputs": [
    {
     "data": {
      "text/html": [
       "<div>\n",
       "<style scoped>\n",
       "    .dataframe tbody tr th:only-of-type {\n",
       "        vertical-align: middle;\n",
       "    }\n",
       "\n",
       "    .dataframe tbody tr th {\n",
       "        vertical-align: top;\n",
       "    }\n",
       "\n",
       "    .dataframe thead th {\n",
       "        text-align: right;\n",
       "    }\n",
       "</style>\n",
       "<table border=\"1\" class=\"dataframe\">\n",
       "  <thead>\n",
       "    <tr style=\"text-align: right;\">\n",
       "      <th></th>\n",
       "      <th>이름</th>\n",
       "      <th>종류</th>\n",
       "      <th>평점</th>\n",
       "      <th>숙박가격</th>\n",
       "      <th>도보시간</th>\n",
       "      <th>인기테그</th>\n",
       "      <th>별점 높은순 후기</th>\n",
       "      <th>별점 낮은순 후기</th>\n",
       "      <th>주소</th>\n",
       "      <th>객실수</th>\n",
       "      <th>...</th>\n",
       "      <th>지하철역_평균거리(1km내)</th>\n",
       "      <th>교통유동인구_월평균승차수(1km내)</th>\n",
       "      <th>교통유동인구_월평균하차수(1km내)</th>\n",
       "      <th>교통유동인구_월평균승하차총계(1km내)</th>\n",
       "      <th>관광지_수(1km내)</th>\n",
       "      <th>쇼핑몰_수(1km내)</th>\n",
       "      <th>관광지_최단거리(1km내)</th>\n",
       "      <th>관광지_평균거리(1km내)</th>\n",
       "      <th>쇼핑몰_최단거리(1km내)</th>\n",
       "      <th>쇼핑몰_평균거리(1km내)</th>\n",
       "    </tr>\n",
       "  </thead>\n",
       "  <tbody>\n",
       "    <tr>\n",
       "      <th>82</th>\n",
       "      <td>홍대 나인브릭 호텔</td>\n",
       "      <td>일반호텔</td>\n",
       "      <td>4.7</td>\n",
       "      <td>162000</td>\n",
       "      <td>홍대입구역 9번출구 도보 6분</td>\n",
       "      <td>['주차가능', '와이파이', '비즈니스']</td>\n",
       "      <td>['멋진곳에서 즐겁게 보내고 갑니다.', '잘쉬었다왔습니다 편하네요', '오랜만의 ...</td>\n",
       "      <td>['제가 이상한건진 모르겠지만 아무리 위치가 좋다해도 동네 모텔수준 인테리어와 시설...</td>\n",
       "      <td>서울특별시 마포구 홍익로5길 32</td>\n",
       "      <td>94</td>\n",
       "      <td>...</td>\n",
       "      <td>0.72</td>\n",
       "      <td>12724.59</td>\n",
       "      <td>13177.16</td>\n",
       "      <td>25901.75</td>\n",
       "      <td>20</td>\n",
       "      <td>5</td>\n",
       "      <td>0.23</td>\n",
       "      <td>0.56</td>\n",
       "      <td>0.54</td>\n",
       "      <td>0.65</td>\n",
       "    </tr>\n",
       "    <tr>\n",
       "      <th>101</th>\n",
       "      <td>아만티 호텔 서울 홍대</td>\n",
       "      <td>4성급</td>\n",
       "      <td>4.7</td>\n",
       "      <td>220000</td>\n",
       "      <td>홍대입구역 1번출구 543m</td>\n",
       "      <td>['주차가능', '야외수영장', '조식운영', '와이파이', '객실금연', '레스토...</td>\n",
       "      <td>['깨끗하고 너무 좋습니다!', '너무좋아요 또 숙박하고싶어요', '너무 깨끗하고 ...</td>\n",
       "      <td>['청소상태ㅠㅠ', '안녕하십니까, 아만티 호텔 서울입니다.아만티 호텔 서울을 선택...</td>\n",
       "      <td>서울특별시 마포구 월드컵북로 31</td>\n",
       "      <td>한국어</td>\n",
       "      <td>...</td>\n",
       "      <td>0.76</td>\n",
       "      <td>12674.05</td>\n",
       "      <td>12904.87</td>\n",
       "      <td>25578.92</td>\n",
       "      <td>17</td>\n",
       "      <td>5</td>\n",
       "      <td>0.32</td>\n",
       "      <td>0.68</td>\n",
       "      <td>0.55</td>\n",
       "      <td>0.68</td>\n",
       "    </tr>\n",
       "    <tr>\n",
       "      <th>238</th>\n",
       "      <td>포시즌스 호텔 서울</td>\n",
       "      <td>5성급</td>\n",
       "      <td>5.0</td>\n",
       "      <td>781000</td>\n",
       "      <td>광화문역 도보 5분</td>\n",
       "      <td>['스파/월풀/욕조', '주차가능', '수영장', '조식운영', '와이파이', '야...</td>\n",
       "      <td>['두말이 필요없는 최고의 호텔', '프리미엄 예약했다가 체크인 시 비용 추가하여 ...</td>\n",
       "      <td>[]</td>\n",
       "      <td>서울특별시 종로구 새문안로 97</td>\n",
       "      <td>317</td>\n",
       "      <td>...</td>\n",
       "      <td>0.65</td>\n",
       "      <td>15933.55</td>\n",
       "      <td>15587.61</td>\n",
       "      <td>31521.17</td>\n",
       "      <td>21</td>\n",
       "      <td>7</td>\n",
       "      <td>0.23</td>\n",
       "      <td>0.64</td>\n",
       "      <td>0.14</td>\n",
       "      <td>0.70</td>\n",
       "    </tr>\n",
       "    <tr>\n",
       "      <th>304</th>\n",
       "      <td>홍대 보보 호텔</td>\n",
       "      <td>2성급</td>\n",
       "      <td>4.7</td>\n",
       "      <td>100000</td>\n",
       "      <td>합정역 3번출구 도보 4분</td>\n",
       "      <td>['주차가능', '조식운영', '와이파이', '야외테라스', '흡연구역', '객실금...</td>\n",
       "      <td>['깔끔하고 좋아요', '깔끔하고 좋았어요', '깔끔하고 좋았어용', '근처에서 제...</td>\n",
       "      <td>['입실하고 방에서 간단하게 맥주한잔하고 씻고 누우려는데 시트에 피가 묻어있었습니다...</td>\n",
       "      <td>서울특별시 마포구 양화로 94</td>\n",
       "      <td>55</td>\n",
       "      <td>...</td>\n",
       "      <td>0.76</td>\n",
       "      <td>13732.67</td>\n",
       "      <td>14387.65</td>\n",
       "      <td>28120.33</td>\n",
       "      <td>19</td>\n",
       "      <td>5</td>\n",
       "      <td>0.22</td>\n",
       "      <td>0.63</td>\n",
       "      <td>0.45</td>\n",
       "      <td>0.81</td>\n",
       "    </tr>\n",
       "    <tr>\n",
       "      <th>747</th>\n",
       "      <td>홍대 더휴식 아늑호텔</td>\n",
       "      <td>모텔</td>\n",
       "      <td>4.5</td>\n",
       "      <td>160000</td>\n",
       "      <td>숙소 위치보기</td>\n",
       "      <td>['객실내PC', '무료영화(OTT)', '게임', '와이파이', 'VOD', '어...</td>\n",
       "      <td>['잘이용했습니다', '봉산동일격필살님 안녕하세요.더휴식 아늑 홍대지점 조정화 대리...</td>\n",
       "      <td>NaN</td>\n",
       "      <td>서울특별시 마포구 동교로 162-7 (서교동)</td>\n",
       "      <td>38</td>\n",
       "      <td>...</td>\n",
       "      <td>0.72</td>\n",
       "      <td>12545.16</td>\n",
       "      <td>13050.01</td>\n",
       "      <td>25595.17</td>\n",
       "      <td>20</td>\n",
       "      <td>5</td>\n",
       "      <td>0.15</td>\n",
       "      <td>0.59</td>\n",
       "      <td>0.44</td>\n",
       "      <td>0.59</td>\n",
       "    </tr>\n",
       "    <tr>\n",
       "      <th>787</th>\n",
       "      <td>홍대 나인브릭 호텔</td>\n",
       "      <td>모텔</td>\n",
       "      <td>4.9</td>\n",
       "      <td>447000</td>\n",
       "      <td>숙소 위치보기</td>\n",
       "      <td>['스파/월풀/욕조', '주차가능', '조식운영', '와이파이', '야외테라스', ...</td>\n",
       "      <td>['너무너무 좋아요!!', '안녕하십니까, 나인브릭호텔입니다. 오늘도 저희 나인브릭...</td>\n",
       "      <td>['지금까지 왔던 호텔 중에 최악이었어요.1. 먼지가 너무 많아요. 욕조 안에도 먼...</td>\n",
       "      <td>서울특별시 마포구 홍익로5길 32 (서교동)</td>\n",
       "      <td>94</td>\n",
       "      <td>...</td>\n",
       "      <td>0.72</td>\n",
       "      <td>12724.59</td>\n",
       "      <td>13177.16</td>\n",
       "      <td>25901.75</td>\n",
       "      <td>20</td>\n",
       "      <td>5</td>\n",
       "      <td>0.23</td>\n",
       "      <td>0.56</td>\n",
       "      <td>0.54</td>\n",
       "      <td>0.65</td>\n",
       "    </tr>\n",
       "    <tr>\n",
       "      <th>802</th>\n",
       "      <td>홍대 보보호텔</td>\n",
       "      <td>모텔</td>\n",
       "      <td>4.5</td>\n",
       "      <td>75102</td>\n",
       "      <td>2호선 홍대입구역 9번출구 100m 이내</td>\n",
       "      <td>['주차가능', '조식운영', '와이파이', '트윈베드', '객실금연', '바', ...</td>\n",
       "      <td>['잘쉬다갑니다', '좋아요 담에또오고싶네요', '잘쉬다갑니다', '깔끔하고 분위기...</td>\n",
       "      <td>['그냥 쓰레기 내 돈이 아까움', '506호 묵었던 손님입니다. 새벽에 씻고 나왔...</td>\n",
       "      <td>서울특별시 마포구 양화로 94 (서교동)</td>\n",
       "      <td>50</td>\n",
       "      <td>...</td>\n",
       "      <td>0.76</td>\n",
       "      <td>13732.67</td>\n",
       "      <td>14387.65</td>\n",
       "      <td>28120.33</td>\n",
       "      <td>19</td>\n",
       "      <td>5</td>\n",
       "      <td>0.22</td>\n",
       "      <td>0.63</td>\n",
       "      <td>0.45</td>\n",
       "      <td>0.81</td>\n",
       "    </tr>\n",
       "  </tbody>\n",
       "</table>\n",
       "<p>7 rows × 34 columns</p>\n",
       "</div>"
      ],
      "text/plain": [
       "               이름    종류   평점    숙박가격                    도보시간  \\\n",
       "82     홍대 나인브릭 호텔  일반호텔  4.7  162000        홍대입구역 9번출구 도보 6분   \n",
       "101  아만티 호텔 서울 홍대   4성급  4.7  220000         홍대입구역 1번출구 543m   \n",
       "238    포시즌스 호텔 서울   5성급  5.0  781000              광화문역 도보 5분   \n",
       "304      홍대 보보 호텔   2성급  4.7  100000          합정역 3번출구 도보 4분   \n",
       "747   홍대 더휴식 아늑호텔    모텔  4.5  160000                 숙소 위치보기   \n",
       "787    홍대 나인브릭 호텔    모텔  4.9  447000                 숙소 위치보기   \n",
       "802       홍대 보보호텔    모텔  4.5   75102  2호선 홍대입구역 9번출구 100m 이내   \n",
       "\n",
       "                                                  인기테그  \\\n",
       "82                            ['주차가능', '와이파이', '비즈니스']   \n",
       "101  ['주차가능', '야외수영장', '조식운영', '와이파이', '객실금연', '레스토...   \n",
       "238  ['스파/월풀/욕조', '주차가능', '수영장', '조식운영', '와이파이', '야...   \n",
       "304  ['주차가능', '조식운영', '와이파이', '야외테라스', '흡연구역', '객실금...   \n",
       "747  ['객실내PC', '무료영화(OTT)', '게임', '와이파이', 'VOD', '어...   \n",
       "787  ['스파/월풀/욕조', '주차가능', '조식운영', '와이파이', '야외테라스', ...   \n",
       "802  ['주차가능', '조식운영', '와이파이', '트윈베드', '객실금연', '바', ...   \n",
       "\n",
       "                                             별점 높은순 후기  \\\n",
       "82   ['멋진곳에서 즐겁게 보내고 갑니다.', '잘쉬었다왔습니다 편하네요', '오랜만의 ...   \n",
       "101  ['깨끗하고 너무 좋습니다!', '너무좋아요 또 숙박하고싶어요', '너무 깨끗하고 ...   \n",
       "238  ['두말이 필요없는 최고의 호텔', '프리미엄 예약했다가 체크인 시 비용 추가하여 ...   \n",
       "304  ['깔끔하고 좋아요', '깔끔하고 좋았어요', '깔끔하고 좋았어용', '근처에서 제...   \n",
       "747  ['잘이용했습니다', '봉산동일격필살님 안녕하세요.더휴식 아늑 홍대지점 조정화 대리...   \n",
       "787  ['너무너무 좋아요!!', '안녕하십니까, 나인브릭호텔입니다. 오늘도 저희 나인브릭...   \n",
       "802  ['잘쉬다갑니다', '좋아요 담에또오고싶네요', '잘쉬다갑니다', '깔끔하고 분위기...   \n",
       "\n",
       "                                             별점 낮은순 후기  \\\n",
       "82   ['제가 이상한건진 모르겠지만 아무리 위치가 좋다해도 동네 모텔수준 인테리어와 시설...   \n",
       "101  ['청소상태ㅠㅠ', '안녕하십니까, 아만티 호텔 서울입니다.아만티 호텔 서울을 선택...   \n",
       "238                                                 []   \n",
       "304  ['입실하고 방에서 간단하게 맥주한잔하고 씻고 누우려는데 시트에 피가 묻어있었습니다...   \n",
       "747                                                NaN   \n",
       "787  ['지금까지 왔던 호텔 중에 최악이었어요.1. 먼지가 너무 많아요. 욕조 안에도 먼...   \n",
       "802  ['그냥 쓰레기 내 돈이 아까움', '506호 묵었던 손님입니다. 새벽에 씻고 나왔...   \n",
       "\n",
       "                            주소  객실수  ...  지하철역_평균거리(1km내) 교통유동인구_월평균승차수(1km내)  \\\n",
       "82          서울특별시 마포구 홍익로5길 32   94  ...             0.72            12724.59   \n",
       "101         서울특별시 마포구 월드컵북로 31  한국어  ...             0.76            12674.05   \n",
       "238          서울특별시 종로구 새문안로 97  317  ...             0.65            15933.55   \n",
       "304           서울특별시 마포구 양화로 94   55  ...             0.76            13732.67   \n",
       "747  서울특별시 마포구 동교로 162-7 (서교동)   38  ...             0.72            12545.16   \n",
       "787   서울특별시 마포구 홍익로5길 32 (서교동)   94  ...             0.72            12724.59   \n",
       "802     서울특별시 마포구 양화로 94 (서교동)   50  ...             0.76            13732.67   \n",
       "\n",
       "    교통유동인구_월평균하차수(1km내)  교통유동인구_월평균승하차총계(1km내)  관광지_수(1km내)  쇼핑몰_수(1km내)  \\\n",
       "82             13177.16               25901.75           20            5   \n",
       "101            12904.87               25578.92           17            5   \n",
       "238            15587.61               31521.17           21            7   \n",
       "304            14387.65               28120.33           19            5   \n",
       "747            13050.01               25595.17           20            5   \n",
       "787            13177.16               25901.75           20            5   \n",
       "802            14387.65               28120.33           19            5   \n",
       "\n",
       "     관광지_최단거리(1km내)  관광지_평균거리(1km내)  쇼핑몰_최단거리(1km내)  쇼핑몰_평균거리(1km내)  \n",
       "82             0.23            0.56            0.54            0.65  \n",
       "101            0.32            0.68            0.55            0.68  \n",
       "238            0.23            0.64            0.14            0.70  \n",
       "304            0.22            0.63            0.45            0.81  \n",
       "747            0.15            0.59            0.44            0.59  \n",
       "787            0.23            0.56            0.54            0.65  \n",
       "802            0.22            0.63            0.45            0.81  \n",
       "\n",
       "[7 rows x 34 columns]"
      ]
     },
     "execution_count": 125,
     "metadata": {},
     "output_type": "execute_result"
    }
   ],
   "source": [
    "# 약 50% 씩 선택\n",
    "\n",
    "#condition0 = df['평점'] > 4.7\n",
    "# 평점은 후기와 함께 분석. 여기는 위치정보결과 찾기\n",
    "condition1 = df['경쟁업소_수(1km내)'] < 50\n",
    "condition2 = df['버스정류장_수(1km내)'] > 350\n",
    "condition3 = df['지하철역_수(1km내)'] > 5\n",
    "condition4 = df['교통유동인구_월평균승하차총계(1km내)'] > 25000\n",
    "condition5 = df['관광지_수(1km내)'] > 10\n",
    "condition6 = df['쇼핑몰_수(1km내)'] > 7\n",
    "# Combine the conditions using logical operators (e.g., AND: &)\n",
    "final_condition =  condition1 & condition2 & condition3 & condition4 & condition5 #& condition6\n",
    "\n",
    "# Apply the condition to the DataFrame to select the desired rows\n",
    "df[final_condition]"
   ]
  },
  {
   "cell_type": "code",
   "execution_count": 102,
   "id": "1305e9c0",
   "metadata": {},
   "outputs": [
    {
     "data": {
      "text/plain": [
       "130"
      ]
     },
     "execution_count": 102,
     "metadata": {},
     "output_type": "execute_result"
    }
   ],
   "source": [
    "len(df[condition1])"
   ]
  },
  {
   "cell_type": "code",
   "execution_count": 103,
   "id": "0669fa29",
   "metadata": {},
   "outputs": [
    {
     "data": {
      "text/plain": [
       "127"
      ]
     },
     "execution_count": 103,
     "metadata": {},
     "output_type": "execute_result"
    }
   ],
   "source": [
    "len(df[condition2])"
   ]
  },
  {
   "cell_type": "code",
   "execution_count": 104,
   "id": "5ae73326",
   "metadata": {},
   "outputs": [
    {
     "data": {
      "text/plain": [
       "81"
      ]
     },
     "execution_count": 104,
     "metadata": {},
     "output_type": "execute_result"
    }
   ],
   "source": [
    "len(df[condition3])"
   ]
  },
  {
   "cell_type": "code",
   "execution_count": 105,
   "id": "298794b7",
   "metadata": {},
   "outputs": [
    {
     "data": {
      "text/plain": [
       "110"
      ]
     },
     "execution_count": 105,
     "metadata": {},
     "output_type": "execute_result"
    }
   ],
   "source": [
    "len(df[condition4])"
   ]
  },
  {
   "cell_type": "code",
   "execution_count": 106,
   "id": "0433bf7a",
   "metadata": {},
   "outputs": [
    {
     "data": {
      "text/plain": [
       "25"
      ]
     },
     "execution_count": 106,
     "metadata": {},
     "output_type": "execute_result"
    }
   ],
   "source": [
    "len(df[condition5])"
   ]
  },
  {
   "cell_type": "code",
   "execution_count": 107,
   "id": "b37bffa2",
   "metadata": {},
   "outputs": [
    {
     "data": {
      "text/plain": [
       "49"
      ]
     },
     "execution_count": 107,
     "metadata": {},
     "output_type": "execute_result"
    }
   ],
   "source": [
    "len(df[condition6])"
   ]
  },
  {
   "cell_type": "code",
   "execution_count": 120,
   "id": "2e1bf66e",
   "metadata": {},
   "outputs": [
    {
     "data": {
      "text/plain": [
       "1215"
      ]
     },
     "execution_count": 120,
     "metadata": {},
     "output_type": "execute_result"
    }
   ],
   "source": [
    "len(df)"
   ]
  },
  {
   "cell_type": "code",
   "execution_count": null,
   "id": "0fa7129d",
   "metadata": {},
   "outputs": [],
   "source": []
  },
  {
   "cell_type": "code",
   "execution_count": null,
   "id": "12ae6dcf",
   "metadata": {},
   "outputs": [],
   "source": []
  }
 ],
 "metadata": {
  "kernelspec": {
   "display_name": "Python 3 (ipykernel)",
   "language": "python",
   "name": "python3"
  },
  "language_info": {
   "codemirror_mode": {
    "name": "ipython",
    "version": 3
   },
   "file_extension": ".py",
   "mimetype": "text/x-python",
   "name": "python",
   "nbconvert_exporter": "python",
   "pygments_lexer": "ipython3",
   "version": "3.8.7"
  }
 },
 "nbformat": 4,
 "nbformat_minor": 5
}
