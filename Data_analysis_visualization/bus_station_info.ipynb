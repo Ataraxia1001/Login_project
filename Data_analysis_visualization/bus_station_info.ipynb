{
 "cells": [
  {
   "cell_type": "code",
   "execution_count": 1,
   "id": "bb01b494",
   "metadata": {},
   "outputs": [],
   "source": [
    "import pandas as pd\n",
    "import numpy as np\n",
    "from sklearn.cluster import MeanShift, estimate_bandwidth\n",
    "from glob import glob\n",
    "from tqdm import tqdm\n",
    "from haversine import haversine\n",
    "import geopy.distance\n",
    "import numpy as np\n",
    "import random\n",
    "import folium\n",
    "from folium.features import CustomIcon\n",
    "import seaborn as sns\n",
    "import matplotlib.pyplot as plt"
   ]
  },
  {
   "cell_type": "code",
   "execution_count": 18,
   "id": "235e3afe",
   "metadata": {},
   "outputs": [],
   "source": [
    "# 전처리된 데이터 불러오기\n",
    "bus = pd.read_excel('/Users/nabong/Desktop/project_login/result/bus_info.xlsx')\n",
    "subway = pd.read_excel('/Users/nabong/Desktop/project_login/result/subway_info.xlsx')"
   ]
  },
  {
   "cell_type": "code",
   "execution_count": 19,
   "id": "8f0fd55a",
   "metadata": {},
   "outputs": [
    {
     "name": "stdout",
     "output_type": "stream",
     "text": [
      "<class 'pandas.core.frame.DataFrame'>\n",
      "RangeIndex: 10626 entries, 0 to 10625\n",
      "Data columns (total 7 columns):\n",
      " #   Column    Non-Null Count  Dtype  \n",
      "---  ------    --------------  -----  \n",
      " 0   node_id   10626 non-null  object \n",
      " 1   정류소명(역명)  10626 non-null  object \n",
      " 2   월평균승차수    10626 non-null  int64  \n",
      " 3   월평균하차수    10626 non-null  int64  \n",
      " 4   월평균승하차총계  10626 non-null  int64  \n",
      " 5   위도        10626 non-null  float64\n",
      " 6   경도        10626 non-null  float64\n",
      "dtypes: float64(2), int64(3), object(2)\n",
      "memory usage: 581.2+ KB\n"
     ]
    },
    {
     "data": {
      "text/html": [
       "<div>\n",
       "<style scoped>\n",
       "    .dataframe tbody tr th:only-of-type {\n",
       "        vertical-align: middle;\n",
       "    }\n",
       "\n",
       "    .dataframe tbody tr th {\n",
       "        vertical-align: top;\n",
       "    }\n",
       "\n",
       "    .dataframe thead th {\n",
       "        text-align: right;\n",
       "    }\n",
       "</style>\n",
       "<table border=\"1\" class=\"dataframe\">\n",
       "  <thead>\n",
       "    <tr style=\"text-align: right;\">\n",
       "      <th></th>\n",
       "      <th>node_id</th>\n",
       "      <th>정류소명(역명)</th>\n",
       "      <th>월평균승차수</th>\n",
       "      <th>월평균하차수</th>\n",
       "      <th>월평균승하차총계</th>\n",
       "      <th>위도</th>\n",
       "      <th>경도</th>\n",
       "    </tr>\n",
       "  </thead>\n",
       "  <tbody>\n",
       "    <tr>\n",
       "      <th>0</th>\n",
       "      <td>B100000001</td>\n",
       "      <td>종로2가사거리</td>\n",
       "      <td>14645</td>\n",
       "      <td>13676</td>\n",
       "      <td>28321</td>\n",
       "      <td>37.569765</td>\n",
       "      <td>126.987750</td>\n",
       "    </tr>\n",
       "    <tr>\n",
       "      <th>1</th>\n",
       "      <td>B100000002</td>\n",
       "      <td>창경궁.서울대학교병원</td>\n",
       "      <td>81002</td>\n",
       "      <td>70081</td>\n",
       "      <td>151083</td>\n",
       "      <td>37.579183</td>\n",
       "      <td>126.996566</td>\n",
       "    </tr>\n",
       "  </tbody>\n",
       "</table>\n",
       "</div>"
      ],
      "text/plain": [
       "      node_id     정류소명(역명)  월평균승차수  월평균하차수  월평균승하차총계         위도          경도\n",
       "0  B100000001      종로2가사거리   14645   13676     28321  37.569765  126.987750\n",
       "1  B100000002  창경궁.서울대학교병원   81002   70081    151083  37.579183  126.996566"
      ]
     },
     "execution_count": 19,
     "metadata": {},
     "output_type": "execute_result"
    }
   ],
   "source": [
    "# 버스 정류장 데이터\n",
    "bus.info()\n",
    "bus.head(2)"
   ]
  },
  {
   "cell_type": "code",
   "execution_count": 20,
   "id": "82e57dd9",
   "metadata": {},
   "outputs": [
    {
     "name": "stdout",
     "output_type": "stream",
     "text": [
      "<class 'pandas.core.frame.DataFrame'>\n",
      "RangeIndex: 275 entries, 0 to 274\n",
      "Data columns (total 7 columns):\n",
      " #   Column    Non-Null Count  Dtype  \n",
      "---  ------    --------------  -----  \n",
      " 0   node_id   275 non-null    object \n",
      " 1   정류소명(역명)  275 non-null    object \n",
      " 2   월평균승차수    275 non-null    float64\n",
      " 3   월평균하차수    275 non-null    float64\n",
      " 4   월평균승하차총계  275 non-null    float64\n",
      " 5   위도        275 non-null    float64\n",
      " 6   경도        275 non-null    float64\n",
      "dtypes: float64(5), object(2)\n",
      "memory usage: 15.2+ KB\n"
     ]
    },
    {
     "data": {
      "text/html": [
       "<div>\n",
       "<style scoped>\n",
       "    .dataframe tbody tr th:only-of-type {\n",
       "        vertical-align: middle;\n",
       "    }\n",
       "\n",
       "    .dataframe tbody tr th {\n",
       "        vertical-align: top;\n",
       "    }\n",
       "\n",
       "    .dataframe thead th {\n",
       "        text-align: right;\n",
       "    }\n",
       "</style>\n",
       "<table border=\"1\" class=\"dataframe\">\n",
       "  <thead>\n",
       "    <tr style=\"text-align: right;\">\n",
       "      <th></th>\n",
       "      <th>node_id</th>\n",
       "      <th>정류소명(역명)</th>\n",
       "      <th>월평균승차수</th>\n",
       "      <th>월평균하차수</th>\n",
       "      <th>월평균승하차총계</th>\n",
       "      <th>위도</th>\n",
       "      <th>경도</th>\n",
       "    </tr>\n",
       "  </thead>\n",
       "  <tbody>\n",
       "    <tr>\n",
       "      <th>0</th>\n",
       "      <td>S150</td>\n",
       "      <td>서울역</td>\n",
       "      <td>1301736.5</td>\n",
       "      <td>1264329.75</td>\n",
       "      <td>2566066.25</td>\n",
       "      <td>37.55315</td>\n",
       "      <td>126.972533</td>\n",
       "    </tr>\n",
       "    <tr>\n",
       "      <th>1</th>\n",
       "      <td>S151</td>\n",
       "      <td>시청</td>\n",
       "      <td>625330.5</td>\n",
       "      <td>632575.33</td>\n",
       "      <td>1257905.83</td>\n",
       "      <td>37.56359</td>\n",
       "      <td>126.975407</td>\n",
       "    </tr>\n",
       "  </tbody>\n",
       "</table>\n",
       "</div>"
      ],
      "text/plain": [
       "  node_id 정류소명(역명)     월평균승차수      월평균하차수    월평균승하차총계        위도          경도\n",
       "0    S150      서울역  1301736.5  1264329.75  2566066.25  37.55315  126.972533\n",
       "1    S151       시청   625330.5   632575.33  1257905.83  37.56359  126.975407"
      ]
     },
     "execution_count": 20,
     "metadata": {},
     "output_type": "execute_result"
    }
   ],
   "source": [
    "# 지하철 데이터\n",
    "subway.info()\n",
    "subway.head(2)"
   ]
  },
  {
   "cell_type": "code",
   "execution_count": 24,
   "id": "cb593287",
   "metadata": {},
   "outputs": [
    {
     "name": "stdout",
     "output_type": "stream",
     "text": [
      "(10626, 7) (275, 7) (10901, 7)\n"
     ]
    },
    {
     "data": {
      "text/html": [
       "<div>\n",
       "<style scoped>\n",
       "    .dataframe tbody tr th:only-of-type {\n",
       "        vertical-align: middle;\n",
       "    }\n",
       "\n",
       "    .dataframe tbody tr th {\n",
       "        vertical-align: top;\n",
       "    }\n",
       "\n",
       "    .dataframe thead th {\n",
       "        text-align: right;\n",
       "    }\n",
       "</style>\n",
       "<table border=\"1\" class=\"dataframe\">\n",
       "  <thead>\n",
       "    <tr style=\"text-align: right;\">\n",
       "      <th></th>\n",
       "      <th>node_id</th>\n",
       "      <th>정류소명(역명)</th>\n",
       "      <th>월평균승차수</th>\n",
       "      <th>월평균하차수</th>\n",
       "      <th>월평균승하차총계</th>\n",
       "      <th>위도</th>\n",
       "      <th>경도</th>\n",
       "    </tr>\n",
       "  </thead>\n",
       "  <tbody>\n",
       "    <tr>\n",
       "      <th>10899</th>\n",
       "      <td>S433</td>\n",
       "      <td>사당</td>\n",
       "      <td>730378.25</td>\n",
       "      <td>628545.25</td>\n",
       "      <td>1358923.50</td>\n",
       "      <td>37.476563</td>\n",
       "      <td>126.981746</td>\n",
       "    </tr>\n",
       "    <tr>\n",
       "      <th>10900</th>\n",
       "      <td>S434</td>\n",
       "      <td>남태령</td>\n",
       "      <td>37265.67</td>\n",
       "      <td>30892.17</td>\n",
       "      <td>68157.84</td>\n",
       "      <td>37.464339</td>\n",
       "      <td>126.989081</td>\n",
       "    </tr>\n",
       "  </tbody>\n",
       "</table>\n",
       "</div>"
      ],
      "text/plain": [
       "      node_id 정류소명(역명)     월평균승차수     월평균하차수    월평균승하차총계         위도  \\\n",
       "10899    S433       사당  730378.25  628545.25  1358923.50  37.476563   \n",
       "10900    S434      남태령   37265.67   30892.17    68157.84  37.464339   \n",
       "\n",
       "               경도  \n",
       "10899  126.981746  \n",
       "10900  126.989081  "
      ]
     },
     "execution_count": 24,
     "metadata": {},
     "output_type": "execute_result"
    }
   ],
   "source": [
    "# 데이터 합치기\n",
    "df = pd.concat([bus, subway]).reset_index(drop=True)\n",
    "print(bus.shape, subway.shape, df.shape)\n",
    "df.tail(2)"
   ]
  },
  {
   "cell_type": "code",
   "execution_count": null,
   "id": "a4b7aaea",
   "metadata": {},
   "outputs": [],
   "source": [
    "# 숙소의 주변정류장을 구해주는 함수\n",
    "def get_neighbors(accomd_gps_list, stop_gps_list):\n",
    "    neighbors_dict = {}\n",
    "    for accomd_gps in tqdm(accomd_gps_list):\n",
    "        neighbors = []\n",
    "        dist_list = []\n",
    "        neighbors_in_pop = []\n",
    "        neighbors_out_pop = []\n",
    "        neighbors_total_pop = []\n",
    "        key = accomd_gps\n",
    "        values = []\n",
    "        \n",
    "        i = 0\n",
    "        for stop_gps in stop_gps_list:\n",
    "            dist = geopy.distance.distance(accomd_gps, stop_gps).km\n",
    "            if dist <= 1:\n",
    "                neighbors.append(stop_gps)\n",
    "                neighbors_in_pop.append(df.loc[i, '월평균승차수'])\n",
    "                neighbors_out_pop.append(df.loc[i, '월평균하차수'])\n",
    "                neighbors_total_pop.append(df.loc[i, '월평균승하차총계'])\n",
    "                dist_list.append(dist)\n",
    "                values.append(stop_gps)\n",
    "    \n",
    "            neighbors_dict[key] = values\n",
    "            i += 1\n",
    "            \n",
    "        df.loc[i, '이웃정류장_수'] = len(neighbors)\n",
    "        df.loc[i, '이웃정류장_평균거리'] = np.mean(dist_list).round(2)\n",
    "        df.loc[i, '이웃정류장_월평균승차수'] = np.mean(neighbors_in_pop).round(2)\n",
    "        df.loc[i, '이웃정류장_월평균하차수'] = np.mean(neighbors_out_pop).round(2)\n",
    "        df.loc[i, '이웃정류장_월평균승하차총계'] = np.mean(neighbors_total_pop).round(2)\n",
    "        \n",
    "    return neighbors_dict"
   ]
  },
  {
   "cell_type": "code",
   "execution_count": null,
   "id": "844f0b44",
   "metadata": {},
   "outputs": [],
   "source": [
    "# x좌표, y좌표를 바탕으로 KMeans 알고리즘 적용해 최적화된 중심위치를 찾기\n",
    "# K-means clustering 알고리즘을 적용해 주변 정류소가 모여있는 25개의 주요 위치 선정(구별로 중심점이 있을 것이라는 가정 하에 구의 개수인 25를 선정함)\n",
    "# features = stop_gps[['Y좌표', 'X좌표']]\n",
    "# model = KMeans(n_clusters = 25, random_state=42)\n",
    "# model.fit(features)\n",
    "# centers = model.cluster_centers_"
   ]
  },
  {
   "cell_type": "code",
   "execution_count": 25,
   "id": "c526434d",
   "metadata": {},
   "outputs": [
    {
     "name": "stdout",
     "output_type": "stream",
     "text": [
      "최적 대역폭:  0.089274962647044\n"
     ]
    }
   ],
   "source": [
    "# 평균 이동(Mean Shift) - 데이터의 밀도가 가장 높은 곳으로 중심 이동시키는 방식으로 군집화\n",
    "# 중심에 소속된 데이터의 평균 거리를 중심으로 이동하는 k-means에 비해 데이터의 밀도가 높은 곳으로 이동하며 군집의 개수를 미리 정해주지 않아도 된다는 장점이 있음\n",
    "features = df[['위도', '경도']]\n",
    "# 해당 알고리즘은 bandwith(대역폭) 속성이 큰 영향을 미치나 따로 지정을 안해줘도 최적화된 대역폭을 찾아 적용함\n",
    "#   -> 실행 결과 1개의 클러스터만 생성되어 최적 대역폭을 확인 후 대역폭을 조정\n",
    "print('최적 대역폭: ', estimate_bandwidth(features))"
   ]
  },
  {
   "cell_type": "code",
   "execution_count": null,
   "id": "f9ae1f80",
   "metadata": {},
   "outputs": [],
   "source": [
    "# 이웃정류장 딕셔너리에서 이웃정류장 위치만 가져오기 \n",
    "center_neighbors = get_neighbors(cluster_center, stop_gps_list).values()"
   ]
  },
  {
   "cell_type": "code",
   "execution_count": null,
   "id": "df24b80d",
   "metadata": {},
   "outputs": [],
   "source": [
    "ms = MeanShift(bandwidth=0.03, cluster_all=False, n_jobs=1)\n",
    "ms.fit(features) # 약 3분소요\n",
    "cluster_center = ms.cluster_centers_\n",
    "cluster_center = [tuple(c) for c in cluster_center]\n",
    "print('centers: ', cluster_center)"
   ]
  },
  {
   "cell_type": "code",
   "execution_count": null,
   "id": "5ad9b596",
   "metadata": {},
   "outputs": [],
   "source": [
    "# Mean Shift 알고리즘 추천 위치 12곳 시각화\n",
    "# 나중에 folium.plugin의 marker cluster를 이용해 주변 정류소 수를 표현할 수 있는지 알아보자\n",
    "map = folium.Map(location=[37.541, 126.986], zoom_start=12)\n",
    "\n",
    "i = 1 \n",
    "for center in cluster_center:\n",
    "    folium.Marker(center, tooltip=f'location{i}', icon=folium.Icon(color='lightred', icon='star')).add_to(map)\n",
    "    i += 1\n",
    "    \n",
    "for neighbors in center_neighbors:\n",
    "    for neighbor in neighbors:\n",
    "        folium.Circle(radius=10, location=[neighbor[0], neighbor[1]], color='#967BDC', fill=True).add_to(map)\n",
    "map"
   ]
  },
  {
   "cell_type": "code",
   "execution_count": null,
   "id": "ec0fefab",
   "metadata": {},
   "outputs": [],
   "source": [
    "# stop_info.to_excel('stop_total_info.xlsx', index=False)"
   ]
  }
 ],
 "metadata": {
  "kernelspec": {
   "display_name": "Python 3 (ipykernel)",
   "language": "python",
   "name": "python3"
  },
  "language_info": {
   "codemirror_mode": {
    "name": "ipython",
    "version": 3
   },
   "file_extension": ".py",
   "mimetype": "text/x-python",
   "name": "python",
   "nbconvert_exporter": "python",
   "pygments_lexer": "ipython3",
   "version": "3.9.13"
  }
 },
 "nbformat": 4,
 "nbformat_minor": 5
}
