{
  "nbformat": 4,
  "nbformat_minor": 0,
  "metadata": {
    "colab": {
      "provenance": []
    },
    "kernelspec": {
      "name": "python3",
      "display_name": "Python 3"
    },
    "language_info": {
      "name": "python"
    }
  },
  "cells": [
    {
      "cell_type": "code",
      "execution_count": 14,
      "metadata": {
        "id": "fWxPA6_VbJjT"
      },
      "outputs": [],
      "source": [
        "!apt-get install -y fonts-nanum > /dev/null\n",
        "!fc-cache -fv > /dev/null\n",
        "!rm -rf ~/.cache/matplotlib > /dev/null\n",
        "#런타임 재시작"
      ]
    },
    {
      "cell_type": "code",
      "source": [
        "import numpy as np\n",
        "import matplotlib as mpl\n",
        "import matplotlib.pyplot as plt\n",
        "mpl.rcParams['axes.unicode_minus'] = False\n",
        "mpl.rcParams['font.family'] = 'NanumBarunGothic'"
      ],
      "metadata": {
        "id": "3RfWnETObhhe"
      },
      "execution_count": 15,
      "outputs": []
    },
    {
      "cell_type": "code",
      "source": [
        "!pip install konlpy > /dev/null"
      ],
      "metadata": {
        "id": "cPH9XcTiblp2"
      },
      "execution_count": 16,
      "outputs": []
    },
    {
      "cell_type": "code",
      "source": [
        "import nltk"
      ],
      "metadata": {
        "id": "ydnD3eusbn3n"
      },
      "execution_count": 17,
      "outputs": []
    },
    {
      "cell_type": "code",
      "source": [
        "nltk.download('punkt')\n",
        "nltk.download('stopwords')"
      ],
      "metadata": {
        "colab": {
          "base_uri": "https://localhost:8080/"
        },
        "id": "hYM7uyHAch7j",
        "outputId": "85aacf82-b79b-476f-94b5-a8832ae57097"
      },
      "execution_count": 18,
      "outputs": [
        {
          "output_type": "stream",
          "name": "stderr",
          "text": [
            "[nltk_data] Downloading package punkt to /root/nltk_data...\n",
            "[nltk_data]   Package punkt is already up-to-date!\n",
            "[nltk_data] Downloading package stopwords to /root/nltk_data...\n",
            "[nltk_data]   Package stopwords is already up-to-date!\n"
          ]
        },
        {
          "output_type": "execute_result",
          "data": {
            "text/plain": [
              "True"
            ]
          },
          "metadata": {},
          "execution_count": 18
        }
      ]
    },
    {
      "cell_type": "code",
      "source": [
        "from wordcloud import WordCloud, STOPWORDS\n",
        "from PIL import Image # 그림을 불러오는 패키지\n",
        "import numpy as np\n",
        "import matplotlib.pyplot as plt \n",
        "from nltk.corpus import stopwords\n",
        "import pandas as pd"
      ],
      "metadata": {
        "id": "vGU24cyYcj_7"
      },
      "execution_count": 19,
      "outputs": []
    },
    {
      "cell_type": "code",
      "source": [
        "df = pd.read_excel('./게스트인기태그.xlsx')"
      ],
      "metadata": {
        "id": "qsHX4Tbpcrn0"
      },
      "execution_count": 46,
      "outputs": []
    },
    {
      "cell_type": "code",
      "source": [
        "df"
      ],
      "metadata": {
        "colab": {
          "base_uri": "https://localhost:8080/",
          "height": 175
        },
        "id": "FsqW83geeupu",
        "outputId": "e4b3a82e-30d4-40ad-d6f1-67568cf8997e"
      },
      "execution_count": 47,
      "outputs": [
        {
          "output_type": "execute_result",
          "data": {
            "text/plain": [
              "   Unnamed: 0      종류   인기태그  태그합\n",
              "0         188  게스트하우스   와이파이    5\n",
              "1         265  게스트하우스   객실금연    1\n",
              "2         335  게스트하우스   조식운영    1\n",
              "3         339  게스트하우스  이벤트가능    1"
            ],
            "text/html": [
              "\n",
              "  <div id=\"df-5620fcfd-9b1d-4d5f-bff6-b6f69cd9d920\">\n",
              "    <div class=\"colab-df-container\">\n",
              "      <div>\n",
              "<style scoped>\n",
              "    .dataframe tbody tr th:only-of-type {\n",
              "        vertical-align: middle;\n",
              "    }\n",
              "\n",
              "    .dataframe tbody tr th {\n",
              "        vertical-align: top;\n",
              "    }\n",
              "\n",
              "    .dataframe thead th {\n",
              "        text-align: right;\n",
              "    }\n",
              "</style>\n",
              "<table border=\"1\" class=\"dataframe\">\n",
              "  <thead>\n",
              "    <tr style=\"text-align: right;\">\n",
              "      <th></th>\n",
              "      <th>Unnamed: 0</th>\n",
              "      <th>종류</th>\n",
              "      <th>인기태그</th>\n",
              "      <th>태그합</th>\n",
              "    </tr>\n",
              "  </thead>\n",
              "  <tbody>\n",
              "    <tr>\n",
              "      <th>0</th>\n",
              "      <td>188</td>\n",
              "      <td>게스트하우스</td>\n",
              "      <td>와이파이</td>\n",
              "      <td>5</td>\n",
              "    </tr>\n",
              "    <tr>\n",
              "      <th>1</th>\n",
              "      <td>265</td>\n",
              "      <td>게스트하우스</td>\n",
              "      <td>객실금연</td>\n",
              "      <td>1</td>\n",
              "    </tr>\n",
              "    <tr>\n",
              "      <th>2</th>\n",
              "      <td>335</td>\n",
              "      <td>게스트하우스</td>\n",
              "      <td>조식운영</td>\n",
              "      <td>1</td>\n",
              "    </tr>\n",
              "    <tr>\n",
              "      <th>3</th>\n",
              "      <td>339</td>\n",
              "      <td>게스트하우스</td>\n",
              "      <td>이벤트가능</td>\n",
              "      <td>1</td>\n",
              "    </tr>\n",
              "  </tbody>\n",
              "</table>\n",
              "</div>\n",
              "      <button class=\"colab-df-convert\" onclick=\"convertToInteractive('df-5620fcfd-9b1d-4d5f-bff6-b6f69cd9d920')\"\n",
              "              title=\"Convert this dataframe to an interactive table.\"\n",
              "              style=\"display:none;\">\n",
              "        \n",
              "  <svg xmlns=\"http://www.w3.org/2000/svg\" height=\"24px\"viewBox=\"0 0 24 24\"\n",
              "       width=\"24px\">\n",
              "    <path d=\"M0 0h24v24H0V0z\" fill=\"none\"/>\n",
              "    <path d=\"M18.56 5.44l.94 2.06.94-2.06 2.06-.94-2.06-.94-.94-2.06-.94 2.06-2.06.94zm-11 1L8.5 8.5l.94-2.06 2.06-.94-2.06-.94L8.5 2.5l-.94 2.06-2.06.94zm10 10l.94 2.06.94-2.06 2.06-.94-2.06-.94-.94-2.06-.94 2.06-2.06.94z\"/><path d=\"M17.41 7.96l-1.37-1.37c-.4-.4-.92-.59-1.43-.59-.52 0-1.04.2-1.43.59L10.3 9.45l-7.72 7.72c-.78.78-.78 2.05 0 2.83L4 21.41c.39.39.9.59 1.41.59.51 0 1.02-.2 1.41-.59l7.78-7.78 2.81-2.81c.8-.78.8-2.07 0-2.86zM5.41 20L4 18.59l7.72-7.72 1.47 1.35L5.41 20z\"/>\n",
              "  </svg>\n",
              "      </button>\n",
              "      \n",
              "  <style>\n",
              "    .colab-df-container {\n",
              "      display:flex;\n",
              "      flex-wrap:wrap;\n",
              "      gap: 12px;\n",
              "    }\n",
              "\n",
              "    .colab-df-convert {\n",
              "      background-color: #E8F0FE;\n",
              "      border: none;\n",
              "      border-radius: 50%;\n",
              "      cursor: pointer;\n",
              "      display: none;\n",
              "      fill: #1967D2;\n",
              "      height: 32px;\n",
              "      padding: 0 0 0 0;\n",
              "      width: 32px;\n",
              "    }\n",
              "\n",
              "    .colab-df-convert:hover {\n",
              "      background-color: #E2EBFA;\n",
              "      box-shadow: 0px 1px 2px rgba(60, 64, 67, 0.3), 0px 1px 3px 1px rgba(60, 64, 67, 0.15);\n",
              "      fill: #174EA6;\n",
              "    }\n",
              "\n",
              "    [theme=dark] .colab-df-convert {\n",
              "      background-color: #3B4455;\n",
              "      fill: #D2E3FC;\n",
              "    }\n",
              "\n",
              "    [theme=dark] .colab-df-convert:hover {\n",
              "      background-color: #434B5C;\n",
              "      box-shadow: 0px 1px 3px 1px rgba(0, 0, 0, 0.15);\n",
              "      filter: drop-shadow(0px 1px 2px rgba(0, 0, 0, 0.3));\n",
              "      fill: #FFFFFF;\n",
              "    }\n",
              "  </style>\n",
              "\n",
              "      <script>\n",
              "        const buttonEl =\n",
              "          document.querySelector('#df-5620fcfd-9b1d-4d5f-bff6-b6f69cd9d920 button.colab-df-convert');\n",
              "        buttonEl.style.display =\n",
              "          google.colab.kernel.accessAllowed ? 'block' : 'none';\n",
              "\n",
              "        async function convertToInteractive(key) {\n",
              "          const element = document.querySelector('#df-5620fcfd-9b1d-4d5f-bff6-b6f69cd9d920');\n",
              "          const dataTable =\n",
              "            await google.colab.kernel.invokeFunction('convertToInteractive',\n",
              "                                                     [key], {});\n",
              "          if (!dataTable) return;\n",
              "\n",
              "          const docLinkHtml = 'Like what you see? Visit the ' +\n",
              "            '<a target=\"_blank\" href=https://colab.research.google.com/notebooks/data_table.ipynb>data table notebook</a>'\n",
              "            + ' to learn more about interactive tables.';\n",
              "          element.innerHTML = '';\n",
              "          dataTable['output_type'] = 'display_data';\n",
              "          await google.colab.output.renderOutput(dataTable, element);\n",
              "          const docLink = document.createElement('div');\n",
              "          docLink.innerHTML = docLinkHtml;\n",
              "          element.appendChild(docLink);\n",
              "        }\n",
              "      </script>\n",
              "    </div>\n",
              "  </div>\n",
              "  "
            ]
          },
          "metadata": {},
          "execution_count": 47
        }
      ]
    },
    {
      "cell_type": "code",
      "source": [],
      "metadata": {
        "colab": {
          "base_uri": "https://localhost:8080/"
        },
        "id": "S5fvBbFKFKqh",
        "outputId": "c38dc801-cbf9-4434-e757-17a519616626"
      },
      "execution_count": null,
      "outputs": [
        {
          "output_type": "execute_result",
          "data": {
            "text/plain": [
              "0                                                        \n",
              "1       데이유즈 쪼매난 글씨에 속아 숙박전환 추가 55천원내고 아주 식겁시키네요 12시까지...\n",
              "2       난방이 안되는 호텔춥다고 했더니 체크인시 얘기했는데 어쩌라는 호텔 지방에 살고 있어...\n",
              "3                                                        \n",
              "4                                                        \n",
              "                              ...                        \n",
              "1216                                                     \n",
              "1217                                                     \n",
              "1218                                                     \n",
              "1219                                                     \n",
              "1220                                                     \n",
              "Name: 별점 낮은순 후기, Length: 1221, dtype: object"
            ]
          },
          "metadata": {},
          "execution_count": 60
        }
      ]
    },
    {
      "cell_type": "code",
      "source": [
        "df['인기테그']"
      ],
      "metadata": {
        "colab": {
          "base_uri": "https://localhost:8080/"
        },
        "id": "0LRLNsqHwuRm",
        "outputId": "8b451706-96c3-4206-a597-b819e07b5107"
      },
      "execution_count": null,
      "outputs": [
        {
          "output_type": "execute_result",
          "data": {
            "text/plain": [
              "0       ['주차가능', '야외수영장', '수영장', '와이파이', '사우나', '클럽라운지...\n",
              "1       ['주차가능', '조식운영', '와이파이', '객실금연', '레스토랑', '바', ...\n",
              "2        ['주차가능', '와이파이', '객실금연', '피트니스', '어메니티', '비즈니스']\n",
              "3       ['스파/월풀/욕조', '와이파이', '객실금연', '24시간데스크', '비즈니스'...\n",
              "4       ['주차가능', '조식운영', '와이파이', '객실금연', '레스토랑', '연회장'...\n",
              "                              ...                        \n",
              "1216                                             ['와이파이']\n",
              "1217                                             ['와이파이']\n",
              "1218                                     ['와이파이', '독채객실']\n",
              "1219                                      ['와이파이', '상비약']\n",
              "1220                                      ['와이파이', '상비약']\n",
              "Name: 인기테그, Length: 1221, dtype: object"
            ]
          },
          "metadata": {},
          "execution_count": 41
        }
      ]
    },
    {
      "cell_type": "code",
      "source": [
        "df['인기테그']=df['인기테그'].str.replace(',','')\n",
        "df['인기테그']=df['인기테그'].str.replace('[','')\n",
        "df['인기테그']=df['인기테그'].str.replace(']','')\n",
        "df['인기테그']=df['인기테그'].str.replace(\"'\",'')\n",
        "\n",
        "df['인기테그']"
      ],
      "metadata": {
        "colab": {
          "base_uri": "https://localhost:8080/"
        },
        "id": "3oYODGnoiMek",
        "outputId": "ac8a5077-3483-4654-87f9-76ca8a838f64"
      },
      "execution_count": null,
      "outputs": [
        {
          "output_type": "stream",
          "name": "stderr",
          "text": [
            "<ipython-input-42-8ca3bf7b8f27>:2: FutureWarning: The default value of regex will change from True to False in a future version. In addition, single character regular expressions will *not* be treated as literal strings when regex=True.\n",
            "  df['인기테그']=df['인기테그'].str.replace('[','')\n",
            "<ipython-input-42-8ca3bf7b8f27>:3: FutureWarning: The default value of regex will change from True to False in a future version. In addition, single character regular expressions will *not* be treated as literal strings when regex=True.\n",
            "  df['인기테그']=df['인기테그'].str.replace(']','')\n"
          ]
        },
        {
          "output_type": "execute_result",
          "data": {
            "text/plain": [
              "0       주차가능 야외수영장 수영장 와이파이 사우나 클럽라운지 객실금연 레스토랑 바 연회장 ...\n",
              "1       주차가능 조식운영 와이파이 객실금연 레스토랑 바 연회장 피트니스 뷔페 어메니티 24...\n",
              "2                           주차가능 와이파이 객실금연 피트니스 어메니티 비즈니스\n",
              "3                   스파/월풀/욕조 와이파이 객실금연 24시간데스크 비즈니스 수화물보관\n",
              "4       주차가능 조식운영 와이파이 객실금연 레스토랑 연회장 피트니스 뷔페 어메니티 24시간...\n",
              "                              ...                        \n",
              "1216                                                 와이파이\n",
              "1217                                                 와이파이\n",
              "1218                                            와이파이 독채객실\n",
              "1219                                             와이파이 상비약\n",
              "1220                                             와이파이 상비약\n",
              "Name: 인기테그, Length: 1221, dtype: object"
            ]
          },
          "metadata": {},
          "execution_count": 42
        }
      ]
    },
    {
      "cell_type": "code",
      "source": [
        "font_path = '/usr/share/fonts/truetype/nanum/NanumBarunGothicBold.ttf'\n"
      ],
      "metadata": {
        "id": "yybDTKkIr5wu"
      },
      "execution_count": 48,
      "outputs": []
    },
    {
      "cell_type": "code",
      "source": [
        "wc = WordCloud(background_color='white', max_words=2000,font_path=font_path)\n",
        "tag_string = ' '.join(df['인기태그'])\n",
        "wc.generate(tag_string)"
      ],
      "metadata": {
        "colab": {
          "base_uri": "https://localhost:8080/"
        },
        "id": "HpuHi6P7iig5",
        "outputId": "b8cd29a0-941c-4353-8c3a-bcda7f93ccf8"
      },
      "execution_count": 49,
      "outputs": [
        {
          "output_type": "execute_result",
          "data": {
            "text/plain": [
              "<wordcloud.wordcloud.WordCloud at 0x7f010fd349a0>"
            ]
          },
          "metadata": {},
          "execution_count": 49
        }
      ]
    },
    {
      "cell_type": "code",
      "source": [
        "count = 0\n",
        "for key, value in wc.words_.items():\n",
        "  print(key, ':', value)\n",
        "  count += 1\n",
        "  if count > 10:\n",
        "    break"
      ],
      "metadata": {
        "colab": {
          "base_uri": "https://localhost:8080/"
        },
        "id": "bIfLBqtVl-An",
        "outputId": "651c7536-5f5b-4dd6-a6c8-9a9140584332"
      },
      "execution_count": null,
      "outputs": [
        {
          "output_type": "stream",
          "name": "stdout",
          "text": [
            "어메니티 24시간데스크 : 1.0\n",
            "무료영화 OTT : 0.8236994219653179\n",
            "와이파이 VOD : 0.8005780346820809\n",
            "주차가능 와이파이 : 0.7283236994219653\n",
            "VOD 24시간데스크 : 0.6127167630057804\n",
            "수화물보관 주차가능 : 0.5924855491329479\n",
            "스파 월풀 : 0.5433526011560693\n",
            "월풀 욕조 : 0.5433526011560693\n",
            "와이파이 트윈베드 : 0.5346820809248555\n",
            "와이파이 객실금연 : 0.5115606936416185\n",
            "비즈니스 수화물보관 : 0.5086705202312138\n"
          ]
        }
      ]
    },
    {
      "cell_type": "code",
      "source": [
        "plt.figure(figsize=(10,6))\n",
        "plt.imshow(wc, interpolation='bilinear')\n",
        "plt.axis('off')\n",
        "plt.show()\n",
        "     "
      ],
      "metadata": {
        "colab": {
          "base_uri": "https://localhost:8080/",
          "height": 424
        },
        "id": "r-qI0hyKm2HX",
        "outputId": "ed29fa48-c66c-4380-86f5-564ec08734c2"
      },
      "execution_count": 50,
      "outputs": [
        {
          "output_type": "display_data",
          "data": {
            "text/plain": [
              "<Figure size 1000x600 with 1 Axes>"
            ],
            "image/png": "[encoded data removed]"
          },
          "metadata": {}
        }
      ]
    }
  ]
}