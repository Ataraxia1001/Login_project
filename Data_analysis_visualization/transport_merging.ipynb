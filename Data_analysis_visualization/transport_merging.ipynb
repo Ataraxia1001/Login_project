{
 "cells": [
  {
   "cell_type": "markdown",
   "id": "3ec8864c",
   "metadata": {},
   "source": [
    "# 교통수단(버스, 지하철) 최종 테이블"
   ]
  },
  {
   "cell_type": "code",
   "execution_count": 1,
   "id": "bb01b494",
   "metadata": {},
   "outputs": [],
   "source": [
    "import pandas as pd"
   ]
  },
  {
   "cell_type": "code",
   "execution_count": 2,
   "id": "235e3afe",
   "metadata": {},
   "outputs": [],
   "source": [
    "# 전처리된 데이터 불러오기\n",
    "bus = pd.read_excel('/Users/nabong/Desktop/project_login/data/cleaned/bus_info.xlsx')\n",
    "subway = pd.read_excel('/Users/nabong/Desktop/project_login/data/cleaned/subway_info.xlsx')"
   ]
  },
  {
   "cell_type": "code",
   "execution_count": 3,
   "id": "8f0fd55a",
   "metadata": {},
   "outputs": [
    {
     "name": "stdout",
     "output_type": "stream",
     "text": [
      "<class 'pandas.core.frame.DataFrame'>\n",
      "RangeIndex: 34546 entries, 0 to 34545\n",
      "Data columns (total 7 columns):\n",
      " #   Column    Non-Null Count  Dtype  \n",
      "---  ------    --------------  -----  \n",
      " 0   node_id   34546 non-null  object \n",
      " 1   정류소명(역명)  34546 non-null  object \n",
      " 2   월평균승차수    33946 non-null  float64\n",
      " 3   월평균하차수    33946 non-null  float64\n",
      " 4   월평균승하차총계  33946 non-null  float64\n",
      " 5   위도        34546 non-null  float64\n",
      " 6   경도        34546 non-null  float64\n",
      "dtypes: float64(5), object(2)\n",
      "memory usage: 1.8+ MB\n"
     ]
    },
    {
     "data": {
      "text/html": [
       "<div>\n",
       "<style scoped>\n",
       "    .dataframe tbody tr th:only-of-type {\n",
       "        vertical-align: middle;\n",
       "    }\n",
       "\n",
       "    .dataframe tbody tr th {\n",
       "        vertical-align: top;\n",
       "    }\n",
       "\n",
       "    .dataframe thead th {\n",
       "        text-align: right;\n",
       "    }\n",
       "</style>\n",
       "<table border=\"1\" class=\"dataframe\">\n",
       "  <thead>\n",
       "    <tr style=\"text-align: right;\">\n",
       "      <th></th>\n",
       "      <th>node_id</th>\n",
       "      <th>정류소명(역명)</th>\n",
       "      <th>월평균승차수</th>\n",
       "      <th>월평균하차수</th>\n",
       "      <th>월평균승하차총계</th>\n",
       "      <th>위도</th>\n",
       "      <th>경도</th>\n",
       "    </tr>\n",
       "  </thead>\n",
       "  <tbody>\n",
       "    <tr>\n",
       "      <th>0</th>\n",
       "      <td>BB100000001</td>\n",
       "      <td>종로2가사거리(00032)</td>\n",
       "      <td>335.0</td>\n",
       "      <td>329.0</td>\n",
       "      <td>664.0</td>\n",
       "      <td>37.569765</td>\n",
       "      <td>126.98775</td>\n",
       "    </tr>\n",
       "    <tr>\n",
       "      <th>1</th>\n",
       "      <td>BB100000001</td>\n",
       "      <td>종로2가사거리(00067)</td>\n",
       "      <td>7908.0</td>\n",
       "      <td>6621.0</td>\n",
       "      <td>14529.0</td>\n",
       "      <td>37.569765</td>\n",
       "      <td>126.98775</td>\n",
       "    </tr>\n",
       "  </tbody>\n",
       "</table>\n",
       "</div>"
      ],
      "text/plain": [
       "       node_id        정류소명(역명)  월평균승차수  월평균하차수  월평균승하차총계         위도         경도\n",
       "0  BB100000001  종로2가사거리(00032)   335.0   329.0     664.0  37.569765  126.98775\n",
       "1  BB100000001  종로2가사거리(00067)  7908.0  6621.0   14529.0  37.569765  126.98775"
      ]
     },
     "execution_count": 3,
     "metadata": {},
     "output_type": "execute_result"
    }
   ],
   "source": [
    "# 버스 정류장 데이터\n",
    "bus.info()\n",
    "bus.head(2)"
   ]
  },
  {
   "cell_type": "code",
   "execution_count": 4,
   "id": "82e57dd9",
   "metadata": {},
   "outputs": [
    {
     "name": "stdout",
     "output_type": "stream",
     "text": [
      "<class 'pandas.core.frame.DataFrame'>\n",
      "RangeIndex: 401 entries, 0 to 400\n",
      "Data columns (total 7 columns):\n",
      " #   Column    Non-Null Count  Dtype  \n",
      "---  ------    --------------  -----  \n",
      " 0   node_id   401 non-null    object \n",
      " 1   정류소명(역명)  401 non-null    object \n",
      " 2   월평균승차수    260 non-null    float64\n",
      " 3   월평균하차수    260 non-null    float64\n",
      " 4   월평균승하차총계  260 non-null    float64\n",
      " 5   위도        401 non-null    float64\n",
      " 6   경도        401 non-null    float64\n",
      "dtypes: float64(5), object(2)\n",
      "memory usage: 22.1+ KB\n"
     ]
    },
    {
     "data": {
      "text/html": [
       "<div>\n",
       "<style scoped>\n",
       "    .dataframe tbody tr th:only-of-type {\n",
       "        vertical-align: middle;\n",
       "    }\n",
       "\n",
       "    .dataframe tbody tr th {\n",
       "        vertical-align: top;\n",
       "    }\n",
       "\n",
       "    .dataframe thead th {\n",
       "        text-align: right;\n",
       "    }\n",
       "</style>\n",
       "<table border=\"1\" class=\"dataframe\">\n",
       "  <thead>\n",
       "    <tr style=\"text-align: right;\">\n",
       "      <th></th>\n",
       "      <th>node_id</th>\n",
       "      <th>정류소명(역명)</th>\n",
       "      <th>월평균승차수</th>\n",
       "      <th>월평균하차수</th>\n",
       "      <th>월평균승하차총계</th>\n",
       "      <th>위도</th>\n",
       "      <th>경도</th>\n",
       "    </tr>\n",
       "  </thead>\n",
       "  <tbody>\n",
       "    <tr>\n",
       "      <th>0</th>\n",
       "      <td>S150</td>\n",
       "      <td>서울역</td>\n",
       "      <td>1301736.5</td>\n",
       "      <td>1264329.75</td>\n",
       "      <td>2566066.25</td>\n",
       "      <td>37.556228</td>\n",
       "      <td>126.972135</td>\n",
       "    </tr>\n",
       "    <tr>\n",
       "      <th>1</th>\n",
       "      <td>S151</td>\n",
       "      <td>시청</td>\n",
       "      <td>625330.5</td>\n",
       "      <td>632575.33</td>\n",
       "      <td>1257905.83</td>\n",
       "      <td>37.565715</td>\n",
       "      <td>126.977088</td>\n",
       "    </tr>\n",
       "  </tbody>\n",
       "</table>\n",
       "</div>"
      ],
      "text/plain": [
       "  node_id 정류소명(역명)     월평균승차수      월평균하차수    월평균승하차총계         위도          경도\n",
       "0    S150      서울역  1301736.5  1264329.75  2566066.25  37.556228  126.972135\n",
       "1    S151       시청   625330.5   632575.33  1257905.83  37.565715  126.977088"
      ]
     },
     "execution_count": 4,
     "metadata": {},
     "output_type": "execute_result"
    }
   ],
   "source": [
    "# 지하철 데이터\n",
    "subway.info()\n",
    "subway.head(2)"
   ]
  },
  {
   "cell_type": "code",
   "execution_count": 5,
   "id": "cb593287",
   "metadata": {
    "scrolled": true
   },
   "outputs": [
    {
     "name": "stdout",
     "output_type": "stream",
     "text": [
      "(34546, 7) (401, 7) (34947, 7)\n"
     ]
    },
    {
     "data": {
      "text/html": [
       "<div>\n",
       "<style scoped>\n",
       "    .dataframe tbody tr th:only-of-type {\n",
       "        vertical-align: middle;\n",
       "    }\n",
       "\n",
       "    .dataframe tbody tr th {\n",
       "        vertical-align: top;\n",
       "    }\n",
       "\n",
       "    .dataframe thead th {\n",
       "        text-align: right;\n",
       "    }\n",
       "</style>\n",
       "<table border=\"1\" class=\"dataframe\">\n",
       "  <thead>\n",
       "    <tr style=\"text-align: right;\">\n",
       "      <th></th>\n",
       "      <th>node_id</th>\n",
       "      <th>정류소명(역명)</th>\n",
       "      <th>월평균승차수</th>\n",
       "      <th>월평균하차수</th>\n",
       "      <th>월평균승하차총계</th>\n",
       "      <th>위도</th>\n",
       "      <th>경도</th>\n",
       "    </tr>\n",
       "  </thead>\n",
       "  <tbody>\n",
       "    <tr>\n",
       "      <th>34945</th>\n",
       "      <td>S1002</td>\n",
       "      <td>남영</td>\n",
       "      <td>NaN</td>\n",
       "      <td>NaN</td>\n",
       "      <td>NaN</td>\n",
       "      <td>37.541021</td>\n",
       "      <td>126.971300</td>\n",
       "    </tr>\n",
       "    <tr>\n",
       "      <th>34946</th>\n",
       "      <td>S1001</td>\n",
       "      <td>서울역</td>\n",
       "      <td>NaN</td>\n",
       "      <td>NaN</td>\n",
       "      <td>NaN</td>\n",
       "      <td>37.554337</td>\n",
       "      <td>126.971134</td>\n",
       "    </tr>\n",
       "  </tbody>\n",
       "</table>\n",
       "</div>"
      ],
      "text/plain": [
       "      node_id 정류소명(역명)  월평균승차수  월평균하차수  월평균승하차총계         위도          경도\n",
       "34945   S1002       남영     NaN     NaN       NaN  37.541021  126.971300\n",
       "34946   S1001      서울역     NaN     NaN       NaN  37.554337  126.971134"
      ]
     },
     "execution_count": 5,
     "metadata": {},
     "output_type": "execute_result"
    }
   ],
   "source": [
    "# 데이터 합치기\n",
    "df = pd.concat([bus, subway]).reset_index(drop=True)\n",
    "print(bus.shape, subway.shape, df.shape)\n",
    "df.tail(2)"
   ]
  },
  {
   "cell_type": "code",
   "execution_count": 6,
   "id": "5d227a30",
   "metadata": {},
   "outputs": [],
   "source": [
    "df.to_excel('transport_info.xlsx', index=False)"
   ]
  }
 ],
 "metadata": {
  "kernelspec": {
   "display_name": "Python 3 (ipykernel)",
   "language": "python",
   "name": "python3"
  },
  "language_info": {
   "codemirror_mode": {
    "name": "ipython",
    "version": 3
   },
   "file_extension": ".py",
   "mimetype": "text/x-python",
   "name": "python",
   "nbconvert_exporter": "python",
   "pygments_lexer": "ipython3",
   "version": "3.9.13"
  }
 },
 "nbformat": 4,
 "nbformat_minor": 5
}
