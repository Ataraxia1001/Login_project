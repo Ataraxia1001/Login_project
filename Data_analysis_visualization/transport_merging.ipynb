{
 "cells": [
  {
   "cell_type": "markdown",
   "id": "3ec8864c",
   "metadata": {},
   "source": [
    "# 교통수단(버스, 지하철) 최종 테이블"
   ]
  },
  {
   "cell_type": "code",
   "execution_count": 1,
   "id": "bb01b494",
   "metadata": {},
   "outputs": [],
   "source": [
    "import pandas as pd"
   ]
  },
  {
   "cell_type": "code",
   "execution_count": 2,
   "id": "235e3afe",
   "metadata": {},
   "outputs": [],
   "source": [
    "# 전처리된 데이터 불러오기\n",
    "bus = pd.read_excel('/Users/nabong/Desktop/project_login/data/cleaned/bus_info.xlsx')\n",
    "subway = pd.read_excel('/Users/nabong/Desktop/project_login/data/cleaned/subway_info.xlsx')"
   ]
  },
  {
   "cell_type": "code",
   "execution_count": 3,
   "id": "8f0fd55a",
   "metadata": {},
   "outputs": [
    {
     "name": "stdout",
     "output_type": "stream",
     "text": [
      "<class 'pandas.core.frame.DataFrame'>\n",
      "RangeIndex: 10626 entries, 0 to 10625\n",
      "Data columns (total 7 columns):\n",
      " #   Column    Non-Null Count  Dtype  \n",
      "---  ------    --------------  -----  \n",
      " 0   node_id   10626 non-null  object \n",
      " 1   정류소명(역명)  10626 non-null  object \n",
      " 2   월평균승차수    10626 non-null  int64  \n",
      " 3   월평균하차수    10626 non-null  int64  \n",
      " 4   월평균승하차총계  10626 non-null  int64  \n",
      " 5   위도        10626 non-null  float64\n",
      " 6   경도        10626 non-null  float64\n",
      "dtypes: float64(2), int64(3), object(2)\n",
      "memory usage: 581.2+ KB\n"
     ]
    },
    {
     "data": {
      "text/html": [
       "<div>\n",
       "<style scoped>\n",
       "    .dataframe tbody tr th:only-of-type {\n",
       "        vertical-align: middle;\n",
       "    }\n",
       "\n",
       "    .dataframe tbody tr th {\n",
       "        vertical-align: top;\n",
       "    }\n",
       "\n",
       "    .dataframe thead th {\n",
       "        text-align: right;\n",
       "    }\n",
       "</style>\n",
       "<table border=\"1\" class=\"dataframe\">\n",
       "  <thead>\n",
       "    <tr style=\"text-align: right;\">\n",
       "      <th></th>\n",
       "      <th>node_id</th>\n",
       "      <th>정류소명(역명)</th>\n",
       "      <th>월평균승차수</th>\n",
       "      <th>월평균하차수</th>\n",
       "      <th>월평균승하차총계</th>\n",
       "      <th>위도</th>\n",
       "      <th>경도</th>\n",
       "    </tr>\n",
       "  </thead>\n",
       "  <tbody>\n",
       "    <tr>\n",
       "      <th>0</th>\n",
       "      <td>B100000001</td>\n",
       "      <td>종로2가사거리</td>\n",
       "      <td>14645</td>\n",
       "      <td>13676</td>\n",
       "      <td>28321</td>\n",
       "      <td>37.569765</td>\n",
       "      <td>126.987750</td>\n",
       "    </tr>\n",
       "    <tr>\n",
       "      <th>1</th>\n",
       "      <td>B100000002</td>\n",
       "      <td>창경궁.서울대학교병원</td>\n",
       "      <td>81002</td>\n",
       "      <td>70081</td>\n",
       "      <td>151083</td>\n",
       "      <td>37.579183</td>\n",
       "      <td>126.996566</td>\n",
       "    </tr>\n",
       "  </tbody>\n",
       "</table>\n",
       "</div>"
      ],
      "text/plain": [
       "      node_id     정류소명(역명)  월평균승차수  월평균하차수  월평균승하차총계         위도          경도\n",
       "0  B100000001      종로2가사거리   14645   13676     28321  37.569765  126.987750\n",
       "1  B100000002  창경궁.서울대학교병원   81002   70081    151083  37.579183  126.996566"
      ]
     },
     "execution_count": 3,
     "metadata": {},
     "output_type": "execute_result"
    }
   ],
   "source": [
    "# 버스 정류장 데이터\n",
    "bus.info()\n",
    "bus.head(2)"
   ]
  },
  {
   "cell_type": "code",
   "execution_count": 4,
   "id": "82e57dd9",
   "metadata": {},
   "outputs": [
    {
     "name": "stdout",
     "output_type": "stream",
     "text": [
      "<class 'pandas.core.frame.DataFrame'>\n",
      "RangeIndex: 275 entries, 0 to 274\n",
      "Data columns (total 7 columns):\n",
      " #   Column    Non-Null Count  Dtype  \n",
      "---  ------    --------------  -----  \n",
      " 0   node_id   275 non-null    object \n",
      " 1   정류소명(역명)  275 non-null    object \n",
      " 2   월평균승차수    275 non-null    float64\n",
      " 3   월평균하차수    275 non-null    float64\n",
      " 4   월평균승하차총계  275 non-null    float64\n",
      " 5   위도        275 non-null    float64\n",
      " 6   경도        275 non-null    float64\n",
      "dtypes: float64(5), object(2)\n",
      "memory usage: 15.2+ KB\n"
     ]
    },
    {
     "data": {
      "text/html": [
       "<div>\n",
       "<style scoped>\n",
       "    .dataframe tbody tr th:only-of-type {\n",
       "        vertical-align: middle;\n",
       "    }\n",
       "\n",
       "    .dataframe tbody tr th {\n",
       "        vertical-align: top;\n",
       "    }\n",
       "\n",
       "    .dataframe thead th {\n",
       "        text-align: right;\n",
       "    }\n",
       "</style>\n",
       "<table border=\"1\" class=\"dataframe\">\n",
       "  <thead>\n",
       "    <tr style=\"text-align: right;\">\n",
       "      <th></th>\n",
       "      <th>node_id</th>\n",
       "      <th>정류소명(역명)</th>\n",
       "      <th>월평균승차수</th>\n",
       "      <th>월평균하차수</th>\n",
       "      <th>월평균승하차총계</th>\n",
       "      <th>위도</th>\n",
       "      <th>경도</th>\n",
       "    </tr>\n",
       "  </thead>\n",
       "  <tbody>\n",
       "    <tr>\n",
       "      <th>0</th>\n",
       "      <td>S150</td>\n",
       "      <td>서울역</td>\n",
       "      <td>1301736.5</td>\n",
       "      <td>1264329.75</td>\n",
       "      <td>2566066.25</td>\n",
       "      <td>37.55315</td>\n",
       "      <td>126.972533</td>\n",
       "    </tr>\n",
       "    <tr>\n",
       "      <th>1</th>\n",
       "      <td>S151</td>\n",
       "      <td>시청</td>\n",
       "      <td>625330.5</td>\n",
       "      <td>632575.33</td>\n",
       "      <td>1257905.83</td>\n",
       "      <td>37.56359</td>\n",
       "      <td>126.975407</td>\n",
       "    </tr>\n",
       "  </tbody>\n",
       "</table>\n",
       "</div>"
      ],
      "text/plain": [
       "  node_id 정류소명(역명)     월평균승차수      월평균하차수    월평균승하차총계        위도          경도\n",
       "0    S150      서울역  1301736.5  1264329.75  2566066.25  37.55315  126.972533\n",
       "1    S151       시청   625330.5   632575.33  1257905.83  37.56359  126.975407"
      ]
     },
     "execution_count": 4,
     "metadata": {},
     "output_type": "execute_result"
    }
   ],
   "source": [
    "# 지하철 데이터\n",
    "subway.info()\n",
    "subway.head(2)"
   ]
  },
  {
   "cell_type": "code",
   "execution_count": 5,
   "id": "cb593287",
   "metadata": {
    "scrolled": true
   },
   "outputs": [
    {
     "name": "stdout",
     "output_type": "stream",
     "text": [
      "(10626, 7) (275, 7) (10901, 7)\n"
     ]
    },
    {
     "data": {
      "text/html": [
       "<div>\n",
       "<style scoped>\n",
       "    .dataframe tbody tr th:only-of-type {\n",
       "        vertical-align: middle;\n",
       "    }\n",
       "\n",
       "    .dataframe tbody tr th {\n",
       "        vertical-align: top;\n",
       "    }\n",
       "\n",
       "    .dataframe thead th {\n",
       "        text-align: right;\n",
       "    }\n",
       "</style>\n",
       "<table border=\"1\" class=\"dataframe\">\n",
       "  <thead>\n",
       "    <tr style=\"text-align: right;\">\n",
       "      <th></th>\n",
       "      <th>node_id</th>\n",
       "      <th>정류소명(역명)</th>\n",
       "      <th>월평균승차수</th>\n",
       "      <th>월평균하차수</th>\n",
       "      <th>월평균승하차총계</th>\n",
       "      <th>위도</th>\n",
       "      <th>경도</th>\n",
       "    </tr>\n",
       "  </thead>\n",
       "  <tbody>\n",
       "    <tr>\n",
       "      <th>10899</th>\n",
       "      <td>S433</td>\n",
       "      <td>사당</td>\n",
       "      <td>730378.25</td>\n",
       "      <td>628545.25</td>\n",
       "      <td>1358923.50</td>\n",
       "      <td>37.476563</td>\n",
       "      <td>126.981746</td>\n",
       "    </tr>\n",
       "    <tr>\n",
       "      <th>10900</th>\n",
       "      <td>S434</td>\n",
       "      <td>남태령</td>\n",
       "      <td>37265.67</td>\n",
       "      <td>30892.17</td>\n",
       "      <td>68157.84</td>\n",
       "      <td>37.464339</td>\n",
       "      <td>126.989081</td>\n",
       "    </tr>\n",
       "  </tbody>\n",
       "</table>\n",
       "</div>"
      ],
      "text/plain": [
       "      node_id 정류소명(역명)     월평균승차수     월평균하차수    월평균승하차총계         위도  \\\n",
       "10899    S433       사당  730378.25  628545.25  1358923.50  37.476563   \n",
       "10900    S434      남태령   37265.67   30892.17    68157.84  37.464339   \n",
       "\n",
       "               경도  \n",
       "10899  126.981746  \n",
       "10900  126.989081  "
      ]
     },
     "execution_count": 5,
     "metadata": {},
     "output_type": "execute_result"
    }
   ],
   "source": [
    "# 데이터 합치기\n",
    "df = pd.concat([bus, subway]).reset_index(drop=True)\n",
    "print(bus.shape, subway.shape, df.shape)\n",
    "df.tail(2)"
   ]
  },
  {
   "cell_type": "code",
   "execution_count": 6,
   "id": "5d227a30",
   "metadata": {},
   "outputs": [],
   "source": [
    "df.to_excel('transport_info.xlsx', index=False)"
   ]
  }
 ],
 "metadata": {
  "kernelspec": {
   "display_name": "Python 3 (ipykernel)",
   "language": "python",
   "name": "python3"
  },
  "language_info": {
   "codemirror_mode": {
    "name": "ipython",
    "version": 3
   },
   "file_extension": ".py",
   "mimetype": "text/x-python",
   "name": "python",
   "nbconvert_exporter": "python",
   "pygments_lexer": "ipython3",
   "version": "3.9.13"
  }
 },
 "nbformat": 4,
 "nbformat_minor": 5
}
