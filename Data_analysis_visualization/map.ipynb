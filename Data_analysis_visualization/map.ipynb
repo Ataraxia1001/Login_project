{
 "cells": [
  {
   "cell_type": "code",
   "execution_count": null,
   "id": "000abdbe",
   "metadata": {},
   "outputs": [],
   "source": [
    "from IPython.core.display import display, HTML\n",
    "display(HTML(\"<style>.container { width:90% !important; }</style>\"))"
   ]
  },
  {
   "cell_type": "code",
   "execution_count": null,
   "id": "b58d8454",
   "metadata": {},
   "outputs": [],
   "source": [
    "import pandas as pd\n",
    "import numpy as np\n",
    "import seaborn as sns\n",
    "import pickle\n",
    "import folium"
   ]
  },
  {
   "cell_type": "code",
   "execution_count": null,
   "id": "da1c4de7",
   "metadata": {},
   "outputs": [],
   "source": [
    "df = pd.read_excel('/Users/nabong/Desktop/project_login/data/cleaned/숙소위치기반_교통_관광_통계정보.xlsx')\n",
    "df.info()\n",
    "df"
   ]
  },
  {
   "cell_type": "code",
   "execution_count": null,
   "id": "ab105db3",
   "metadata": {},
   "outputs": [],
   "source": [
    "i = df.iloc[:, 19:21].sort_values('버스정류장_수(1km내)', ascending=False).index\n",
    "\n",
    "df.iloc[i, :][['이름', '버스정류장_수(1km내)', '지하철역_수(1km내)']].to_excel('too_many.xlsx')"
   ]
  },
  {
   "cell_type": "code",
   "execution_count": null,
   "id": "45991491",
   "metadata": {
    "scrolled": true
   },
   "outputs": [],
   "source": [
    "# # 상관관계 분석을 전 결측치 확인\n",
    "# df.isnull().sum()\n",
    "# 상관관계 분석을 하기 위해 결측치가 들어간 값들은 제거\n",
    "# df_cleaned = df.dropna()\n",
    "# df_cleaned.info()\n",
    "# df_test = df_cleaned.iloc[:, 15:] # 경쟁업소 수 ~ 쇼핑몰 평균거리\n",
    "# df_test.corrwith(df_cleaned['평점'])"
   ]
  },
  {
   "cell_type": "code",
   "execution_count": null,
   "id": "4b7a2d0e",
   "metadata": {
    "scrolled": true
   },
   "outputs": [],
   "source": [
    "with open('trans_neighbors_dict.pkl', 'rb') as f:\n",
    "    trans_neighbors = pickle.load(f)"
   ]
  },
  {
   "cell_type": "code",
   "execution_count": null,
   "id": "ec212007",
   "metadata": {
    "scrolled": true
   },
   "outputs": [],
   "source": [
    "# 숙박업소 이름 리스트\n",
    "accomds = list(df['이름'])\n",
    "# 숙박업소 좌표 리스트\n",
    "accomd_gps_list = list(zip(df['위도'].round(6), df['경도'].round(6)))\n",
    "# 숙박업소 이웃 리스트\n",
    "neighbors_gps_list = list(trans_neighbors.values())\n",
    "\n",
    "center = [37.541, 126.986] # 서울중심부\n",
    "m = folium.Map(\n",
    "    location = [center[0], center[1]],\n",
    "    zoom_start = 12,\n",
    ")"
   ]
  },
  {
   "cell_type": "code",
   "execution_count": null,
   "id": "75673bfa",
   "metadata": {},
   "outputs": [],
   "source": [
    "neighbors_gps_list"
   ]
  },
  {
   "cell_type": "code",
   "execution_count": null,
   "id": "6b675904",
   "metadata": {},
   "outputs": [],
   "source": [
    "# 주변 1km 반경내 버스정류장, 지하철역\n",
    "i = 0 \n",
    "for gps in accomd_gps_list:\n",
    "#     folium.CircleMarker([gps[0], gps[1]], tooltip=accomds[i], icon=folium.Icon(color='lightred', icon='star')).add_to(m)\n",
    "    folium.Marker([gps[0], gps[1]], icon=folium.Icon(color='lightred', icon='star'), tooltip=accomds[i]).add_to(m)\n",
    "    i += 1\n",
    "    \n",
    "for neighbors in neighbors_gps_list:\n",
    "    for neighbor in neighbors:\n",
    "        folium.Circle(radius=10, location=[neighbor[0], neighbor[1]], color='#967BDC', fill=False).add_to(m)"
   ]
  },
  {
   "cell_type": "code",
   "execution_count": null,
   "id": "1bc390cf",
   "metadata": {
    "scrolled": true
   },
   "outputs": [],
   "source": [
    "m"
   ]
  },
  {
   "cell_type": "code",
   "execution_count": null,
   "id": "d0908c77",
   "metadata": {},
   "outputs": [],
   "source": [
    "m.save('map.html')"
   ]
  },
  {
   "cell_type": "code",
   "execution_count": null,
   "id": "71339946",
   "metadata": {},
   "outputs": [],
   "source": [
    "m.get_root().render()"
   ]
  }
 ],
 "metadata": {
  "kernelspec": {
   "display_name": "Python 3 (ipykernel)",
   "language": "python",
   "name": "python3"
  },
  "language_info": {
   "codemirror_mode": {
    "name": "ipython",
    "version": 3
   },
   "file_extension": ".py",
   "mimetype": "text/x-python",
   "name": "python",
   "nbconvert_exporter": "python",
   "pygments_lexer": "ipython3",
   "version": "3.9.13"
  }
 },
 "nbformat": 4,
 "nbformat_minor": 5
}
