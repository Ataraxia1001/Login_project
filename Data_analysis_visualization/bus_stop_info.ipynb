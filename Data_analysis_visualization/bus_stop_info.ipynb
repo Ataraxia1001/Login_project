{
 "cells": [
  {
   "cell_type": "code",
   "execution_count": 2,
   "metadata": {},
   "outputs": [
    {
     "data": {
      "text/html": [
       "<style>.container { width:90% !important; }</style>"
      ],
      "text/plain": [
       "<IPython.core.display.HTML object>"
      ]
     },
     "metadata": {},
     "output_type": "display_data"
    }
   ],
   "source": [
    "# 화면 넓게 보기\n",
    "from IPython.core.display import display, HTML\n",
    "display(HTML(\"<style>.container { width:90% !important; }</style>\"))"
   ]
  },
  {
   "cell_type": "markdown",
   "metadata": {
    "id": "bGFbLkTUEKWQ"
   },
   "source": [
    "# ⭐️ 버스 정류소 월별 승하차 인원 합계 및 정류소 위치 정보\n",
    "- 목표: 월평균 유동인구가 많은 버스정류장의 위치 데이터\n",
    "  - 1단계 : 데이터 전처리\n",
    "    - 필요없는 컬럼 삭제\n",
    "    - 병합을 위해 컬럼 이름 통일 및 데이터 타입 일치시키기\n",
    "    - 해당 자료는 시간대별 승하차 인구를 모두 포함함\n",
    "      - 시간대별 유동인 수가 필요한 것이 아니라 월평균 총유동인구 수가 필요하므로 정류장별 월평균유동인구 값을 구하기(승차, 하차 구분)\n",
    "  - 2단계 : 정류소별 월, 시간대별 승하차 인원 수를 포함하는 데이터프레임과 버스 정류장의 위치 좌표를 가진 데이터프레임 병합"
   ]
  },
  {
   "cell_type": "markdown",
   "metadata": {
    "id": "cxIRy6gYEhO0"
   },
   "source": [
    "## ✅ 데이터 전처리"
   ]
  },
  {
   "cell_type": "code",
   "execution_count": 3,
   "metadata": {
    "colab": {
     "base_uri": "https://localhost:8080/"
    },
    "executionInfo": {
     "elapsed": 20464,
     "status": "ok",
     "timestamp": 1683799755502,
     "user": {
      "displayName": "타조랑말",
      "userId": "10222896579941315833"
     },
     "user_tz": -540
    },
    "id": "qbiOUV7cjnJd",
    "outputId": "60530752-f287-4e8c-ac64-3c9719dde8c2"
   },
   "outputs": [
    {
     "name": "stdout",
     "output_type": "stream",
     "text": [
      "Requirement already satisfied: haversine in /Users/nabong/opt/anaconda3/lib/python3.9/site-packages (2.8.0)\n",
      "Requirement already satisfied: tqdm in /Users/nabong/opt/anaconda3/lib/python3.9/site-packages (4.64.1)\n",
      "Requirement already satisfied: folium in /Users/nabong/opt/anaconda3/lib/python3.9/site-packages (0.14.0)\n",
      "Requirement already satisfied: branca>=0.6.0 in /Users/nabong/opt/anaconda3/lib/python3.9/site-packages (from folium) (0.6.0)\n",
      "Requirement already satisfied: requests in /Users/nabong/opt/anaconda3/lib/python3.9/site-packages (from folium) (2.28.1)\n",
      "Requirement already satisfied: numpy in /Users/nabong/opt/anaconda3/lib/python3.9/site-packages (from folium) (1.21.5)\n",
      "Requirement already satisfied: jinja2>=2.9 in /Users/nabong/opt/anaconda3/lib/python3.9/site-packages (from folium) (2.11.3)\n",
      "Requirement already satisfied: MarkupSafe>=0.23 in /Users/nabong/opt/anaconda3/lib/python3.9/site-packages (from jinja2>=2.9->folium) (2.0.1)\n",
      "Requirement already satisfied: charset-normalizer<3,>=2 in /Users/nabong/opt/anaconda3/lib/python3.9/site-packages (from requests->folium) (2.0.4)\n",
      "Requirement already satisfied: certifi>=2017.4.17 in /Users/nabong/opt/anaconda3/lib/python3.9/site-packages (from requests->folium) (2022.12.7)\n",
      "Requirement already satisfied: idna<4,>=2.5 in /Users/nabong/opt/anaconda3/lib/python3.9/site-packages (from requests->folium) (3.3)\n",
      "Requirement already satisfied: urllib3<1.27,>=1.21.1 in /Users/nabong/opt/anaconda3/lib/python3.9/site-packages (from requests->folium) (1.26.11)\n"
     ]
    }
   ],
   "source": [
    "# 필요한 라이브러리\n",
    "!pip install haversine\n",
    "!pip install tqdm\n",
    "!pip install folium"
   ]
  },
  {
   "cell_type": "code",
   "execution_count": 5,
   "metadata": {
    "executionInfo": {
     "elapsed": 3662,
     "status": "ok",
     "timestamp": 1683799759159,
     "user": {
      "displayName": "타조랑말",
      "userId": "10222896579941315833"
     },
     "user_tz": -540
    },
    "id": "zE4Hf6o2KxS2"
   },
   "outputs": [],
   "source": [
    "import pandas as pd\n",
    "import numpy as np\n",
    "from sklearn.cluster import MeanShift, estimate_bandwidth\n",
    "from glob import glob\n",
    "from tqdm import tqdm\n",
    "from haversine import haversine\n",
    "import geopy.distance\n",
    "import numpy as np\n",
    "import random\n",
    "import folium\n",
    "from folium.features import CustomIcon\n",
    "import seaborn as sns\n",
    "import matplotlib.pyplot as plt\n",
    "import matplotlib\n",
    "from matplotlib import font_manager, rc\n",
    "import platform\n",
    "\n",
    "try:\n",
    "\n",
    "    if platform.system() == 'Windows':\n",
    "\n",
    "        #윈도우인 경우\n",
    "\n",
    "        font_name = font_manager.FontProperties(fname=\"c:/Windows/fonts/malgun.ttf\").get_name()\n",
    "\n",
    "        rc('font', family=font_name)\n",
    "\n",
    "    else:\n",
    "\n",
    "        #Mac인 경우\n",
    "\n",
    "        rc('font', family='AppleGothic')\n",
    "\n",
    "except:\n",
    "\n",
    "    pass\n",
    "\n",
    "matplotlib.rcParams['axes.unicode_minus'] = False"
   ]
  },
  {
   "cell_type": "code",
   "execution_count": 6,
   "metadata": {
    "colab": {
     "base_uri": "https://localhost:8080/"
    },
    "executionInfo": {
     "elapsed": 26082,
     "status": "ok",
     "timestamp": 1683799785235,
     "user": {
      "displayName": "타조랑말",
      "userId": "10222896579941315833"
     },
     "user_tz": -540
    },
    "id": "RRYuMSw-X89k",
    "outputId": "12a0e03e-bd3f-4503-9a24-07fe2e423dbd"
   },
   "outputs": [
    {
     "name": "stderr",
     "output_type": "stream",
     "text": [
      "/var/folders/5z/x3njjl9j3tb_1llqpqvxxqhm0000gn/T/ipykernel_49334/2921934671.py:5: DtypeWarning: Columns (4) have mixed types. Specify dtype option on import or set low_memory=False.\n",
      "  df = pd.read_csv(f, encoding='cp949')\n",
      "/var/folders/5z/x3njjl9j3tb_1llqpqvxxqhm0000gn/T/ipykernel_49334/2921934671.py:5: DtypeWarning: Columns (4) have mixed types. Specify dtype option on import or set low_memory=False.\n",
      "  df = pd.read_csv(f, encoding='cp949')\n",
      "/var/folders/5z/x3njjl9j3tb_1llqpqvxxqhm0000gn/T/ipykernel_49334/2921934671.py:5: DtypeWarning: Columns (4) have mixed types. Specify dtype option on import or set low_memory=False.\n",
      "  df = pd.read_csv(f, encoding='cp949')\n",
      "/var/folders/5z/x3njjl9j3tb_1llqpqvxxqhm0000gn/T/ipykernel_49334/2921934671.py:5: DtypeWarning: Columns (4) have mixed types. Specify dtype option on import or set low_memory=False.\n",
      "  df = pd.read_csv(f, encoding='cp949')\n",
      "/var/folders/5z/x3njjl9j3tb_1llqpqvxxqhm0000gn/T/ipykernel_49334/2921934671.py:5: DtypeWarning: Columns (4) have mixed types. Specify dtype option on import or set low_memory=False.\n",
      "  df = pd.read_csv(f, encoding='cp949')\n",
      "/var/folders/5z/x3njjl9j3tb_1llqpqvxxqhm0000gn/T/ipykernel_49334/2921934671.py:5: DtypeWarning: Columns (4) have mixed types. Specify dtype option on import or set low_memory=False.\n",
      "  df = pd.read_csv(f, encoding='cp949')\n",
      "/var/folders/5z/x3njjl9j3tb_1llqpqvxxqhm0000gn/T/ipykernel_49334/2921934671.py:5: DtypeWarning: Columns (4) have mixed types. Specify dtype option on import or set low_memory=False.\n",
      "  df = pd.read_csv(f, encoding='cp949')\n",
      "/var/folders/5z/x3njjl9j3tb_1llqpqvxxqhm0000gn/T/ipykernel_49334/2921934671.py:5: DtypeWarning: Columns (4) have mixed types. Specify dtype option on import or set low_memory=False.\n",
      "  df = pd.read_csv(f, encoding='cp949')\n",
      "/var/folders/5z/x3njjl9j3tb_1llqpqvxxqhm0000gn/T/ipykernel_49334/2921934671.py:5: DtypeWarning: Columns (4) have mixed types. Specify dtype option on import or set low_memory=False.\n",
      "  df = pd.read_csv(f, encoding='cp949')\n",
      "/var/folders/5z/x3njjl9j3tb_1llqpqvxxqhm0000gn/T/ipykernel_49334/2921934671.py:5: DtypeWarning: Columns (4) have mixed types. Specify dtype option on import or set low_memory=False.\n",
      "  df = pd.read_csv(f, encoding='cp949')\n",
      "/var/folders/5z/x3njjl9j3tb_1llqpqvxxqhm0000gn/T/ipykernel_49334/2921934671.py:5: DtypeWarning: Columns (4) have mixed types. Specify dtype option on import or set low_memory=False.\n",
      "  df = pd.read_csv(f, encoding='cp949')\n",
      "/var/folders/5z/x3njjl9j3tb_1llqpqvxxqhm0000gn/T/ipykernel_49334/2921934671.py:5: DtypeWarning: Columns (4) have mixed types. Specify dtype option on import or set low_memory=False.\n",
      "  df = pd.read_csv(f, encoding='cp949')\n"
     ]
    }
   ],
   "source": [
    "# 1월 ~ 12월의 정류장별, 시간대별 승하차 승객 수 데이터 불러오기\n",
    "file_list = glob('/Users/nabong/Desktop/project_login/data/busstop/*.csv')\n",
    "df_origin = []\n",
    "for f in file_list:\n",
    "  df = pd.read_csv(f, encoding='cp949')\n",
    "  df_origin.append(df)\n",
    "\n",
    "# 버스정류소의 위치 데이터 불러오기\n",
    "stop_loc = pd.read_excel('/Users/nabong/Desktop/project_login/data/busstop/busstop_location_seoul.xlsx')"
   ]
  },
  {
   "cell_type": "code",
   "execution_count": 7,
   "metadata": {
    "colab": {
     "base_uri": "https://localhost:8080/"
    },
    "executionInfo": {
     "elapsed": 16,
     "status": "ok",
     "timestamp": 1683799785236,
     "user": {
      "displayName": "타조랑말",
      "userId": "10222896579941315833"
     },
     "user_tz": -540
    },
    "id": "fI9HoCZ9Fbw2",
    "outputId": "f02ee2bc-2172-4adf-e799-b28572e25d3b"
   },
   "outputs": [
    {
     "name": "stdout",
     "output_type": "stream",
     "text": [
      "Index(['사용년월', '노선번호', '노선명', '표준버스정류장ID', '버스정류장ARS번호', '역명', '00시승차총승객수',\n",
      "       '00시하차총승객수', '1시승차총승객수', '1시하차총승객수', '2시승차총승객수', '2시하차총승객수', '3시승차총승객수',\n",
      "       '3시하차총승객수', '4시승차총승객수', '4시하차총승객수', '5시승차총승객수', '5시하차총승객수', '6시승차총승객수',\n",
      "       '6시하차총승객수', '7시승차총승객수', '7시하차총승객수', '8시승차총승객수', '8시하차총승객수', '9시승차총승객수',\n",
      "       '9시하차총승객수', '10시승차총승객수', '10시하차총승객수', '11시승차총승객수', '11시하차총승객수',\n",
      "       '12시승차총승객수', '12시하차총승객수', '13시승차총승객수', '13시하차총승객수', '14시승차총승객수',\n",
      "       '14시하차총승객수', '15시승차총승객수', '15시하차총승객수', '16시승차총승객수', '16시하차총승객수',\n",
      "       '17시승차총승객수', '17시하차총승객수', '18시승차총승객수', '18시하차총승객수', '19시승차총승객수',\n",
      "       '19시하차총승객수', '20시승차총승객수', '20시하차총승객수', '21시승차총승객수', '21시하차총승객수',\n",
      "       '22시승차총승객수', '22시하차총승객수', '23시승차총승객수', '23시하차총승객수', '교통수단타입코드',\n",
      "       '교통수단타입명', '등록일자'],\n",
      "      dtype='object')\n",
      "Index(['?\"사용년월\"', '노선번호', '노선명', '표준버스정류장ID', '버스정류장ARS번호', '역명', '00시승차총승객수',\n",
      "       '00시하차총승객수', '1시승차총승객수', '1시하차총승객수', '2시승차총승객수', '2시하차총승객수', '3시승차총승객수',\n",
      "       '3시하차총승객수', '4시승차총승객수', '4시하차총승객수', '5시승차총승객수', '5시하차총승객수', '6시승차총승객수',\n",
      "       '6시하차총승객수', '7시승차총승객수', '7시하차총승객수', '8시승차총승객수', '8시하차총승객수', '9시승차총승객수',\n",
      "       '9시하차총승객수', '10시승차총승객수', '10시하차총승객수', '11시승차총승객수', '11시하차총승객수',\n",
      "       '12시승차총승객수', '12시하차총승객수', '13시승차총승객수', '13시하차총승객수', '14시승차총승객수',\n",
      "       '14시하차총승객수', '15시승차총승객수', '15시하차총승객수', '16시승차총승객수', '16시하차총승객수',\n",
      "       '17시승차총승객수', '17시하차총승객수', '18시승차총승객수', '18시하차총승객수', '19시승차총승객수',\n",
      "       '19시하차총승객수', '20시승차총승객수', '20시하차총승객수', '21시승차총승객수', '21시하차총승객수',\n",
      "       '22시승차총승객수', '22시하차총승객수', '23시승차총승객수', '23시하차총승객수', '등록일자'],\n",
      "      dtype='object')\n",
      "Index(['사용년월', '노선번호', '노선명', '표준버스정류장ID', '버스정류장ARS번호', '역명', '00시승차총승객수',\n",
      "       '00시하차총승객수', '1시승차총승객수', '1시하차총승객수', '2시승차총승객수', '2시하차총승객수', '3시승차총승객수',\n",
      "       '3시하차총승객수', '4시승차총승객수', '4시하차총승객수', '5시승차총승객수', '5시하차총승객수', '6시승차총승객수',\n",
      "       '6시하차총승객수', '7시승차총승객수', '7시하차총승객수', '8시승차총승객수', '8시하차총승객수', '9시승차총승객수',\n",
      "       '9시하차총승객수', '10시승차총승객수', '10시하차총승객수', '11시승차총승객수', '11시하차총승객수',\n",
      "       '12시승차총승객수', '12시하차총승객수', '13시승차총승객수', '13시하차총승객수', '14시승차총승객수',\n",
      "       '14시하차총승객수', '15시승차총승객수', '15시하차총승객수', '16시승차총승객수', '16시하차총승객수',\n",
      "       '17시승차총승객수', '17시하차총승객수', '18시승차총승객수', '18시하차총승객수', '19시승차총승객수',\n",
      "       '19시하차총승객수', '20시승차총승객수', '20시하차총승객수', '21시승차총승객수', '21시하차총승객수',\n",
      "       '22시승차총승객수', '22시하차총승객수', '23시승차총승객수', '23시하차총승객수', '교통수단타입코드',\n",
      "       '교통수단타입명', '등록일자'],\n",
      "      dtype='object')\n",
      "Index(['?\"사용년월\"', '노선번호', '노선명', '표준버스정류장ID', '버스정류장ARS번호', '역명', '00시승차총승객수',\n",
      "       '00시하차총승객수', '1시승차총승객수', '1시하차총승객수', '2시승차총승객수', '2시하차총승객수', '3시승차총승객수',\n",
      "       '3시하차총승객수', '4시승차총승객수', '4시하차총승객수', '5시승차총승객수', '5시하차총승객수', '6시승차총승객수',\n",
      "       '6시하차총승객수', '7시승차총승객수', '7시하차총승객수', '8시승차총승객수', '8시하차총승객수', '9시승차총승객수',\n",
      "       '9시하차총승객수', '10시승차총승객수', '10시하차총승객수', '11시승차총승객수', '11시하차총승객수',\n",
      "       '12시승차총승객수', '12시하차총승객수', '13시승차총승객수', '13시하차총승객수', '14시승차총승객수',\n",
      "       '14시하차총승객수', '15시승차총승객수', '15시하차총승객수', '16시승차총승객수', '16시하차총승객수',\n",
      "       '17시승차총승객수', '17시하차총승객수', '18시승차총승객수', '18시하차총승객수', '19시승차총승객수',\n",
      "       '19시하차총승객수', '20시승차총승객수', '20시하차총승객수', '21시승차총승객수', '21시하차총승객수',\n",
      "       '22시승차총승객수', '22시하차총승객수', '23시승차총승객수', '23시하차총승객수', '등록일자'],\n",
      "      dtype='object')\n",
      "Index(['사용년월', '노선번호', '노선명', '표준버스정류장ID', '버스정류장ARS번호', '역명', '00시승차총승객수',\n",
      "       '00시하차총승객수', '1시승차총승객수', '1시하차총승객수', '2시승차총승객수', '2시하차총승객수', '3시승차총승객수',\n",
      "       '3시하차총승객수', '4시승차총승객수', '4시하차총승객수', '5시승차총승객수', '5시하차총승객수', '6시승차총승객수',\n",
      "       '6시하차총승객수', '7시승차총승객수', '7시하차총승객수', '8시승차총승객수', '8시하차총승객수', '9시승차총승객수',\n",
      "       '9시하차총승객수', '10시승차총승객수', '10시하차총승객수', '11시승차총승객수', '11시하차총승객수',\n",
      "       '12시승차총승객수', '12시하차총승객수', '13시승차총승객수', '13시하차총승객수', '14시승차총승객수',\n",
      "       '14시하차총승객수', '15시승차총승객수', '15시하차총승객수', '16시승차총승객수', '16시하차총승객수',\n",
      "       '17시승차총승객수', '17시하차총승객수', '18시승차총승객수', '18시하차총승객수', '19시승차총승객수',\n",
      "       '19시하차총승객수', '20시승차총승객수', '20시하차총승객수', '21시승차총승객수', '21시하차총승객수',\n",
      "       '22시승차총승객수', '22시하차총승객수', '23시승차총승객수', '23시하차총승객수', '교통수단타입코드',\n",
      "       '교통수단타입명', '등록일자'],\n",
      "      dtype='object')\n",
      "Index(['사용년월', '노선번호', '노선명', '표준버스정류장ID', '버스정류장ARS번호', '역명', '00시승차총승객수',\n",
      "       '00시하차총승객수', '1시승차총승객수', '1시하차총승객수', '2시승차총승객수', '2시하차총승객수', '3시승차총승객수',\n",
      "       '3시하차총승객수', '4시승차총승객수', '4시하차총승객수', '5시승차총승객수', '5시하차총승객수', '6시승차총승객수',\n",
      "       '6시하차총승객수', '7시승차총승객수', '7시하차총승객수', '8시승차총승객수', '8시하차총승객수', '9시승차총승객수',\n",
      "       '9시하차총승객수', '10시승차총승객수', '10시하차총승객수', '11시승차총승객수', '11시하차총승객수',\n",
      "       '12시승차총승객수', '12시하차총승객수', '13시승차총승객수', '13시하차총승객수', '14시승차총승객수',\n",
      "       '14시하차총승객수', '15시승차총승객수', '15시하차총승객수', '16시승차총승객수', '16시하차총승객수',\n",
      "       '17시승차총승객수', '17시하차총승객수', '18시승차총승객수', '18시하차총승객수', '19시승차총승객수',\n",
      "       '19시하차총승객수', '20시승차총승객수', '20시하차총승객수', '21시승차총승객수', '21시하차총승객수',\n",
      "       '22시승차총승객수', '22시하차총승객수', '23시승차총승객수', '23시하차총승객수', '등록일자'],\n",
      "      dtype='object')\n",
      "Index(['?\"사용년월\"', '노선번호', '노선명', '표준버스정류장ID', '버스정류장ARS번호', '역명', '00시승차총승객수',\n",
      "       '00시하차총승객수', '1시승차총승객수', '1시하차총승객수', '2시승차총승객수', '2시하차총승객수', '3시승차총승객수',\n",
      "       '3시하차총승객수', '4시승차총승객수', '4시하차총승객수', '5시승차총승객수', '5시하차총승객수', '6시승차총승객수',\n",
      "       '6시하차총승객수', '7시승차총승객수', '7시하차총승객수', '8시승차총승객수', '8시하차총승객수', '9시승차총승객수',\n",
      "       '9시하차총승객수', '10시승차총승객수', '10시하차총승객수', '11시승차총승객수', '11시하차총승객수',\n",
      "       '12시승차총승객수', '12시하차총승객수', '13시승차총승객수', '13시하차총승객수', '14시승차총승객수',\n",
      "       '14시하차총승객수', '15시승차총승객수', '15시하차총승객수', '16시승차총승객수', '16시하차총승객수',\n",
      "       '17시승차총승객수', '17시하차총승객수', '18시승차총승객수', '18시하차총승객수', '19시승차총승객수',\n",
      "       '19시하차총승객수', '20시승차총승객수', '20시하차총승객수', '21시승차총승객수', '21시하차총승객수',\n",
      "       '22시승차총승객수', '22시하차총승객수', '23시승차총승객수', '23시하차총승객수', '등록일자'],\n",
      "      dtype='object')\n",
      "Index(['사용년월', '노선번호', '노선명', '표준버스정류장ID', '버스정류장ARS번호', '역명', '00시승차총승객수',\n",
      "       '00시하차총승객수', '1시승차총승객수', '1시하차총승객수', '2시승차총승객수', '2시하차총승객수', '3시승차총승객수',\n",
      "       '3시하차총승객수', '4시승차총승객수', '4시하차총승객수', '5시승차총승객수', '5시하차총승객수', '6시승차총승객수',\n",
      "       '6시하차총승객수', '7시승차총승객수', '7시하차총승객수', '8시승차총승객수', '8시하차총승객수', '9시승차총승객수',\n",
      "       '9시하차총승객수', '10시승차총승객수', '10시하차총승객수', '11시승차총승객수', '11시하차총승객수',\n",
      "       '12시승차총승객수', '12시하차총승객수', '13시승차총승객수', '13시하차총승객수', '14시승차총승객수',\n",
      "       '14시하차총승객수', '15시승차총승객수', '15시하차총승객수', '16시승차총승객수', '16시하차총승객수',\n",
      "       '17시승차총승객수', '17시하차총승객수', '18시승차총승객수', '18시하차총승객수', '19시승차총승객수',\n",
      "       '19시하차총승객수', '20시승차총승객수', '20시하차총승객수', '21시승차총승객수', '21시하차총승객수',\n",
      "       '22시승차총승객수', '22시하차총승객수', '23시승차총승객수', '23시하차총승객수', '등록일자'],\n",
      "      dtype='object')\n",
      "Index(['사용년월', '노선번호', '노선명', '표준버스정류장ID', '버스정류장ARS번호', '역명', '00시승차총승객수',\n",
      "       '00시하차총승객수', '1시승차총승객수', '1시하차총승객수', '2시승차총승객수', '2시하차총승객수', '3시승차총승객수',\n",
      "       '3시하차총승객수', '4시승차총승객수', '4시하차총승객수', '5시승차총승객수', '5시하차총승객수', '6시승차총승객수',\n",
      "       '6시하차총승객수', '7시승차총승객수', '7시하차총승객수', '8시승차총승객수', '8시하차총승객수', '9시승차총승객수',\n",
      "       '9시하차총승객수', '10시승차총승객수', '10시하차총승객수', '11시승차총승객수', '11시하차총승객수',\n",
      "       '12시승차총승객수', '12시하차총승객수', '13시승차총승객수', '13시하차총승객수', '14시승차총승객수',\n",
      "       '14시하차총승객수', '15시승차총승객수', '15시하차총승객수', '16시승차총승객수', '16시하차총승객수',\n",
      "       '17시승차총승객수', '17시하차총승객수', '18시승차총승객수', '18시하차총승객수', '19시승차총승객수',\n",
      "       '19시하차총승객수', '20시승차총승객수', '20시하차총승객수', '21시승차총승객수', '21시하차총승객수',\n",
      "       '22시승차총승객수', '22시하차총승객수', '23시승차총승객수', '23시하차총승객수', '교통수단타입코드',\n",
      "       '교통수단타입명', '등록일자'],\n",
      "      dtype='object')\n",
      "Index(['?\"사용년월\"', '노선번호', '노선명', '표준버스정류장ID', '버스정류장ARS번호', '역명', '00시승차총승객수',\n",
      "       '00시하차총승객수', '1시승차총승객수', '1시하차총승객수', '2시승차총승객수', '2시하차총승객수', '3시승차총승객수',\n",
      "       '3시하차총승객수', '4시승차총승객수', '4시하차총승객수', '5시승차총승객수', '5시하차총승객수', '6시승차총승객수',\n",
      "       '6시하차총승객수', '7시승차총승객수', '7시하차총승객수', '8시승차총승객수', '8시하차총승객수', '9시승차총승객수',\n",
      "       '9시하차총승객수', '10시승차총승객수', '10시하차총승객수', '11시승차총승객수', '11시하차총승객수',\n",
      "       '12시승차총승객수', '12시하차총승객수', '13시승차총승객수', '13시하차총승객수', '14시승차총승객수',\n",
      "       '14시하차총승객수', '15시승차총승객수', '15시하차총승객수', '16시승차총승객수', '16시하차총승객수',\n",
      "       '17시승차총승객수', '17시하차총승객수', '18시승차총승객수', '18시하차총승객수', '19시승차총승객수',\n",
      "       '19시하차총승객수', '20시승차총승객수', '20시하차총승객수', '21시승차총승객수', '21시하차총승객수',\n",
      "       '22시승차총승객수', '22시하차총승객수', '23시승차총승객수', '23시하차총승객수', '등록일자'],\n",
      "      dtype='object')\n",
      "Index(['사용년월', '노선번호', '노선명', '표준버스정류장ID', '버스정류장ARS번호', '역명', '00시승차총승객수',\n",
      "       '00시하차총승객수', '1시승차총승객수', '1시하차총승객수', '2시승차총승객수', '2시하차총승객수', '3시승차총승객수',\n",
      "       '3시하차총승객수', '4시승차총승객수', '4시하차총승객수', '5시승차총승객수', '5시하차총승객수', '6시승차총승객수',\n",
      "       '6시하차총승객수', '7시승차총승객수', '7시하차총승객수', '8시승차총승객수', '8시하차총승객수', '9시승차총승객수',\n",
      "       '9시하차총승객수', '10시승차총승객수', '10시하차총승객수', '11시승차총승객수', '11시하차총승객수',\n",
      "       '12시승차총승객수', '12시하차총승객수', '13시승차총승객수', '13시하차총승객수', '14시승차총승객수',\n",
      "       '14시하차총승객수', '15시승차총승객수', '15시하차총승객수', '16시승차총승객수', '16시하차총승객수',\n",
      "       '17시승차총승객수', '17시하차총승객수', '18시승차총승객수', '18시하차총승객수', '19시승차총승객수',\n",
      "       '19시하차총승객수', '20시승차총승객수', '20시하차총승객수', '21시승차총승객수', '21시하차총승객수',\n",
      "       '22시승차총승객수', '22시하차총승객수', '23시승차총승객수', '23시하차총승객수', '교통수단타입코드',\n",
      "       '교통수단타입명', '등록일자'],\n",
      "      dtype='object')\n",
      "Index(['사용년월', '노선번호', '노선명', '표준버스정류장ID', '버스정류장ARS번호', '역명', '00시승차총승객수',\n",
      "       '00시하차총승객수', '1시승차총승객수', '1시하차총승객수', '2시승차총승객수', '2시하차총승객수', '3시승차총승객수',\n",
      "       '3시하차총승객수', '4시승차총승객수', '4시하차총승객수', '5시승차총승객수', '5시하차총승객수', '6시승차총승객수',\n",
      "       '6시하차총승객수', '7시승차총승객수', '7시하차총승객수', '8시승차총승객수', '8시하차총승객수', '9시승차총승객수',\n",
      "       '9시하차총승객수', '10시승차총승객수', '10시하차총승객수', '11시승차총승객수', '11시하차총승객수',\n",
      "       '12시승차총승객수', '12시하차총승객수', '13시승차총승객수', '13시하차총승객수', '14시승차총승객수',\n",
      "       '14시하차총승객수', '15시승차총승객수', '15시하차총승객수', '16시승차총승객수', '16시하차총승객수',\n",
      "       '17시승차총승객수', '17시하차총승객수', '18시승차총승객수', '18시하차총승객수', '19시승차총승객수',\n",
      "       '19시하차총승객수', '20시승차총승객수', '20시하차총승객수', '21시승차총승객수', '21시하차총승객수',\n",
      "       '22시승차총승객수', '22시하차총승객수', '23시승차총승객수', '23시하차총승객수', '교통수단타입코드',\n",
      "       '교통수단타입명', '등록일자'],\n",
      "      dtype='object')\n"
     ]
    }
   ],
   "source": [
    "# 컬렴명 비교 결과\n",
    "#   3,4,5,6월의 사용년월 컬럼이름이 다름 - 일치 시켜줄 것\n",
    "#   8월부터 추가된 필요없는 추가 컬럼 제거 - '교통수단타입코드', '교통수단타입명', '등록일자'\n",
    "for df in df_origin:\n",
    "  print(df.columns)"
   ]
  },
  {
   "cell_type": "code",
   "execution_count": 8,
   "metadata": {
    "colab": {
     "base_uri": "https://localhost:8080/"
    },
    "executionInfo": {
     "elapsed": 12,
     "status": "ok",
     "timestamp": 1683799785236,
     "user": {
      "displayName": "타조랑말",
      "userId": "10222896579941315833"
     },
     "user_tz": -540
    },
    "id": "OurZBICsczRD",
    "outputId": "d945f200-126a-42a1-8289-03259af0e9da"
   },
   "outputs": [
    {
     "name": "stdout",
     "output_type": "stream",
     "text": [
      "<class 'pandas.core.frame.DataFrame'>\n",
      "RangeIndex: 40378 entries, 0 to 40377\n",
      "Data columns (total 57 columns):\n",
      " #   Column      Non-Null Count  Dtype \n",
      "---  ------      --------------  ----- \n",
      " 0   사용년월        40378 non-null  int64 \n",
      " 1   노선번호        40378 non-null  object\n",
      " 2   노선명         40378 non-null  object\n",
      " 3   표준버스정류장ID   40378 non-null  int64 \n",
      " 4   버스정류장ARS번호  40378 non-null  object\n",
      " 5   역명          40378 non-null  object\n",
      " 6   00시승차총승객수   40378 non-null  int64 \n",
      " 7   00시하차총승객수   40378 non-null  int64 \n",
      " 8   1시승차총승객수    40378 non-null  int64 \n",
      " 9   1시하차총승객수    40378 non-null  int64 \n",
      " 10  2시승차총승객수    40378 non-null  int64 \n",
      " 11  2시하차총승객수    40378 non-null  int64 \n",
      " 12  3시승차총승객수    40378 non-null  int64 \n",
      " 13  3시하차총승객수    40378 non-null  int64 \n",
      " 14  4시승차총승객수    40378 non-null  int64 \n",
      " 15  4시하차총승객수    40378 non-null  int64 \n",
      " 16  5시승차총승객수    40378 non-null  int64 \n",
      " 17  5시하차총승객수    40378 non-null  int64 \n",
      " 18  6시승차총승객수    40378 non-null  int64 \n",
      " 19  6시하차총승객수    40378 non-null  int64 \n",
      " 20  7시승차총승객수    40378 non-null  int64 \n",
      " 21  7시하차총승객수    40378 non-null  int64 \n",
      " 22  8시승차총승객수    40378 non-null  int64 \n",
      " 23  8시하차총승객수    40378 non-null  int64 \n",
      " 24  9시승차총승객수    40378 non-null  int64 \n",
      " 25  9시하차총승객수    40378 non-null  int64 \n",
      " 26  10시승차총승객수   40378 non-null  int64 \n",
      " 27  10시하차총승객수   40378 non-null  int64 \n",
      " 28  11시승차총승객수   40378 non-null  int64 \n",
      " 29  11시하차총승객수   40378 non-null  int64 \n",
      " 30  12시승차총승객수   40378 non-null  int64 \n",
      " 31  12시하차총승객수   40378 non-null  int64 \n",
      " 32  13시승차총승객수   40378 non-null  int64 \n",
      " 33  13시하차총승객수   40378 non-null  int64 \n",
      " 34  14시승차총승객수   40378 non-null  int64 \n",
      " 35  14시하차총승객수   40378 non-null  int64 \n",
      " 36  15시승차총승객수   40378 non-null  int64 \n",
      " 37  15시하차총승객수   40378 non-null  int64 \n",
      " 38  16시승차총승객수   40378 non-null  int64 \n",
      " 39  16시하차총승객수   40378 non-null  int64 \n",
      " 40  17시승차총승객수   40378 non-null  int64 \n",
      " 41  17시하차총승객수   40378 non-null  int64 \n",
      " 42  18시승차총승객수   40378 non-null  int64 \n",
      " 43  18시하차총승객수   40378 non-null  int64 \n",
      " 44  19시승차총승객수   40378 non-null  int64 \n",
      " 45  19시하차총승객수   40378 non-null  int64 \n",
      " 46  20시승차총승객수   40378 non-null  int64 \n",
      " 47  20시하차총승객수   40378 non-null  int64 \n",
      " 48  21시승차총승객수   40378 non-null  int64 \n",
      " 49  21시하차총승객수   40378 non-null  int64 \n",
      " 50  22시승차총승객수   40378 non-null  int64 \n",
      " 51  22시하차총승객수   40378 non-null  int64 \n",
      " 52  23시승차총승객수   40378 non-null  int64 \n",
      " 53  23시하차총승객수   40378 non-null  int64 \n",
      " 54  교통수단타입코드    40378 non-null  int64 \n",
      " 55  교통수단타입명     40378 non-null  object\n",
      " 56  등록일자        40378 non-null  int64 \n",
      "dtypes: int64(52), object(5)\n",
      "memory usage: 17.6+ MB\n"
     ]
    }
   ],
   "source": [
    "# 버스정류장ARS번호 - 숫자형으로 추정되나 object 타입이라 내용확인필요\n",
    "df_origin[0].info()"
   ]
  },
  {
   "cell_type": "code",
   "execution_count": 9,
   "metadata": {
    "colab": {
     "base_uri": "https://localhost:8080/"
    },
    "executionInfo": {
     "elapsed": 446,
     "status": "ok",
     "timestamp": 1683799785679,
     "user": {
      "displayName": "타조랑말",
      "userId": "10222896579941315833"
     },
     "user_tz": -540
    },
    "id": "7oyanojxp2h2",
    "outputId": "c8cc18fb-765d-4dba-c9c8-566920e43ae4"
   },
   "outputs": [
    {
     "name": "stdout",
     "output_type": "stream",
     "text": [
      "<class 'pandas.core.frame.DataFrame'>\n",
      "RangeIndex: 11226 entries, 0 to 11225\n",
      "Data columns (total 5 columns):\n",
      " #   Column   Non-Null Count  Dtype  \n",
      "---  ------   --------------  -----  \n",
      " 0   NODE_ID  11226 non-null  int64  \n",
      " 1   ARS-ID   11226 non-null  int64  \n",
      " 2   정류소명     11226 non-null  object \n",
      " 3   X좌표      11226 non-null  float64\n",
      " 4   Y좌표      11226 non-null  float64\n",
      "dtypes: float64(2), int64(2), object(1)\n",
      "memory usage: 438.6+ KB\n"
     ]
    }
   ],
   "source": [
    "# 컬럼명이 승하차 승객 자료와 일치하지 않으므로 추후에 변경\n",
    "stop_loc.info()"
   ]
  },
  {
   "cell_type": "code",
   "execution_count": 10,
   "metadata": {
    "colab": {
     "base_uri": "https://localhost:8080/",
     "height": 342
    },
    "executionInfo": {
     "elapsed": 15,
     "status": "ok",
     "timestamp": 1683799785679,
     "user": {
      "displayName": "타조랑말",
      "userId": "10222896579941315833"
     },
     "user_tz": -540
    },
    "id": "HCLbvCYhr3yi",
    "outputId": "81134124-bbef-4459-90b8-252e3b76cc12"
   },
   "outputs": [
    {
     "data": {
      "text/html": [
       "<div>\n",
       "<style scoped>\n",
       "    .dataframe tbody tr th:only-of-type {\n",
       "        vertical-align: middle;\n",
       "    }\n",
       "\n",
       "    .dataframe tbody tr th {\n",
       "        vertical-align: top;\n",
       "    }\n",
       "\n",
       "    .dataframe thead th {\n",
       "        text-align: right;\n",
       "    }\n",
       "</style>\n",
       "<table border=\"1\" class=\"dataframe\">\n",
       "  <thead>\n",
       "    <tr style=\"text-align: right;\">\n",
       "      <th></th>\n",
       "      <th>사용년월</th>\n",
       "      <th>노선번호</th>\n",
       "      <th>노선명</th>\n",
       "      <th>표준버스정류장ID</th>\n",
       "      <th>버스정류장ARS번호</th>\n",
       "      <th>역명</th>\n",
       "      <th>00시승차총승객수</th>\n",
       "      <th>00시하차총승객수</th>\n",
       "      <th>1시승차총승객수</th>\n",
       "      <th>1시하차총승객수</th>\n",
       "      <th>...</th>\n",
       "      <th>20시하차총승객수</th>\n",
       "      <th>21시승차총승객수</th>\n",
       "      <th>21시하차총승객수</th>\n",
       "      <th>22시승차총승객수</th>\n",
       "      <th>22시하차총승객수</th>\n",
       "      <th>23시승차총승객수</th>\n",
       "      <th>23시하차총승객수</th>\n",
       "      <th>교통수단타입코드</th>\n",
       "      <th>교통수단타입명</th>\n",
       "      <th>등록일자</th>\n",
       "    </tr>\n",
       "  </thead>\n",
       "  <tbody>\n",
       "    <tr>\n",
       "      <th>0</th>\n",
       "      <td>202208</td>\n",
       "      <td>741</td>\n",
       "      <td>741번(진관차고지~헌인릉입구)</td>\n",
       "      <td>100000001</td>\n",
       "      <td>1001</td>\n",
       "      <td>종로2가사거리(00077)</td>\n",
       "      <td>118</td>\n",
       "      <td>82</td>\n",
       "      <td>82</td>\n",
       "      <td>91</td>\n",
       "      <td>...</td>\n",
       "      <td>184</td>\n",
       "      <td>292</td>\n",
       "      <td>172</td>\n",
       "      <td>257</td>\n",
       "      <td>146</td>\n",
       "      <td>192</td>\n",
       "      <td>102</td>\n",
       "      <td>10</td>\n",
       "      <td>서울간선버스</td>\n",
       "      <td>20220903</td>\n",
       "    </tr>\n",
       "    <tr>\n",
       "      <th>1</th>\n",
       "      <td>202208</td>\n",
       "      <td>N37</td>\n",
       "      <td>N37번(송파공영차고지~진관공영차고지)</td>\n",
       "      <td>100000001</td>\n",
       "      <td>1001</td>\n",
       "      <td>종로2가사거리(00032)</td>\n",
       "      <td>3</td>\n",
       "      <td>7</td>\n",
       "      <td>268</td>\n",
       "      <td>226</td>\n",
       "      <td>...</td>\n",
       "      <td>0</td>\n",
       "      <td>0</td>\n",
       "      <td>0</td>\n",
       "      <td>0</td>\n",
       "      <td>0</td>\n",
       "      <td>0</td>\n",
       "      <td>0</td>\n",
       "      <td>51</td>\n",
       "      <td>서울심야버스</td>\n",
       "      <td>20220903</td>\n",
       "    </tr>\n",
       "  </tbody>\n",
       "</table>\n",
       "<p>2 rows × 57 columns</p>\n",
       "</div>"
      ],
      "text/plain": [
       "     사용년월 노선번호                    노선명  표준버스정류장ID 버스정류장ARS번호              역명  \\\n",
       "0  202208  741      741번(진관차고지~헌인릉입구)  100000001       1001  종로2가사거리(00077)   \n",
       "1  202208  N37  N37번(송파공영차고지~진관공영차고지)  100000001       1001  종로2가사거리(00032)   \n",
       "\n",
       "   00시승차총승객수  00시하차총승객수  1시승차총승객수  1시하차총승객수  ...  20시하차총승객수  21시승차총승객수  \\\n",
       "0        118         82        82        91  ...        184        292   \n",
       "1          3          7       268       226  ...          0          0   \n",
       "\n",
       "   21시하차총승객수  22시승차총승객수  22시하차총승객수  23시승차총승객수  23시하차총승객수  교통수단타입코드  교통수단타입명  \\\n",
       "0        172        257        146        192        102        10   서울간선버스   \n",
       "1          0          0          0          0          0        51   서울심야버스   \n",
       "\n",
       "       등록일자  \n",
       "0  20220903  \n",
       "1  20220903  \n",
       "\n",
       "[2 rows x 57 columns]"
      ]
     },
     "execution_count": 10,
     "metadata": {},
     "output_type": "execute_result"
    }
   ],
   "source": [
    "# 데이터 구조확인(1월) - 해당 데이터는 승차 승객수와 하차 승객수가 같이 있음\n",
    "df_origin[0].head(2)"
   ]
  },
  {
   "cell_type": "code",
   "execution_count": 9,
   "metadata": {
    "colab": {
     "base_uri": "https://localhost:8080/"
    },
    "executionInfo": {
     "elapsed": 15,
     "status": "ok",
     "timestamp": 1683799785680,
     "user": {
      "displayName": "타조랑말",
      "userId": "10222896579941315833"
     },
     "user_tz": -540
    },
    "id": "e5E1SgINvhTB",
    "outputId": "c8798a55-059c-4d93-d675-62f9a3b5e155"
   },
   "outputs": [
    {
     "data": {
      "text/plain": [
       "12642"
      ]
     },
     "execution_count": 9,
     "metadata": {},
     "output_type": "execute_result"
    }
   ],
   "source": [
    "# 정류장id로 정류장 수 확인\n",
    "len(df_origin[0]['표준버스정류장ID'].unique())"
   ]
  },
  {
   "cell_type": "code",
   "execution_count": 10,
   "metadata": {
    "colab": {
     "base_uri": "https://localhost:8080/"
    },
    "executionInfo": {
     "elapsed": 12,
     "status": "ok",
     "timestamp": 1683799785680,
     "user": {
      "displayName": "타조랑말",
      "userId": "10222896579941315833"
     },
     "user_tz": -540
    },
    "id": "zlz7RSV-vNDi",
    "outputId": "d02a1c93-37da-405d-b25b-2225c3eac47d"
   },
   "outputs": [
    {
     "data": {
      "text/plain": [
       "~        222\n",
       "3005      34\n",
       "3006      34\n",
       "1044      29\n",
       "1023      29\n",
       "        ... \n",
       "19877      1\n",
       "19885      1\n",
       "19884      1\n",
       "19868      1\n",
       "16107      1\n",
       "Name: 버스정류장ARS번호, Length: 12566, dtype: int64"
      ]
     },
     "execution_count": 10,
     "metadata": {},
     "output_type": "execute_result"
    }
   ],
   "source": [
    "# object 타입이었던 ars번호의 값 확인 - '~' 값이 들어가있음\n",
    "df_origin[0]['버스정류장ARS번호'].value_counts()"
   ]
  },
  {
   "cell_type": "code",
   "execution_count": 11,
   "metadata": {
    "executionInfo": {
     "elapsed": 10,
     "status": "ok",
     "timestamp": 1683799785680,
     "user": {
      "displayName": "타조랑말",
      "userId": "10222896579941315833"
     },
     "user_tz": -540
    },
    "id": "Xsu7kO_0sEzS"
   },
   "outputs": [],
   "source": [
    "# 승하차 데이터 전처리 함수\n",
    "def data_cleaning(df_origin):\n",
    "  df_cleaned = []\n",
    "  for df in df_origin:\n",
    "    # 필요없는 컬럼 드롭\n",
    "    df.drop(labels=['노선명', '등록일자'], axis=1, inplace=True)\n",
    "    \n",
    "    if '교통수단타입코드' in df.columns:\n",
    "      df.drop('교통수단타입코드', axis=1, inplace=True)\n",
    "    \n",
    "    if '교통수단타입명' in df.columns:\n",
    "      df.drop('교통수단타입명', axis=1, inplace=True)\n",
    "      \n",
    "    # 컬럼명 통합\n",
    "    if '?\"사용년월\"' in df.columns:\n",
    "      df = df.rename(columns={'?\"사용년월\"':'사용년월', '표준버스정류장ID': 'node_id', '버스정류장ARS번호': 'ars_id', '역명':'정류소명(역명)', '정류소명':'정류소명(역명)'})\n",
    "    else:\n",
    "      df = df.rename(columns={'표준버스정류장ID': 'node_id', '버스정류장ARS번호': 'ars_id',  '역명':'정류소명(역명)', '정류소명':'정류소명(역명)'})\n",
    "    \n",
    "    # 사용년월 결측값 채우기(ffill)\n",
    "    df['사용년월'] = df['사용년월'].fillna(method='ffill')\n",
    "    \n",
    "    # 변수 타입 변경\n",
    "    df['사용년월'] = df['사용년월'].astype('str')\n",
    "    # ARS_ID의 값중 '~'가 포함된 정류장은 실제 승하차가 이뤄지지 않는 위치 추적용 가상 정류장이므로 드롭 후 int로 형변환\n",
    "    drop_index = (df[df['ars_id'] == '~']).index\n",
    "    df = df.drop(drop_index, axis=0)\n",
    "    df['ars_id'] = df['ars_id'].astype('int')\n",
    "\n",
    "    # 승하차 총합계 컬럼 추가\n",
    "    df['승차총합계'] = df.iloc[:, 5::2].apply(np.sum, axis=1)\n",
    "    df['하차총합계'] = df.iloc[:, 6::2].apply(np.sum, axis=1)\n",
    "    df['승하차총합계'] = df['승차총합계'] + df['하차총합계']\n",
    "\n",
    "    df_cleaned.append(df)\n",
    "\n",
    "  return df_cleaned"
   ]
  },
  {
   "cell_type": "code",
   "execution_count": 12,
   "metadata": {
    "colab": {
     "base_uri": "https://localhost:8080/",
     "height": 112
    },
    "executionInfo": {
     "elapsed": 10,
     "status": "ok",
     "timestamp": 1683799785680,
     "user": {
      "displayName": "타조랑말",
      "userId": "10222896579941315833"
     },
     "user_tz": -540
    },
    "id": "K0xjRdiEyujR",
    "outputId": "f782058d-84b7-4ce7-c5bf-b18e6b515de7"
   },
   "outputs": [
    {
     "data": {
      "text/html": [
       "<div>\n",
       "<style scoped>\n",
       "    .dataframe tbody tr th:only-of-type {\n",
       "        vertical-align: middle;\n",
       "    }\n",
       "\n",
       "    .dataframe tbody tr th {\n",
       "        vertical-align: top;\n",
       "    }\n",
       "\n",
       "    .dataframe thead th {\n",
       "        text-align: right;\n",
       "    }\n",
       "</style>\n",
       "<table border=\"1\" class=\"dataframe\">\n",
       "  <thead>\n",
       "    <tr style=\"text-align: right;\">\n",
       "      <th></th>\n",
       "      <th>node_id</th>\n",
       "      <th>정류소명(역명)</th>\n",
       "      <th>X좌표</th>\n",
       "      <th>Y좌표</th>\n",
       "    </tr>\n",
       "  </thead>\n",
       "  <tbody>\n",
       "    <tr>\n",
       "      <th>0</th>\n",
       "      <td>100000001</td>\n",
       "      <td>종로2가사거리</td>\n",
       "      <td>126.987750</td>\n",
       "      <td>37.569765</td>\n",
       "    </tr>\n",
       "    <tr>\n",
       "      <th>1</th>\n",
       "      <td>100000002</td>\n",
       "      <td>창경궁.서울대학교병원</td>\n",
       "      <td>126.996566</td>\n",
       "      <td>37.579183</td>\n",
       "    </tr>\n",
       "  </tbody>\n",
       "</table>\n",
       "</div>"
      ],
      "text/plain": [
       "     node_id     정류소명(역명)         X좌표        Y좌표\n",
       "0  100000001      종로2가사거리  126.987750  37.569765\n",
       "1  100000002  창경궁.서울대학교병원  126.996566  37.579183"
      ]
     },
     "execution_count": 12,
     "metadata": {},
     "output_type": "execute_result"
    }
   ],
   "source": [
    "# 정류장 위치정보 데이터 전처리\n",
    "# stop_loc의 컬럼명을 df_final의 컬럼명과 일치시키기 (node_id, ars_id, 역명)\n",
    "stop_loc = stop_loc.rename(columns={'NODE_ID':'node_id', 'ARS-ID':'ars_id', '정류소명':'정류소명(역명)'})\n",
    "# 정류소 고유 번호인 node_id가 존재하므로 ars_id 드롭\n",
    "stop_loc = stop_loc.drop('ars_id', axis=1)\n",
    "\n",
    "stop_loc.head(2)"
   ]
  },
  {
   "cell_type": "code",
   "execution_count": 13,
   "metadata": {
    "colab": {
     "base_uri": "https://localhost:8080/",
     "height": 453
    },
    "executionInfo": {
     "elapsed": 62171,
     "status": "ok",
     "timestamp": 1683799847843,
     "user": {
      "displayName": "타조랑말",
      "userId": "10222896579941315833"
     },
     "user_tz": -540
    },
    "id": "ozwx9s9tRwFn",
    "outputId": "e704f64c-d940-4d85-f2ba-48693c214290"
   },
   "outputs": [
    {
     "data": {
      "text/html": [
       "<div>\n",
       "<style scoped>\n",
       "    .dataframe tbody tr th:only-of-type {\n",
       "        vertical-align: middle;\n",
       "    }\n",
       "\n",
       "    .dataframe tbody tr th {\n",
       "        vertical-align: top;\n",
       "    }\n",
       "\n",
       "    .dataframe thead th {\n",
       "        text-align: right;\n",
       "    }\n",
       "</style>\n",
       "<table border=\"1\" class=\"dataframe\">\n",
       "  <thead>\n",
       "    <tr style=\"text-align: right;\">\n",
       "      <th></th>\n",
       "      <th>사용년월</th>\n",
       "      <th>노선번호</th>\n",
       "      <th>node_id</th>\n",
       "      <th>ars_id</th>\n",
       "      <th>정류소명(역명)</th>\n",
       "      <th>00시승차총승객수</th>\n",
       "      <th>00시하차총승객수</th>\n",
       "      <th>1시승차총승객수</th>\n",
       "      <th>1시하차총승객수</th>\n",
       "      <th>2시승차총승객수</th>\n",
       "      <th>...</th>\n",
       "      <th>20시하차총승객수</th>\n",
       "      <th>21시승차총승객수</th>\n",
       "      <th>21시하차총승객수</th>\n",
       "      <th>22시승차총승객수</th>\n",
       "      <th>22시하차총승객수</th>\n",
       "      <th>23시승차총승객수</th>\n",
       "      <th>23시하차총승객수</th>\n",
       "      <th>승차총합계</th>\n",
       "      <th>하차총합계</th>\n",
       "      <th>승하차총합계</th>\n",
       "    </tr>\n",
       "  </thead>\n",
       "  <tbody>\n",
       "    <tr>\n",
       "      <th>0</th>\n",
       "      <td>202208</td>\n",
       "      <td>741</td>\n",
       "      <td>100000001</td>\n",
       "      <td>1001</td>\n",
       "      <td>종로2가사거리(00077)</td>\n",
       "      <td>118</td>\n",
       "      <td>82</td>\n",
       "      <td>82</td>\n",
       "      <td>91</td>\n",
       "      <td>0</td>\n",
       "      <td>...</td>\n",
       "      <td>184</td>\n",
       "      <td>292</td>\n",
       "      <td>172</td>\n",
       "      <td>257</td>\n",
       "      <td>146</td>\n",
       "      <td>192</td>\n",
       "      <td>102</td>\n",
       "      <td>6103</td>\n",
       "      <td>6233</td>\n",
       "      <td>12336</td>\n",
       "    </tr>\n",
       "    <tr>\n",
       "      <th>1</th>\n",
       "      <td>202208</td>\n",
       "      <td>N37</td>\n",
       "      <td>100000001</td>\n",
       "      <td>1001</td>\n",
       "      <td>종로2가사거리(00032)</td>\n",
       "      <td>3</td>\n",
       "      <td>7</td>\n",
       "      <td>268</td>\n",
       "      <td>226</td>\n",
       "      <td>105</td>\n",
       "      <td>...</td>\n",
       "      <td>0</td>\n",
       "      <td>0</td>\n",
       "      <td>0</td>\n",
       "      <td>0</td>\n",
       "      <td>0</td>\n",
       "      <td>0</td>\n",
       "      <td>0</td>\n",
       "      <td>376</td>\n",
       "      <td>349</td>\n",
       "      <td>725</td>\n",
       "    </tr>\n",
       "    <tr>\n",
       "      <th>2</th>\n",
       "      <td>202208</td>\n",
       "      <td>470</td>\n",
       "      <td>100000001</td>\n",
       "      <td>1001</td>\n",
       "      <td>종로2가사거리(00067)</td>\n",
       "      <td>72</td>\n",
       "      <td>70</td>\n",
       "      <td>0</td>\n",
       "      <td>3</td>\n",
       "      <td>0</td>\n",
       "      <td>...</td>\n",
       "      <td>220</td>\n",
       "      <td>305</td>\n",
       "      <td>201</td>\n",
       "      <td>257</td>\n",
       "      <td>183</td>\n",
       "      <td>238</td>\n",
       "      <td>130</td>\n",
       "      <td>7458</td>\n",
       "      <td>6293</td>\n",
       "      <td>13751</td>\n",
       "    </tr>\n",
       "    <tr>\n",
       "      <th>3</th>\n",
       "      <td>202208</td>\n",
       "      <td>N37</td>\n",
       "      <td>100000001</td>\n",
       "      <td>1001</td>\n",
       "      <td>종로2가사거리(00089)</td>\n",
       "      <td>0</td>\n",
       "      <td>0</td>\n",
       "      <td>0</td>\n",
       "      <td>0</td>\n",
       "      <td>67</td>\n",
       "      <td>...</td>\n",
       "      <td>0</td>\n",
       "      <td>0</td>\n",
       "      <td>0</td>\n",
       "      <td>0</td>\n",
       "      <td>0</td>\n",
       "      <td>0</td>\n",
       "      <td>0</td>\n",
       "      <td>414</td>\n",
       "      <td>306</td>\n",
       "      <td>720</td>\n",
       "    </tr>\n",
       "    <tr>\n",
       "      <th>4</th>\n",
       "      <td>202208</td>\n",
       "      <td>100</td>\n",
       "      <td>100000002</td>\n",
       "      <td>1002</td>\n",
       "      <td>창경궁.서울대학교병원(00031)</td>\n",
       "      <td>0</td>\n",
       "      <td>0</td>\n",
       "      <td>0</td>\n",
       "      <td>0</td>\n",
       "      <td>0</td>\n",
       "      <td>...</td>\n",
       "      <td>31</td>\n",
       "      <td>54</td>\n",
       "      <td>24</td>\n",
       "      <td>41</td>\n",
       "      <td>48</td>\n",
       "      <td>34</td>\n",
       "      <td>2</td>\n",
       "      <td>3089</td>\n",
       "      <td>3805</td>\n",
       "      <td>6894</td>\n",
       "    </tr>\n",
       "  </tbody>\n",
       "</table>\n",
       "<p>5 rows × 56 columns</p>\n",
       "</div>"
      ],
      "text/plain": [
       "     사용년월 노선번호    node_id  ars_id            정류소명(역명)  00시승차총승객수  00시하차총승객수  \\\n",
       "0  202208  741  100000001    1001      종로2가사거리(00077)        118         82   \n",
       "1  202208  N37  100000001    1001      종로2가사거리(00032)          3          7   \n",
       "2  202208  470  100000001    1001      종로2가사거리(00067)         72         70   \n",
       "3  202208  N37  100000001    1001      종로2가사거리(00089)          0          0   \n",
       "4  202208  100  100000002    1002  창경궁.서울대학교병원(00031)          0          0   \n",
       "\n",
       "   1시승차총승객수  1시하차총승객수  2시승차총승객수  ...  20시하차총승객수  21시승차총승객수  21시하차총승객수  \\\n",
       "0        82        91         0  ...        184        292        172   \n",
       "1       268       226       105  ...          0          0          0   \n",
       "2         0         3         0  ...        220        305        201   \n",
       "3         0         0        67  ...          0          0          0   \n",
       "4         0         0         0  ...         31         54         24   \n",
       "\n",
       "   22시승차총승객수  22시하차총승객수  23시승차총승객수  23시하차총승객수  승차총합계  하차총합계  승하차총합계  \n",
       "0        257        146        192        102   6103   6233   12336  \n",
       "1          0          0          0          0    376    349     725  \n",
       "2        257        183        238        130   7458   6293   13751  \n",
       "3          0          0          0          0    414    306     720  \n",
       "4         41         48         34          2   3089   3805    6894  \n",
       "\n",
       "[5 rows x 56 columns]"
      ]
     },
     "execution_count": 13,
     "metadata": {},
     "output_type": "execute_result"
    }
   ],
   "source": [
    "# 승하차 데이터 전처리\n",
    "df_cleaned = data_cleaning(df_origin)\n",
    "df_cleaned[0].head()"
   ]
  },
  {
   "cell_type": "markdown",
   "metadata": {
    "id": "WHR4dFXZNZQ5"
   },
   "source": [
    "## ✅ 월평균 유동인구총합 구하기"
   ]
  },
  {
   "cell_type": "code",
   "execution_count": 22,
   "metadata": {
    "executionInfo": {
     "elapsed": 5,
     "status": "ok",
     "timestamp": 1683799847844,
     "user": {
      "displayName": "타조랑말",
      "userId": "10222896579941315833"
     },
     "user_tz": -540
    },
    "id": "Q1Gp25X4MzrP"
   },
   "outputs": [],
   "source": [
    "# 월, 정류소별 승하차 총합계 데이터를 병합한 최종 테이블을 구하는 함수\n",
    "def get_merge(df_cleaned):\n",
    "  # 월, 정류소별 승하차 총합계\n",
    "  for df in df_cleaned:\n",
    "    df_sum = []\n",
    "    sum = df.groupby('node_id')[['승차총합계', '하차총합계', '승하차총합계']].sum().reset_index()\n",
    "    df_sum.append(sum)\n",
    "  \n",
    "  # 데이터 프레임 병합(1월~12월)\n",
    "  # 월, 정류소별 월평균 승하차 수\n",
    "  df_merged = pd.concat(df_sum, axis=0).groupby('node_id')[['승차총합계', '하차총합계', '승하차총합계']].mean().round(2)\n",
    "  # node_id를 index -> column 변경, 데이터 타입을 string으로 변경\n",
    "  df_merged = df_merged.reset_index()\n",
    "\n",
    "  # 컬럼 이름 변경\n",
    "  df_merged = df_merged.rename(columns={'승차총합계':'월평균승차수', '하차총합계':'월평균하차수', '승하차총합계':'월평균승하차총계'})\n",
    "  return df_merged"
   ]
  },
  {
   "cell_type": "code",
   "execution_count": 23,
   "metadata": {
    "colab": {
     "base_uri": "https://localhost:8080/",
     "height": 206
    },
    "executionInfo": {
     "elapsed": 585,
     "status": "ok",
     "timestamp": 1683799848426,
     "user": {
      "displayName": "타조랑말",
      "userId": "10222896579941315833"
     },
     "user_tz": -540
    },
    "id": "44XdlqRumuIW",
    "outputId": "3a0ff0b9-49f7-4942-fd6b-d020f1f5065f"
   },
   "outputs": [
    {
     "name": "stdout",
     "output_type": "stream",
     "text": [
      "<class 'pandas.core.frame.DataFrame'>\n",
      "RangeIndex: 12588 entries, 0 to 12587\n",
      "Data columns (total 4 columns):\n",
      " #   Column    Non-Null Count  Dtype  \n",
      "---  ------    --------------  -----  \n",
      " 0   node_id   12588 non-null  int64  \n",
      " 1   월평균승차수    12588 non-null  float64\n",
      " 2   월평균하차수    12588 non-null  float64\n",
      " 3   월평균승하차총계  12588 non-null  float64\n",
      "dtypes: float64(3), int64(1)\n",
      "memory usage: 393.5 KB\n"
     ]
    },
    {
     "data": {
      "text/html": [
       "<div>\n",
       "<style scoped>\n",
       "    .dataframe tbody tr th:only-of-type {\n",
       "        vertical-align: middle;\n",
       "    }\n",
       "\n",
       "    .dataframe tbody tr th {\n",
       "        vertical-align: top;\n",
       "    }\n",
       "\n",
       "    .dataframe thead th {\n",
       "        text-align: right;\n",
       "    }\n",
       "</style>\n",
       "<table border=\"1\" class=\"dataframe\">\n",
       "  <thead>\n",
       "    <tr style=\"text-align: right;\">\n",
       "      <th></th>\n",
       "      <th>node_id</th>\n",
       "      <th>월평균승차수</th>\n",
       "      <th>월평균하차수</th>\n",
       "      <th>월평균승하차총계</th>\n",
       "    </tr>\n",
       "  </thead>\n",
       "  <tbody>\n",
       "    <tr>\n",
       "      <th>0</th>\n",
       "      <td>100000001</td>\n",
       "      <td>14645.0</td>\n",
       "      <td>13676.0</td>\n",
       "      <td>28321.0</td>\n",
       "    </tr>\n",
       "    <tr>\n",
       "      <th>1</th>\n",
       "      <td>100000002</td>\n",
       "      <td>81002.0</td>\n",
       "      <td>70081.0</td>\n",
       "      <td>151083.0</td>\n",
       "    </tr>\n",
       "    <tr>\n",
       "      <th>2</th>\n",
       "      <td>100000003</td>\n",
       "      <td>134621.0</td>\n",
       "      <td>92019.0</td>\n",
       "      <td>226640.0</td>\n",
       "    </tr>\n",
       "    <tr>\n",
       "      <th>3</th>\n",
       "      <td>100000004</td>\n",
       "      <td>19992.0</td>\n",
       "      <td>23697.0</td>\n",
       "      <td>43689.0</td>\n",
       "    </tr>\n",
       "    <tr>\n",
       "      <th>4</th>\n",
       "      <td>100000005</td>\n",
       "      <td>50309.0</td>\n",
       "      <td>77328.0</td>\n",
       "      <td>127637.0</td>\n",
       "    </tr>\n",
       "    <tr>\n",
       "      <th>...</th>\n",
       "      <td>...</td>\n",
       "      <td>...</td>\n",
       "      <td>...</td>\n",
       "      <td>...</td>\n",
       "    </tr>\n",
       "    <tr>\n",
       "      <th>12583</th>\n",
       "      <td>277103814</td>\n",
       "      <td>0.0</td>\n",
       "      <td>1.0</td>\n",
       "      <td>1.0</td>\n",
       "    </tr>\n",
       "    <tr>\n",
       "      <th>12584</th>\n",
       "      <td>277104249</td>\n",
       "      <td>1.0</td>\n",
       "      <td>48.0</td>\n",
       "      <td>49.0</td>\n",
       "    </tr>\n",
       "    <tr>\n",
       "      <th>12585</th>\n",
       "      <td>277104250</td>\n",
       "      <td>0.0</td>\n",
       "      <td>196.0</td>\n",
       "      <td>196.0</td>\n",
       "    </tr>\n",
       "    <tr>\n",
       "      <th>12586</th>\n",
       "      <td>277104251</td>\n",
       "      <td>1.0</td>\n",
       "      <td>138.0</td>\n",
       "      <td>139.0</td>\n",
       "    </tr>\n",
       "    <tr>\n",
       "      <th>12587</th>\n",
       "      <td>277104252</td>\n",
       "      <td>2.0</td>\n",
       "      <td>43.0</td>\n",
       "      <td>45.0</td>\n",
       "    </tr>\n",
       "  </tbody>\n",
       "</table>\n",
       "<p>12588 rows × 4 columns</p>\n",
       "</div>"
      ],
      "text/plain": [
       "         node_id    월평균승차수   월평균하차수  월평균승하차총계\n",
       "0      100000001   14645.0  13676.0   28321.0\n",
       "1      100000002   81002.0  70081.0  151083.0\n",
       "2      100000003  134621.0  92019.0  226640.0\n",
       "3      100000004   19992.0  23697.0   43689.0\n",
       "4      100000005   50309.0  77328.0  127637.0\n",
       "...          ...       ...      ...       ...\n",
       "12583  277103814       0.0      1.0       1.0\n",
       "12584  277104249       1.0     48.0      49.0\n",
       "12585  277104250       0.0    196.0     196.0\n",
       "12586  277104251       1.0    138.0     139.0\n",
       "12587  277104252       2.0     43.0      45.0\n",
       "\n",
       "[12588 rows x 4 columns]"
      ]
     },
     "execution_count": 23,
     "metadata": {},
     "output_type": "execute_result"
    }
   ],
   "source": [
    "df_merged = get_merge(df_cleaned)\n",
    "df_merged.info()\n",
    "df_merged"
   ]
  },
  {
   "cell_type": "code",
   "execution_count": 18,
   "metadata": {
    "colab": {
     "base_uri": "https://localhost:8080/"
    },
    "executionInfo": {
     "elapsed": 14,
     "status": "ok",
     "timestamp": 1683799848427,
     "user": {
      "displayName": "타조랑말",
      "userId": "10222896579941315833"
     },
     "user_tz": -540
    },
    "id": "QoiEzx76fx3i",
    "outputId": "43ba035a-dfc9-4133-8d0a-c7903270d183"
   },
   "outputs": [],
   "source": [
    "# # get_merge의 병합과정이 잘 진행됐는지 확인\n",
    "# # 랜덤 추출한 정류장의 월평균 승차수 값 비교\n",
    "# # 테스트 데이터 : 각 월별로 정류소 id=random인 데이터만 뽑아 concat으로 모두 합치기\n",
    "# y = pd.DataFrame()\n",
    "# random = df_merged.sample(1)['node_id'].iloc[0]\n",
    "# for df in df_cleaned:\n",
    "#   x = df[df['node_id'] == random][['node_id', '승차총합계', '하차총합계']]\n",
    "#   y = pd.concat([y, x], axis=0)\n",
    "\n",
    "# # 테스트 평균\n",
    "# mean_test = round(y['승차총합계'].sum()/12, 2)\n",
    "# # 함수 결과 평균\n",
    "# mean_func = df_merged[df_merged['node_id'] == random]['월평균승차수']\n",
    "# # 결과\n",
    "# print('평균 비교 결과: ', mean_test == mean_func)"
   ]
  },
  {
   "cell_type": "markdown",
   "metadata": {
    "id": "wYh9e91qx_uo"
   },
   "source": [
    "## ✅ 위치정보 데이터와 합치기"
   ]
  },
  {
   "cell_type": "code",
   "execution_count": 15,
   "metadata": {},
   "outputs": [
    {
     "data": {
      "text/html": [
       "<div>\n",
       "<style scoped>\n",
       "    .dataframe tbody tr th:only-of-type {\n",
       "        vertical-align: middle;\n",
       "    }\n",
       "\n",
       "    .dataframe tbody tr th {\n",
       "        vertical-align: top;\n",
       "    }\n",
       "\n",
       "    .dataframe thead th {\n",
       "        text-align: right;\n",
       "    }\n",
       "</style>\n",
       "<table border=\"1\" class=\"dataframe\">\n",
       "  <thead>\n",
       "    <tr style=\"text-align: right;\">\n",
       "      <th></th>\n",
       "      <th>node_id</th>\n",
       "      <th>정류소명(역명)</th>\n",
       "      <th>X좌표</th>\n",
       "      <th>Y좌표</th>\n",
       "    </tr>\n",
       "  </thead>\n",
       "  <tbody>\n",
       "    <tr>\n",
       "      <th>0</th>\n",
       "      <td>100000001</td>\n",
       "      <td>종로2가사거리</td>\n",
       "      <td>126.987750</td>\n",
       "      <td>37.569765</td>\n",
       "    </tr>\n",
       "    <tr>\n",
       "      <th>1</th>\n",
       "      <td>100000002</td>\n",
       "      <td>창경궁.서울대학교병원</td>\n",
       "      <td>126.996566</td>\n",
       "      <td>37.579183</td>\n",
       "    </tr>\n",
       "    <tr>\n",
       "      <th>2</th>\n",
       "      <td>100000003</td>\n",
       "      <td>명륜3가.성대입구</td>\n",
       "      <td>126.998340</td>\n",
       "      <td>37.582671</td>\n",
       "    </tr>\n",
       "    <tr>\n",
       "      <th>3</th>\n",
       "      <td>100000004</td>\n",
       "      <td>종로2가.삼일교</td>\n",
       "      <td>126.987613</td>\n",
       "      <td>37.568579</td>\n",
       "    </tr>\n",
       "    <tr>\n",
       "      <th>4</th>\n",
       "      <td>100000005</td>\n",
       "      <td>혜화동로터리.여운형활동터</td>\n",
       "      <td>127.001744</td>\n",
       "      <td>37.586243</td>\n",
       "    </tr>\n",
       "    <tr>\n",
       "      <th>...</th>\n",
       "      <td>...</td>\n",
       "      <td>...</td>\n",
       "      <td>...</td>\n",
       "      <td>...</td>\n",
       "    </tr>\n",
       "    <tr>\n",
       "      <th>11221</th>\n",
       "      <td>124000334</td>\n",
       "      <td>우성아파트</td>\n",
       "      <td>127.139339</td>\n",
       "      <td>37.550386</td>\n",
       "    </tr>\n",
       "    <tr>\n",
       "      <th>11222</th>\n",
       "      <td>124000333</td>\n",
       "      <td>우성아파트</td>\n",
       "      <td>127.140046</td>\n",
       "      <td>37.550643</td>\n",
       "    </tr>\n",
       "    <tr>\n",
       "      <th>11223</th>\n",
       "      <td>124000332</td>\n",
       "      <td>조일약국</td>\n",
       "      <td>127.123596</td>\n",
       "      <td>37.533630</td>\n",
       "    </tr>\n",
       "    <tr>\n",
       "      <th>11224</th>\n",
       "      <td>124000331</td>\n",
       "      <td>성내시장</td>\n",
       "      <td>127.125497</td>\n",
       "      <td>37.536155</td>\n",
       "    </tr>\n",
       "    <tr>\n",
       "      <th>11225</th>\n",
       "      <td>124000330</td>\n",
       "      <td>천호우체국.로데오거리</td>\n",
       "      <td>127.127337</td>\n",
       "      <td>37.540343</td>\n",
       "    </tr>\n",
       "  </tbody>\n",
       "</table>\n",
       "<p>11226 rows × 4 columns</p>\n",
       "</div>"
      ],
      "text/plain": [
       "         node_id       정류소명(역명)         X좌표        Y좌표\n",
       "0      100000001        종로2가사거리  126.987750  37.569765\n",
       "1      100000002    창경궁.서울대학교병원  126.996566  37.579183\n",
       "2      100000003      명륜3가.성대입구  126.998340  37.582671\n",
       "3      100000004       종로2가.삼일교  126.987613  37.568579\n",
       "4      100000005  혜화동로터리.여운형활동터  127.001744  37.586243\n",
       "...          ...            ...         ...        ...\n",
       "11221  124000334          우성아파트  127.139339  37.550386\n",
       "11222  124000333          우성아파트  127.140046  37.550643\n",
       "11223  124000332           조일약국  127.123596  37.533630\n",
       "11224  124000331           성내시장  127.125497  37.536155\n",
       "11225  124000330    천호우체국.로데오거리  127.127337  37.540343\n",
       "\n",
       "[11226 rows x 4 columns]"
      ]
     },
     "execution_count": 15,
     "metadata": {},
     "output_type": "execute_result"
    }
   ],
   "source": [
    "stop_loc"
   ]
  },
  {
   "cell_type": "code",
   "execution_count": 27,
   "metadata": {
    "colab": {
     "base_uri": "https://localhost:8080/"
    },
    "executionInfo": {
     "elapsed": 12,
     "status": "ok",
     "timestamp": 1683799848427,
     "user": {
      "displayName": "타조랑말",
      "userId": "10222896579941315833"
     },
     "user_tz": -540
    },
    "id": "T62OEpcQybLU",
    "outputId": "fced7651-99c2-4813-8c6d-a49b60a0bf34"
   },
   "outputs": [
    {
     "name": "stdout",
     "output_type": "stream",
     "text": [
      "<class 'pandas.core.frame.DataFrame'>\n",
      "Int64Index: 13188 entries, 0 to 13187\n",
      "Data columns (total 7 columns):\n",
      " #   Column    Non-Null Count  Dtype  \n",
      "---  ------    --------------  -----  \n",
      " 0   node_id   13188 non-null  int64  \n",
      " 1   월평균승차수    12588 non-null  float64\n",
      " 2   월평균하차수    12588 non-null  float64\n",
      " 3   월평균승하차총계  12588 non-null  float64\n",
      " 4   정류소명(역명)  11226 non-null  object \n",
      " 5   X좌표       11226 non-null  float64\n",
      " 6   Y좌표       11226 non-null  float64\n",
      "dtypes: float64(5), int64(1), object(1)\n",
      "memory usage: 824.2+ KB\n",
      "12588 13188\n"
     ]
    },
    {
     "data": {
      "text/html": [
       "<div>\n",
       "<style scoped>\n",
       "    .dataframe tbody tr th:only-of-type {\n",
       "        vertical-align: middle;\n",
       "    }\n",
       "\n",
       "    .dataframe tbody tr th {\n",
       "        vertical-align: top;\n",
       "    }\n",
       "\n",
       "    .dataframe thead th {\n",
       "        text-align: right;\n",
       "    }\n",
       "</style>\n",
       "<table border=\"1\" class=\"dataframe\">\n",
       "  <thead>\n",
       "    <tr style=\"text-align: right;\">\n",
       "      <th></th>\n",
       "      <th>node_id</th>\n",
       "      <th>월평균승차수</th>\n",
       "      <th>월평균하차수</th>\n",
       "      <th>월평균승하차총계</th>\n",
       "      <th>정류소명(역명)</th>\n",
       "      <th>X좌표</th>\n",
       "      <th>Y좌표</th>\n",
       "    </tr>\n",
       "  </thead>\n",
       "  <tbody>\n",
       "    <tr>\n",
       "      <th>0</th>\n",
       "      <td>100000001</td>\n",
       "      <td>14645.0</td>\n",
       "      <td>13676.0</td>\n",
       "      <td>28321.0</td>\n",
       "      <td>종로2가사거리</td>\n",
       "      <td>126.987750</td>\n",
       "      <td>37.569765</td>\n",
       "    </tr>\n",
       "    <tr>\n",
       "      <th>1</th>\n",
       "      <td>100000002</td>\n",
       "      <td>81002.0</td>\n",
       "      <td>70081.0</td>\n",
       "      <td>151083.0</td>\n",
       "      <td>창경궁.서울대학교병원</td>\n",
       "      <td>126.996566</td>\n",
       "      <td>37.579183</td>\n",
       "    </tr>\n",
       "    <tr>\n",
       "      <th>2</th>\n",
       "      <td>100000003</td>\n",
       "      <td>134621.0</td>\n",
       "      <td>92019.0</td>\n",
       "      <td>226640.0</td>\n",
       "      <td>명륜3가.성대입구</td>\n",
       "      <td>126.998340</td>\n",
       "      <td>37.582671</td>\n",
       "    </tr>\n",
       "    <tr>\n",
       "      <th>3</th>\n",
       "      <td>100000004</td>\n",
       "      <td>19992.0</td>\n",
       "      <td>23697.0</td>\n",
       "      <td>43689.0</td>\n",
       "      <td>종로2가.삼일교</td>\n",
       "      <td>126.987613</td>\n",
       "      <td>37.568579</td>\n",
       "    </tr>\n",
       "    <tr>\n",
       "      <th>4</th>\n",
       "      <td>100000005</td>\n",
       "      <td>50309.0</td>\n",
       "      <td>77328.0</td>\n",
       "      <td>127637.0</td>\n",
       "      <td>혜화동로터리.여운형활동터</td>\n",
       "      <td>127.001744</td>\n",
       "      <td>37.586243</td>\n",
       "    </tr>\n",
       "    <tr>\n",
       "      <th>...</th>\n",
       "      <td>...</td>\n",
       "      <td>...</td>\n",
       "      <td>...</td>\n",
       "      <td>...</td>\n",
       "      <td>...</td>\n",
       "      <td>...</td>\n",
       "      <td>...</td>\n",
       "    </tr>\n",
       "    <tr>\n",
       "      <th>13183</th>\n",
       "      <td>124000334</td>\n",
       "      <td>NaN</td>\n",
       "      <td>NaN</td>\n",
       "      <td>NaN</td>\n",
       "      <td>우성아파트</td>\n",
       "      <td>127.139339</td>\n",
       "      <td>37.550386</td>\n",
       "    </tr>\n",
       "    <tr>\n",
       "      <th>13184</th>\n",
       "      <td>124000333</td>\n",
       "      <td>NaN</td>\n",
       "      <td>NaN</td>\n",
       "      <td>NaN</td>\n",
       "      <td>우성아파트</td>\n",
       "      <td>127.140046</td>\n",
       "      <td>37.550643</td>\n",
       "    </tr>\n",
       "    <tr>\n",
       "      <th>13185</th>\n",
       "      <td>124000332</td>\n",
       "      <td>NaN</td>\n",
       "      <td>NaN</td>\n",
       "      <td>NaN</td>\n",
       "      <td>조일약국</td>\n",
       "      <td>127.123596</td>\n",
       "      <td>37.533630</td>\n",
       "    </tr>\n",
       "    <tr>\n",
       "      <th>13186</th>\n",
       "      <td>124000331</td>\n",
       "      <td>NaN</td>\n",
       "      <td>NaN</td>\n",
       "      <td>NaN</td>\n",
       "      <td>성내시장</td>\n",
       "      <td>127.125497</td>\n",
       "      <td>37.536155</td>\n",
       "    </tr>\n",
       "    <tr>\n",
       "      <th>13187</th>\n",
       "      <td>124000330</td>\n",
       "      <td>NaN</td>\n",
       "      <td>NaN</td>\n",
       "      <td>NaN</td>\n",
       "      <td>천호우체국.로데오거리</td>\n",
       "      <td>127.127337</td>\n",
       "      <td>37.540343</td>\n",
       "    </tr>\n",
       "  </tbody>\n",
       "</table>\n",
       "<p>13188 rows × 7 columns</p>\n",
       "</div>"
      ],
      "text/plain": [
       "         node_id    월평균승차수   월평균하차수  월평균승하차총계       정류소명(역명)         X좌표  \\\n",
       "0      100000001   14645.0  13676.0   28321.0        종로2가사거리  126.987750   \n",
       "1      100000002   81002.0  70081.0  151083.0    창경궁.서울대학교병원  126.996566   \n",
       "2      100000003  134621.0  92019.0  226640.0      명륜3가.성대입구  126.998340   \n",
       "3      100000004   19992.0  23697.0   43689.0       종로2가.삼일교  126.987613   \n",
       "4      100000005   50309.0  77328.0  127637.0  혜화동로터리.여운형활동터  127.001744   \n",
       "...          ...       ...      ...       ...            ...         ...   \n",
       "13183  124000334       NaN      NaN       NaN          우성아파트  127.139339   \n",
       "13184  124000333       NaN      NaN       NaN          우성아파트  127.140046   \n",
       "13185  124000332       NaN      NaN       NaN           조일약국  127.123596   \n",
       "13186  124000331       NaN      NaN       NaN           성내시장  127.125497   \n",
       "13187  124000330       NaN      NaN       NaN    천호우체국.로데오거리  127.127337   \n",
       "\n",
       "             Y좌표  \n",
       "0      37.569765  \n",
       "1      37.579183  \n",
       "2      37.582671  \n",
       "3      37.568579  \n",
       "4      37.586243  \n",
       "...          ...  \n",
       "13183  37.550386  \n",
       "13184  37.550643  \n",
       "13185  37.533630  \n",
       "13186  37.536155  \n",
       "13187  37.540343  \n",
       "\n",
       "[13188 rows x 7 columns]"
      ]
     },
     "execution_count": 27,
     "metadata": {},
     "output_type": "execute_result"
    }
   ],
   "source": [
    "df_final = pd.merge(df_merged, stop_loc, on='node_id', how='outer')\n",
    "df_final.info()\n",
    "print(len(df_merged), len(df_final))\n",
    "df_final"
   ]
  },
  {
   "cell_type": "code",
   "execution_count": 34,
   "metadata": {},
   "outputs": [
    {
     "name": "stdout",
     "output_type": "stream",
     "text": [
      "<class 'pandas.core.frame.DataFrame'>\n",
      "Int64Index: 11226 entries, 0 to 13187\n",
      "Data columns (total 7 columns):\n",
      " #   Column    Non-Null Count  Dtype  \n",
      "---  ------    --------------  -----  \n",
      " 0   node_id   11226 non-null  int64  \n",
      " 1   월평균승차수    10626 non-null  float64\n",
      " 2   월평균하차수    10626 non-null  float64\n",
      " 3   월평균승하차총계  10626 non-null  float64\n",
      " 4   정류소명(역명)  11226 non-null  object \n",
      " 5   X좌표       11226 non-null  float64\n",
      " 6   Y좌표       11226 non-null  float64\n",
      "dtypes: float64(5), int64(1), object(1)\n",
      "memory usage: 701.6+ KB\n"
     ]
    }
   ],
   "source": [
    "# 좌표는 있지만 승차정보가 없는 정류장들도 추후 분석시 좌표가 필요하기 때문에 살리고 좌표가 없는 경우는 활용이 어려우므로 드롭\n",
    "index_drop = df_final[df_final['X좌표'].isna()].index\n",
    "df_final = df_final.drop(index_drop, axis=0)\n",
    "df_final.info()"
   ]
  },
  {
   "cell_type": "code",
   "execution_count": 35,
   "metadata": {
    "colab": {
     "base_uri": "https://localhost:8080/",
     "height": 112
    },
    "executionInfo": {
     "elapsed": 11,
     "status": "ok",
     "timestamp": 1683799848428,
     "user": {
      "displayName": "타조랑말",
      "userId": "10222896579941315833"
     },
     "user_tz": -540
    },
    "id": "9auMMkx90Gfp",
    "outputId": "00bbbc43-4da6-4164-cef7-eed19452c859"
   },
   "outputs": [],
   "source": [
    "df_final['node_id'] = df_final['node_id'].astype(str)\n",
    "df_final['node_id'] = 'B' + df_final['node_id']\n",
    "df_final = df_final[['node_id', '정류소명(역명)', '월평균승차수', '월평균하차수', '월평균승하차총계', 'Y좌표', 'X좌표']]\n",
    "df_final = df_final.rename(columns={'Y좌표':'위도', 'X좌표':'경도'})\n",
    "df_final.to_excel('bus_info.xlsx', index=False)"
   ]
  },
  {
   "cell_type": "code",
   "execution_count": 82,
   "metadata": {
    "executionInfo": {
     "elapsed": 10,
     "status": "ok",
     "timestamp": 1683799848428,
     "user": {
      "displayName": "타조랑말",
      "userId": "10222896579941315833"
     },
     "user_tz": -540
    },
    "id": "5z5wU_NG2xZE"
   },
   "outputs": [],
   "source": [
    "'''\n",
    "[ 파생변수 구하기 ]\n",
    "- 이웃정류장의 수\n",
    "- 이웃정류장과의 평균거리\n",
    "- 이웃정류장들의 월평균 승차수, 하차수, 승하차총계\n",
    "'''\n",
    "# 정류소의 gps 정보를 가질 새로운 데이터프레임 생성\n",
    "stop_info = df_final.copy()\n",
    "stop_info = stop_info.reset_index(drop=True)\n",
    "# gps 좌표만들기\n",
    "latitude = stop_info['위도'].to_list()\n",
    "longtitude = stop_info['경도'].to_list()\n",
    "stop_gps_list = list(zip(latitude, longtitude))\n",
    "stop_info['이웃정류장_수'] = 0\n",
    "stop_info['이웃정류장_평균거리'] = 0\n",
    "stop_info['이웃정류장_월평균승차수'] = 0\n",
    "stop_info['이웃정류장_월평균하차수'] = 0\n",
    "stop_info['이웃정류장_월평균승하차총계'] = 0\n",
    "\n",
    "\n",
    "# 각 파생변수들을 데이터프레임에 추가해주고, 각 버스정류장의 이웃정류장 좌표정보를 담고있는 딕셔너리를 반환해주는 함수\n",
    "def get_stop_neighbors(stop_gps_list):\n",
    "    neighbors_dict = {}\n",
    "    for i in tqdm(range(len(stop_gps_list))):\n",
    "        neighbors = []\n",
    "        dist_list = []\n",
    "        neighbors_in_pop = []\n",
    "        neighbors_out_pop = []\n",
    "        neighbors_total_pop = []\n",
    "        stop_gps = stop_gps_list[i]\n",
    "        key = stop_info.loc[i, 'node_id']\n",
    "        values = []\n",
    "        \n",
    "        for j in range(len(stop_gps_list)):\n",
    "            if i == j:\n",
    "                continue;\n",
    "            neighbor_gps = stop_gps_list[j]\n",
    "            # 각 정류소의 이웃정류소는 대략적인 관계를 보기 위함이므로 geopy보다는 계산이 빠른 haversine을 사용\n",
    "            dist = haversine(stop_gps, neighbor_gps, unit='km')\n",
    "            if dist <= 1:\n",
    "                neighbors.append(neighbor_gps)\n",
    "                neighbors_in_pop.append(stop_info.loc[j, '월평균승차수'])\n",
    "                neighbors_out_pop.append(stop_info.loc[j, '월평균하차수'])\n",
    "                neighbors_total_pop.append(stop_info.loc[j, '월평균승하차총계'])\n",
    "                dist_list.append(dist)\n",
    "                values.append(neighbor_gps)\n",
    "            \n",
    "            neighbors_dict[key] = values\n",
    "            \n",
    "        stop_info.loc[i, '이웃정류장_수'] = len(neighbors)\n",
    "        stop_info.loc[i, '이웃정류장_평균거리'] = np.mean(dist_list).round(2)\n",
    "        stop_info.loc[i, '이웃정류장_월평균승차수'] = np.mean(neighbors_in_pop).round(2)\n",
    "        stop_info.loc[i, '이웃정류장_월평균하차수'] = np.mean(neighbors_out_pop).round(2)\n",
    "        stop_info.loc[i, '이웃정류장_월평균승하차총계'] = np.mean(neighbors_total_pop).round(2)\n",
    "        \n",
    "    return neighbors_dict\n"
   ]
  },
  {
   "cell_type": "code",
   "execution_count": null,
   "metadata": {
    "colab": {
     "base_uri": "https://localhost:8080/",
     "height": 381
    },
    "executionInfo": {
     "elapsed": 203132,
     "status": "ok",
     "timestamp": 1683800051550,
     "user": {
      "displayName": "타조랑말",
      "userId": "10222896579941315833"
     },
     "user_tz": -540
    },
    "id": "IcpUJ9bGUkPz",
    "outputId": "c9e3f5d9-0dc6-491c-e3e7-77549c4f79e6"
   },
   "outputs": [],
   "source": [
    "neighbors_dict = get_stop_neighbors(stop_gps_list)"
   ]
  },
  {
   "cell_type": "code",
   "execution_count": null,
   "metadata": {},
   "outputs": [],
   "source": [
    "stop_info.sort_values('이웃정류장_수', ascending=False).head(10)"
   ]
  },
  {
   "cell_type": "code",
   "execution_count": 22,
   "metadata": {
    "colab": {
     "base_uri": "https://localhost:8080/",
     "height": 1000
    },
    "executionInfo": {
     "elapsed": 1387,
     "status": "ok",
     "timestamp": 1683800052931,
     "user": {
      "displayName": "타조랑말",
      "userId": "10222896579941315833"
     },
     "user_tz": -540
    },
    "id": "GtRsylV9Tck2",
    "outputId": "0a635cb2-b486-4b19-9ab5-02cfa9e25fc8"
   },
   "outputs": [
    {
     "data": {
      "text/plain": [
       "<AxesSubplot:xlabel='경도', ylabel='위도'>"
      ]
     },
     "execution_count": 22,
     "metadata": {},
     "output_type": "execute_result"
    },
    {
     "data": {
      "image/png": "[encoded data removed]",
      "text/plain": [
       "<Figure size 640x480 with 1 Axes>"
      ]
     },
     "metadata": {},
     "output_type": "display_data"
    }
   ],
   "source": [
    "# 모든 정류소의 위치를 우선 그래프로 확인하기\n",
    "sns.scatterplot(x='경도', y='위도', data=stop_info, palette='pastel')"
   ]
  },
  {
   "cell_type": "code",
   "execution_count": 23,
   "metadata": {
    "colab": {
     "base_uri": "https://localhost:8080/"
    },
    "executionInfo": {
     "elapsed": 6953,
     "status": "ok",
     "timestamp": 1683800059880,
     "user": {
      "displayName": "타조랑말",
      "userId": "10222896579941315833"
     },
     "user_tz": -540
    },
    "id": "CfWQMImzvSuO",
    "outputId": "88bd0d76-ae1a-46ec-d12e-c4db5f832d19"
   },
   "outputs": [
    {
     "name": "stdout",
     "output_type": "stream",
     "text": [
      "최적 대역폭:  0.08924156315793284\n"
     ]
    }
   ],
   "source": [
    "# 평균 이동(Mean Shift) - 데이터의 밀도가 가장 높은 곳으로 중심 이동시키는 방식으로 군집화\n",
    "# 중심에 소속된 데이터의 평균 거리를 중심으로 이동하는 k-means에 비해 데이터의 밀도가 높은 곳으로 이동하며 군집의 개수를 미리 정해주지 않아도 된다는 장점이 있음\n",
    "features = stop_info[['위도', '경도']]\n",
    "# 해당 알고리즘은 bandwith(대역폭) 속성이 큰 영향을 미치나 따로 지정을 안해줘도 최적화된 대역폭을 찾아 적용함\n",
    "#   -> 실행 결과 1개의 클러스터만 생성되어 최적 대역폭을 확인 후 대역폭을 조정\n",
    "print('최적 대역폭: ', estimate_bandwidth(features))"
   ]
  },
  {
   "cell_type": "code",
   "execution_count": 24,
   "metadata": {
    "colab": {
     "base_uri": "https://localhost:8080/"
    },
    "executionInfo": {
     "elapsed": 163391,
     "status": "ok",
     "timestamp": 1683800223248,
     "user": {
      "displayName": "타조랑말",
      "userId": "10222896579941315833"
     },
     "user_tz": -540
    },
    "id": "qIg-2iLBznmE",
    "outputId": "b18b3012-c4cc-4afb-f7e2-9e42ba19bbc0"
   },
   "outputs": [
    {
     "name": "stdout",
     "output_type": "stream",
     "text": [
      "centers:  [(37.61900201095397, 127.02915507070487), (37.49226473011265, 126.90706895845173), (37.55940810870664, 126.9399892653818), (37.571464400178876, 127.02479097835423), (37.59163981793584, 126.92350342860144), (37.60556209499773, 127.07883118564361), (37.53447181895248, 126.85350047100391), (37.49299644266299, 127.02321246393268), (37.487986748818244, 126.98551005875268), (37.511937943286334, 127.12590913390069), (37.54178690617169, 127.14044311345874), (37.49763374954913, 127.08867910442498)]\n"
     ]
    }
   ],
   "source": [
    "ms = MeanShift(bandwidth=0.03, cluster_all=False, n_jobs=1)\n",
    "ms.fit(features) # 약 3분소요\n",
    "cluster_center = ms.cluster_centers_\n",
    "cluster_center = [tuple(c) for c in cluster_center]\n",
    "print('centers: ', cluster_center)"
   ]
  },
  {
   "cell_type": "markdown",
   "metadata": {
    "id": "x62bDn9x2eb0"
   },
   "source": [
    "## ✅ 시각화"
   ]
  },
  {
   "cell_type": "code",
   "execution_count": 25,
   "metadata": {
    "executionInfo": {
     "elapsed": 11,
     "status": "ok",
     "timestamp": 1683800223248,
     "user": {
      "displayName": "타조랑말",
      "userId": "10222896579941315833"
     },
     "user_tz": -540
    },
    "id": "GYvUEwKce66t"
   },
   "outputs": [],
   "source": [
    "# # 승차인구가 가장 많은 정류소 상위 10개\n",
    "# in_top10 = df_final.sort_values('월평균승차수', ascending=False).head(10)\n",
    "# # 하차인구가 가장 많은 정류소 상위 10개\n",
    "# out_top10 = df_final.sort_values('월평균하차수', ascending=False).head(10)\n",
    "# # 승하차 합계 인구가 가장 많은 정류소 상위 10개\n",
    "# total_top10 = df_final.sort_values('월평균승하차총계', ascending=False).head(10)"
   ]
  },
  {
   "cell_type": "code",
   "execution_count": 26,
   "metadata": {
    "colab": {
     "base_uri": "https://localhost:8080/",
     "height": 1000
    },
    "executionInfo": {
     "elapsed": 4809,
     "status": "ok",
     "timestamp": 1683800228047,
     "user": {
      "displayName": "타조랑말",
      "userId": "10222896579941315833"
     },
     "user_tz": -540
    },
    "id": "V8uZQKOLk70C",
    "outputId": "d0e69bc8-86e0-45a4-a5a2-438ecd7eb7cf"
   },
   "outputs": [],
   "source": [
    "# sns.set_palette('pastel')\n",
    "\n",
    "# sns.barplot(\n",
    "#     data = in_top10,\n",
    "#     x = '정류소명',\n",
    "#     y = '월평균승차수'\n",
    "# )\n",
    "# plt.title('월평균승차수')\n",
    "# plt.xticks(rotation=65, fontsize=9)\n",
    "# plt.show()\n",
    "\n",
    "# sns.barplot(\n",
    "#     data = in_top10,\n",
    "#     x = '정류소명',\n",
    "#     y = '월평균하차수'\n",
    "# )\n",
    "# plt.title('월평균하차수')\n",
    "# plt.xticks(rotation=65, fontsize=9)\n",
    "# plt.show()\n",
    "\n",
    "# sns.barplot(\n",
    "#     data = in_top10,\n",
    "#     x = '정류소명',\n",
    "#     y = '월평균승하차총계'\n",
    "# )\n",
    "# plt.title('월평균승하차 총계')\n",
    "# plt.xticks(rotation=65, fontsize=9)\n",
    "\n",
    "# plt.show()"
   ]
  },
  {
   "cell_type": "code",
   "execution_count": 27,
   "metadata": {},
   "outputs": [
    {
     "name": "stderr",
     "output_type": "stream",
     "text": [
      "100%|████████████████████████████████████| 10626/10626 [00:20<00:00, 522.93it/s]\n"
     ]
    }
   ],
   "source": [
    "# Mean Shift 알고리즘 추천 위치 12곳 시각화\n",
    "# 나중에 folium.plugin의 marker cluster를 이용해 주변 정류소 수를 표현할 수 있는지 알아보자\n",
    "mymap = folium.Map(location=[37.541, 126.986], zoom_start=12)\n",
    "\n",
    "i = 1 \n",
    "for center in cluster_center:\n",
    "    folium.Marker(center, tooltip=f'location{i}', icon=folium.Icon(color='lightred', icon='star')).add_to(mymap)\n",
    "    i += 1\n",
    "    \n",
    "for neighbors in tqdm(neighbors_dict.values()):\n",
    "    for neighbor in neighbors:\n",
    "        folium.Circle(radius=10, location=[neighbor[0], neighbor[1]], color='#967BDC', fill=True).add_to(mymap)\n",
    "mymap"
   ]
  }
 ],
 "metadata": {
  "colab": {
   "authorship_tag": "ABX9TyPM/GUOcG1PlIH8shYYxOSL",
   "provenance": []
  },
  "kernelspec": {
   "display_name": "Python 3 (ipykernel)",
   "language": "python",
   "name": "python3"
  },
  "language_info": {
   "codemirror_mode": {
    "name": "ipython",
    "version": 3
   },
   "file_extension": ".py",
   "mimetype": "text/x-python",
   "name": "python",
   "nbconvert_exporter": "python",
   "pygments_lexer": "ipython3",
   "version": "3.9.13"
  }
 },
 "nbformat": 4,
 "nbformat_minor": 1
}
